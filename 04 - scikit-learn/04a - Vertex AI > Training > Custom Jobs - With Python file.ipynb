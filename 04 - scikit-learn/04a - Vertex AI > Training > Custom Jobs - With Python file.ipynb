{
 "cells": [
  {
   "cell_type": "markdown",
   "id": "14c3fa3d",
   "metadata": {},
   "source": [
    "# 04a - Vertex AI > Training > Custom Jobs - With Python file\n",
    "\n",
    "*This notebook was developed in collaboration with [statmike](https://github.com/statmike), basing much of the core code from existing notebooks and extending to new features. Notebook author: [goodrules](https://github.com/goodrules)*\n",
    "\n",
    "### 04 Series Overview\n",
    "Where a model gets trained is where it consumes computing resources.  With Vertex AI, you have choices for configuring the computing resources available at training.  This notebook is an example of an execution environment.  When it was set up there were choices for machine type and accelerators (GPUs).  \n",
    "\n",
    "In the `04` notebook, the model training happened directly in the notebook.  The models were then imported to Vertex AI and deployed to an endpoint for online predictions. \n",
    "\n",
    "In this `04a-04i` series of demonstrations, the same model is trained using managed computing resources in Vertex AI as custom training jobs.  These jobs will be demonstrated as:\n",
    "\n",
    "-  Custom Job from a python script (`04a`), python source distribution (`04b`), and custom container (`04c`)\n",
    "-  Training Pipeline that trains and saves models from a python script (`04d`), python source distribution (`04e`), and custom container (`04f`)\n",
    "-  Hyperparameter Tuning Jobs from a python script (`04g`), python source distribution (`04h`), and custom container (`04i`)\n",
    "\n",
    "### This Notebook (`04a`): An extension of `04` that saves the notebook code for the model as a Python script\n",
    "This notebook trains the same sklearn model from `04` by first modifying and saving the training code to a python script.  The script is then used as an input for a Vertex AI > Training > Custom Job that is also assigned compute resources and a [pre-built container for custom training](https://cloud.google.com/vertex-ai/docs/training/pre-built-containers) for executing the training in a managed service. This is done with the [Vertex AI Python SDK](https://googleapis.dev/python/aiplatform/latest/aiplatform.html#) using the class [`aiplatform.CustomJob.from_local_script()`](https://googleapis.dev/python/aiplatform/latest/aiplatform.html#google.cloud.aiplatform.CustomJob.from_local_script).\n",
    "\n",
    "<img src=\"architectures/overview/Training.png\">\n",
    "\n",
    "### Prerequisites:\n",
    "-  01 - BigQuery - Table Data Source\n",
    "-  Understanding:\n",
    "    -  04 - Vertex AI > Notebooks - Models Built in Notebooks with sklearn\n",
    "        -  Contains a more granular review of the sklearn model training\n",
    "\n",
    "### Overview:\n",
    "-  Setup\n",
    "-  Create a `train.py` Python script that recreates the local training in 04\n",
    "-  Use Python Client google.cloud.aiplatform for Vertex AI\n",
    "   -  Custom training job with aiplatform.CustomJob.from_local_script\n",
    "      -  Run job with .run\n",
    "   -  Upload Model to Vertex AI with aiplatform.Model.upload\n",
    "   -  Create Endpoint with Vertex AI with aiplatform.Endpoint.create\n",
    "      -  Deploy model to endpoint with .deploy \n",
    "-  Online Prediction demonstrated using Vertex AI Endpoint with deployed model\n",
    "   -  Get records to score from BigQuery table\n",
    "   -  Prediction with aiplatform.Endpoint.predict\n",
    "   -  Prediction with REST\n",
    "   -  Prediction with gcloud (CLI)\n",
    "\n",
    "### Resources:\n",
    "-  [sklearn](https://scikit-learn.org/stable/)\n",
    "-  [Python Client For Google BigQuery](https://googleapis.dev/python/bigquery/latest/index.html)\n",
    "-  [Tensorflow Python Client](https://www.tensorflow.org/api_docs/python/tf)\n",
    "-  [Python Client for Vertex AI](https://googleapis.dev/python/aiplatform/latest/aiplatform.html)\n",
    "-  Containers for training (Pre-Built)\n",
    "   -  [Overview](https://cloud.google.com/vertex-ai/docs/training/create-python-pre-built-container)\n",
    "    - Pre-built Containers for Vertex AI\n",
    "        - [Training](https://cloud.google.com/vertex-ai/docs/training/pre-built-containers)\n",
    "        - [Prediction & Explaination](https://cloud.google.com/vertex-ai/docs/predictions/pre-built-containers)\n"
   ]
  },
  {
   "cell_type": "markdown",
   "id": "68c78485",
   "metadata": {},
   "source": [
    "---\n",
    "## Vertex AI - Conceptual Flow\n",
    "\n",
    "<img src=\"architectures/slides/05a_arch.png\">\n",
    "\n",
    "---\n",
    "## Vertex AI - Workflow\n",
    "\n",
    "<img src=\"architectures/slides/05a_console.png\">"
   ]
  },
  {
   "cell_type": "markdown",
   "id": "1fe7eba1",
   "metadata": {},
   "source": [
    "---\n",
    "## Setup"
   ]
  },
  {
   "cell_type": "markdown",
   "id": "edae2fa7",
   "metadata": {},
   "source": [
    "inputs:"
   ]
  },
  {
   "cell_type": "code",
   "execution_count": 1,
   "id": "8b7c610a-c325-4975-a4ec-425dc6eae1f5",
   "metadata": {},
   "outputs": [
    {
     "data": {
      "text/plain": [
       "'mg-ce-demos'"
      ]
     },
     "execution_count": 1,
     "metadata": {},
     "output_type": "execute_result"
    }
   ],
   "source": [
    "project = !gcloud config get-value project\n",
    "PROJECT_ID = project[0]\n",
    "PROJECT_ID"
   ]
  },
  {
   "cell_type": "code",
   "execution_count": 2,
   "id": "54eea9c4",
   "metadata": {},
   "outputs": [],
   "source": [
    "REGION = 'us-central1'\n",
    "DATANAME = 'fraud'\n",
    "NOTEBOOK = '04a'\n",
    "\n",
    "# Resources\n",
    "DEPLOY_IMAGE = 'us-docker.pkg.dev/vertex-ai/prediction/sklearn-cpu.0-23:latest'\n",
    "TRAIN_IMAGE = 'us-docker.pkg.dev/vertex-ai/training/scikit-learn-cpu.0-23:latest'\n",
    "SKLEARN_VERSION = '0.23'\n",
    "TRAIN_COMPUTE = 'n1-standard-4'\n",
    "DEPLOY_COMPUTE = 'n1-standard-4'\n",
    "\n",
    "# Model Training\n",
    "VAR_TARGET = 'Class'\n",
    "VAR_OMIT = 'transaction_id Class splits'\n",
    "C = '1.0' # based on 'best' model from notebook 04\n",
    "SOLVER = 'newton-cg' # based on 'best' model from notebook 04\n",
    "PENALTY = 'l2' # based on 'best' model from notebook 04"
   ]
  },
  {
   "cell_type": "markdown",
   "id": "a7253fe4",
   "metadata": {},
   "source": [
    "packages:"
   ]
  },
  {
   "cell_type": "code",
   "execution_count": 3,
   "id": "9d13322b",
   "metadata": {},
   "outputs": [],
   "source": [
    "from google.cloud import aiplatform\n",
    "from datetime import datetime\n",
    "\n",
    "from google.cloud import bigquery\n",
    "from google.protobuf import json_format\n",
    "from google.protobuf.struct_pb2 import Value\n",
    "import json\n",
    "import numpy as np"
   ]
  },
  {
   "cell_type": "markdown",
   "id": "14d19b58",
   "metadata": {},
   "source": [
    "clients:"
   ]
  },
  {
   "cell_type": "code",
   "execution_count": 4,
   "id": "23a2b8d4",
   "metadata": {},
   "outputs": [],
   "source": [
    "aiplatform.init(project=PROJECT_ID, location=REGION)\n",
    "bigquery = bigquery.Client()"
   ]
  },
  {
   "cell_type": "markdown",
   "id": "7dac43d0",
   "metadata": {},
   "source": [
    "parameters:"
   ]
  },
  {
   "cell_type": "code",
   "execution_count": 5,
   "id": "8cc1c101",
   "metadata": {},
   "outputs": [],
   "source": [
    "TIMESTAMP = datetime.now().strftime(\"%Y%m%d%H%M%S\")\n",
    "BUCKET = PROJECT_ID\n",
    "BLOB = f\"{DATANAME}/models/{NOTEBOOK}/{TIMESTAMP}/model/model.joblib\"\n",
    "URI = f\"gs://{BUCKET}/{DATANAME}/models/{NOTEBOOK}\"\n",
    "DIR = f\"temp/{NOTEBOOK}\""
   ]
  },
  {
   "cell_type": "code",
   "execution_count": 6,
   "id": "31a082ca",
   "metadata": {},
   "outputs": [
    {
     "data": {
      "text/plain": [
       "'mg-ce-demos-main@mg-ce-demos.iam.gserviceaccount.com'"
      ]
     },
     "execution_count": 6,
     "metadata": {},
     "output_type": "execute_result"
    }
   ],
   "source": [
    "# Give service account roles/storage.objectAdmin permissions\n",
    "# Console > IMA > Select Account <projectnumber>-compute@developer.gserviceaccount.com > edit - give role\n",
    "SERVICE_ACCOUNT = !gcloud config list --format='value(core.account)' \n",
    "SERVICE_ACCOUNT = SERVICE_ACCOUNT[0]\n",
    "SERVICE_ACCOUNT"
   ]
  },
  {
   "cell_type": "markdown",
   "id": "9d4f3430",
   "metadata": {},
   "source": [
    "environment:"
   ]
  },
  {
   "cell_type": "code",
   "execution_count": 7,
   "id": "cb70c0a1",
   "metadata": {},
   "outputs": [],
   "source": [
    "!rm -rf {DIR}\n",
    "!mkdir -p {DIR}"
   ]
  },
  {
   "cell_type": "markdown",
   "id": "dfd86168",
   "metadata": {},
   "source": [
    "---\n",
    "## Training"
   ]
  },
  {
   "cell_type": "markdown",
   "id": "3570cd60",
   "metadata": {},
   "source": [
    "### Assemble Python File for Training\n",
    "\n",
    "Create the main python trainer file as `/train.py`:"
   ]
  },
  {
   "cell_type": "code",
   "execution_count": 8,
   "id": "b9cca0d2",
   "metadata": {},
   "outputs": [
    {
     "name": "stdout",
     "output_type": "stream",
     "text": [
      "Writing temp/04a/train.py\n"
     ]
    }
   ],
   "source": [
    "%%writefile {DIR}/train.py\n",
    "\n",
    "# package import\n",
    "import sklearn\n",
    "from sklearn.model_selection import train_test_split\n",
    "from sklearn.linear_model import LogisticRegression\n",
    "from sklearn import metrics\n",
    "from google.cloud import bigquery\n",
    "from google.cloud import storage\n",
    "\n",
    "import argparse\n",
    "import os\n",
    "import sys\n",
    "import joblib\n",
    "import pandas as pd \n",
    "import numpy as np \n",
    "import json\n",
    "\n",
    "# import argument to local variables\n",
    "parser = argparse.ArgumentParser()\n",
    "# the passed param, dest: a name for the param, default: if absent fetch this param from the OS, type: type to convert to, help: description of argument\n",
    "parser.add_argument('--c_value', dest = 'c_value', default = 1.0, type = float, help = 'C value')\n",
    "parser.add_argument('--penalty', dest = 'penalty', default = 'l2', type = str, help = 'Penalty term')\n",
    "parser.add_argument('--solver', dest = 'solver', default = 'newton-cg', type = str, help = 'Logistic regression solver')\n",
    "parser.add_argument('--var_target', dest = 'var_target', type=str)\n",
    "parser.add_argument('--var_omit', dest = 'var_omit', type=str)\n",
    "parser.add_argument('--project_id', dest = 'project_id', type=str)\n",
    "parser.add_argument('--dataname', dest = 'dataname', type=str)\n",
    "parser.add_argument('--region', dest = 'region', type=str)\n",
    "parser.add_argument('--notebook', dest = 'notebook', type=str)\n",
    "parser.add_argument('--bucket', dest = 'bucket', type=str)\n",
    "parser.add_argument('--blob', dest = 'blob', type=str)\n",
    "args = parser.parse_args()\n",
    "\n",
    "# built in parameters for data source:\n",
    "PROJECT_ID = args.project_id\n",
    "DATANAME = args.dataname\n",
    "REGION = args.region\n",
    "NOTEBOOK = args.notebook\n",
    "BUCKET = args.bucket\n",
    "BLOB = args.blob\n",
    "VAR_OMIT = str(args.var_omit).split(' ')\n",
    "\n",
    "# clients\n",
    "bigquery = bigquery.Client(project = PROJECT_ID)\n",
    "\n",
    "# get schema from bigquery source\n",
    "query = f\"SELECT * FROM {DATANAME}.INFORMATION_SCHEMA.COLUMNS WHERE TABLE_NAME = '{DATANAME}_prepped'\"\n",
    "schema = bigquery.query(query).to_dataframe()\n",
    "\n",
    "# get number of classes from bigquery source\n",
    "nclasses = bigquery.query(query = f'SELECT DISTINCT {args.var_target} FROM {DATANAME}.{DATANAME}_prepped WHERE {args.var_target} is not null').to_dataframe()\n",
    "nclasses = nclasses.shape[0]\n",
    "\n",
    "# read datasets from BigQuery\n",
    "train_query = f\"SELECT * FROM {DATANAME}.{DATANAME}_prepped WHERE splits = 'TRAIN'\"\n",
    "train = bigquery.query(train_query).to_dataframe()\n",
    "X_train = train.loc[:, ~train.columns.isin(VAR_OMIT)]\n",
    "y_train = train[args.var_target]\n",
    "\n",
    "# Logistic Regression\n",
    "clf = LogisticRegression(C=args.c_value, penalty=args.penalty, solver=args.solver, random_state=18) #optimal hyperparameters from GridSearchCV - see notebook 04\n",
    "model = clf.fit(X_train, y_train)\n",
    "\n",
    "# Output model file\n",
    "joblib.dump(model, 'model.joblib') # the model needs to be named model.joblib is order for model upload to be successful\n",
    "\n",
    "# Upload the model to GCS\n",
    "bucket = storage.Client().bucket(BUCKET)\n",
    "blob = bucket.blob(BLOB)\n",
    "blob.upload_from_filename('model.joblib')"
   ]
  },
  {
   "cell_type": "markdown",
   "id": "440e1238",
   "metadata": {},
   "source": [
    "### Setup Training Job"
   ]
  },
  {
   "cell_type": "code",
   "execution_count": 9,
   "id": "8c305011",
   "metadata": {},
   "outputs": [],
   "source": [
    "CMDARGS = [\n",
    "    \"--c_value=\" + C,\n",
    "    \"--penalty=\" + PENALTY,\n",
    "    \"--solver=\" + SOLVER,\n",
    "    \"--var_target=\" + VAR_TARGET,\n",
    "    \"--var_omit=\" + VAR_OMIT,\n",
    "    \"--project_id=\" + PROJECT_ID,\n",
    "    \"--dataname=\" + DATANAME,\n",
    "    \"--region=\" + REGION,\n",
    "    \"--notebook=\" + NOTEBOOK,\n",
    "    \"--bucket=\" + BUCKET,\n",
    "    \"--blob=\" + BLOB\n",
    "]"
   ]
  },
  {
   "cell_type": "code",
   "execution_count": 10,
   "id": "5a5c364a",
   "metadata": {},
   "outputs": [
    {
     "name": "stdout",
     "output_type": "stream",
     "text": [
      "Training script copied to:\n",
      "gs://mg-ce-demos/fraud/models/04a/20221004100040/aiplatform-2022-10-04-10:00:53.674-aiplatform_custom_trainer_script-0.1.tar.gz.\n"
     ]
    }
   ],
   "source": [
    "customJob = aiplatform.CustomJob.from_local_script(\n",
    "    display_name = f'{NOTEBOOK}_{DATANAME}_{TIMESTAMP}',\n",
    "    script_path = f\"{DIR}/train.py\",\n",
    "    container_uri = TRAIN_IMAGE,\n",
    "    args = CMDARGS,\n",
    "    replica_count = 1,\n",
    "    machine_type = TRAIN_COMPUTE,\n",
    "    accelerator_count = 0,\n",
    "    base_output_dir = f\"{URI}/{TIMESTAMP}\",\n",
    "    staging_bucket = f\"{URI}/{TIMESTAMP}\",\n",
    "    labels = {'notebook':f'{NOTEBOOK}'}\n",
    ")"
   ]
  },
  {
   "cell_type": "markdown",
   "id": "51e0e344",
   "metadata": {},
   "source": [
    "### Run Training Job"
   ]
  },
  {
   "cell_type": "code",
   "execution_count": 11,
   "id": "0f75aeea",
   "metadata": {
    "scrolled": true,
    "tags": []
   },
   "outputs": [
    {
     "name": "stdout",
     "output_type": "stream",
     "text": [
      "Creating CustomJob\n",
      "CustomJob created. Resource name: projects/633472233130/locations/us-central1/customJobs/938847415312580608\n",
      "To use this CustomJob in another session:\n",
      "custom_job = aiplatform.CustomJob.get('projects/633472233130/locations/us-central1/customJobs/938847415312580608')\n",
      "View Custom Job:\n",
      "https://console.cloud.google.com/ai/platform/locations/us-central1/training/938847415312580608?project=633472233130\n",
      "CustomJob projects/633472233130/locations/us-central1/customJobs/938847415312580608 current state:\n",
      "JobState.JOB_STATE_RUNNING\n",
      "CustomJob projects/633472233130/locations/us-central1/customJobs/938847415312580608 current state:\n",
      "JobState.JOB_STATE_PENDING\n",
      "CustomJob projects/633472233130/locations/us-central1/customJobs/938847415312580608 current state:\n",
      "JobState.JOB_STATE_PENDING\n",
      "CustomJob projects/633472233130/locations/us-central1/customJobs/938847415312580608 current state:\n",
      "JobState.JOB_STATE_PENDING\n",
      "CustomJob projects/633472233130/locations/us-central1/customJobs/938847415312580608 current state:\n",
      "JobState.JOB_STATE_PENDING\n",
      "CustomJob projects/633472233130/locations/us-central1/customJobs/938847415312580608 current state:\n",
      "JobState.JOB_STATE_PENDING\n",
      "CustomJob projects/633472233130/locations/us-central1/customJobs/938847415312580608 current state:\n",
      "JobState.JOB_STATE_PENDING\n",
      "CustomJob projects/633472233130/locations/us-central1/customJobs/938847415312580608 current state:\n",
      "JobState.JOB_STATE_PENDING\n",
      "CustomJob projects/633472233130/locations/us-central1/customJobs/938847415312580608 current state:\n",
      "JobState.JOB_STATE_PENDING\n",
      "CustomJob projects/633472233130/locations/us-central1/customJobs/938847415312580608 current state:\n",
      "JobState.JOB_STATE_PENDING\n",
      "CustomJob projects/633472233130/locations/us-central1/customJobs/938847415312580608 current state:\n",
      "JobState.JOB_STATE_PENDING\n",
      "CustomJob projects/633472233130/locations/us-central1/customJobs/938847415312580608 current state:\n",
      "JobState.JOB_STATE_PENDING\n",
      "CustomJob projects/633472233130/locations/us-central1/customJobs/938847415312580608 current state:\n",
      "JobState.JOB_STATE_PENDING\n",
      "CustomJob projects/633472233130/locations/us-central1/customJobs/938847415312580608 current state:\n",
      "JobState.JOB_STATE_PENDING\n",
      "CustomJob projects/633472233130/locations/us-central1/customJobs/938847415312580608 current state:\n",
      "JobState.JOB_STATE_PENDING\n",
      "CustomJob projects/633472233130/locations/us-central1/customJobs/938847415312580608 current state:\n",
      "JobState.JOB_STATE_PENDING\n",
      "CustomJob projects/633472233130/locations/us-central1/customJobs/938847415312580608 current state:\n",
      "JobState.JOB_STATE_PENDING\n",
      "CustomJob projects/633472233130/locations/us-central1/customJobs/938847415312580608 current state:\n",
      "JobState.JOB_STATE_PENDING\n",
      "CustomJob projects/633472233130/locations/us-central1/customJobs/938847415312580608 current state:\n",
      "JobState.JOB_STATE_PENDING\n",
      "CustomJob projects/633472233130/locations/us-central1/customJobs/938847415312580608 current state:\n",
      "JobState.JOB_STATE_PENDING\n",
      "CustomJob projects/633472233130/locations/us-central1/customJobs/938847415312580608 current state:\n",
      "JobState.JOB_STATE_PENDING\n",
      "CustomJob projects/633472233130/locations/us-central1/customJobs/938847415312580608 current state:\n",
      "JobState.JOB_STATE_PENDING\n",
      "CustomJob projects/633472233130/locations/us-central1/customJobs/938847415312580608 current state:\n",
      "JobState.JOB_STATE_PENDING\n",
      "CustomJob projects/633472233130/locations/us-central1/customJobs/938847415312580608 current state:\n",
      "JobState.JOB_STATE_RUNNING\n",
      "CustomJob projects/633472233130/locations/us-central1/customJobs/938847415312580608 current state:\n",
      "JobState.JOB_STATE_RUNNING\n",
      "CustomJob projects/633472233130/locations/us-central1/customJobs/938847415312580608 current state:\n",
      "JobState.JOB_STATE_RUNNING\n",
      "CustomJob projects/633472233130/locations/us-central1/customJobs/938847415312580608 current state:\n",
      "JobState.JOB_STATE_RUNNING\n",
      "CustomJob projects/633472233130/locations/us-central1/customJobs/938847415312580608 current state:\n",
      "JobState.JOB_STATE_RUNNING\n",
      "CustomJob projects/633472233130/locations/us-central1/customJobs/938847415312580608 current state:\n",
      "JobState.JOB_STATE_RUNNING\n",
      "CustomJob projects/633472233130/locations/us-central1/customJobs/938847415312580608 current state:\n",
      "JobState.JOB_STATE_RUNNING\n",
      "CustomJob projects/633472233130/locations/us-central1/customJobs/938847415312580608 current state:\n",
      "JobState.JOB_STATE_RUNNING\n",
      "CustomJob projects/633472233130/locations/us-central1/customJobs/938847415312580608 current state:\n",
      "JobState.JOB_STATE_RUNNING\n",
      "CustomJob projects/633472233130/locations/us-central1/customJobs/938847415312580608 current state:\n",
      "JobState.JOB_STATE_RUNNING\n",
      "CustomJob projects/633472233130/locations/us-central1/customJobs/938847415312580608 current state:\n",
      "JobState.JOB_STATE_RUNNING\n",
      "CustomJob projects/633472233130/locations/us-central1/customJobs/938847415312580608 current state:\n",
      "JobState.JOB_STATE_RUNNING\n",
      "CustomJob projects/633472233130/locations/us-central1/customJobs/938847415312580608 current state:\n",
      "JobState.JOB_STATE_RUNNING\n",
      "CustomJob projects/633472233130/locations/us-central1/customJobs/938847415312580608 current state:\n",
      "JobState.JOB_STATE_RUNNING\n",
      "CustomJob projects/633472233130/locations/us-central1/customJobs/938847415312580608 current state:\n",
      "JobState.JOB_STATE_RUNNING\n",
      "CustomJob projects/633472233130/locations/us-central1/customJobs/938847415312580608 current state:\n",
      "JobState.JOB_STATE_RUNNING\n",
      "CustomJob projects/633472233130/locations/us-central1/customJobs/938847415312580608 current state:\n",
      "JobState.JOB_STATE_RUNNING\n",
      "CustomJob projects/633472233130/locations/us-central1/customJobs/938847415312580608 current state:\n",
      "JobState.JOB_STATE_RUNNING\n",
      "CustomJob projects/633472233130/locations/us-central1/customJobs/938847415312580608 current state:\n",
      "JobState.JOB_STATE_RUNNING\n",
      "CustomJob projects/633472233130/locations/us-central1/customJobs/938847415312580608 current state:\n",
      "JobState.JOB_STATE_RUNNING\n",
      "CustomJob projects/633472233130/locations/us-central1/customJobs/938847415312580608 current state:\n",
      "JobState.JOB_STATE_RUNNING\n",
      "CustomJob projects/633472233130/locations/us-central1/customJobs/938847415312580608 current state:\n",
      "JobState.JOB_STATE_RUNNING\n",
      "CustomJob projects/633472233130/locations/us-central1/customJobs/938847415312580608 current state:\n",
      "JobState.JOB_STATE_RUNNING\n",
      "CustomJob projects/633472233130/locations/us-central1/customJobs/938847415312580608 current state:\n",
      "JobState.JOB_STATE_RUNNING\n",
      "CustomJob projects/633472233130/locations/us-central1/customJobs/938847415312580608 current state:\n",
      "JobState.JOB_STATE_RUNNING\n",
      "CustomJob projects/633472233130/locations/us-central1/customJobs/938847415312580608 current state:\n",
      "JobState.JOB_STATE_RUNNING\n",
      "CustomJob projects/633472233130/locations/us-central1/customJobs/938847415312580608 current state:\n",
      "JobState.JOB_STATE_RUNNING\n",
      "CustomJob projects/633472233130/locations/us-central1/customJobs/938847415312580608 current state:\n",
      "JobState.JOB_STATE_RUNNING\n",
      "CustomJob projects/633472233130/locations/us-central1/customJobs/938847415312580608 current state:\n",
      "JobState.JOB_STATE_RUNNING\n",
      "CustomJob projects/633472233130/locations/us-central1/customJobs/938847415312580608 current state:\n",
      "JobState.JOB_STATE_SUCCEEDED\n",
      "CustomJob run completed. Resource name: projects/633472233130/locations/us-central1/customJobs/938847415312580608\n"
     ]
    }
   ],
   "source": [
    "customJob.run(\n",
    "    service_account = SERVICE_ACCOUNT\n",
    ")"
   ]
  },
  {
   "cell_type": "code",
   "execution_count": 12,
   "id": "df3733c7",
   "metadata": {},
   "outputs": [
    {
     "data": {
      "text/plain": [
       "'04a_fraud_20221004100040'"
      ]
     },
     "execution_count": 12,
     "metadata": {},
     "output_type": "execute_result"
    }
   ],
   "source": [
    "customJob.display_name"
   ]
  },
  {
   "cell_type": "markdown",
   "id": "3a809833",
   "metadata": {},
   "source": [
    "---\n",
    "## Serving"
   ]
  },
  {
   "cell_type": "markdown",
   "id": "27fd1f7c",
   "metadata": {},
   "source": [
    "### Upload The Model"
   ]
  },
  {
   "cell_type": "code",
   "execution_count": 13,
   "id": "40653522-1017-45a0-94d7-2995c7e8374a",
   "metadata": {},
   "outputs": [
    {
     "name": "stdout",
     "output_type": "stream",
     "text": [
      "Model Already in Registry:\n",
      "Loading model as new default version.\n",
      "Creating Model\n",
      "Create Model backing LRO: projects/633472233130/locations/us-central1/models/model_04a_fraud/operations/8732029221301387264\n",
      "Model created. Resource name: projects/633472233130/locations/us-central1/models/4781305478221135872@2\n",
      "To use this Model in another session:\n",
      "model = aiplatform.Model('projects/633472233130/locations/us-central1/models/4781305478221135872@2')\n"
     ]
    }
   ],
   "source": [
    "modelmatch = aiplatform.Model.list(filter = f'display_name=\"{NOTEBOOK}_{DATANAME}\"')\n",
    "if modelmatch:\n",
    "    print(\"Model Already in Registry:\")\n",
    "    if f'time-{TIMESTAMP}' in modelmatch[0].version_aliases:\n",
    "        print(\"This version already loaded, no action taken.\")\n",
    "        model = aiplatform.Model(model_name = modelmatch[0].resource_name)\n",
    "    else:\n",
    "        print('Loading model as new default version.')\n",
    "        model = aiplatform.Model.upload(\n",
    "            display_name = f'{NOTEBOOK}_{DATANAME}',\n",
    "            model_id = f'model_{NOTEBOOK}_{DATANAME}',\n",
    "            parent_model =  modelmatch[0].resource_name,\n",
    "            serving_container_image_uri = DEPLOY_IMAGE,\n",
    "            artifact_uri = f\"{URI}/{TIMESTAMP}/model\",\n",
    "            is_default_version = True,\n",
    "            version_aliases = [f'time-{TIMESTAMP}'],\n",
    "            version_description = f'time-{TIMESTAMP}',\n",
    "            labels = {'notebook':f'{NOTEBOOK}'}        \n",
    "        )\n",
    "else:\n",
    "    print('This is a new model, creating in model registry')\n",
    "    model = aiplatform.Model.upload(\n",
    "        display_name = f'{NOTEBOOK}_{DATANAME}',\n",
    "        model_id = f'model_{NOTEBOOK}_{DATANAME}',\n",
    "        serving_container_image_uri = DEPLOY_IMAGE,\n",
    "        artifact_uri = f\"{URI}/{TIMESTAMP}/model\",\n",
    "        is_default_version = True,\n",
    "        version_aliases = [f'time-{TIMESTAMP}'],\n",
    "        version_description = f'time-{TIMESTAMP}',\n",
    "        labels = {'notebook':f'{NOTEBOOK}'}\n",
    "    )    "
   ]
  },
  {
   "cell_type": "markdown",
   "id": "5aec367e-16a2-478a-8d56-5b849e258c3e",
   "metadata": {},
   "source": [
    "**Note** on Version Aliases:\n",
    ">Expectation is a name starting with `a-z` that can include `[a-zA-Z0-9-]`\n",
    "\n",
    "**Retrieve a Model Resource**\n",
    "\n",
    "[Resource](https://cloud.google.com/python/docs/reference/aiplatform/latest/google.cloud.aiplatform.Model)\n",
    "```Python\n",
    "model = aiplatform.Model(model_name = f'model_{NOTEBOOK}_{DATANAME}') # retrieves default version\n",
    "model = aiplatform.Model(model_name = f'model_{NOTEBOOK}_{DATANAME}@time-{TIMESTAMP}') # retrieves specific version\n",
    "model = aiplatform.Model(model_name = f'model_{NOTEBOOK}_{DATANAME}', version = f'time-{TIMESTAMP}') # retrieves specific version\n",
    "```"
   ]
  },
  {
   "cell_type": "markdown",
   "id": "62dea7c8",
   "metadata": {},
   "source": [
    "### Create An Endpoint"
   ]
  },
  {
   "cell_type": "code",
   "execution_count": 14,
   "id": "b740cd67",
   "metadata": {},
   "outputs": [
    {
     "name": "stdout",
     "output_type": "stream",
     "text": [
      "Endpoint Exists: projects/633472233130/locations/us-central1/endpoints/8704041908730593280\n"
     ]
    }
   ],
   "source": [
    "SERIES = ''.join(filter(str.isdigit, NOTEBOOK))\n",
    "endpoints = aiplatform.Endpoint.list(filter = f\"display_name={SERIES}_{DATANAME}\")\n",
    "if endpoints:\n",
    "    endpoint = endpoints[0]\n",
    "    print(f\"Endpoint Exists: {endpoints[0].resource_name}\")\n",
    "else:\n",
    "    endpoint = aiplatform.Endpoint.create(\n",
    "        display_name = f\"{SERIES}_{DATANAME}\",\n",
    "        labels = {'notebook':f\"{SERIES}\"}    \n",
    "    )\n",
    "    print(f\"Endpoint Created: {endpoint.resource_name}\")"
   ]
  },
  {
   "cell_type": "code",
   "execution_count": 15,
   "id": "183d85c0",
   "metadata": {},
   "outputs": [
    {
     "data": {
      "text/plain": [
       "'04_fraud'"
      ]
     },
     "execution_count": 15,
     "metadata": {},
     "output_type": "execute_result"
    }
   ],
   "source": [
    "endpoint.display_name"
   ]
  },
  {
   "cell_type": "markdown",
   "id": "6d8852a1",
   "metadata": {},
   "source": [
    "### Deploy Model To Endpoint"
   ]
  },
  {
   "cell_type": "code",
   "execution_count": 16,
   "id": "3533d934-2c70-4340-8afa-f5b1930bb5b5",
   "metadata": {},
   "outputs": [
    {
     "name": "stdout",
     "output_type": "stream",
     "text": [
      "Deploying model with 100% of traffic...\n",
      "Deploying Model projects/633472233130/locations/us-central1/models/4781305478221135872 to Endpoint : projects/633472233130/locations/us-central1/endpoints/8704041908730593280\n",
      "Deploy Endpoint model backing LRO: projects/633472233130/locations/us-central1/endpoints/8704041908730593280/operations/6825599204040114176\n",
      "Endpoint model deployed. Resource name: projects/633472233130/locations/us-central1/endpoints/8704041908730593280\n"
     ]
    }
   ],
   "source": [
    "dmodels = endpoint.list_models()\n",
    "\n",
    "check = 0\n",
    "if dmodels:\n",
    "    for dmodel in dmodels:\n",
    "        if dmodel.model == model.resource_name and dmodel.model_version_id == model.version_id and dmodel.id in endpoint.traffic_split:\n",
    "            print(f'This model (and version) already deployed with {endpoint.traffic_split[dmodel.id]}% of traffic')\n",
    "            check = 1\n",
    "    \n",
    "if check == 0:\n",
    "    print(f'Deploying model with 100% of traffic...')\n",
    "    endpoint.deploy(\n",
    "        model = model,\n",
    "        deployed_model_display_name = f'{NOTEBOOK}_{DATANAME}',\n",
    "        traffic_percentage = 100,\n",
    "        machine_type = DEPLOY_COMPUTE,\n",
    "        min_replica_count = 1,\n",
    "        max_replica_count = 1\n",
    "    )     "
   ]
  },
  {
   "cell_type": "markdown",
   "id": "023dcd5e-33af-4dd8-9fe4-ef0ab3078460",
   "metadata": {},
   "source": [
    "### Remove Deployed Models without Traffic"
   ]
  },
  {
   "cell_type": "code",
   "execution_count": null,
   "id": "6945f51a-0c06-4760-bbfe-f2b9d1e7d38b",
   "metadata": {},
   "outputs": [],
   "source": [
    "for dmodel in endpoint.list_models():\n",
    "    if dmodel.id in endpoint.traffic_split:\n",
    "        print(f\"Model {dmodel.display_name} has traffic = {endpoint.traffic_split[dmodel.id]}\")\n",
    "    else:\n",
    "        endpoint.undeploy(deployed_model_id = dmodel.id)\n",
    "        print(f\"Undeployed {dmodel.display_name} version {dmodel.model_version_id} as it has no traffic.\")"
   ]
  },
  {
   "cell_type": "code",
   "execution_count": null,
   "id": "d90c6900-de81-4fcd-af0b-ba6b3925724d",
   "metadata": {},
   "outputs": [],
   "source": [
    "endpoint.traffic_split"
   ]
  },
  {
   "cell_type": "code",
   "execution_count": null,
   "id": "14cbf4a3-9e32-4158-a9ee-0cfca92e8574",
   "metadata": {},
   "outputs": [],
   "source": [
    "endpoint.list_models()"
   ]
  },
  {
   "cell_type": "markdown",
   "id": "c6dac1d9",
   "metadata": {},
   "source": [
    "---\n",
    "## Prediction"
   ]
  },
  {
   "cell_type": "markdown",
   "id": "674c3acf",
   "metadata": {},
   "source": [
    "### Prepare a record for prediction: instance list"
   ]
  },
  {
   "cell_type": "code",
   "execution_count": 17,
   "id": "c2588145",
   "metadata": {},
   "outputs": [],
   "source": [
    "test_query = f\"SELECT * FROM {DATANAME}.{DATANAME}_prepped WHERE splits = 'TEST' LIMIT 10\"\n",
    "test = bigquery.query(test_query).to_dataframe()\n",
    "X_test = test.loc[:, ~test.columns.isin(str(VAR_OMIT).split(' '))]\n",
    "y_test = test[VAR_TARGET]"
   ]
  },
  {
   "cell_type": "code",
   "execution_count": 18,
   "id": "6a19c2b0",
   "metadata": {},
   "outputs": [
    {
     "data": {
      "text/html": [
       "<div>\n",
       "<style scoped>\n",
       "    .dataframe tbody tr th:only-of-type {\n",
       "        vertical-align: middle;\n",
       "    }\n",
       "\n",
       "    .dataframe tbody tr th {\n",
       "        vertical-align: top;\n",
       "    }\n",
       "\n",
       "    .dataframe thead th {\n",
       "        text-align: right;\n",
       "    }\n",
       "</style>\n",
       "<table border=\"1\" class=\"dataframe\">\n",
       "  <thead>\n",
       "    <tr style=\"text-align: right;\">\n",
       "      <th></th>\n",
       "      <th>Time</th>\n",
       "      <th>V1</th>\n",
       "      <th>V2</th>\n",
       "      <th>V3</th>\n",
       "      <th>V4</th>\n",
       "      <th>V5</th>\n",
       "      <th>V6</th>\n",
       "      <th>V7</th>\n",
       "      <th>V8</th>\n",
       "      <th>V9</th>\n",
       "      <th>...</th>\n",
       "      <th>V20</th>\n",
       "      <th>V21</th>\n",
       "      <th>V22</th>\n",
       "      <th>V23</th>\n",
       "      <th>V24</th>\n",
       "      <th>V25</th>\n",
       "      <th>V26</th>\n",
       "      <th>V27</th>\n",
       "      <th>V28</th>\n",
       "      <th>Amount</th>\n",
       "    </tr>\n",
       "  </thead>\n",
       "  <tbody>\n",
       "    <tr>\n",
       "      <th>0</th>\n",
       "      <td>15689</td>\n",
       "      <td>-0.745436</td>\n",
       "      <td>1.208740</td>\n",
       "      <td>2.418708</td>\n",
       "      <td>3.033260</td>\n",
       "      <td>-0.501836</td>\n",
       "      <td>1.497792</td>\n",
       "      <td>-0.848100</td>\n",
       "      <td>0.999515</td>\n",
       "      <td>0.376560</td>\n",
       "      <td>...</td>\n",
       "      <td>-0.149698</td>\n",
       "      <td>-0.066289</td>\n",
       "      <td>0.035959</td>\n",
       "      <td>-0.088377</td>\n",
       "      <td>-0.395340</td>\n",
       "      <td>-0.422684</td>\n",
       "      <td>0.188265</td>\n",
       "      <td>0.020712</td>\n",
       "      <td>0.045274</td>\n",
       "      <td>0.0</td>\n",
       "    </tr>\n",
       "    <tr>\n",
       "      <th>1</th>\n",
       "      <td>51457</td>\n",
       "      <td>-5.194546</td>\n",
       "      <td>-1.741200</td>\n",
       "      <td>2.409787</td>\n",
       "      <td>3.979815</td>\n",
       "      <td>4.745377</td>\n",
       "      <td>-0.470931</td>\n",
       "      <td>-6.630054</td>\n",
       "      <td>-1.774991</td>\n",
       "      <td>0.541608</td>\n",
       "      <td>...</td>\n",
       "      <td>-1.728441</td>\n",
       "      <td>-1.909447</td>\n",
       "      <td>0.063879</td>\n",
       "      <td>-5.298245</td>\n",
       "      <td>-0.242950</td>\n",
       "      <td>-1.611578</td>\n",
       "      <td>0.186398</td>\n",
       "      <td>0.421281</td>\n",
       "      <td>0.010040</td>\n",
       "      <td>0.0</td>\n",
       "    </tr>\n",
       "    <tr>\n",
       "      <th>2</th>\n",
       "      <td>152527</td>\n",
       "      <td>2.019771</td>\n",
       "      <td>0.058431</td>\n",
       "      <td>-1.041463</td>\n",
       "      <td>1.626049</td>\n",
       "      <td>0.227237</td>\n",
       "      <td>-0.196559</td>\n",
       "      <td>-0.130095</td>\n",
       "      <td>-0.015467</td>\n",
       "      <td>-0.944086</td>\n",
       "      <td>...</td>\n",
       "      <td>-0.186591</td>\n",
       "      <td>0.191799</td>\n",
       "      <td>0.445460</td>\n",
       "      <td>0.204942</td>\n",
       "      <td>0.859635</td>\n",
       "      <td>-0.411058</td>\n",
       "      <td>2.328281</td>\n",
       "      <td>-0.226044</td>\n",
       "      <td>-0.090710</td>\n",
       "      <td>0.0</td>\n",
       "    </tr>\n",
       "    <tr>\n",
       "      <th>3</th>\n",
       "      <td>134025</td>\n",
       "      <td>2.101359</td>\n",
       "      <td>-0.885248</td>\n",
       "      <td>-0.019706</td>\n",
       "      <td>-0.810424</td>\n",
       "      <td>-1.429294</td>\n",
       "      <td>-0.832277</td>\n",
       "      <td>-1.110466</td>\n",
       "      <td>-0.093680</td>\n",
       "      <td>-0.347834</td>\n",
       "      <td>...</td>\n",
       "      <td>0.022980</td>\n",
       "      <td>0.493235</td>\n",
       "      <td>1.524276</td>\n",
       "      <td>0.188728</td>\n",
       "      <td>0.619306</td>\n",
       "      <td>-0.262769</td>\n",
       "      <td>-0.123342</td>\n",
       "      <td>0.023263</td>\n",
       "      <td>-0.048398</td>\n",
       "      <td>0.0</td>\n",
       "    </tr>\n",
       "    <tr>\n",
       "      <th>4</th>\n",
       "      <td>161647</td>\n",
       "      <td>-0.484457</td>\n",
       "      <td>1.664356</td>\n",
       "      <td>1.947575</td>\n",
       "      <td>4.371354</td>\n",
       "      <td>0.613689</td>\n",
       "      <td>0.689506</td>\n",
       "      <td>0.536490</td>\n",
       "      <td>-0.021216</td>\n",
       "      <td>-2.204157</td>\n",
       "      <td>...</td>\n",
       "      <td>0.242229</td>\n",
       "      <td>0.374826</td>\n",
       "      <td>1.234508</td>\n",
       "      <td>-0.614699</td>\n",
       "      <td>0.000011</td>\n",
       "      <td>0.583962</td>\n",
       "      <td>0.825513</td>\n",
       "      <td>-0.023025</td>\n",
       "      <td>0.073964</td>\n",
       "      <td>0.0</td>\n",
       "    </tr>\n",
       "  </tbody>\n",
       "</table>\n",
       "<p>5 rows × 30 columns</p>\n",
       "</div>"
      ],
      "text/plain": [
       "     Time        V1        V2        V3        V4        V5        V6  \\\n",
       "0   15689 -0.745436  1.208740  2.418708  3.033260 -0.501836  1.497792   \n",
       "1   51457 -5.194546 -1.741200  2.409787  3.979815  4.745377 -0.470931   \n",
       "2  152527  2.019771  0.058431 -1.041463  1.626049  0.227237 -0.196559   \n",
       "3  134025  2.101359 -0.885248 -0.019706 -0.810424 -1.429294 -0.832277   \n",
       "4  161647 -0.484457  1.664356  1.947575  4.371354  0.613689  0.689506   \n",
       "\n",
       "         V7        V8        V9  ...       V20       V21       V22       V23  \\\n",
       "0 -0.848100  0.999515  0.376560  ... -0.149698 -0.066289  0.035959 -0.088377   \n",
       "1 -6.630054 -1.774991  0.541608  ... -1.728441 -1.909447  0.063879 -5.298245   \n",
       "2 -0.130095 -0.015467 -0.944086  ... -0.186591  0.191799  0.445460  0.204942   \n",
       "3 -1.110466 -0.093680 -0.347834  ...  0.022980  0.493235  1.524276  0.188728   \n",
       "4  0.536490 -0.021216 -2.204157  ...  0.242229  0.374826  1.234508 -0.614699   \n",
       "\n",
       "        V24       V25       V26       V27       V28  Amount  \n",
       "0 -0.395340 -0.422684  0.188265  0.020712  0.045274     0.0  \n",
       "1 -0.242950 -1.611578  0.186398  0.421281  0.010040     0.0  \n",
       "2  0.859635 -0.411058  2.328281 -0.226044 -0.090710     0.0  \n",
       "3  0.619306 -0.262769 -0.123342  0.023263 -0.048398     0.0  \n",
       "4  0.000011  0.583962  0.825513 -0.023025  0.073964     0.0  \n",
       "\n",
       "[5 rows x 30 columns]"
      ]
     },
     "execution_count": 18,
     "metadata": {},
     "output_type": "execute_result"
    }
   ],
   "source": [
    "X_test.head()"
   ]
  },
  {
   "cell_type": "code",
   "execution_count": 19,
   "id": "40711e22",
   "metadata": {},
   "outputs": [],
   "source": [
    "instances = [X_test.to_dict(orient='split')['data'][0]]"
   ]
  },
  {
   "cell_type": "markdown",
   "id": "3b06fdf2",
   "metadata": {},
   "source": [
    "### Get Predictions: Python Client"
   ]
  },
  {
   "cell_type": "code",
   "execution_count": 20,
   "id": "5fc3b01a",
   "metadata": {},
   "outputs": [
    {
     "data": {
      "text/plain": [
       "Prediction(predictions=[0.0], deployed_model_id='5722900847969435648', model_version_id='2', model_resource_name='projects/633472233130/locations/us-central1/models/model_04a_fraud', explanations=None)"
      ]
     },
     "execution_count": 20,
     "metadata": {},
     "output_type": "execute_result"
    }
   ],
   "source": [
    "prediction = endpoint.predict(instances=instances)\n",
    "prediction"
   ]
  },
  {
   "cell_type": "code",
   "execution_count": 21,
   "id": "e3f07649",
   "metadata": {},
   "outputs": [
    {
     "data": {
      "text/plain": [
       "0.0"
      ]
     },
     "execution_count": 21,
     "metadata": {},
     "output_type": "execute_result"
    }
   ],
   "source": [
    "prediction.predictions[0]"
   ]
  },
  {
   "cell_type": "code",
   "execution_count": 22,
   "id": "5f5912e3",
   "metadata": {},
   "outputs": [
    {
     "data": {
      "text/plain": [
       "0"
      ]
     },
     "execution_count": 22,
     "metadata": {},
     "output_type": "execute_result"
    }
   ],
   "source": [
    "np.argmax(prediction.predictions[0])"
   ]
  },
  {
   "cell_type": "markdown",
   "id": "b93c1436",
   "metadata": {},
   "source": [
    "### Get Predictions: REST"
   ]
  },
  {
   "cell_type": "code",
   "execution_count": 23,
   "id": "b86b74d9",
   "metadata": {},
   "outputs": [],
   "source": [
    "with open(f'{DIR}/request.json','w') as file:\n",
    "    file.write(json.dumps({\"instances\": instances}))"
   ]
  },
  {
   "cell_type": "code",
   "execution_count": 24,
   "id": "8a7681f8",
   "metadata": {},
   "outputs": [
    {
     "name": "stdout",
     "output_type": "stream",
     "text": [
      "{\n",
      "  \"predictions\": [\n",
      "    0\n",
      "  ],\n",
      "  \"deployedModelId\": \"5722900847969435648\",\n",
      "  \"model\": \"projects/633472233130/locations/us-central1/models/model_04a_fraud\",\n",
      "  \"modelDisplayName\": \"04a_fraud\",\n",
      "  \"modelVersionId\": \"2\"\n",
      "}\n"
     ]
    }
   ],
   "source": [
    "!curl -X POST \\\n",
    "-H \"Authorization: Bearer \"$(gcloud auth application-default print-access-token) \\\n",
    "-H \"Content-Type: application/json; charset=utf-8\" \\\n",
    "-d @{DIR}/request.json \\\n",
    "https://{REGION}-aiplatform.googleapis.com/v1/{endpoint.resource_name}:predict"
   ]
  },
  {
   "cell_type": "markdown",
   "id": "d7bfa394",
   "metadata": {},
   "source": [
    "### Get Predictions: gcloud (CLI)"
   ]
  },
  {
   "cell_type": "code",
   "execution_count": 25,
   "id": "393f535d",
   "metadata": {},
   "outputs": [
    {
     "name": "stdout",
     "output_type": "stream",
     "text": [
      "Using endpoint [https://us-central1-prediction-aiplatform.googleapis.com/]\n",
      "[0]\n"
     ]
    }
   ],
   "source": [
    "!gcloud beta ai endpoints predict {endpoint.name.rsplit('/',1)[-1]} --region={REGION} --json-request={DIR}/request.json"
   ]
  },
  {
   "cell_type": "markdown",
   "id": "7b16d8e2",
   "metadata": {
    "jp-MarkdownHeadingCollapsed": true,
    "tags": []
   },
   "source": [
    "---\n",
    "## Remove Resources\n",
    "see notebook \"99 - Cleanup\""
   ]
  }
 ],
 "metadata": {
  "environment": {
   "kernel": "python3",
   "name": "tf2-gpu.2-3.m94",
   "type": "gcloud",
   "uri": "gcr.io/deeplearning-platform-release/tf2-gpu.2-3:m94"
  },
  "kernelspec": {
   "display_name": "Python 3 (ipykernel)",
   "language": "python",
   "name": "python3"
  },
  "language_info": {
   "codemirror_mode": {
    "name": "ipython",
    "version": 3
   },
   "file_extension": ".py",
   "mimetype": "text/x-python",
   "name": "python",
   "nbconvert_exporter": "python",
   "pygments_lexer": "ipython3",
   "version": "3.9.6"
  },
  "toc-autonumbering": false
 },
 "nbformat": 4,
 "nbformat_minor": 5
}
