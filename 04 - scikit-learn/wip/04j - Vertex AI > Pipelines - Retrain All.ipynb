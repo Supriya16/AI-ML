{
 "cells": [
  {
   "cell_type": "markdown",
   "id": "e805aabb-f990-47a9-86a7-94001d48358a",
   "metadata": {},
   "source": [
    "# Vertex AI > Pipelines - Retrain All 05a through 05i\n",
    "\n",
    "In each of the notebooks `05a` through `05j` methods of using Vertex AI > Training were demonstrated.  In this notebook a Vertex AI > Pipeline job will be created that runs a retraining of all of these methods in a single pipeline.  This will showcase a combination of custom pipeline components and pre-built component for Vertex AI.\n"
   ]
  }
 ],
 "metadata": {
  "environment": {
   "kernel": "python3",
   "name": "tf2-gpu.2-3.m94",
   "type": "gcloud",
   "uri": "gcr.io/deeplearning-platform-release/tf2-gpu.2-3:m94"
  },
  "kernelspec": {
   "display_name": "Python 3",
   "language": "python",
   "name": "python3"
  },
  "language_info": {
   "codemirror_mode": {
    "name": "ipython",
    "version": 3
   },
   "file_extension": ".py",
   "mimetype": "text/x-python",
   "name": "python",
   "nbconvert_exporter": "python",
   "pygments_lexer": "ipython3",
   "version": "3.7.12"
  }
 },
 "nbformat": 4,
 "nbformat_minor": 5
}
