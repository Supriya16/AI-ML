{
 "cells": [
  {
   "cell_type": "markdown",
   "id": "320be11c-027a-4d79-b9a1-07c52414738f",
   "metadata": {},
   "source": [
    "![ga4](https://www.google-analytics.com/collect?v=2&tid=G-6VDTYWLKX6&cid=1&en=page_view&sid=1&dl=statmike%2Fvertex-ai-mlops%2F03+-+BigQuery+ML+%28BQML%29&dt=BQML+Feature+Engineering.ipynb)\n",
    "\n",
    "# BigQuery ML (BQML) - Advanced Feature Engineering\n",
    "\n",
    "This notebook will explore preparing data (preprocessing) for machine learning with BigQuery using functions that are part of BigQuery ML (BQML).  \n",
    "\n",
    "**BigQuery ML (BQML)**\n",
    "\n",
    "BigQuery Machine Learning allows you to use `SQL` to constuct an ML workflow.  This is a great leap in productivity and flexibility when the data source is BigQuery and users are already familiar with `SQL`. Using just `SQL` multiple techniques can be used for model training and even include hyperparameter tuning.  Predictions can be served directly in BigQuery which also include explainability. Models can be registered to Vertex AI model registry for online predictions on Vertex AI Endpoints.\n",
    "\n",
    "**If you know:**\n",
    "```SQL\n",
    "CREATE TABLE {table name}\n",
    "    AS\n",
    "        SELECT ...\n",
    "        FROM ...\n",
    "        WHERE ...\n",
    "```\n",
    "\n",
    "**Then you are ready to try:**\n",
    "```SQL\n",
    "CREATE MODEL {model name} \n",
    "    OPTIONS (\n",
    "        MODEL_TYPE = ...\n",
    "        {more options}\n",
    "    )\n",
    "    AS\n",
    "        SELECT ...\n",
    "        FROM ...\n",
    "        WHERE ...\n",
    "```\n",
    "\n",
    "**You can even use:**\n",
    "- ```SQL\n",
    "CREATE OR REPLACE MODEL {model name}...\n",
    "```\n",
    "- ```SQL\n",
    "CREATE MODEL IF NOT EXISTS {model name}...\n",
    "```\n",
    "\n",
    "**Functions for your ML Workflow**\n",
    "- Model Evaluation with `ML.EVALUTE`:\n",
    "    - ```SQL\n",
    "    SELECT *\n",
    "    FROM ML.EVALUTE(\n",
    "        MODEL {model name},\n",
    "        (\n",
    "            SELECT ...\n",
    "            FROM ...\n",
    "            WHERE ...),\n",
    "        STRUCT({optional parameters})\n",
    "    )\n",
    "    ```\n",
    "- Prediction Using Models with `ML.PREDICT`:\n",
    "    - ```SQL\n",
    "    SELECT *\n",
    "    FROM ML.PREDICT(\n",
    "        MODEL {model name},\n",
    "        (\n",
    "            SELECT ...\n",
    "            FROM ...\n",
    "            WHERE ...),\n",
    "        STRUCT({optional parameters})\n",
    "    )\n",
    "    ```\n",
    "    \n",
    "**Feature Engineering**\n",
    "\n",
    "Feature engineering, or preprocessing, is part of making data ready for machine learning.  BigQuery ML [manual feature preprocessing](https://cloud.google.com/bigquery-ml/docs/reference/standard-sql/bigqueryml-preprocessing-functions) functions are available to make this process simple within BigQuery.  \n",
    "\n",
    "Each `CREATE MODEL ...` statement will do [automatic feature preprocessing](https://cloud.google.com/bigquery-ml/docs/reference/standard-sql/bigqueryml-auto-preprocessing) by default.  It is also possible include manual feature preprocessing in the `CREATE MODEL ...` statement as a `TRANSFORM` clause where it will also become part of the model serving.  Some of these function even accompany the model when [exported from BigQuery](https://cloud.google.com/bigquery-ml/docs/exporting-models).\n",
    "\n",
    "```SQL\n",
    "CREATE MODEL {model name} AS\n",
    "    TRANSFORM (\n",
    "        ML.{function name}() OVER() as {name},\n",
    "        ...\n",
    "    )\n",
    "    OPTIONS (\n",
    "        MODEL_TYPE = ...\n",
    "        {more options}\n",
    "    )\n",
    "    AS\n",
    "        SELECT ...\n",
    "        FROM ...\n",
    "        WHERE ...\n",
    "```\n",
    "  \n",
    "---\n",
    "\n",
    "**Getting Started**\n",
    "<p align=\"center\" width=\"100%\">\n",
    "A great place to start exploring what model types are available and the functions to help create an ML workflow with each model type is this site:\n",
    "    <center>\n",
    "        <a href=\"https://cloud.google.com/bigquery-ml/docs/reference/standard-sql/bigqueryml-syntax-e2e-journey\">\n",
    "            <h1>End-to-end user journey for each model</h1>\n",
    "        </a>\n",
    "    </center>\n",
    "Another great resourse for getting started is the \"What is BigQuery ML?\" starting page which include a model selection guide.\n",
    "    <center>\n",
    "        <a href=\"https://cloud.google.com/bigquery-ml/docs/introduction\">\n",
    "        <h2>What is BigQuery ML?</h2>\n",
    "        </a>\n",
    "    </center>\n",
    "</p>\n",
    "\n",
    "---\n",
    "\n",
    "**Prerequisites:**\n",
    "\n",
    "None\n",
    "\n",
    "**Services Used:**\n",
    "- BigQuery\n",
    "- Vertex AI: Workbench (this notebook), Model Registry, Endpoints\n",
    "- GCS\n",
    "\n",
    "**Resources:**\n",
    "- [BigQuery ML (BQML) Overview](https://cloud.google.com/bigquery-ml/docs/introduction)\n",
    "- [Overview of BQML methods and workflows](https://cloud.google.com/bigquery-ml/docs/reference/standard-sql/bigqueryml-syntax-e2e-journey)\n",
    "- [BigQuery](https://cloud.google.com/bigquery)\n",
    "    - [Documentation:](https://cloud.google.com/bigquery/docs/query-overview)\n",
    "    - [API:](https://cloud.google.com/bigquery/docs/reference/libraries-overview)\n",
    "        - [Clients](https://cloud.google.com/bigquery/docs/reference/libraries)\n",
    "            - [Python SDK:](https://github.com/googleapis/python-bigquery)\n",
    "            - [Python Library Reference:](https://cloud.google.com/python/docs/reference/bigquery/latest)"
   ]
  },
  {
   "cell_type": "markdown",
   "id": "e17afa66-4bea-484e-aeba-835c6be7a393",
   "metadata": {},
   "source": [
    "---\n",
    "## Colab Setup\n",
    "\n",
    "To run this notebook in Colab click [![Open In Colab](https://colab.research.google.com/assets/colab-badge.svg)](https://colab.research.google.com/github/statmike/vertex-ai-mlops/blob/main/Dev/BQML%20Feature%20Engineering.ipynb) and run the cells in this section.  Otherwise, skip this section."
   ]
  },
  {
   "cell_type": "code",
   "execution_count": 1,
   "id": "5e1c27de-aba9-48ea-a99a-65f2818a7fc3",
   "metadata": {},
   "outputs": [],
   "source": [
    "try:\n",
    "    import google.colab\n",
    "    !pip install --upgrade google-cloud-aiplatform -q\n",
    "    !pip install --upgrade google-cloud-bigquery -q\n",
    "    !pip install --upgrade google-cloud-bigquery-storage -q\n",
    "    from google.colab import auth\n",
    "    auth.authenticate_user()\n",
    "except Exception:\n",
    "    pass"
   ]
  },
  {
   "cell_type": "code",
   "execution_count": null,
   "id": "87192944-6c60-4973-9437-f7cad05917ae",
   "metadata": {},
   "outputs": [],
   "source": [
    "PROJECT_ID = 'statmike-mlops-349915' # replace with project ID\n",
    "!gcloud config set project {PROJECT_ID}"
   ]
  },
  {
   "cell_type": "markdown",
   "id": "b9472481-40b9-42b5-b312-70bbe7f4424c",
   "metadata": {},
   "source": [
    "---\n",
    "## Environment Setup"
   ]
  },
  {
   "cell_type": "markdown",
   "id": "9898fe14-2759-4725-8788-44d7172c623c",
   "metadata": {},
   "source": [
    "inputs:"
   ]
  },
  {
   "cell_type": "code",
   "execution_count": 1,
   "id": "10c2e0b7-31c4-43bb-a0f3-357f1147bb46",
   "metadata": {},
   "outputs": [
    {
     "data": {
      "text/plain": [
       "'statmike-mlops-349915'"
      ]
     },
     "execution_count": 1,
     "metadata": {},
     "output_type": "execute_result"
    }
   ],
   "source": [
    "project = !gcloud config get-value project\n",
    "PROJECT_ID = project[0]\n",
    "PROJECT_ID"
   ]
  },
  {
   "cell_type": "code",
   "execution_count": 2,
   "id": "93c9f9bb-77db-4874-b5b2-50ae62d305f3",
   "metadata": {},
   "outputs": [],
   "source": [
    "REGION = 'europe-west4'\n",
    "EXPERIMENT = 'feature_engineering'\n",
    "SERIES = '03'\n",
    "\n",
    "# source data\n",
    "BQ_PROJECT = PROJECT_ID\n",
    "BQ_DATASET = 'feature_engineering'\n",
    "BQ_TABLE = 'bread'"
   ]
  },
  {
   "cell_type": "markdown",
   "id": "8a61432f-3879-4047-b60c-d6866e87a83b",
   "metadata": {},
   "source": [
    "packages:"
   ]
  },
  {
   "cell_type": "code",
   "execution_count": 3,
   "id": "46dd5f64-6633-45e8-a886-5dd3c2fb8437",
   "metadata": {},
   "outputs": [],
   "source": [
    "from google.cloud import aiplatform\n",
    "from google.cloud import bigquery\n",
    "from google.cloud import storage\n",
    "\n",
    "from datetime import datetime\n",
    "import matplotlib.pyplot as plt\n",
    "from sklearn import metrics\n",
    "import numpy as np\n",
    "import json\n",
    "\n",
    "from google.protobuf import json_format\n",
    "from google.protobuf.struct_pb2 import Value"
   ]
  },
  {
   "cell_type": "markdown",
   "id": "c96caca5-9d6a-42b9-952e-3ba9c6076d56",
   "metadata": {},
   "source": [
    "clients:"
   ]
  },
  {
   "cell_type": "code",
   "execution_count": 4,
   "id": "8e845d29-f0bb-496b-bd9a-adb85e1a5b9f",
   "metadata": {},
   "outputs": [],
   "source": [
    "aiplatform.init(project=PROJECT_ID, location=REGION)\n",
    "bq = bigquery.Client(project=PROJECT_ID, location = 'EU')\n",
    "gcs = storage.Client(project = PROJECT_ID)"
   ]
  },
  {
   "cell_type": "markdown",
   "id": "edd608d4-eded-4a26-b1cd-9bf82e570632",
   "metadata": {},
   "source": [
    "environment:"
   ]
  },
  {
   "cell_type": "code",
   "execution_count": 5,
   "id": "033c6f41-43c9-43c9-9b56-a60bbf15d9f1",
   "metadata": {},
   "outputs": [],
   "source": [
    "DIR = f\"temp/{EXPERIMENT}\"\n",
    "!rm -rf {DIR}\n",
    "!mkdir -p {DIR}"
   ]
  },
  {
   "cell_type": "markdown",
   "id": "f8942499-f17d-47bf-82d5-884a2cecc5b1",
   "metadata": {},
   "source": [
    "---\n",
    "## BigQuery Manual Feature Engineering\n",
    "\n",
    "BigQuery ML [manual feature preprocessing](https://cloud.google.com/bigquery-ml/docs/reference/standard-sql/bigqueryml-preprocessing-functions) functions are usefull for converting BigQuery columns to ML features.  BigQuery ML has included a set of these for manual preprocessing and they are individually reviewed here.\n",
    "\n",
    "These functions can be used directly in BigQuery SQL or within the `TRANSFORM` clause of the `CREATE MODEL` statement.  Using these inside of the `TRANSFORM` clause means they will also be automatically applied during model serving in BigQuery with `ML.PREDICT`.  Some preprocessing statments can also accompany exported models.\n",
    "\n",
    "**NOTE:** Some of the functions require using calculation over all values in the column and make use of an empty `OVER()` clause.  See `ML.QUANTILE_BUCKETIZE`, `ML.MIN_MAX_SCALER`, `ML.STANDARD_SCALER` for examples. \n"
   ]
  },
  {
   "cell_type": "markdown",
   "id": "26d843c3-4914-4cce-8845-d3661b22042a",
   "metadata": {},
   "source": [
    "### ML.BUCKETIZE\n",
    "\n",
    "Given a column of numerical values this function creates a new column with bucketed values based on a list of boundaries given as input.\n",
    "- [Reference](https://cloud.google.com/bigquery-ml/docs/reference/standard-sql/bigqueryml-preprocessing-functions#bucketize)\n",
    "- Is exportabled when used in `TRANFORM` clause"
   ]
  },
  {
   "cell_type": "code",
   "execution_count": 6,
   "id": "7f774cfe-f3e0-4280-bbad-7d5543d33eb3",
   "metadata": {},
   "outputs": [
    {
     "name": "stdout",
     "output_type": "stream",
     "text": [
      "\n",
      "    SELECT\n",
      "        original_column,\n",
      "        ML.BUCKETIZE(original_column, [2, 5, 7]) AS bucketed_column\n",
      "    FROM\n",
      "        UNNEST([1, 2, 3, 4, 5, 6, 7, 8, 9, 10]) as original_column\n",
      "\n"
     ]
    }
   ],
   "source": [
    "query = f\"\"\"\n",
    "    SELECT\n",
    "        original_column,\n",
    "        ML.BUCKETIZE(original_column, [2, 5, 7]) AS bucketed_column\n",
    "    FROM\n",
    "        UNNEST([1, 2, 3, 4, 5, 6, 7, 8, 9, 10]) as original_column\n",
    "\"\"\"\n",
    "print(query)"
   ]
  },
  {
   "cell_type": "code",
   "execution_count": 7,
   "id": "a0dd85f9-04f9-4159-a41a-ca17b98d4930",
   "metadata": {},
   "outputs": [
    {
     "data": {
      "text/html": [
       "<div>\n",
       "<style scoped>\n",
       "    .dataframe tbody tr th:only-of-type {\n",
       "        vertical-align: middle;\n",
       "    }\n",
       "\n",
       "    .dataframe tbody tr th {\n",
       "        vertical-align: top;\n",
       "    }\n",
       "\n",
       "    .dataframe thead th {\n",
       "        text-align: right;\n",
       "    }\n",
       "</style>\n",
       "<table border=\"1\" class=\"dataframe\">\n",
       "  <thead>\n",
       "    <tr style=\"text-align: right;\">\n",
       "      <th></th>\n",
       "      <th>original_column</th>\n",
       "      <th>bucketed_column</th>\n",
       "    </tr>\n",
       "  </thead>\n",
       "  <tbody>\n",
       "    <tr>\n",
       "      <th>0</th>\n",
       "      <td>1</td>\n",
       "      <td>bin_1</td>\n",
       "    </tr>\n",
       "    <tr>\n",
       "      <th>1</th>\n",
       "      <td>2</td>\n",
       "      <td>bin_2</td>\n",
       "    </tr>\n",
       "    <tr>\n",
       "      <th>2</th>\n",
       "      <td>3</td>\n",
       "      <td>bin_2</td>\n",
       "    </tr>\n",
       "    <tr>\n",
       "      <th>3</th>\n",
       "      <td>4</td>\n",
       "      <td>bin_2</td>\n",
       "    </tr>\n",
       "    <tr>\n",
       "      <th>4</th>\n",
       "      <td>5</td>\n",
       "      <td>bin_3</td>\n",
       "    </tr>\n",
       "    <tr>\n",
       "      <th>5</th>\n",
       "      <td>6</td>\n",
       "      <td>bin_3</td>\n",
       "    </tr>\n",
       "    <tr>\n",
       "      <th>6</th>\n",
       "      <td>7</td>\n",
       "      <td>bin_4</td>\n",
       "    </tr>\n",
       "    <tr>\n",
       "      <th>7</th>\n",
       "      <td>8</td>\n",
       "      <td>bin_4</td>\n",
       "    </tr>\n",
       "    <tr>\n",
       "      <th>8</th>\n",
       "      <td>9</td>\n",
       "      <td>bin_4</td>\n",
       "    </tr>\n",
       "    <tr>\n",
       "      <th>9</th>\n",
       "      <td>10</td>\n",
       "      <td>bin_4</td>\n",
       "    </tr>\n",
       "  </tbody>\n",
       "</table>\n",
       "</div>"
      ],
      "text/plain": [
       "   original_column bucketed_column\n",
       "0                1           bin_1\n",
       "1                2           bin_2\n",
       "2                3           bin_2\n",
       "3                4           bin_2\n",
       "4                5           bin_3\n",
       "5                6           bin_3\n",
       "6                7           bin_4\n",
       "7                8           bin_4\n",
       "8                9           bin_4\n",
       "9               10           bin_4"
      ]
     },
     "execution_count": 7,
     "metadata": {},
     "output_type": "execute_result"
    }
   ],
   "source": [
    "df = bq.query(query = query).to_dataframe()\n",
    "df"
   ]
  },
  {
   "cell_type": "markdown",
   "id": "d0b7f2af-6eb1-48e6-8460-c5a2a7f9475e",
   "metadata": {},
   "source": [
    "### ML.POLYNOMIAL_EXPAND\n",
    "\n",
    "Given a STRUCT of numerical features this returns a STRUCT of polynomial combinations up to the degree passed-in (default = 2).\n",
    "- [Reference](https://cloud.google.com/bigquery-ml/docs/reference/standard-sql/bigqueryml-preprocessing-functions#mlpolynomial_expand)"
   ]
  },
  {
   "cell_type": "code",
   "execution_count": 8,
   "id": "74ba79b6-e4e6-42b6-bea2-0becff02929c",
   "metadata": {},
   "outputs": [
    {
     "name": "stdout",
     "output_type": "stream",
     "text": [
      "\n",
      "    SELECT\n",
      "        col_1, col_2,\n",
      "        ML.POLYNOMIAL_EXPAND(STRUCT(col_1, col_2)) AS combo_column\n",
      "    FROM\n",
      "        UNNEST([1, 2, 3, 4, 5, 6, 7, 8, 9, 10]) AS col_1 WITH OFFSET pos1,\n",
      "        UNNEST([1, 2, 3, 4, 5, 6, 7, 8, 9, 10]) AS col_2 WITH OFFSET pos2\n",
      "    WHERE\n",
      "        pos1 = pos2\n",
      "\n"
     ]
    }
   ],
   "source": [
    "query = f\"\"\"\n",
    "    SELECT\n",
    "        col_1, col_2,\n",
    "        ML.POLYNOMIAL_EXPAND(STRUCT(col_1, col_2)) AS combo_column\n",
    "    FROM\n",
    "        UNNEST([1, 2, 3, 4, 5, 6, 7, 8, 9, 10]) AS col_1 WITH OFFSET pos1,\n",
    "        UNNEST([1, 2, 3, 4, 5, 6, 7, 8, 9, 10]) AS col_2 WITH OFFSET pos2\n",
    "    WHERE\n",
    "        pos1 = pos2\n",
    "\"\"\"\n",
    "print(query)"
   ]
  },
  {
   "cell_type": "code",
   "execution_count": 9,
   "id": "f07a1944-a5c4-409e-82b1-e44eac59a40e",
   "metadata": {},
   "outputs": [
    {
     "data": {
      "text/html": [
       "<div>\n",
       "<style scoped>\n",
       "    .dataframe tbody tr th:only-of-type {\n",
       "        vertical-align: middle;\n",
       "    }\n",
       "\n",
       "    .dataframe tbody tr th {\n",
       "        vertical-align: top;\n",
       "    }\n",
       "\n",
       "    .dataframe thead th {\n",
       "        text-align: right;\n",
       "    }\n",
       "</style>\n",
       "<table border=\"1\" class=\"dataframe\">\n",
       "  <thead>\n",
       "    <tr style=\"text-align: right;\">\n",
       "      <th></th>\n",
       "      <th>col_1</th>\n",
       "      <th>col_2</th>\n",
       "      <th>combo_column</th>\n",
       "    </tr>\n",
       "  </thead>\n",
       "  <tbody>\n",
       "    <tr>\n",
       "      <th>0</th>\n",
       "      <td>1</td>\n",
       "      <td>1</td>\n",
       "      <td>{'col_1': 1.0, 'col_1_col_1': 1.0, 'col_1_col_...</td>\n",
       "    </tr>\n",
       "    <tr>\n",
       "      <th>1</th>\n",
       "      <td>2</td>\n",
       "      <td>2</td>\n",
       "      <td>{'col_1': 2.0, 'col_1_col_1': 4.0, 'col_1_col_...</td>\n",
       "    </tr>\n",
       "    <tr>\n",
       "      <th>2</th>\n",
       "      <td>3</td>\n",
       "      <td>3</td>\n",
       "      <td>{'col_1': 3.0, 'col_1_col_1': 9.0, 'col_1_col_...</td>\n",
       "    </tr>\n",
       "    <tr>\n",
       "      <th>3</th>\n",
       "      <td>4</td>\n",
       "      <td>4</td>\n",
       "      <td>{'col_1': 4.0, 'col_1_col_1': 16.0, 'col_1_col...</td>\n",
       "    </tr>\n",
       "    <tr>\n",
       "      <th>4</th>\n",
       "      <td>5</td>\n",
       "      <td>5</td>\n",
       "      <td>{'col_1': 5.0, 'col_1_col_1': 25.0, 'col_1_col...</td>\n",
       "    </tr>\n",
       "    <tr>\n",
       "      <th>5</th>\n",
       "      <td>6</td>\n",
       "      <td>6</td>\n",
       "      <td>{'col_1': 6.0, 'col_1_col_1': 36.0, 'col_1_col...</td>\n",
       "    </tr>\n",
       "    <tr>\n",
       "      <th>6</th>\n",
       "      <td>7</td>\n",
       "      <td>7</td>\n",
       "      <td>{'col_1': 7.0, 'col_1_col_1': 49.0, 'col_1_col...</td>\n",
       "    </tr>\n",
       "    <tr>\n",
       "      <th>7</th>\n",
       "      <td>8</td>\n",
       "      <td>8</td>\n",
       "      <td>{'col_1': 8.0, 'col_1_col_1': 64.0, 'col_1_col...</td>\n",
       "    </tr>\n",
       "    <tr>\n",
       "      <th>8</th>\n",
       "      <td>9</td>\n",
       "      <td>9</td>\n",
       "      <td>{'col_1': 9.0, 'col_1_col_1': 81.0, 'col_1_col...</td>\n",
       "    </tr>\n",
       "    <tr>\n",
       "      <th>9</th>\n",
       "      <td>10</td>\n",
       "      <td>10</td>\n",
       "      <td>{'col_1': 10.0, 'col_1_col_1': 100.0, 'col_1_c...</td>\n",
       "    </tr>\n",
       "  </tbody>\n",
       "</table>\n",
       "</div>"
      ],
      "text/plain": [
       "   col_1  col_2                                       combo_column\n",
       "0      1      1  {'col_1': 1.0, 'col_1_col_1': 1.0, 'col_1_col_...\n",
       "1      2      2  {'col_1': 2.0, 'col_1_col_1': 4.0, 'col_1_col_...\n",
       "2      3      3  {'col_1': 3.0, 'col_1_col_1': 9.0, 'col_1_col_...\n",
       "3      4      4  {'col_1': 4.0, 'col_1_col_1': 16.0, 'col_1_col...\n",
       "4      5      5  {'col_1': 5.0, 'col_1_col_1': 25.0, 'col_1_col...\n",
       "5      6      6  {'col_1': 6.0, 'col_1_col_1': 36.0, 'col_1_col...\n",
       "6      7      7  {'col_1': 7.0, 'col_1_col_1': 49.0, 'col_1_col...\n",
       "7      8      8  {'col_1': 8.0, 'col_1_col_1': 64.0, 'col_1_col...\n",
       "8      9      9  {'col_1': 9.0, 'col_1_col_1': 81.0, 'col_1_col...\n",
       "9     10     10  {'col_1': 10.0, 'col_1_col_1': 100.0, 'col_1_c..."
      ]
     },
     "execution_count": 9,
     "metadata": {},
     "output_type": "execute_result"
    }
   ],
   "source": [
    "df = bq.query(query = query).to_dataframe()\n",
    "df"
   ]
  },
  {
   "cell_type": "code",
   "execution_count": 10,
   "id": "f2811a56-a2c6-4943-a593-d50624e2f54c",
   "metadata": {},
   "outputs": [
    {
     "data": {
      "text/plain": [
       "{'col_1': 10.0,\n",
       " 'col_1_col_1': 100.0,\n",
       " 'col_1_col_2': 100.0,\n",
       " 'col_2': 10.0,\n",
       " 'col_2_col_2': 100.0}"
      ]
     },
     "execution_count": 10,
     "metadata": {},
     "output_type": "execute_result"
    }
   ],
   "source": [
    "df['combo_column'].iloc[-1]"
   ]
  },
  {
   "cell_type": "markdown",
   "id": "719210f5-96e3-474c-8fc3-e6e44d75d678",
   "metadata": {},
   "source": [
    "### ML.FEATURE_CROSS\n",
    "\n",
    "Given a STRUCT of categorial features this returns a STRUCT of all combinations up to the degree passed-in (default = 2).\n",
    "- [Reference](https://cloud.google.com/bigquery-ml/docs/reference/standard-sql/bigqueryml-preprocessing-functions#mlfeature_cross)"
   ]
  },
  {
   "cell_type": "code",
   "execution_count": 11,
   "id": "3a0e4408-5557-4410-8079-da8dec625ef4",
   "metadata": {},
   "outputs": [
    {
     "name": "stdout",
     "output_type": "stream",
     "text": [
      "\n",
      "    SELECT\n",
      "        col_1, col_2, col_3,\n",
      "        ML.FEATURE_CROSS(STRUCT(col_1, col_2, col_3)) AS combo_column\n",
      "    FROM\n",
      "        UNNEST(['a', 'b', 'c']) as col_1 WITH OFFSET pos1,\n",
      "        UNNEST(['A', 'B', 'C']) AS col_2 WITH OFFSET pos2,\n",
      "        UNNEST(['1', '2', '3']) AS col_3 WITH OFFSET pos3\n",
      "    WHERE\n",
      "        pos1 = pos2 AND pos2 = pos3\n",
      "\n"
     ]
    }
   ],
   "source": [
    "query = f\"\"\"\n",
    "    SELECT\n",
    "        col_1, col_2, col_3,\n",
    "        ML.FEATURE_CROSS(STRUCT(col_1, col_2, col_3)) AS combo_column\n",
    "    FROM\n",
    "        UNNEST(['a', 'b', 'c']) as col_1 WITH OFFSET pos1,\n",
    "        UNNEST(['A', 'B', 'C']) AS col_2 WITH OFFSET pos2,\n",
    "        UNNEST(['1', '2', '3']) AS col_3 WITH OFFSET pos3\n",
    "    WHERE\n",
    "        pos1 = pos2 AND pos2 = pos3\n",
    "\"\"\"\n",
    "print(query)"
   ]
  },
  {
   "cell_type": "code",
   "execution_count": 12,
   "id": "723b5274-37e6-4a51-a7f1-a6c80b3832cf",
   "metadata": {},
   "outputs": [
    {
     "data": {
      "text/html": [
       "<div>\n",
       "<style scoped>\n",
       "    .dataframe tbody tr th:only-of-type {\n",
       "        vertical-align: middle;\n",
       "    }\n",
       "\n",
       "    .dataframe tbody tr th {\n",
       "        vertical-align: top;\n",
       "    }\n",
       "\n",
       "    .dataframe thead th {\n",
       "        text-align: right;\n",
       "    }\n",
       "</style>\n",
       "<table border=\"1\" class=\"dataframe\">\n",
       "  <thead>\n",
       "    <tr style=\"text-align: right;\">\n",
       "      <th></th>\n",
       "      <th>col_1</th>\n",
       "      <th>col_2</th>\n",
       "      <th>col_3</th>\n",
       "      <th>combo_column</th>\n",
       "    </tr>\n",
       "  </thead>\n",
       "  <tbody>\n",
       "    <tr>\n",
       "      <th>0</th>\n",
       "      <td>a</td>\n",
       "      <td>A</td>\n",
       "      <td>1</td>\n",
       "      <td>{'col_1_col_2': 'a_A', 'col_1_col_3': 'a_1', '...</td>\n",
       "    </tr>\n",
       "    <tr>\n",
       "      <th>1</th>\n",
       "      <td>b</td>\n",
       "      <td>B</td>\n",
       "      <td>2</td>\n",
       "      <td>{'col_1_col_2': 'b_B', 'col_1_col_3': 'b_2', '...</td>\n",
       "    </tr>\n",
       "    <tr>\n",
       "      <th>2</th>\n",
       "      <td>c</td>\n",
       "      <td>C</td>\n",
       "      <td>3</td>\n",
       "      <td>{'col_1_col_2': 'c_C', 'col_1_col_3': 'c_3', '...</td>\n",
       "    </tr>\n",
       "  </tbody>\n",
       "</table>\n",
       "</div>"
      ],
      "text/plain": [
       "  col_1 col_2 col_3                                       combo_column\n",
       "0     a     A     1  {'col_1_col_2': 'a_A', 'col_1_col_3': 'a_1', '...\n",
       "1     b     B     2  {'col_1_col_2': 'b_B', 'col_1_col_3': 'b_2', '...\n",
       "2     c     C     3  {'col_1_col_2': 'c_C', 'col_1_col_3': 'c_3', '..."
      ]
     },
     "execution_count": 12,
     "metadata": {},
     "output_type": "execute_result"
    }
   ],
   "source": [
    "df = bq.query(query = query).to_dataframe()\n",
    "df"
   ]
  },
  {
   "cell_type": "code",
   "execution_count": 13,
   "id": "67f28780-393e-4fc9-af48-f1fea9b8f535",
   "metadata": {},
   "outputs": [
    {
     "data": {
      "text/plain": [
       "{'col_1_col_2': 'c_C', 'col_1_col_3': 'c_3', 'col_2_col_3': 'C_3'}"
      ]
     },
     "execution_count": 13,
     "metadata": {},
     "output_type": "execute_result"
    }
   ],
   "source": [
    "df['combo_column'].iloc[-1]"
   ]
  },
  {
   "cell_type": "markdown",
   "id": "d6a3da03-be5d-4729-b48a-07b4ed2debf2",
   "metadata": {},
   "source": [
    "### ML.NGRAMS\n",
    "\n",
    "Given an array of strings returns an array of merged inputs strings for the ranges provided.\n",
    "- [Reference](https://cloud.google.com/bigquery-ml/docs/reference/standard-sql/bigqueryml-preprocessing-functions#mlngrams)\n",
    "- Is exportabled when used in `TRANFORM` clause"
   ]
  },
  {
   "cell_type": "code",
   "execution_count": 14,
   "id": "9558897f-c9ae-4f15-a06c-6d16bc3f78db",
   "metadata": {},
   "outputs": [
    {
     "name": "stdout",
     "output_type": "stream",
     "text": [
      "\n",
      "    SELECT\n",
      "        original_column,\n",
      "        ML.NGRAMS(original_column, [2, 4]) AS ngram_column\n",
      "    FROM\n",
      "        (SELECT ['a', 'b', 'c', 'd'] as original_column)\n",
      "\n"
     ]
    }
   ],
   "source": [
    "query = f\"\"\"\n",
    "    SELECT\n",
    "        original_column,\n",
    "        ML.NGRAMS(original_column, [2, 4]) AS ngram_column\n",
    "    FROM\n",
    "        (SELECT ['a', 'b', 'c', 'd'] as original_column)\n",
    "\"\"\"\n",
    "print(query)"
   ]
  },
  {
   "cell_type": "code",
   "execution_count": 15,
   "id": "dfee0cad-f37d-4959-b7dd-55208c3dced1",
   "metadata": {},
   "outputs": [
    {
     "data": {
      "text/html": [
       "<div>\n",
       "<style scoped>\n",
       "    .dataframe tbody tr th:only-of-type {\n",
       "        vertical-align: middle;\n",
       "    }\n",
       "\n",
       "    .dataframe tbody tr th {\n",
       "        vertical-align: top;\n",
       "    }\n",
       "\n",
       "    .dataframe thead th {\n",
       "        text-align: right;\n",
       "    }\n",
       "</style>\n",
       "<table border=\"1\" class=\"dataframe\">\n",
       "  <thead>\n",
       "    <tr style=\"text-align: right;\">\n",
       "      <th></th>\n",
       "      <th>original_column</th>\n",
       "      <th>ngram_column</th>\n",
       "    </tr>\n",
       "  </thead>\n",
       "  <tbody>\n",
       "    <tr>\n",
       "      <th>0</th>\n",
       "      <td>[a, b, c, d]</td>\n",
       "      <td>[a b, a b c, a b c d, b c, b c d, c d]</td>\n",
       "    </tr>\n",
       "  </tbody>\n",
       "</table>\n",
       "</div>"
      ],
      "text/plain": [
       "  original_column                            ngram_column\n",
       "0    [a, b, c, d]  [a b, a b c, a b c d, b c, b c d, c d]"
      ]
     },
     "execution_count": 15,
     "metadata": {},
     "output_type": "execute_result"
    }
   ],
   "source": [
    "df = bq.query(query = query).to_dataframe()\n",
    "df"
   ]
  },
  {
   "cell_type": "code",
   "execution_count": 16,
   "id": "a8e898aa-dba4-4126-ac9a-792dced4a41f",
   "metadata": {},
   "outputs": [
    {
     "data": {
      "text/plain": [
       "original_column                              [a, b, c, d]\n",
       "ngram_column       [a b, a b c, a b c d, b c, b c d, c d]\n",
       "Name: 0, dtype: object"
      ]
     },
     "execution_count": 16,
     "metadata": {},
     "output_type": "execute_result"
    }
   ],
   "source": [
    "df.iloc[-1]"
   ]
  },
  {
   "cell_type": "markdown",
   "id": "dfc2d3c3-519f-4536-b475-a1250d6db091",
   "metadata": {},
   "source": [
    "### ML.QUANTILE_BUCKATIZE\n",
    "\n",
    "Given a column of numerical values this function creates a new column with bucketed values named with the value of the quantile based on the input number of buckets.\n",
    "- [Reference](https://cloud.google.com/bigquery-ml/docs/reference/standard-sql/bigqueryml-preprocessing-functions#quantile_bucketize)\n",
    "- Is exportable when used in `TRANSFORM` clause"
   ]
  },
  {
   "cell_type": "code",
   "execution_count": 17,
   "id": "7bd93b7c-2e3c-4cdf-8927-e7675a909ebc",
   "metadata": {},
   "outputs": [
    {
     "name": "stdout",
     "output_type": "stream",
     "text": [
      "\n",
      "    SELECT\n",
      "        original_column,\n",
      "        ML.QUANTILE_BUCKETIZE(original_column, 3) OVER() AS bucketed_column\n",
      "    FROM\n",
      "        UNNEST([1, 1, 1, 2, 2, 3, 3, 3]) as original_column\n",
      "    ORDER BY original_column\n",
      "\n"
     ]
    }
   ],
   "source": [
    "query = f\"\"\"\n",
    "    SELECT\n",
    "        original_column,\n",
    "        ML.QUANTILE_BUCKETIZE(original_column, 3) OVER() AS bucketed_column\n",
    "    FROM\n",
    "        UNNEST([1, 1, 1, 2, 2, 3, 3, 3]) as original_column\n",
    "    ORDER BY original_column\n",
    "\"\"\"\n",
    "print(query)"
   ]
  },
  {
   "cell_type": "code",
   "execution_count": 18,
   "id": "dc5d6ef7-cf69-4a5f-b3e9-52dacb54c0c7",
   "metadata": {},
   "outputs": [
    {
     "data": {
      "text/html": [
       "<div>\n",
       "<style scoped>\n",
       "    .dataframe tbody tr th:only-of-type {\n",
       "        vertical-align: middle;\n",
       "    }\n",
       "\n",
       "    .dataframe tbody tr th {\n",
       "        vertical-align: top;\n",
       "    }\n",
       "\n",
       "    .dataframe thead th {\n",
       "        text-align: right;\n",
       "    }\n",
       "</style>\n",
       "<table border=\"1\" class=\"dataframe\">\n",
       "  <thead>\n",
       "    <tr style=\"text-align: right;\">\n",
       "      <th></th>\n",
       "      <th>original_column</th>\n",
       "      <th>bucketed_column</th>\n",
       "    </tr>\n",
       "  </thead>\n",
       "  <tbody>\n",
       "    <tr>\n",
       "      <th>0</th>\n",
       "      <td>1</td>\n",
       "      <td>bin_1</td>\n",
       "    </tr>\n",
       "    <tr>\n",
       "      <th>1</th>\n",
       "      <td>1</td>\n",
       "      <td>bin_1</td>\n",
       "    </tr>\n",
       "    <tr>\n",
       "      <th>2</th>\n",
       "      <td>1</td>\n",
       "      <td>bin_1</td>\n",
       "    </tr>\n",
       "    <tr>\n",
       "      <th>3</th>\n",
       "      <td>2</td>\n",
       "      <td>bin_1</td>\n",
       "    </tr>\n",
       "    <tr>\n",
       "      <th>4</th>\n",
       "      <td>2</td>\n",
       "      <td>bin_1</td>\n",
       "    </tr>\n",
       "    <tr>\n",
       "      <th>5</th>\n",
       "      <td>3</td>\n",
       "      <td>bin_2</td>\n",
       "    </tr>\n",
       "    <tr>\n",
       "      <th>6</th>\n",
       "      <td>3</td>\n",
       "      <td>bin_2</td>\n",
       "    </tr>\n",
       "    <tr>\n",
       "      <th>7</th>\n",
       "      <td>3</td>\n",
       "      <td>bin_2</td>\n",
       "    </tr>\n",
       "  </tbody>\n",
       "</table>\n",
       "</div>"
      ],
      "text/plain": [
       "   original_column bucketed_column\n",
       "0                1           bin_1\n",
       "1                1           bin_1\n",
       "2                1           bin_1\n",
       "3                2           bin_1\n",
       "4                2           bin_1\n",
       "5                3           bin_2\n",
       "6                3           bin_2\n",
       "7                3           bin_2"
      ]
     },
     "execution_count": 18,
     "metadata": {},
     "output_type": "execute_result"
    }
   ],
   "source": [
    "df = bq.query(query = query).to_dataframe()\n",
    "df"
   ]
  },
  {
   "cell_type": "markdown",
   "id": "5ec75312-e315-47e5-bbad-ebca4b8cee39",
   "metadata": {},
   "source": [
    "### ML.HASH_BUCKATIZE\n",
    "\n",
    "Given a column of string values this function will hash the values as a new column.  If a bucket size > 0 provided it will take the mod of the hash: remainder of the hash divided by bucket size as the bucket number.\n",
    "- [Reference](https://cloud.google.com/bigquery-ml/docs/reference/standard-sql/bigqueryml-preprocessing-functions#hash_bucketize)\n",
    "- Is exportabled when used in `TRANFORM` clause"
   ]
  },
  {
   "cell_type": "code",
   "execution_count": 19,
   "id": "016c70d7-be6e-4235-8700-56a76365bdde",
   "metadata": {},
   "outputs": [
    {
     "name": "stdout",
     "output_type": "stream",
     "text": [
      "\n",
      "    SELECT\n",
      "        original_column,\n",
      "        ML.HASH_BUCKETIZE(original_column, 0) AS hash_column,\n",
      "        ML.HASH_BUCKETIZE(original_column, 3) AS bucketed_column\n",
      "    FROM\n",
      "        UNNEST(['a', 'b', 'c', 'd', 'e', 'f', 'g', 'h', 'i']) as original_column\n",
      "\n"
     ]
    }
   ],
   "source": [
    "query = f\"\"\"\n",
    "    SELECT\n",
    "        original_column,\n",
    "        ML.HASH_BUCKETIZE(original_column, 0) AS hash_column,\n",
    "        ML.HASH_BUCKETIZE(original_column, 3) AS bucketed_column\n",
    "    FROM\n",
    "        UNNEST(['a', 'b', 'c', 'd', 'e', 'f', 'g', 'h', 'i']) as original_column\n",
    "\"\"\"\n",
    "print(query)"
   ]
  },
  {
   "cell_type": "code",
   "execution_count": 20,
   "id": "524d1450-1cb6-4ce3-b4fd-010b0674755f",
   "metadata": {},
   "outputs": [
    {
     "data": {
      "text/html": [
       "<div>\n",
       "<style scoped>\n",
       "    .dataframe tbody tr th:only-of-type {\n",
       "        vertical-align: middle;\n",
       "    }\n",
       "\n",
       "    .dataframe tbody tr th {\n",
       "        vertical-align: top;\n",
       "    }\n",
       "\n",
       "    .dataframe thead th {\n",
       "        text-align: right;\n",
       "    }\n",
       "</style>\n",
       "<table border=\"1\" class=\"dataframe\">\n",
       "  <thead>\n",
       "    <tr style=\"text-align: right;\">\n",
       "      <th></th>\n",
       "      <th>original_column</th>\n",
       "      <th>hash_column</th>\n",
       "      <th>bucketed_column</th>\n",
       "    </tr>\n",
       "  </thead>\n",
       "  <tbody>\n",
       "    <tr>\n",
       "      <th>0</th>\n",
       "      <td>a</td>\n",
       "      <td>-5528939962900187677</td>\n",
       "      <td>0</td>\n",
       "    </tr>\n",
       "    <tr>\n",
       "      <th>1</th>\n",
       "      <td>b</td>\n",
       "      <td>-6651148003232386794</td>\n",
       "      <td>1</td>\n",
       "    </tr>\n",
       "    <tr>\n",
       "      <th>2</th>\n",
       "      <td>c</td>\n",
       "      <td>-7016299626566550744</td>\n",
       "      <td>1</td>\n",
       "    </tr>\n",
       "    <tr>\n",
       "      <th>3</th>\n",
       "      <td>d</td>\n",
       "      <td>4470636696479570465</td>\n",
       "      <td>2</td>\n",
       "    </tr>\n",
       "    <tr>\n",
       "      <th>4</th>\n",
       "      <td>e</td>\n",
       "      <td>-3078673838733201075</td>\n",
       "      <td>1</td>\n",
       "    </tr>\n",
       "    <tr>\n",
       "      <th>5</th>\n",
       "      <td>f</td>\n",
       "      <td>-1522288349254903624</td>\n",
       "      <td>0</td>\n",
       "    </tr>\n",
       "    <tr>\n",
       "      <th>6</th>\n",
       "      <td>g</td>\n",
       "      <td>4940667224093463419</td>\n",
       "      <td>2</td>\n",
       "    </tr>\n",
       "    <tr>\n",
       "      <th>7</th>\n",
       "      <td>h</td>\n",
       "      <td>-2585402310428948559</td>\n",
       "      <td>1</td>\n",
       "    </tr>\n",
       "    <tr>\n",
       "      <th>8</th>\n",
       "      <td>i</td>\n",
       "      <td>-9189916281559197516</td>\n",
       "      <td>1</td>\n",
       "    </tr>\n",
       "  </tbody>\n",
       "</table>\n",
       "</div>"
      ],
      "text/plain": [
       "  original_column          hash_column  bucketed_column\n",
       "0               a -5528939962900187677                0\n",
       "1               b -6651148003232386794                1\n",
       "2               c -7016299626566550744                1\n",
       "3               d  4470636696479570465                2\n",
       "4               e -3078673838733201075                1\n",
       "5               f -1522288349254903624                0\n",
       "6               g  4940667224093463419                2\n",
       "7               h -2585402310428948559                1\n",
       "8               i -9189916281559197516                1"
      ]
     },
     "execution_count": 20,
     "metadata": {},
     "output_type": "execute_result"
    }
   ],
   "source": [
    "df = bq.query(query = query).to_dataframe()\n",
    "df"
   ]
  },
  {
   "cell_type": "markdown",
   "id": "39dea489-84cc-455c-9380-98467dd859e3",
   "metadata": {},
   "source": [
    "### ML.MIN_MAX_SCALER\n",
    "\n",
    "Given a column of numerical value this function will scale the value to the range [0, 1] and cap data at either 0 or 1.  When used with the `TRANSFORM` statement of a `CREATE MODEL` this will also apply to `ML.PREDICT` and cap inputs to 0 or 1.\n",
    "- [Reference](https://cloud.google.com/bigquery-ml/docs/reference/standard-sql/bigqueryml-preprocessing-functions#mlmin_max_scaler)\n",
    "- Is exportabled when used in `TRANFORM` clause"
   ]
  },
  {
   "cell_type": "code",
   "execution_count": 21,
   "id": "841b75b5-abb2-4371-aa55-efabfdf14769",
   "metadata": {},
   "outputs": [
    {
     "name": "stdout",
     "output_type": "stream",
     "text": [
      "\n",
      "    SELECT\n",
      "        original_column,\n",
      "        ML.MIN_MAX_SCALER(original_column) OVER() AS scale_column\n",
      "    FROM\n",
      "        UNNEST([0, 1, 2, 3, 4, 5, 6, 7, 8, 9, 10]) as original_column\n",
      "    ORDER BY original_column\n",
      "\n"
     ]
    }
   ],
   "source": [
    "query = f\"\"\"\n",
    "    SELECT\n",
    "        original_column,\n",
    "        ML.MIN_MAX_SCALER(original_column) OVER() AS scale_column\n",
    "    FROM\n",
    "        UNNEST([0, 1, 2, 3, 4, 5, 6, 7, 8, 9, 10]) as original_column\n",
    "    ORDER BY original_column\n",
    "\"\"\"\n",
    "print(query)"
   ]
  },
  {
   "cell_type": "code",
   "execution_count": 22,
   "id": "f4bedad2-e0b9-4ff2-9d1f-f0b9e569a967",
   "metadata": {},
   "outputs": [
    {
     "data": {
      "text/html": [
       "<div>\n",
       "<style scoped>\n",
       "    .dataframe tbody tr th:only-of-type {\n",
       "        vertical-align: middle;\n",
       "    }\n",
       "\n",
       "    .dataframe tbody tr th {\n",
       "        vertical-align: top;\n",
       "    }\n",
       "\n",
       "    .dataframe thead th {\n",
       "        text-align: right;\n",
       "    }\n",
       "</style>\n",
       "<table border=\"1\" class=\"dataframe\">\n",
       "  <thead>\n",
       "    <tr style=\"text-align: right;\">\n",
       "      <th></th>\n",
       "      <th>original_column</th>\n",
       "      <th>scale_column</th>\n",
       "    </tr>\n",
       "  </thead>\n",
       "  <tbody>\n",
       "    <tr>\n",
       "      <th>0</th>\n",
       "      <td>0</td>\n",
       "      <td>0.0</td>\n",
       "    </tr>\n",
       "    <tr>\n",
       "      <th>1</th>\n",
       "      <td>1</td>\n",
       "      <td>0.1</td>\n",
       "    </tr>\n",
       "    <tr>\n",
       "      <th>2</th>\n",
       "      <td>2</td>\n",
       "      <td>0.2</td>\n",
       "    </tr>\n",
       "    <tr>\n",
       "      <th>3</th>\n",
       "      <td>3</td>\n",
       "      <td>0.3</td>\n",
       "    </tr>\n",
       "    <tr>\n",
       "      <th>4</th>\n",
       "      <td>4</td>\n",
       "      <td>0.4</td>\n",
       "    </tr>\n",
       "    <tr>\n",
       "      <th>5</th>\n",
       "      <td>5</td>\n",
       "      <td>0.5</td>\n",
       "    </tr>\n",
       "    <tr>\n",
       "      <th>6</th>\n",
       "      <td>6</td>\n",
       "      <td>0.6</td>\n",
       "    </tr>\n",
       "    <tr>\n",
       "      <th>7</th>\n",
       "      <td>7</td>\n",
       "      <td>0.7</td>\n",
       "    </tr>\n",
       "    <tr>\n",
       "      <th>8</th>\n",
       "      <td>8</td>\n",
       "      <td>0.8</td>\n",
       "    </tr>\n",
       "    <tr>\n",
       "      <th>9</th>\n",
       "      <td>9</td>\n",
       "      <td>0.9</td>\n",
       "    </tr>\n",
       "    <tr>\n",
       "      <th>10</th>\n",
       "      <td>10</td>\n",
       "      <td>1.0</td>\n",
       "    </tr>\n",
       "  </tbody>\n",
       "</table>\n",
       "</div>"
      ],
      "text/plain": [
       "    original_column  scale_column\n",
       "0                 0           0.0\n",
       "1                 1           0.1\n",
       "2                 2           0.2\n",
       "3                 3           0.3\n",
       "4                 4           0.4\n",
       "5                 5           0.5\n",
       "6                 6           0.6\n",
       "7                 7           0.7\n",
       "8                 8           0.8\n",
       "9                 9           0.9\n",
       "10               10           1.0"
      ]
     },
     "execution_count": 22,
     "metadata": {},
     "output_type": "execute_result"
    }
   ],
   "source": [
    "df = bq.query(query = query).to_dataframe()\n",
    "df"
   ]
  },
  {
   "cell_type": "markdown",
   "id": "63141a22-785d-45c0-9595-d5d31896f998",
   "metadata": {},
   "source": [
    "### ML.STANDARD_SCALER\n",
    "\n",
    "Given a column of numerical value this function will standardize the values by subtracting the `MEAN` and dividing by the `STDDEV`.  When used with the `TRANSFORM` statement of a `CREATE MODEL` this will also apply to `ML.PREDICT` and use the same values for `MEAN` and `STDDEV`.\n",
    "- [Reference](https://cloud.google.com/bigquery-ml/docs/reference/standard-sql/bigqueryml-preprocessing-functions#mlstandard_scaler)\n",
    "- Is exportabled when used in `TRANFORM` clause"
   ]
  },
  {
   "cell_type": "code",
   "execution_count": 23,
   "id": "d0d77c0f-92c7-4936-940a-80fdbbdc08b2",
   "metadata": {},
   "outputs": [
    {
     "name": "stdout",
     "output_type": "stream",
     "text": [
      "\n",
      "    SELECT\n",
      "        original_column,\n",
      "        ML.STANDARD_SCALER(original_column) OVER() AS scale_column\n",
      "    FROM\n",
      "        UNNEST([0, 1, 2, 3, 4, 5, 6, 7, 8, 9, 10]) as original_column\n",
      "    ORDER BY original_column\n",
      "\n"
     ]
    }
   ],
   "source": [
    "query = f\"\"\"\n",
    "    SELECT\n",
    "        original_column,\n",
    "        ML.STANDARD_SCALER(original_column) OVER() AS scale_column\n",
    "    FROM\n",
    "        UNNEST([0, 1, 2, 3, 4, 5, 6, 7, 8, 9, 10]) as original_column\n",
    "    ORDER BY original_column\n",
    "\"\"\"\n",
    "print(query)"
   ]
  },
  {
   "cell_type": "code",
   "execution_count": 24,
   "id": "c5d40f4c-2b28-48a9-abd6-fd11be7e623a",
   "metadata": {},
   "outputs": [
    {
     "data": {
      "text/html": [
       "<div>\n",
       "<style scoped>\n",
       "    .dataframe tbody tr th:only-of-type {\n",
       "        vertical-align: middle;\n",
       "    }\n",
       "\n",
       "    .dataframe tbody tr th {\n",
       "        vertical-align: top;\n",
       "    }\n",
       "\n",
       "    .dataframe thead th {\n",
       "        text-align: right;\n",
       "    }\n",
       "</style>\n",
       "<table border=\"1\" class=\"dataframe\">\n",
       "  <thead>\n",
       "    <tr style=\"text-align: right;\">\n",
       "      <th></th>\n",
       "      <th>original_column</th>\n",
       "      <th>scale_column</th>\n",
       "    </tr>\n",
       "  </thead>\n",
       "  <tbody>\n",
       "    <tr>\n",
       "      <th>0</th>\n",
       "      <td>0</td>\n",
       "      <td>-1.507557</td>\n",
       "    </tr>\n",
       "    <tr>\n",
       "      <th>1</th>\n",
       "      <td>1</td>\n",
       "      <td>-1.206045</td>\n",
       "    </tr>\n",
       "    <tr>\n",
       "      <th>2</th>\n",
       "      <td>2</td>\n",
       "      <td>-0.904534</td>\n",
       "    </tr>\n",
       "    <tr>\n",
       "      <th>3</th>\n",
       "      <td>3</td>\n",
       "      <td>-0.603023</td>\n",
       "    </tr>\n",
       "    <tr>\n",
       "      <th>4</th>\n",
       "      <td>4</td>\n",
       "      <td>-0.301511</td>\n",
       "    </tr>\n",
       "    <tr>\n",
       "      <th>5</th>\n",
       "      <td>5</td>\n",
       "      <td>0.000000</td>\n",
       "    </tr>\n",
       "    <tr>\n",
       "      <th>6</th>\n",
       "      <td>6</td>\n",
       "      <td>0.301511</td>\n",
       "    </tr>\n",
       "    <tr>\n",
       "      <th>7</th>\n",
       "      <td>7</td>\n",
       "      <td>0.603023</td>\n",
       "    </tr>\n",
       "    <tr>\n",
       "      <th>8</th>\n",
       "      <td>8</td>\n",
       "      <td>0.904534</td>\n",
       "    </tr>\n",
       "    <tr>\n",
       "      <th>9</th>\n",
       "      <td>9</td>\n",
       "      <td>1.206045</td>\n",
       "    </tr>\n",
       "    <tr>\n",
       "      <th>10</th>\n",
       "      <td>10</td>\n",
       "      <td>1.507557</td>\n",
       "    </tr>\n",
       "  </tbody>\n",
       "</table>\n",
       "</div>"
      ],
      "text/plain": [
       "    original_column  scale_column\n",
       "0                 0     -1.507557\n",
       "1                 1     -1.206045\n",
       "2                 2     -0.904534\n",
       "3                 3     -0.603023\n",
       "4                 4     -0.301511\n",
       "5                 5      0.000000\n",
       "6                 6      0.301511\n",
       "7                 7      0.603023\n",
       "8                 8      0.904534\n",
       "9                 9      1.206045\n",
       "10               10      1.507557"
      ]
     },
     "execution_count": 24,
     "metadata": {},
     "output_type": "execute_result"
    }
   ],
   "source": [
    "df = bq.query(query = query).to_dataframe()\n",
    "df"
   ]
  },
  {
   "cell_type": "markdown",
   "id": "58691506-7b69-43ce-b33b-013a4f40c411",
   "metadata": {},
   "source": [
    "### ML.MAX_ABS_SCALER\n",
    "\n",
    "Given a column of numerical value this function will scale the value to the range [-1, 1] by dividing by the maximum absolute value.\n",
    "- [Reference](https://cloud.google.com/bigquery-ml/docs/reference/standard-sql/bigqueryml-preprocessing-functions#mlmax_abs_scaler)\n",
    "- Is exportabled when used in `TRANFORM` clause"
   ]
  },
  {
   "cell_type": "code",
   "execution_count": 25,
   "id": "f961e951-7957-4dc3-9ccc-944490fd049d",
   "metadata": {},
   "outputs": [
    {
     "name": "stdout",
     "output_type": "stream",
     "text": [
      "\n",
      "    SELECT\n",
      "        original_column,\n",
      "        ML.MAX_ABS_SCALER(original_column) OVER() AS scale_column\n",
      "    FROM\n",
      "        UNNEST([0, -1, 2, -3, 4, -5, 6, -7, 8, -9, 10]) as original_column\n",
      "    ORDER BY original_column\n",
      "\n"
     ]
    }
   ],
   "source": [
    "query = f\"\"\"\n",
    "    SELECT\n",
    "        original_column,\n",
    "        ML.MAX_ABS_SCALER(original_column) OVER() AS scale_column\n",
    "    FROM\n",
    "        UNNEST([0, -1, 2, -3, 4, -5, 6, -7, 8, -9, 10]) as original_column\n",
    "    ORDER BY original_column\n",
    "\"\"\"\n",
    "print(query)"
   ]
  },
  {
   "cell_type": "code",
   "execution_count": 26,
   "id": "98c276a6-a8ac-4516-bc3b-a8b8ace3fd37",
   "metadata": {},
   "outputs": [
    {
     "data": {
      "text/html": [
       "<div>\n",
       "<style scoped>\n",
       "    .dataframe tbody tr th:only-of-type {\n",
       "        vertical-align: middle;\n",
       "    }\n",
       "\n",
       "    .dataframe tbody tr th {\n",
       "        vertical-align: top;\n",
       "    }\n",
       "\n",
       "    .dataframe thead th {\n",
       "        text-align: right;\n",
       "    }\n",
       "</style>\n",
       "<table border=\"1\" class=\"dataframe\">\n",
       "  <thead>\n",
       "    <tr style=\"text-align: right;\">\n",
       "      <th></th>\n",
       "      <th>original_column</th>\n",
       "      <th>scale_column</th>\n",
       "    </tr>\n",
       "  </thead>\n",
       "  <tbody>\n",
       "    <tr>\n",
       "      <th>0</th>\n",
       "      <td>-9</td>\n",
       "      <td>-0.9</td>\n",
       "    </tr>\n",
       "    <tr>\n",
       "      <th>1</th>\n",
       "      <td>-7</td>\n",
       "      <td>-0.7</td>\n",
       "    </tr>\n",
       "    <tr>\n",
       "      <th>2</th>\n",
       "      <td>-5</td>\n",
       "      <td>-0.5</td>\n",
       "    </tr>\n",
       "    <tr>\n",
       "      <th>3</th>\n",
       "      <td>-3</td>\n",
       "      <td>-0.3</td>\n",
       "    </tr>\n",
       "    <tr>\n",
       "      <th>4</th>\n",
       "      <td>-1</td>\n",
       "      <td>-0.1</td>\n",
       "    </tr>\n",
       "    <tr>\n",
       "      <th>5</th>\n",
       "      <td>0</td>\n",
       "      <td>0.0</td>\n",
       "    </tr>\n",
       "    <tr>\n",
       "      <th>6</th>\n",
       "      <td>2</td>\n",
       "      <td>0.2</td>\n",
       "    </tr>\n",
       "    <tr>\n",
       "      <th>7</th>\n",
       "      <td>4</td>\n",
       "      <td>0.4</td>\n",
       "    </tr>\n",
       "    <tr>\n",
       "      <th>8</th>\n",
       "      <td>6</td>\n",
       "      <td>0.6</td>\n",
       "    </tr>\n",
       "    <tr>\n",
       "      <th>9</th>\n",
       "      <td>8</td>\n",
       "      <td>0.8</td>\n",
       "    </tr>\n",
       "    <tr>\n",
       "      <th>10</th>\n",
       "      <td>10</td>\n",
       "      <td>1.0</td>\n",
       "    </tr>\n",
       "  </tbody>\n",
       "</table>\n",
       "</div>"
      ],
      "text/plain": [
       "    original_column  scale_column\n",
       "0                -9          -0.9\n",
       "1                -7          -0.7\n",
       "2                -5          -0.5\n",
       "3                -3          -0.3\n",
       "4                -1          -0.1\n",
       "5                 0           0.0\n",
       "6                 2           0.2\n",
       "7                 4           0.4\n",
       "8                 6           0.6\n",
       "9                 8           0.8\n",
       "10               10           1.0"
      ]
     },
     "execution_count": 26,
     "metadata": {},
     "output_type": "execute_result"
    }
   ],
   "source": [
    "df = bq.query(query = query).to_dataframe()\n",
    "df"
   ]
  },
  {
   "cell_type": "markdown",
   "id": "c342876d-821f-4fe2-9218-f0e147b43507",
   "metadata": {},
   "source": [
    "### ML.ROBUST_SCALER\n",
    "\n",
    "Given a column of numerical value this function will scale the values to the quantile range: \n",
    "- Specify the quantile range with parameter `quantile_range` which has a default value of `[25, 75]`.\n",
    "- Centering the data by removing (subtracing) the median with the parameter `with_median` which has default value of `TRUE` the removes median before scaling.\n",
    "- Scale to the quantile range with parameter `with_quantile_range` which as a default value of `TRUE`.\n",
    "   \n",
    "Resources:\n",
    "- [Reference](https://cloud.google.com/bigquery-ml/docs/reference/standard-sql/bigqueryml-preprocessing-functions#mlrobust_scaler)\n",
    "- Is exportabled when used in `TRANFORM` clause"
   ]
  },
  {
   "cell_type": "code",
   "execution_count": 27,
   "id": "89687505-d910-4f5a-8be5-5161fddecc16",
   "metadata": {},
   "outputs": [
    {
     "name": "stdout",
     "output_type": "stream",
     "text": [
      "\n",
      "    SELECT\n",
      "        original_column,\n",
      "        ML.ROBUST_SCALER(original_column) OVER() AS scale_column,\n",
      "        ML.ROBUST_SCALER(original_column, [25, 75], FALSE, TRUE) OVER() AS scale_column2,\n",
      "        ML.ROBUST_SCALER(original_column, [25, 75], TRUE, FALSE) OVER() AS scale_column3\n",
      "    FROM\n",
      "        UNNEST([0, 25, 50, 75, 100]) as original_column\n",
      "    ORDER BY original_column\n",
      "\n"
     ]
    }
   ],
   "source": [
    "query = f\"\"\"\n",
    "    SELECT\n",
    "        original_column,\n",
    "        ML.ROBUST_SCALER(original_column) OVER() AS scale_column,\n",
    "        ML.ROBUST_SCALER(original_column, [25, 75], FALSE, TRUE) OVER() AS scale_column2,\n",
    "        ML.ROBUST_SCALER(original_column, [25, 75], TRUE, FALSE) OVER() AS scale_column3\n",
    "    FROM\n",
    "        UNNEST([0, 25, 50, 75, 100]) as original_column\n",
    "    ORDER BY original_column\n",
    "\"\"\"\n",
    "print(query)"
   ]
  },
  {
   "cell_type": "code",
   "execution_count": 28,
   "id": "4093f73e-f1e8-4f56-afa8-4fa685a3f470",
   "metadata": {},
   "outputs": [
    {
     "data": {
      "text/html": [
       "<div>\n",
       "<style scoped>\n",
       "    .dataframe tbody tr th:only-of-type {\n",
       "        vertical-align: middle;\n",
       "    }\n",
       "\n",
       "    .dataframe tbody tr th {\n",
       "        vertical-align: top;\n",
       "    }\n",
       "\n",
       "    .dataframe thead th {\n",
       "        text-align: right;\n",
       "    }\n",
       "</style>\n",
       "<table border=\"1\" class=\"dataframe\">\n",
       "  <thead>\n",
       "    <tr style=\"text-align: right;\">\n",
       "      <th></th>\n",
       "      <th>original_column</th>\n",
       "      <th>scale_column</th>\n",
       "      <th>scale_column2</th>\n",
       "      <th>scale_column3</th>\n",
       "    </tr>\n",
       "  </thead>\n",
       "  <tbody>\n",
       "    <tr>\n",
       "      <th>0</th>\n",
       "      <td>0</td>\n",
       "      <td>-1.0</td>\n",
       "      <td>0.0</td>\n",
       "      <td>-50.0</td>\n",
       "    </tr>\n",
       "    <tr>\n",
       "      <th>1</th>\n",
       "      <td>25</td>\n",
       "      <td>-0.5</td>\n",
       "      <td>0.5</td>\n",
       "      <td>-25.0</td>\n",
       "    </tr>\n",
       "    <tr>\n",
       "      <th>2</th>\n",
       "      <td>50</td>\n",
       "      <td>0.0</td>\n",
       "      <td>1.0</td>\n",
       "      <td>0.0</td>\n",
       "    </tr>\n",
       "    <tr>\n",
       "      <th>3</th>\n",
       "      <td>75</td>\n",
       "      <td>0.5</td>\n",
       "      <td>1.5</td>\n",
       "      <td>25.0</td>\n",
       "    </tr>\n",
       "    <tr>\n",
       "      <th>4</th>\n",
       "      <td>100</td>\n",
       "      <td>1.0</td>\n",
       "      <td>2.0</td>\n",
       "      <td>50.0</td>\n",
       "    </tr>\n",
       "  </tbody>\n",
       "</table>\n",
       "</div>"
      ],
      "text/plain": [
       "   original_column  scale_column  scale_column2  scale_column3\n",
       "0                0          -1.0            0.0          -50.0\n",
       "1               25          -0.5            0.5          -25.0\n",
       "2               50           0.0            1.0            0.0\n",
       "3               75           0.5            1.5           25.0\n",
       "4              100           1.0            2.0           50.0"
      ]
     },
     "execution_count": 28,
     "metadata": {},
     "output_type": "execute_result"
    }
   ],
   "source": [
    "df = bq.query(query = query).to_dataframe()\n",
    "df"
   ]
  },
  {
   "cell_type": "markdown",
   "id": "e0af0b67-c61a-479f-ac12-9812026a9580",
   "metadata": {},
   "source": [
    "### ML.NORMALIZER\n",
    "\n",
    "Given a column of numerical arrays this function will normalize the arrays to have unit norm with given p-norm (parameter `p` has default = 2 and takes values 0, +inf, >= 1.\n",
    "- [Reference](https://cloud.google.com/bigquery-ml/docs/reference/standard-sql/bigqueryml-preprocessing-functions#mlnormalizer)"
   ]
  },
  {
   "cell_type": "code",
   "execution_count": 29,
   "id": "4f46e5aa-bf72-4e84-8cc0-3dd62abb0d32",
   "metadata": {},
   "outputs": [
    {
     "name": "stdout",
     "output_type": "stream",
     "text": [
      "\n",
      "    SELECT\n",
      "        original_column,\n",
      "        ML.NORMALIZER(original_column) AS norm_2,\n",
      "        ML.NORMALIZER(original_column, 1) AS norm_1,\n",
      "        ML.NORMALIZER(original_column, 0) AS norm_0\n",
      "    FROM\n",
      "        (SELECT [1, 2, 3, 4, 5] as original_column)\n",
      "\n"
     ]
    }
   ],
   "source": [
    "query = f\"\"\"\n",
    "    SELECT\n",
    "        original_column,\n",
    "        ML.NORMALIZER(original_column) AS norm_2,\n",
    "        ML.NORMALIZER(original_column, 1) AS norm_1,\n",
    "        ML.NORMALIZER(original_column, 0) AS norm_0\n",
    "    FROM\n",
    "        (SELECT [1, 2, 3, 4, 5] as original_column)\n",
    "\"\"\"\n",
    "print(query)"
   ]
  },
  {
   "cell_type": "code",
   "execution_count": 30,
   "id": "d69c20f6-7612-4c70-9eb3-29e72faa0d01",
   "metadata": {},
   "outputs": [
    {
     "data": {
      "text/html": [
       "<div>\n",
       "<style scoped>\n",
       "    .dataframe tbody tr th:only-of-type {\n",
       "        vertical-align: middle;\n",
       "    }\n",
       "\n",
       "    .dataframe tbody tr th {\n",
       "        vertical-align: top;\n",
       "    }\n",
       "\n",
       "    .dataframe thead th {\n",
       "        text-align: right;\n",
       "    }\n",
       "</style>\n",
       "<table border=\"1\" class=\"dataframe\">\n",
       "  <thead>\n",
       "    <tr style=\"text-align: right;\">\n",
       "      <th></th>\n",
       "      <th>original_column</th>\n",
       "      <th>norm_2</th>\n",
       "      <th>norm_1</th>\n",
       "      <th>norm_0</th>\n",
       "    </tr>\n",
       "  </thead>\n",
       "  <tbody>\n",
       "    <tr>\n",
       "      <th>0</th>\n",
       "      <td>[1, 2, 3, 4, 5]</td>\n",
       "      <td>[0.13483997249264842, 0.26967994498529685, 0.4...</td>\n",
       "      <td>[0.06666666666666667, 0.13333333333333333, 0.2...</td>\n",
       "      <td>[0.2, 0.4, 0.6, 0.8, 1.0]</td>\n",
       "    </tr>\n",
       "  </tbody>\n",
       "</table>\n",
       "</div>"
      ],
      "text/plain": [
       "   original_column                                             norm_2  \\\n",
       "0  [1, 2, 3, 4, 5]  [0.13483997249264842, 0.26967994498529685, 0.4...   \n",
       "\n",
       "                                              norm_1  \\\n",
       "0  [0.06666666666666667, 0.13333333333333333, 0.2...   \n",
       "\n",
       "                      norm_0  \n",
       "0  [0.2, 0.4, 0.6, 0.8, 1.0]  "
      ]
     },
     "execution_count": 30,
     "metadata": {},
     "output_type": "execute_result"
    }
   ],
   "source": [
    "df = bq.query(query = query).to_dataframe()\n",
    "df"
   ]
  },
  {
   "cell_type": "code",
   "execution_count": 31,
   "id": "55ae1f17-c332-4825-ae84-9c2c8c1c1a5b",
   "metadata": {},
   "outputs": [
    {
     "data": {
      "text/plain": [
       "array([0.13483997, 0.26967994, 0.40451992, 0.53935989, 0.67419986])"
      ]
     },
     "execution_count": 31,
     "metadata": {},
     "output_type": "execute_result"
    }
   ],
   "source": [
    "df['norm_2'].iloc[-1]"
   ]
  },
  {
   "cell_type": "markdown",
   "id": "a0fd9f08-7bb1-4478-beff-0b01260fbfe5",
   "metadata": {},
   "source": [
    "### ML.IMPUTER\n",
    "\n",
    "Given a column, numerical or categorical (string), the function replaces `NULL` values with the value specified by the paramter `strategy`:\n",
    "- 'mean' uses the mean (only for numerical columns)\n",
    "- 'median' uses the median (only for numerical columns)\n",
    "- 'most_frequent' uses the mode\n",
    "\n",
    "[Reference](https://cloud.google.com/bigquery-ml/docs/reference/standard-sql/bigqueryml-preprocessing-functions#mlimputer)"
   ]
  },
  {
   "cell_type": "code",
   "execution_count": 32,
   "id": "d36ba039-db49-4c1c-b488-2faf01f89c35",
   "metadata": {},
   "outputs": [
    {
     "name": "stdout",
     "output_type": "stream",
     "text": [
      "\n",
      "    SELECT\n",
      "        num_column,\n",
      "        ML.IMPUTER(num_column, 'mean') OVER() AS num_imputed_mean,\n",
      "        ML.IMPUTER(num_column, 'median') OVER() AS num_imputed_median,\n",
      "        ML.IMPUTER(num_column, 'most_frequent') OVER() AS num_imputed_mode,\n",
      "        string_column,\n",
      "        ML.IMPUTER(string_column, 'most_frequent') OVER() AS string_imputed_mode,\n",
      "    FROM\n",
      "        UNNEST([1, 1, 2, 3, 4, 5, NULL]) AS num_column WITH OFFSET pos1,\n",
      "        UNNEST(['a', 'a', 'b', 'c', 'd', 'e', NULL]) AS string_column WITH OFFSET pos2\n",
      "    WHERE pos1 = pos2\n",
      "    ORDER BY num_column\n",
      "\n"
     ]
    }
   ],
   "source": [
    "query = f\"\"\"\n",
    "    SELECT\n",
    "        num_column,\n",
    "        ML.IMPUTER(num_column, 'mean') OVER() AS num_imputed_mean,\n",
    "        ML.IMPUTER(num_column, 'median') OVER() AS num_imputed_median,\n",
    "        ML.IMPUTER(num_column, 'most_frequent') OVER() AS num_imputed_mode,\n",
    "        string_column,\n",
    "        ML.IMPUTER(string_column, 'most_frequent') OVER() AS string_imputed_mode,\n",
    "    FROM\n",
    "        UNNEST([1, 1, 2, 3, 4, 5, NULL]) AS num_column WITH OFFSET pos1,\n",
    "        UNNEST(['a', 'a', 'b', 'c', 'd', 'e', NULL]) AS string_column WITH OFFSET pos2\n",
    "    WHERE pos1 = pos2\n",
    "    ORDER BY num_column\n",
    "\"\"\"\n",
    "print(query)"
   ]
  },
  {
   "cell_type": "code",
   "execution_count": 33,
   "id": "950b37f7-6db9-4c31-9989-16fb007bdcae",
   "metadata": {},
   "outputs": [
    {
     "data": {
      "text/html": [
       "<div>\n",
       "<style scoped>\n",
       "    .dataframe tbody tr th:only-of-type {\n",
       "        vertical-align: middle;\n",
       "    }\n",
       "\n",
       "    .dataframe tbody tr th {\n",
       "        vertical-align: top;\n",
       "    }\n",
       "\n",
       "    .dataframe thead th {\n",
       "        text-align: right;\n",
       "    }\n",
       "</style>\n",
       "<table border=\"1\" class=\"dataframe\">\n",
       "  <thead>\n",
       "    <tr style=\"text-align: right;\">\n",
       "      <th></th>\n",
       "      <th>num_column</th>\n",
       "      <th>num_imputed_mean</th>\n",
       "      <th>num_imputed_median</th>\n",
       "      <th>num_imputed_mode</th>\n",
       "      <th>string_column</th>\n",
       "      <th>string_imputed_mode</th>\n",
       "    </tr>\n",
       "  </thead>\n",
       "  <tbody>\n",
       "    <tr>\n",
       "      <th>0</th>\n",
       "      <td>NaN</td>\n",
       "      <td>2.666667</td>\n",
       "      <td>2.0</td>\n",
       "      <td>1.0</td>\n",
       "      <td>None</td>\n",
       "      <td>a</td>\n",
       "    </tr>\n",
       "    <tr>\n",
       "      <th>1</th>\n",
       "      <td>1.0</td>\n",
       "      <td>1.000000</td>\n",
       "      <td>1.0</td>\n",
       "      <td>1.0</td>\n",
       "      <td>a</td>\n",
       "      <td>a</td>\n",
       "    </tr>\n",
       "    <tr>\n",
       "      <th>2</th>\n",
       "      <td>1.0</td>\n",
       "      <td>1.000000</td>\n",
       "      <td>1.0</td>\n",
       "      <td>1.0</td>\n",
       "      <td>a</td>\n",
       "      <td>a</td>\n",
       "    </tr>\n",
       "    <tr>\n",
       "      <th>3</th>\n",
       "      <td>2.0</td>\n",
       "      <td>2.000000</td>\n",
       "      <td>2.0</td>\n",
       "      <td>2.0</td>\n",
       "      <td>b</td>\n",
       "      <td>b</td>\n",
       "    </tr>\n",
       "    <tr>\n",
       "      <th>4</th>\n",
       "      <td>3.0</td>\n",
       "      <td>3.000000</td>\n",
       "      <td>3.0</td>\n",
       "      <td>3.0</td>\n",
       "      <td>c</td>\n",
       "      <td>c</td>\n",
       "    </tr>\n",
       "    <tr>\n",
       "      <th>5</th>\n",
       "      <td>4.0</td>\n",
       "      <td>4.000000</td>\n",
       "      <td>4.0</td>\n",
       "      <td>4.0</td>\n",
       "      <td>d</td>\n",
       "      <td>d</td>\n",
       "    </tr>\n",
       "    <tr>\n",
       "      <th>6</th>\n",
       "      <td>5.0</td>\n",
       "      <td>5.000000</td>\n",
       "      <td>5.0</td>\n",
       "      <td>5.0</td>\n",
       "      <td>e</td>\n",
       "      <td>e</td>\n",
       "    </tr>\n",
       "  </tbody>\n",
       "</table>\n",
       "</div>"
      ],
      "text/plain": [
       "   num_column  num_imputed_mean  num_imputed_median  num_imputed_mode  \\\n",
       "0         NaN          2.666667                 2.0               1.0   \n",
       "1         1.0          1.000000                 1.0               1.0   \n",
       "2         1.0          1.000000                 1.0               1.0   \n",
       "3         2.0          2.000000                 2.0               2.0   \n",
       "4         3.0          3.000000                 3.0               3.0   \n",
       "5         4.0          4.000000                 4.0               4.0   \n",
       "6         5.0          5.000000                 5.0               5.0   \n",
       "\n",
       "  string_column string_imputed_mode  \n",
       "0          None                   a  \n",
       "1             a                   a  \n",
       "2             a                   a  \n",
       "3             b                   b  \n",
       "4             c                   c  \n",
       "5             d                   d  \n",
       "6             e                   e  "
      ]
     },
     "execution_count": 33,
     "metadata": {},
     "output_type": "execute_result"
    }
   ],
   "source": [
    "df = bq.query(query = query).to_dataframe()\n",
    "df"
   ]
  },
  {
   "cell_type": "markdown",
   "id": "6488f90b-82a6-4dea-ae92-768138eee81a",
   "metadata": {},
   "source": [
    "### ML.ONE_HOT_ENCODER\n",
    "\n",
    "Given a string column this function will one-hot encode the values in the column after sorting alphabetically.  Any `NULL` or dropped values will be encoded with `0`.\n",
    "- `drop` takes values 'most_frequent' for dummy encoding or 'none' (default)\n",
    "- `top_k` takes an integer value that specifies the limit on the number of categories to encode based on frequency (default is 1 million, also the max).\n",
    "- `frequency_threshold` takes an integer value that specifies that minimum frequency to be encoded (default = 0)\n",
    "\n",
    "[Reference](https://cloud.google.com/bigquery-ml/docs/reference/standard-sql/bigqueryml-preprocessing-functions#mlone_hot_encoder)"
   ]
  },
  {
   "cell_type": "code",
   "execution_count": 34,
   "id": "95712145-ab1b-44e3-9e3f-d2b7cc5ddc4d",
   "metadata": {},
   "outputs": [
    {
     "name": "stdout",
     "output_type": "stream",
     "text": [
      "\n",
      "    SELECT\n",
      "        original_column,\n",
      "        ML.ONE_HOT_ENCODER(original_column) OVER() AS OHE_1,\n",
      "        ML.ONE_HOT_ENCODER(original_column, 'most_frequent') OVER() AS OHE_2,\n",
      "        ML.ONE_HOT_ENCODER(original_column, 'most_frequent', 3) OVER() AS OHE_3,\n",
      "        ML.ONE_HOT_ENCODER(original_column, 'most_frequent', 3, 3) OVER() AS OHE_4\n",
      "    FROM\n",
      "        UNNEST([NULL, 'a', 'b', 'b', 'c', 'c', 'c', 'd', 'd', 'd', 'd']) AS original_column\n",
      "    ORDER BY original_column\n",
      "\n"
     ]
    }
   ],
   "source": [
    "query = f\"\"\"\n",
    "    SELECT\n",
    "        original_column,\n",
    "        ML.ONE_HOT_ENCODER(original_column) OVER() AS OHE_1,\n",
    "        ML.ONE_HOT_ENCODER(original_column, 'most_frequent') OVER() AS OHE_2,\n",
    "        ML.ONE_HOT_ENCODER(original_column, 'most_frequent', 3) OVER() AS OHE_3,\n",
    "        ML.ONE_HOT_ENCODER(original_column, 'most_frequent', 3, 3) OVER() AS OHE_4\n",
    "    FROM\n",
    "        UNNEST([NULL, 'a', 'b', 'b', 'c', 'c', 'c', 'd', 'd', 'd', 'd']) AS original_column\n",
    "    ORDER BY original_column\n",
    "\"\"\"\n",
    "print(query)"
   ]
  },
  {
   "cell_type": "code",
   "execution_count": 35,
   "id": "505e8594-0f92-4d2e-b89c-ccfa81c246d2",
   "metadata": {},
   "outputs": [
    {
     "data": {
      "text/html": [
       "<div>\n",
       "<style scoped>\n",
       "    .dataframe tbody tr th:only-of-type {\n",
       "        vertical-align: middle;\n",
       "    }\n",
       "\n",
       "    .dataframe tbody tr th {\n",
       "        vertical-align: top;\n",
       "    }\n",
       "\n",
       "    .dataframe thead th {\n",
       "        text-align: right;\n",
       "    }\n",
       "</style>\n",
       "<table border=\"1\" class=\"dataframe\">\n",
       "  <thead>\n",
       "    <tr style=\"text-align: right;\">\n",
       "      <th></th>\n",
       "      <th>original_column</th>\n",
       "      <th>OHE_1</th>\n",
       "      <th>OHE_2</th>\n",
       "      <th>OHE_3</th>\n",
       "      <th>OHE_4</th>\n",
       "    </tr>\n",
       "  </thead>\n",
       "  <tbody>\n",
       "    <tr>\n",
       "      <th>0</th>\n",
       "      <td>None</td>\n",
       "      <td>[{'index': 0, 'value': 1.0}]</td>\n",
       "      <td>[{'index': 0, 'value': 1.0}]</td>\n",
       "      <td>[{'index': 0, 'value': 1.0}]</td>\n",
       "      <td>[{'index': 0, 'value': 1.0}]</td>\n",
       "    </tr>\n",
       "    <tr>\n",
       "      <th>1</th>\n",
       "      <td>a</td>\n",
       "      <td>[{'index': 1, 'value': 1.0}]</td>\n",
       "      <td>[{'index': 1, 'value': 1.0}]</td>\n",
       "      <td>[{'index': 0, 'value': 1.0}]</td>\n",
       "      <td>[{'index': 0, 'value': 1.0}]</td>\n",
       "    </tr>\n",
       "    <tr>\n",
       "      <th>2</th>\n",
       "      <td>b</td>\n",
       "      <td>[{'index': 2, 'value': 1.0}]</td>\n",
       "      <td>[{'index': 2, 'value': 1.0}]</td>\n",
       "      <td>[{'index': 1, 'value': 1.0}]</td>\n",
       "      <td>[{'index': 0, 'value': 1.0}]</td>\n",
       "    </tr>\n",
       "    <tr>\n",
       "      <th>3</th>\n",
       "      <td>b</td>\n",
       "      <td>[{'index': 2, 'value': 1.0}]</td>\n",
       "      <td>[{'index': 2, 'value': 1.0}]</td>\n",
       "      <td>[{'index': 1, 'value': 1.0}]</td>\n",
       "      <td>[{'index': 0, 'value': 1.0}]</td>\n",
       "    </tr>\n",
       "    <tr>\n",
       "      <th>4</th>\n",
       "      <td>c</td>\n",
       "      <td>[{'index': 3, 'value': 1.0}]</td>\n",
       "      <td>[{'index': 3, 'value': 1.0}]</td>\n",
       "      <td>[{'index': 2, 'value': 1.0}]</td>\n",
       "      <td>[{'index': 1, 'value': 1.0}]</td>\n",
       "    </tr>\n",
       "    <tr>\n",
       "      <th>5</th>\n",
       "      <td>c</td>\n",
       "      <td>[{'index': 3, 'value': 1.0}]</td>\n",
       "      <td>[{'index': 3, 'value': 1.0}]</td>\n",
       "      <td>[{'index': 2, 'value': 1.0}]</td>\n",
       "      <td>[{'index': 1, 'value': 1.0}]</td>\n",
       "    </tr>\n",
       "    <tr>\n",
       "      <th>6</th>\n",
       "      <td>c</td>\n",
       "      <td>[{'index': 3, 'value': 1.0}]</td>\n",
       "      <td>[{'index': 3, 'value': 1.0}]</td>\n",
       "      <td>[{'index': 2, 'value': 1.0}]</td>\n",
       "      <td>[{'index': 1, 'value': 1.0}]</td>\n",
       "    </tr>\n",
       "    <tr>\n",
       "      <th>7</th>\n",
       "      <td>d</td>\n",
       "      <td>[{'index': 4, 'value': 1.0}]</td>\n",
       "      <td>[{'index': 4, 'value': 0.0}]</td>\n",
       "      <td>[{'index': 3, 'value': 0.0}]</td>\n",
       "      <td>[{'index': 2, 'value': 0.0}]</td>\n",
       "    </tr>\n",
       "    <tr>\n",
       "      <th>8</th>\n",
       "      <td>d</td>\n",
       "      <td>[{'index': 4, 'value': 1.0}]</td>\n",
       "      <td>[{'index': 4, 'value': 0.0}]</td>\n",
       "      <td>[{'index': 3, 'value': 0.0}]</td>\n",
       "      <td>[{'index': 2, 'value': 0.0}]</td>\n",
       "    </tr>\n",
       "    <tr>\n",
       "      <th>9</th>\n",
       "      <td>d</td>\n",
       "      <td>[{'index': 4, 'value': 1.0}]</td>\n",
       "      <td>[{'index': 4, 'value': 0.0}]</td>\n",
       "      <td>[{'index': 3, 'value': 0.0}]</td>\n",
       "      <td>[{'index': 2, 'value': 0.0}]</td>\n",
       "    </tr>\n",
       "    <tr>\n",
       "      <th>10</th>\n",
       "      <td>d</td>\n",
       "      <td>[{'index': 4, 'value': 1.0}]</td>\n",
       "      <td>[{'index': 4, 'value': 0.0}]</td>\n",
       "      <td>[{'index': 3, 'value': 0.0}]</td>\n",
       "      <td>[{'index': 2, 'value': 0.0}]</td>\n",
       "    </tr>\n",
       "  </tbody>\n",
       "</table>\n",
       "</div>"
      ],
      "text/plain": [
       "   original_column                         OHE_1  \\\n",
       "0             None  [{'index': 0, 'value': 1.0}]   \n",
       "1                a  [{'index': 1, 'value': 1.0}]   \n",
       "2                b  [{'index': 2, 'value': 1.0}]   \n",
       "3                b  [{'index': 2, 'value': 1.0}]   \n",
       "4                c  [{'index': 3, 'value': 1.0}]   \n",
       "5                c  [{'index': 3, 'value': 1.0}]   \n",
       "6                c  [{'index': 3, 'value': 1.0}]   \n",
       "7                d  [{'index': 4, 'value': 1.0}]   \n",
       "8                d  [{'index': 4, 'value': 1.0}]   \n",
       "9                d  [{'index': 4, 'value': 1.0}]   \n",
       "10               d  [{'index': 4, 'value': 1.0}]   \n",
       "\n",
       "                           OHE_2                         OHE_3  \\\n",
       "0   [{'index': 0, 'value': 1.0}]  [{'index': 0, 'value': 1.0}]   \n",
       "1   [{'index': 1, 'value': 1.0}]  [{'index': 0, 'value': 1.0}]   \n",
       "2   [{'index': 2, 'value': 1.0}]  [{'index': 1, 'value': 1.0}]   \n",
       "3   [{'index': 2, 'value': 1.0}]  [{'index': 1, 'value': 1.0}]   \n",
       "4   [{'index': 3, 'value': 1.0}]  [{'index': 2, 'value': 1.0}]   \n",
       "5   [{'index': 3, 'value': 1.0}]  [{'index': 2, 'value': 1.0}]   \n",
       "6   [{'index': 3, 'value': 1.0}]  [{'index': 2, 'value': 1.0}]   \n",
       "7   [{'index': 4, 'value': 0.0}]  [{'index': 3, 'value': 0.0}]   \n",
       "8   [{'index': 4, 'value': 0.0}]  [{'index': 3, 'value': 0.0}]   \n",
       "9   [{'index': 4, 'value': 0.0}]  [{'index': 3, 'value': 0.0}]   \n",
       "10  [{'index': 4, 'value': 0.0}]  [{'index': 3, 'value': 0.0}]   \n",
       "\n",
       "                           OHE_4  \n",
       "0   [{'index': 0, 'value': 1.0}]  \n",
       "1   [{'index': 0, 'value': 1.0}]  \n",
       "2   [{'index': 0, 'value': 1.0}]  \n",
       "3   [{'index': 0, 'value': 1.0}]  \n",
       "4   [{'index': 1, 'value': 1.0}]  \n",
       "5   [{'index': 1, 'value': 1.0}]  \n",
       "6   [{'index': 1, 'value': 1.0}]  \n",
       "7   [{'index': 2, 'value': 0.0}]  \n",
       "8   [{'index': 2, 'value': 0.0}]  \n",
       "9   [{'index': 2, 'value': 0.0}]  \n",
       "10  [{'index': 2, 'value': 0.0}]  "
      ]
     },
     "execution_count": 35,
     "metadata": {},
     "output_type": "execute_result"
    }
   ],
   "source": [
    "df = bq.query(query = query).to_dataframe()\n",
    "df"
   ]
  },
  {
   "cell_type": "markdown",
   "id": "6f0a4032-6396-465f-9a2d-69d8e4317263",
   "metadata": {},
   "source": [
    "### ML.LABEL_ENCODER\n",
    "\n",
    "Given a string column the function will encode the value as integers [0, n] representing categories.  Any `NULL` or removed values will be encoded with `0`.\n",
    "- `top_k` takes an integer value that specifies the limit on the number of categories to encode based on frequency (default is 1 milion, also the max)\n",
    "- `frequency_threshold` takes an integer value that specifies that minimum frequency to be encoded (default = 0)\n",
    "\n",
    "[Reference](https://cloud.google.com/bigquery-ml/docs/reference/standard-sql/bigqueryml-preprocessing-functions#mllabel_encoder)"
   ]
  },
  {
   "cell_type": "code",
   "execution_count": 36,
   "id": "2cc0b9c3-4016-4f5c-bd7c-ac5f07611f6f",
   "metadata": {},
   "outputs": [
    {
     "name": "stdout",
     "output_type": "stream",
     "text": [
      "\n",
      "    SELECT\n",
      "        original_column,\n",
      "        ML.LABEL_ENCODER(original_column) OVER() AS OHE_1,\n",
      "        ML.LABEL_ENCODER(original_column, 3) OVER() AS OHE_3,\n",
      "        ML.LABEL_ENCODER(original_column, 3, 3) OVER() AS OHE_4\n",
      "    FROM\n",
      "        UNNEST([NULL, 'a', 'b', 'b', 'c', 'c', 'c', 'd', 'd', 'd', 'd']) AS original_column\n",
      "    ORDER BY original_column\n",
      "\n"
     ]
    }
   ],
   "source": [
    "query = f\"\"\"\n",
    "    SELECT\n",
    "        original_column,\n",
    "        ML.LABEL_ENCODER(original_column) OVER() AS OHE_1,\n",
    "        ML.LABEL_ENCODER(original_column, 3) OVER() AS OHE_3,\n",
    "        ML.LABEL_ENCODER(original_column, 3, 3) OVER() AS OHE_4\n",
    "    FROM\n",
    "        UNNEST([NULL, 'a', 'b', 'b', 'c', 'c', 'c', 'd', 'd', 'd', 'd']) AS original_column\n",
    "    ORDER BY original_column\n",
    "\"\"\"\n",
    "print(query)"
   ]
  },
  {
   "cell_type": "code",
   "execution_count": 37,
   "id": "5dc9b855-91da-4642-8669-dfd626aae391",
   "metadata": {},
   "outputs": [
    {
     "data": {
      "text/html": [
       "<div>\n",
       "<style scoped>\n",
       "    .dataframe tbody tr th:only-of-type {\n",
       "        vertical-align: middle;\n",
       "    }\n",
       "\n",
       "    .dataframe tbody tr th {\n",
       "        vertical-align: top;\n",
       "    }\n",
       "\n",
       "    .dataframe thead th {\n",
       "        text-align: right;\n",
       "    }\n",
       "</style>\n",
       "<table border=\"1\" class=\"dataframe\">\n",
       "  <thead>\n",
       "    <tr style=\"text-align: right;\">\n",
       "      <th></th>\n",
       "      <th>original_column</th>\n",
       "      <th>OHE_1</th>\n",
       "      <th>OHE_3</th>\n",
       "      <th>OHE_4</th>\n",
       "    </tr>\n",
       "  </thead>\n",
       "  <tbody>\n",
       "    <tr>\n",
       "      <th>0</th>\n",
       "      <td>None</td>\n",
       "      <td>0</td>\n",
       "      <td>0</td>\n",
       "      <td>0</td>\n",
       "    </tr>\n",
       "    <tr>\n",
       "      <th>1</th>\n",
       "      <td>a</td>\n",
       "      <td>1</td>\n",
       "      <td>0</td>\n",
       "      <td>0</td>\n",
       "    </tr>\n",
       "    <tr>\n",
       "      <th>2</th>\n",
       "      <td>b</td>\n",
       "      <td>2</td>\n",
       "      <td>1</td>\n",
       "      <td>0</td>\n",
       "    </tr>\n",
       "    <tr>\n",
       "      <th>3</th>\n",
       "      <td>b</td>\n",
       "      <td>2</td>\n",
       "      <td>1</td>\n",
       "      <td>0</td>\n",
       "    </tr>\n",
       "    <tr>\n",
       "      <th>4</th>\n",
       "      <td>c</td>\n",
       "      <td>3</td>\n",
       "      <td>2</td>\n",
       "      <td>1</td>\n",
       "    </tr>\n",
       "    <tr>\n",
       "      <th>5</th>\n",
       "      <td>c</td>\n",
       "      <td>3</td>\n",
       "      <td>2</td>\n",
       "      <td>1</td>\n",
       "    </tr>\n",
       "    <tr>\n",
       "      <th>6</th>\n",
       "      <td>c</td>\n",
       "      <td>3</td>\n",
       "      <td>2</td>\n",
       "      <td>1</td>\n",
       "    </tr>\n",
       "    <tr>\n",
       "      <th>7</th>\n",
       "      <td>d</td>\n",
       "      <td>4</td>\n",
       "      <td>3</td>\n",
       "      <td>2</td>\n",
       "    </tr>\n",
       "    <tr>\n",
       "      <th>8</th>\n",
       "      <td>d</td>\n",
       "      <td>4</td>\n",
       "      <td>3</td>\n",
       "      <td>2</td>\n",
       "    </tr>\n",
       "    <tr>\n",
       "      <th>9</th>\n",
       "      <td>d</td>\n",
       "      <td>4</td>\n",
       "      <td>3</td>\n",
       "      <td>2</td>\n",
       "    </tr>\n",
       "    <tr>\n",
       "      <th>10</th>\n",
       "      <td>d</td>\n",
       "      <td>4</td>\n",
       "      <td>3</td>\n",
       "      <td>2</td>\n",
       "    </tr>\n",
       "  </tbody>\n",
       "</table>\n",
       "</div>"
      ],
      "text/plain": [
       "   original_column  OHE_1  OHE_3  OHE_4\n",
       "0             None      0      0      0\n",
       "1                a      1      0      0\n",
       "2                b      2      1      0\n",
       "3                b      2      1      0\n",
       "4                c      3      2      1\n",
       "5                c      3      2      1\n",
       "6                c      3      2      1\n",
       "7                d      4      3      2\n",
       "8                d      4      3      2\n",
       "9                d      4      3      2\n",
       "10               d      4      3      2"
      ]
     },
     "execution_count": 37,
     "metadata": {},
     "output_type": "execute_result"
    }
   ],
   "source": [
    "df = bq.query(query = query).to_dataframe()\n",
    "df"
   ]
  },
  {
   "cell_type": "markdown",
   "id": "797d7c6b-d406-4b2f-b513-b7b245b24313",
   "metadata": {},
   "source": [
    "## Advanced Usage of Manual Feature Engineering\n",
    "\n",
    "There may be situations where multiple feature preprocessing functions are needed.  Here is an example of using `ML.IMPUTER` with `ML.POLYNOMIAL_EXPAND` for example.\n",
    "\n",
    "**NOTE:** A analytic function (has `OVER ()`)cannot be an argument of another analytic function, however, scaler functions can be arguments.\n",
    "\n",
    "This Example Compounds:\n",
    "- `CAST` the string values to `FLOAT64`\n",
    "- imputes missing values for the column with `ML.IMPUTER`\n",
    "- uses `ML.POLYNOMIAL_EXPAND` to create higher order terms from the imputed column"
   ]
  },
  {
   "cell_type": "code",
   "execution_count": 38,
   "id": "f6d333b0-dd81-4d6c-a858-4fff553931d2",
   "metadata": {},
   "outputs": [
    {
     "name": "stdout",
     "output_type": "stream",
     "text": [
      "\n",
      "SELECT\n",
      "    original_column,\n",
      "    ML.POLYNOMIAL_EXPAND(\n",
      "        STRUCT(\n",
      "            ML.IMPUTER(\n",
      "                CAST(original_column AS FLOAT64),\n",
      "                'mean'\n",
      "            ) OVER() AS num_imputed_mean\n",
      "        ),\n",
      "        2\n",
      "    ) AS imputed_expanded\n",
      "FROM\n",
      "    UNNEST(['1', '1', '2', '3', '4', '5', NULL]) AS original_column\n",
      "\n"
     ]
    }
   ],
   "source": [
    "query = f\"\"\"\n",
    "SELECT\n",
    "    original_column,\n",
    "    ML.POLYNOMIAL_EXPAND(\n",
    "        STRUCT(\n",
    "            ML.IMPUTER(\n",
    "                CAST(original_column AS FLOAT64),\n",
    "                'mean'\n",
    "            ) OVER() AS num_imputed_mean\n",
    "        ),\n",
    "        2\n",
    "    ) AS imputed_expanded\n",
    "FROM\n",
    "    UNNEST(['1', '1', '2', '3', '4', '5', NULL]) AS original_column\n",
    "\"\"\"\n",
    "print(query)"
   ]
  },
  {
   "cell_type": "code",
   "execution_count": 39,
   "id": "b32f5293-fc54-4e69-976a-f11b56e60a99",
   "metadata": {},
   "outputs": [
    {
     "data": {
      "text/html": [
       "<div>\n",
       "<style scoped>\n",
       "    .dataframe tbody tr th:only-of-type {\n",
       "        vertical-align: middle;\n",
       "    }\n",
       "\n",
       "    .dataframe tbody tr th {\n",
       "        vertical-align: top;\n",
       "    }\n",
       "\n",
       "    .dataframe thead th {\n",
       "        text-align: right;\n",
       "    }\n",
       "</style>\n",
       "<table border=\"1\" class=\"dataframe\">\n",
       "  <thead>\n",
       "    <tr style=\"text-align: right;\">\n",
       "      <th></th>\n",
       "      <th>original_column</th>\n",
       "      <th>imputed_expanded</th>\n",
       "    </tr>\n",
       "  </thead>\n",
       "  <tbody>\n",
       "    <tr>\n",
       "      <th>0</th>\n",
       "      <td>None</td>\n",
       "      <td>{'num_imputed_mean': 2.666666666666667, 'num_i...</td>\n",
       "    </tr>\n",
       "    <tr>\n",
       "      <th>1</th>\n",
       "      <td>1</td>\n",
       "      <td>{'num_imputed_mean': 1.0, 'num_imputed_mean_nu...</td>\n",
       "    </tr>\n",
       "    <tr>\n",
       "      <th>2</th>\n",
       "      <td>3</td>\n",
       "      <td>{'num_imputed_mean': 3.0, 'num_imputed_mean_nu...</td>\n",
       "    </tr>\n",
       "    <tr>\n",
       "      <th>3</th>\n",
       "      <td>1</td>\n",
       "      <td>{'num_imputed_mean': 1.0, 'num_imputed_mean_nu...</td>\n",
       "    </tr>\n",
       "    <tr>\n",
       "      <th>4</th>\n",
       "      <td>5</td>\n",
       "      <td>{'num_imputed_mean': 5.0, 'num_imputed_mean_nu...</td>\n",
       "    </tr>\n",
       "    <tr>\n",
       "      <th>5</th>\n",
       "      <td>4</td>\n",
       "      <td>{'num_imputed_mean': 4.0, 'num_imputed_mean_nu...</td>\n",
       "    </tr>\n",
       "    <tr>\n",
       "      <th>6</th>\n",
       "      <td>2</td>\n",
       "      <td>{'num_imputed_mean': 2.0, 'num_imputed_mean_nu...</td>\n",
       "    </tr>\n",
       "  </tbody>\n",
       "</table>\n",
       "</div>"
      ],
      "text/plain": [
       "  original_column                                   imputed_expanded\n",
       "0            None  {'num_imputed_mean': 2.666666666666667, 'num_i...\n",
       "1               1  {'num_imputed_mean': 1.0, 'num_imputed_mean_nu...\n",
       "2               3  {'num_imputed_mean': 3.0, 'num_imputed_mean_nu...\n",
       "3               1  {'num_imputed_mean': 1.0, 'num_imputed_mean_nu...\n",
       "4               5  {'num_imputed_mean': 5.0, 'num_imputed_mean_nu...\n",
       "5               4  {'num_imputed_mean': 4.0, 'num_imputed_mean_nu...\n",
       "6               2  {'num_imputed_mean': 2.0, 'num_imputed_mean_nu..."
      ]
     },
     "execution_count": 39,
     "metadata": {},
     "output_type": "execute_result"
    }
   ],
   "source": [
    "df = bq.query(query = query).to_dataframe()\n",
    "df"
   ]
  },
  {
   "cell_type": "code",
   "execution_count": 40,
   "id": "a2ae1a53-0305-4dd8-98c7-77b6e23de04d",
   "metadata": {},
   "outputs": [
    {
     "data": {
      "text/plain": [
       "{'num_imputed_mean': 1.0, 'num_imputed_mean_num_imputed_mean': 1.0}"
      ]
     },
     "execution_count": 40,
     "metadata": {},
     "output_type": "execute_result"
    }
   ],
   "source": [
    "df['imputed_expanded'].iloc[1]"
   ]
  },
  {
   "cell_type": "markdown",
   "id": "04e0f8e7-960d-4448-9096-19bedddc7bf2",
   "metadata": {},
   "source": [
    "---\n",
    "# Data Source: BigQuery"
   ]
  },
  {
   "cell_type": "markdown",
   "id": "90b1ef9f-2d9a-4c39-b3a5-d2c433e67f49",
   "metadata": {
    "tags": []
   },
   "source": [
    "## Create BigQuery Dataset\n",
    "\n",
    "Datasets are like folders, they hold items like tables, models, views.  Datasets are regional resources."
   ]
  },
  {
   "cell_type": "markdown",
   "id": "fe47315f-bc92-4900-8399-7a51cc810301",
   "metadata": {},
   "source": [
    "Create the dataset if missing:"
   ]
  },
  {
   "cell_type": "code",
   "execution_count": 41,
   "id": "1ea2c1e6-836c-40de-a53f-10fb195d27bb",
   "metadata": {},
   "outputs": [],
   "source": [
    "ds = bigquery.Dataset(f\"{BQ_PROJECT}.{BQ_DATASET}\")\n",
    "ds.location = 'eu' #'us' #REGION\n",
    "ds.labels = {'experiment': f'{EXPERIMENT}'}\n",
    "ds = bq.create_dataset(dataset = ds, exists_ok = True)"
   ]
  },
  {
   "cell_type": "markdown",
   "id": "77659610-1f1b-4b96-add1-a08eb0ef8ee5",
   "metadata": {},
   "source": [
    "List BigQuery datasets in the project:"
   ]
  },
  {
   "cell_type": "code",
   "execution_count": 42,
   "id": "ccf621f1-d5b8-4e12-85b1-318ecaab57db",
   "metadata": {},
   "outputs": [
    {
     "name": "stdout",
     "output_type": "stream",
     "text": [
      "applied_forecasting\n",
      "explained_columns\n",
      "feature_engineering\n",
      "forecasting_8_tournament\n",
      "fraud\n",
      "github_api\n",
      "model_deployment_monitoring_1961322035766362112\n"
     ]
    }
   ],
   "source": [
    "datasets = list(bq.list_datasets())\n",
    "for d in datasets:\n",
    "    print(d.dataset_id)"
   ]
  },
  {
   "cell_type": "markdown",
   "id": "77ba4fa7-1dd5-4dba-b519-77dbdf7109c2",
   "metadata": {},
   "source": [
    "Review dataset attributes:"
   ]
  },
  {
   "cell_type": "code",
   "execution_count": 43,
   "id": "1b0f396d-c857-440f-a9ae-f21a0acee0f2",
   "metadata": {},
   "outputs": [
    {
     "data": {
      "text/plain": [
       "'feature_engineering'"
      ]
     },
     "execution_count": 43,
     "metadata": {},
     "output_type": "execute_result"
    }
   ],
   "source": [
    "ds.dataset_id"
   ]
  },
  {
   "cell_type": "code",
   "execution_count": 44,
   "id": "d8fbeff7-06c9-4355-bfd1-743ba3c12b57",
   "metadata": {},
   "outputs": [
    {
     "data": {
      "text/plain": [
       "'statmike-mlops-349915'"
      ]
     },
     "execution_count": 44,
     "metadata": {},
     "output_type": "execute_result"
    }
   ],
   "source": [
    "ds.project"
   ]
  },
  {
   "cell_type": "code",
   "execution_count": 45,
   "id": "cea1bb57-1254-4088-90a3-4397e499bc28",
   "metadata": {},
   "outputs": [
    {
     "data": {
      "text/plain": [
       "'statmike-mlops-349915:feature_engineering'"
      ]
     },
     "execution_count": 45,
     "metadata": {},
     "output_type": "execute_result"
    }
   ],
   "source": [
    "ds.full_dataset_id"
   ]
  },
  {
   "cell_type": "code",
   "execution_count": 46,
   "id": "6e79c339-dade-415a-9d73-6e2da208a52b",
   "metadata": {},
   "outputs": [
    {
     "data": {
      "text/plain": [
       "'/projects/statmike-mlops-349915/datasets/feature_engineering'"
      ]
     },
     "execution_count": 46,
     "metadata": {},
     "output_type": "execute_result"
    }
   ],
   "source": [
    "ds.path"
   ]
  },
  {
   "cell_type": "code",
   "execution_count": 47,
   "id": "98711e82-fdbf-4d10-9175-8b9aabd839d9",
   "metadata": {},
   "outputs": [
    {
     "data": {
      "text/plain": [
       "'EU'"
      ]
     },
     "execution_count": 47,
     "metadata": {},
     "output_type": "execute_result"
    }
   ],
   "source": [
    "ds.location"
   ]
  },
  {
   "cell_type": "markdown",
   "id": "87c08b26-6696-4773-bf83-ebec0b22dbaf",
   "metadata": {},
   "source": [
    "---\n",
    "## Create BigQuery Table\n",
    "\n",
    "Familiar with the [Great British Bake Off](https://en.wikipedia.org/wiki/The_Great_British_Bake_Off)? Or maybe just familiar with intricate nature of [baking bread](https://en.wikipedia.org/wiki/Bread)?  The code below generates 2000 different bread recipes along with multiple judges ratings of the resulting bread.  These are designed to be a lot like [Ciabatta](https://en.wikipedia.org/wiki/Ciabatta).\n",
    "\n",
    "This SQL makes heavy use of [GENERATE_ARRAY()](https://cloud.google.com/bigquery/docs/reference/standard-sql/arrays#generating_arrays_of_integers) to create sequences of numbers.  The [RAND() function](https://cloud.google.com/bigquery/docs/reference/standard-sql/mathematical_functions#rand) is the primary mechanism for generating random data but it is uniform `[0, 1)` only. To generate random normal data with MEAN=0 and SD=1 the [Box-Muller Transformation](https://en.wikipedia.org/wiki/Box%E2%80%93Muller_transform) is implemented in SQL using two `RAND()` values as inputs.  \n",
    "\n",
    "> Given two random uniform variable, $u_1$ and $u_2$, the following Box-Muller transformation generates two random normal(0, 1) variables:\n",
    ">\n",
    "> $\\sqrt{-2\\ln(u_1)}\\sin(2\\pi u_2)$ OR $\\sqrt{-2\\ln(u_1)}\\cos(2\\pi u_2)$\n",
    "\n",
    "Expressing these as SQL:\n",
    "```SQL\n",
    "# ACOS(-1) = PI\n",
    "SQRT(-2*LN(RAND()))*SIN(2*ACOS(-1)*RAND())\n",
    "\n",
    "SQRT(-2*LN(RAND()))*COS(2*ACOS(-1)*RAND())\n",
    "```\n",
    "\n",
    "**Note** When simulating data with BigQuery and using [CTEs (WITH statement)](https://cloud.google.com/bigquery/docs/reference/standard-sql/query-syntax#with_clause) it is important to note that each CTE will be called once per reference.  That means that using the `RAND()` function could generate different data on each reference.\n"
   ]
  },
  {
   "cell_type": "code",
   "execution_count": 48,
   "id": "82814d3e-513b-4d37-8736-a838a311fc06",
   "metadata": {},
   "outputs": [
    {
     "name": "stdout",
     "output_type": "stream",
     "text": [
      "\n",
      "CREATE OR REPLACE TABLE `statmike-mlops-349915.feature_engineering.bread` AS \n",
      "WITH\n",
      "    STEP_1 AS (\n",
      "        SELECT\n",
      "            pos as Recipe,\n",
      "            * EXCEPT(pos)\n",
      "        FROM (SELECT *, ROW_NUMBER() OVER() pos FROM UNNEST(ARRAY((SELECT 500+10*SQRT(-2*LN(RAND()))*COS(2*ACOS(-1)*RAND()) FROM UNNEST(GENERATE_ARRAY(1, 2000))))) AS flourAmt)\n",
      "        JOIN (SELECT *, ROW_NUMBER() OVER() pos FROM UNNEST(ARRAY((SELECT CAST(8+4*RAND() AS INT64) FROM UNNEST(GENERATE_ARRAY(1, 2000))))) AS saltAmt) USING(pos)\n",
      "        JOIN (SELECT *, ROW_NUMBER() OVER() pos FROM UNNEST(ARRAY((SELECT CAST(8+4*RAND() AS INT64) FROM UNNEST(GENERATE_ARRAY(1, 2000))))) AS yeastAmt) USING(pos)\n",
      "        JOIN (SELECT *, ROW_NUMBER() OVER() pos FROM UNNEST(ARRAY((SELECT CAST(5+1*SQRT(-2*LN(RAND()))*COS(2*ACOS(-1)*RAND()) AS INT64) FROM UNNEST(GENERATE_ARRAY(1, 2000))))) AS mix1Time) USING(pos)\n",
      "        JOIN (SELECT *, ROW_NUMBER() OVER() pos FROM UNNEST(ARRAY((SELECT CAST(2+3*RAND() AS INT64) FROM UNNEST(GENERATE_ARRAY(1, 2000))))) AS mix1Speed) USING(pos)\n",
      "        JOIN (SELECT *, ROW_NUMBER() OVER() pos FROM UNNEST(ARRAY((SELECT CAST(4+4*RAND() AS INT64) FROM UNNEST(GENERATE_ARRAY(1, 2000))))) AS mix2Time) USING(pos)\n",
      "        JOIN (SELECT *, ROW_NUMBER() OVER() pos FROM UNNEST(ARRAY((SELECT CAST(4+2*RAND() AS INT64) FROM UNNEST(GENERATE_ARRAY(1, 2000))))) AS mix2Speed) USING(pos)\n",
      "        JOIN (SELECT *, ROW_NUMBER() OVER() pos FROM UNNEST(ARRAY((SELECT 330+20*SQRT(-2*LN(RAND()))*COS(2*ACOS(-1)*RAND()) FROM UNNEST(GENERATE_ARRAY(1, 2000))))) AS water1Amt) USING(pos)\n",
      "        JOIN (SELECT *, ROW_NUMBER() OVER() pos FROM UNNEST(ARRAY((SELECT 110+20*SQRT(-2*LN(RAND()))*COS(2*ACOS(-1)*RAND()) FROM UNNEST(GENERATE_ARRAY(1, 2000))))) AS water2Amt) USING(pos)\n",
      "        JOIN (SELECT *, ROW_NUMBER() OVER() pos FROM UNNEST(ARRAY((SELECT CAST(40+10*RAND() AS INT64) FROM UNNEST(GENERATE_ARRAY(1, 2000))))) AS waterTemp) USING(pos)\n",
      "        JOIN (SELECT *, ROW_NUMBER() OVER() pos FROM UNNEST(ARRAY((SELECT 100+5*SQRT(-2*LN(RAND()))*COS(2*ACOS(-1)*RAND()) FROM UNNEST(GENERATE_ARRAY(1, 2000))))) AS proveTime) USING(pos)\n",
      "        JOIN (SELECT *, ROW_NUMBER() OVER() pos FROM UNNEST(ARRAY((SELECT CAST(35+10*RAND() AS INT64) FROM UNNEST(GENERATE_ARRAY(1, 2000))))) AS restTime) USING(pos)\n",
      "        JOIN (SELECT *, ROW_NUMBER() OVER() pos FROM UNNEST(ARRAY((SELECT CAST(20+10*RAND() AS INT64) FROM UNNEST(GENERATE_ARRAY(1, 2000))))) AS bakeTime) USING(pos)\n",
      "        JOIN (SELECT *, ROW_NUMBER() OVER() pos FROM UNNEST(ARRAY((SELECT 425+15*SQRT(-2*LN(RAND()))*COS(2*ACOS(-1)*RAND()) FROM UNNEST(GENERATE_ARRAY(1, 2000))))) AS bakeTemp) USING(pos)\n",
      "        JOIN (SELECT *, ROW_NUMBER() OVER() pos FROM UNNEST(ARRAY((SELECT 60+10*SQRT(-2*LN(RAND()))*COS(2*ACOS(-1)*RAND()) FROM UNNEST(GENERATE_ARRAY(1, 2000))))) AS ambTemp) USING(pos)\n",
      "        JOIN (SELECT *, ROW_NUMBER() OVER() pos FROM UNNEST(ARRAY((SELECT 50+10*SQRT(-2*LN(RAND()))*COS(2*ACOS(-1)*RAND()) FROM UNNEST(GENERATE_ARRAY(1, 2000))))) AS ambHumidity) USING(pos)\n",
      "    ),\n",
      "    STEP_2 AS (\n",
      "        SELECT *,\n",
      "            CASE \n",
      "                WHEN flourAmt-500 > 0 THEN 0.3*(flourAmt-500)\n",
      "                ELSE -0.3*(flourAmt-500)\n",
      "            END AS A,\n",
      "            CASE \n",
      "                WHEN saltAmt-10 > 0 THEN 2*(saltAmt-10)/2\n",
      "                ELSE -0.5*(saltAmt-10)/2\n",
      "            END AS B,\n",
      "            CASE \n",
      "                WHEN yeastAmt-10 > 0 THEN 5*(yeastAmt-10)/2\n",
      "                ELSE -5*(yeastAmt-10)/2\n",
      "            END AS C,\n",
      "            CASE \n",
      "                WHEN mix1Time-5 > 0 THEN 2*(mix1Time-5)\n",
      "                ELSE -2*(mix1Time-5)\n",
      "            END AS D,\n",
      "            CASE \n",
      "                WHEN mix1Speed-3.5 > 0 THEN 0.1*(mix1Speed-3.5)/1.5\n",
      "                ELSE -0.1*(mix1Speed-3.5)/1.5\n",
      "            END AS E,\n",
      "            CASE \n",
      "                WHEN mix2Time-6 > 0 THEN (mix2Time-6)/2\n",
      "                ELSE -2*(mix2Time-6)\n",
      "            END AS F,\n",
      "            CASE \n",
      "                WHEN mix2Speed-5 > 0 THEN 2*(mix2Speed-5)\n",
      "                ELSE -2*(mix2Speed-5)/2\n",
      "            END AS G,\n",
      "            CASE \n",
      "                WHEN water1Amt-330 > 0 THEN (water1Amt-330)/20\n",
      "                ELSE -1*(water1Amt-330)/20\n",
      "            END AS H,\n",
      "            CASE \n",
      "                WHEN water2Amt-110 > 0 THEN 6*(water2Amt-110)/20\n",
      "                ELSE -6*(water2Amt-110)/20\n",
      "            END AS I,\n",
      "            CASE \n",
      "                WHEN restTime-40 > 0 THEN 3*(restTime-40)/5\n",
      "                ELSE -3*(restTime-40)/5\n",
      "            END AS J,\n",
      "            CASE \n",
      "                WHEN bakeTime-25 > 0 THEN 6*(bakeTime-25)/5\n",
      "                ELSE -6*(bakeTime-25)/5\n",
      "            END AS K,\n",
      "            CASE \n",
      "                WHEN bakeTemp-425 > 0 THEN 15*(bakeTemp-425)/15\n",
      "                ELSE -10*(bakeTemp-425)/15\n",
      "            END AS L,\n",
      "            -1*((425-bakeTemp)*(bakeTime-25))/25 AS M\n",
      "        FROM STEP_1\n",
      "    ),\n",
      "    STEP_3 AS (\n",
      "        SELECT * EXCEPT(A, B, C, D, E, F, G, H, I ,J, K, L, M),\n",
      "            CASE\n",
      "                WHEN 100-(0+A+B+C+D+E+F+G+H+I+J+K+L+M)+4 < 0 THEN 0\n",
      "                WHEN 100-(0+A+B+C+D+E+F+G+H+I+J+K+L+M)+4 > 100 THEN 100\n",
      "                ELSE ROUND(100-(0+A+B+C+D+E+F+G+H+I+J+K+L+M)+4)\n",
      "            END AS JUDGE_A,\n",
      "            CASE\n",
      "                WHEN 5-26*(90/69)+(90/69)*(100-(0+A+B+C+D+E+F+G+H+I+J+K+L+M)+4)-5 < 0 THEN 0\n",
      "                WHEN 5-26*(90/69)+(90/69)*(100-(0+A+B+C+D+E+F+G+H+I+J+K+L+M)+4)-5 > 100 THEN 100\n",
      "                ELSE ROUND(5-26*(90/69)+(90/69)*(100-(0+A+B+C+D+E+F+G+H+I+J+K+L+M)+4)-5)\n",
      "            END AS JUDGE_B\n",
      "        FROM STEP_2\n",
      "    )\n",
      "SELECT *\n",
      "FROM STEP_3\n",
      "\n"
     ]
    }
   ],
   "source": [
    "n = 2000\n",
    "\n",
    "query = f\"\"\"\n",
    "CREATE OR REPLACE TABLE `{BQ_PROJECT}.{BQ_DATASET}.{BQ_TABLE}` AS \n",
    "WITH\n",
    "    STEP_1 AS (\n",
    "        SELECT\n",
    "            pos as Recipe,\n",
    "            * EXCEPT(pos)\n",
    "        FROM (SELECT *, ROW_NUMBER() OVER() pos FROM UNNEST(ARRAY((SELECT 500+10*SQRT(-2*LN(RAND()))*COS(2*ACOS(-1)*RAND()) FROM UNNEST(GENERATE_ARRAY(1, {n}))))) AS flourAmt)\n",
    "        JOIN (SELECT *, ROW_NUMBER() OVER() pos FROM UNNEST(ARRAY((SELECT CAST(8+4*RAND() AS INT64) FROM UNNEST(GENERATE_ARRAY(1, {n}))))) AS saltAmt) USING(pos)\n",
    "        JOIN (SELECT *, ROW_NUMBER() OVER() pos FROM UNNEST(ARRAY((SELECT CAST(8+4*RAND() AS INT64) FROM UNNEST(GENERATE_ARRAY(1, {n}))))) AS yeastAmt) USING(pos)\n",
    "        JOIN (SELECT *, ROW_NUMBER() OVER() pos FROM UNNEST(ARRAY((SELECT CAST(5+1*SQRT(-2*LN(RAND()))*COS(2*ACOS(-1)*RAND()) AS INT64) FROM UNNEST(GENERATE_ARRAY(1, {n}))))) AS mix1Time) USING(pos)\n",
    "        JOIN (SELECT *, ROW_NUMBER() OVER() pos FROM UNNEST(ARRAY((SELECT CAST(2+3*RAND() AS INT64) FROM UNNEST(GENERATE_ARRAY(1, {n}))))) AS mix1Speed) USING(pos)\n",
    "        JOIN (SELECT *, ROW_NUMBER() OVER() pos FROM UNNEST(ARRAY((SELECT CAST(4+4*RAND() AS INT64) FROM UNNEST(GENERATE_ARRAY(1, {n}))))) AS mix2Time) USING(pos)\n",
    "        JOIN (SELECT *, ROW_NUMBER() OVER() pos FROM UNNEST(ARRAY((SELECT CAST(4+2*RAND() AS INT64) FROM UNNEST(GENERATE_ARRAY(1, {n}))))) AS mix2Speed) USING(pos)\n",
    "        JOIN (SELECT *, ROW_NUMBER() OVER() pos FROM UNNEST(ARRAY((SELECT 330+20*SQRT(-2*LN(RAND()))*COS(2*ACOS(-1)*RAND()) FROM UNNEST(GENERATE_ARRAY(1, {n}))))) AS water1Amt) USING(pos)\n",
    "        JOIN (SELECT *, ROW_NUMBER() OVER() pos FROM UNNEST(ARRAY((SELECT 110+20*SQRT(-2*LN(RAND()))*COS(2*ACOS(-1)*RAND()) FROM UNNEST(GENERATE_ARRAY(1, {n}))))) AS water2Amt) USING(pos)\n",
    "        JOIN (SELECT *, ROW_NUMBER() OVER() pos FROM UNNEST(ARRAY((SELECT CAST(40+10*RAND() AS INT64) FROM UNNEST(GENERATE_ARRAY(1, {n}))))) AS waterTemp) USING(pos)\n",
    "        JOIN (SELECT *, ROW_NUMBER() OVER() pos FROM UNNEST(ARRAY((SELECT 100+5*SQRT(-2*LN(RAND()))*COS(2*ACOS(-1)*RAND()) FROM UNNEST(GENERATE_ARRAY(1, {n}))))) AS proveTime) USING(pos)\n",
    "        JOIN (SELECT *, ROW_NUMBER() OVER() pos FROM UNNEST(ARRAY((SELECT CAST(35+10*RAND() AS INT64) FROM UNNEST(GENERATE_ARRAY(1, {n}))))) AS restTime) USING(pos)\n",
    "        JOIN (SELECT *, ROW_NUMBER() OVER() pos FROM UNNEST(ARRAY((SELECT CAST(20+10*RAND() AS INT64) FROM UNNEST(GENERATE_ARRAY(1, {n}))))) AS bakeTime) USING(pos)\n",
    "        JOIN (SELECT *, ROW_NUMBER() OVER() pos FROM UNNEST(ARRAY((SELECT 425+15*SQRT(-2*LN(RAND()))*COS(2*ACOS(-1)*RAND()) FROM UNNEST(GENERATE_ARRAY(1, {n}))))) AS bakeTemp) USING(pos)\n",
    "        JOIN (SELECT *, ROW_NUMBER() OVER() pos FROM UNNEST(ARRAY((SELECT 60+10*SQRT(-2*LN(RAND()))*COS(2*ACOS(-1)*RAND()) FROM UNNEST(GENERATE_ARRAY(1, {n}))))) AS ambTemp) USING(pos)\n",
    "        JOIN (SELECT *, ROW_NUMBER() OVER() pos FROM UNNEST(ARRAY((SELECT 50+10*SQRT(-2*LN(RAND()))*COS(2*ACOS(-1)*RAND()) FROM UNNEST(GENERATE_ARRAY(1, {n}))))) AS ambHumidity) USING(pos)\n",
    "    ),\n",
    "    STEP_2 AS (\n",
    "        SELECT *,\n",
    "            CASE \n",
    "                WHEN flourAmt-500 > 0 THEN 0.3*(flourAmt-500)\n",
    "                ELSE -0.3*(flourAmt-500)\n",
    "            END AS A,\n",
    "            CASE \n",
    "                WHEN saltAmt-10 > 0 THEN 2*(saltAmt-10)/2\n",
    "                ELSE -0.5*(saltAmt-10)/2\n",
    "            END AS B,\n",
    "            CASE \n",
    "                WHEN yeastAmt-10 > 0 THEN 5*(yeastAmt-10)/2\n",
    "                ELSE -5*(yeastAmt-10)/2\n",
    "            END AS C,\n",
    "            CASE \n",
    "                WHEN mix1Time-5 > 0 THEN 2*(mix1Time-5)\n",
    "                ELSE -2*(mix1Time-5)\n",
    "            END AS D,\n",
    "            CASE \n",
    "                WHEN mix1Speed-3.5 > 0 THEN 0.1*(mix1Speed-3.5)/1.5\n",
    "                ELSE -0.1*(mix1Speed-3.5)/1.5\n",
    "            END AS E,\n",
    "            CASE \n",
    "                WHEN mix2Time-6 > 0 THEN (mix2Time-6)/2\n",
    "                ELSE -2*(mix2Time-6)\n",
    "            END AS F,\n",
    "            CASE \n",
    "                WHEN mix2Speed-5 > 0 THEN 2*(mix2Speed-5)\n",
    "                ELSE -2*(mix2Speed-5)/2\n",
    "            END AS G,\n",
    "            CASE \n",
    "                WHEN water1Amt-330 > 0 THEN (water1Amt-330)/20\n",
    "                ELSE -1*(water1Amt-330)/20\n",
    "            END AS H,\n",
    "            CASE \n",
    "                WHEN water2Amt-110 > 0 THEN 6*(water2Amt-110)/20\n",
    "                ELSE -6*(water2Amt-110)/20\n",
    "            END AS I,\n",
    "            CASE \n",
    "                WHEN restTime-40 > 0 THEN 3*(restTime-40)/5\n",
    "                ELSE -3*(restTime-40)/5\n",
    "            END AS J,\n",
    "            CASE \n",
    "                WHEN bakeTime-25 > 0 THEN 6*(bakeTime-25)/5\n",
    "                ELSE -6*(bakeTime-25)/5\n",
    "            END AS K,\n",
    "            CASE \n",
    "                WHEN bakeTemp-425 > 0 THEN 15*(bakeTemp-425)/15\n",
    "                ELSE -10*(bakeTemp-425)/15\n",
    "            END AS L,\n",
    "            -1*((425-bakeTemp)*(bakeTime-25))/25 AS M\n",
    "        FROM STEP_1\n",
    "    ),\n",
    "    STEP_3 AS (\n",
    "        SELECT * EXCEPT(A, B, C, D, E, F, G, H, I ,J, K, L, M),\n",
    "            CASE\n",
    "                WHEN 100-(0+A+B+C+D+E+F+G+H+I+J+K+L+M)+4 < 0 THEN 0\n",
    "                WHEN 100-(0+A+B+C+D+E+F+G+H+I+J+K+L+M)+4 > 100 THEN 100\n",
    "                ELSE ROUND(100-(0+A+B+C+D+E+F+G+H+I+J+K+L+M)+4)\n",
    "            END AS JUDGE_A,\n",
    "            CASE\n",
    "                WHEN 5-26*(90/69)+(90/69)*(100-(0+A+B+C+D+E+F+G+H+I+J+K+L+M)+4)-5 < 0 THEN 0\n",
    "                WHEN 5-26*(90/69)+(90/69)*(100-(0+A+B+C+D+E+F+G+H+I+J+K+L+M)+4)-5 > 100 THEN 100\n",
    "                ELSE ROUND(5-26*(90/69)+(90/69)*(100-(0+A+B+C+D+E+F+G+H+I+J+K+L+M)+4)-5)\n",
    "            END AS JUDGE_B\n",
    "        FROM STEP_2\n",
    "    )\n",
    "SELECT *\n",
    "FROM STEP_3\n",
    "\"\"\"\n",
    "print(query)"
   ]
  },
  {
   "cell_type": "code",
   "execution_count": 49,
   "id": "c82edbf1-9522-4658-9d41-f3a9288e7730",
   "metadata": {},
   "outputs": [
    {
     "data": {
      "text/plain": [
       "2.412"
      ]
     },
     "execution_count": 49,
     "metadata": {},
     "output_type": "execute_result"
    }
   ],
   "source": [
    "job = bq.query(query = query)\n",
    "job.result()\n",
    "(job.ended-job.started).total_seconds()"
   ]
  },
  {
   "cell_type": "code",
   "execution_count": 50,
   "id": "e9eeb116-702d-410b-a729-ae010834a84b",
   "metadata": {},
   "outputs": [
    {
     "data": {
      "text/plain": [
       "0"
      ]
     },
     "execution_count": 50,
     "metadata": {},
     "output_type": "execute_result"
    }
   ],
   "source": [
    "job.total_bytes_processed"
   ]
  },
  {
   "cell_type": "markdown",
   "id": "25d017cd-b5dc-4a5d-bf45-508ce60d128f",
   "metadata": {},
   "source": [
    "### Check out this table in BigQuery Console:\n",
    "- Click: https://console.cloud.google.com/bigquery\n",
    "- Make sure project selected is the one from this notebook\n",
    "- Under Explore, expand this project and review the dataset and table"
   ]
  },
  {
   "cell_type": "code",
   "execution_count": 51,
   "id": "209246e6-e917-44f4-98e4-8d5e50299cf2",
   "metadata": {},
   "outputs": [
    {
     "name": "stdout",
     "output_type": "stream",
     "text": [
      "Direct Link To This Project In BigQuery:\n",
      "https://console.cloud.google.com/bigquery?project=statmike-mlops-349915&ws=!1m5!1m4!4m3!1sstatmike-mlops-349915!2sfeature_engineering!3sbread\n"
     ]
    }
   ],
   "source": [
    "print(f\"Direct Link To This Project In BigQuery:\\nhttps://console.cloud.google.com/bigquery?project={BQ_PROJECT}&ws=!1m5!1m4!4m3!1s{BQ_PROJECT}!2s{BQ_DATASET}!3s{BQ_TABLE}\")"
   ]
  },
  {
   "cell_type": "markdown",
   "id": "876654f3-7c48-4b23-8e27-52bd6ddf4564",
   "metadata": {},
   "source": [
    "---\n",
    "## Review Data From BigQuery\n",
    "Additional SQL queries could be used to review the data.  This section shows moving the table to a Pandas dataframe for local review in Python:\n",
    "\n",
    "> **Note:** <p>This query only selects one column.  This means BigQuery scans less data as it does not process the other columns.  </p>"
   ]
  },
  {
   "cell_type": "code",
   "execution_count": 52,
   "id": "c66fd4c0-36aa-4f57-8e1e-916f443d5216",
   "metadata": {},
   "outputs": [],
   "source": [
    "query = f\"\"\"\n",
    "    SELECT JUDGE_A, JUDGE_B\n",
    "    FROM `{BQ_PROJECT}.{BQ_DATASET}.{BQ_TABLE}`\n",
    "\"\"\"\n",
    "df = bq.query(query = query).to_dataframe()"
   ]
  },
  {
   "cell_type": "code",
   "execution_count": 53,
   "id": "befab8f1-f708-4039-b043-75ae62efe665",
   "metadata": {},
   "outputs": [
    {
     "name": "stdout",
     "output_type": "stream",
     "text": [
      "\n",
      "    SELECT JUDGE_A, JUDGE_B\n",
      "    FROM `statmike-mlops-349915.feature_engineering.bread`\n",
      "\n"
     ]
    }
   ],
   "source": [
    "print(query)"
   ]
  },
  {
   "cell_type": "code",
   "execution_count": 54,
   "id": "d103c7b4-68a5-4e43-8398-0e7ab64afab7",
   "metadata": {},
   "outputs": [
    {
     "data": {
      "text/html": [
       "<div>\n",
       "<style scoped>\n",
       "    .dataframe tbody tr th:only-of-type {\n",
       "        vertical-align: middle;\n",
       "    }\n",
       "\n",
       "    .dataframe tbody tr th {\n",
       "        vertical-align: top;\n",
       "    }\n",
       "\n",
       "    .dataframe thead th {\n",
       "        text-align: right;\n",
       "    }\n",
       "</style>\n",
       "<table border=\"1\" class=\"dataframe\">\n",
       "  <thead>\n",
       "    <tr style=\"text-align: right;\">\n",
       "      <th></th>\n",
       "      <th>JUDGE_A</th>\n",
       "      <th>JUDGE_B</th>\n",
       "    </tr>\n",
       "  </thead>\n",
       "  <tbody>\n",
       "    <tr>\n",
       "      <th>count</th>\n",
       "      <td>2000.000000</td>\n",
       "      <td>2000.000000</td>\n",
       "    </tr>\n",
       "    <tr>\n",
       "      <th>mean</th>\n",
       "      <td>74.636500</td>\n",
       "      <td>63.440500</td>\n",
       "    </tr>\n",
       "    <tr>\n",
       "      <th>std</th>\n",
       "      <td>9.757765</td>\n",
       "      <td>12.727468</td>\n",
       "    </tr>\n",
       "    <tr>\n",
       "      <th>min</th>\n",
       "      <td>22.000000</td>\n",
       "      <td>0.000000</td>\n",
       "    </tr>\n",
       "    <tr>\n",
       "      <th>25%</th>\n",
       "      <td>69.000000</td>\n",
       "      <td>56.000000</td>\n",
       "    </tr>\n",
       "    <tr>\n",
       "      <th>50%</th>\n",
       "      <td>76.000000</td>\n",
       "      <td>65.000000</td>\n",
       "    </tr>\n",
       "    <tr>\n",
       "      <th>75%</th>\n",
       "      <td>82.000000</td>\n",
       "      <td>73.000000</td>\n",
       "    </tr>\n",
       "    <tr>\n",
       "      <th>max</th>\n",
       "      <td>98.000000</td>\n",
       "      <td>93.000000</td>\n",
       "    </tr>\n",
       "  </tbody>\n",
       "</table>\n",
       "</div>"
      ],
      "text/plain": [
       "           JUDGE_A      JUDGE_B\n",
       "count  2000.000000  2000.000000\n",
       "mean     74.636500    63.440500\n",
       "std       9.757765    12.727468\n",
       "min      22.000000     0.000000\n",
       "25%      69.000000    56.000000\n",
       "50%      76.000000    65.000000\n",
       "75%      82.000000    73.000000\n",
       "max      98.000000    93.000000"
      ]
     },
     "execution_count": 54,
     "metadata": {},
     "output_type": "execute_result"
    }
   ],
   "source": [
    "df.describe()"
   ]
  },
  {
   "cell_type": "markdown",
   "id": "f52bad64-1b0b-48d1-84f2-59d559f47e27",
   "metadata": {},
   "source": [
    "It looks like Judge A is not as harsh as Judge B!"
   ]
  },
  {
   "cell_type": "markdown",
   "id": "e71194a7-b4c2-44d8-a737-9f7e97c60f95",
   "metadata": {},
   "source": [
    "---\n",
    "# GOAL: Predicting Judges Ratings\n",
    "\n",
    "Each row of the BigQuery table has all the parameters of a bread recipe and the rating for the resulting bake by two judges.  The goal of the this ML project is to predict the judges rating from the recipe and understand which parameters of the recipe where most important overall ([global explainability](https://cloud.google.com/bigquery-ml/docs/reference/standard-sql/bigqueryml-syntax-global-explain)) and for each recipe ([local explainability](https://cloud.google.com/bigquery-ml/docs/reference/standard-sql/bigqueryml-syntax-explain-predict)). BigQuery models include AI Explanation functions to assist with this [explainable AI](https://cloud.google.com/bigquery-ml/docs/reference/standard-sql/bigqueryml-syntax-xai-overview)!"
   ]
  },
  {
   "cell_type": "markdown",
   "id": "98df598e-dca5-4893-95df-b79e424499da",
   "metadata": {},
   "source": [
    "---\n",
    "# Automatic Feature Engineering"
   ]
  },
  {
   "cell_type": "markdown",
   "id": "3c6b56cc-85f3-40d2-a03a-4b1bd8a1944e",
   "metadata": {},
   "source": [
    "## Train Model\n",
    "\n",
    "Use BigQuery ML to train a linear regression model:\n",
    "- [Linear Regression](https://cloud.google.com/bigquery-ml/docs/reference/standard-sql/bigqueryml-syntax-create-glm) with BigQuery ML (BQML)\n",
    "\n",
    "Without specifying a [TRANFORM](https://cloud.google.com/bigquery-ml/docs/reference/standard-sql/bigqueryml-syntax-create#transform) clause in the `CREATE MODEL` statement, BigQuery will apply [automatic preprocessing](https://cloud.google.com/bigquery-ml/docs/reference/standard-sql/bigqueryml-auto-preprocessing) for feature engineering. This includes [imputation](https://cloud.google.com/bigquery-ml/docs/reference/standard-sql/bigqueryml-auto-preprocessing#imputation) and [feature transformation](https://cloud.google.com/bigquery-ml/docs/reference/standard-sql/bigqueryml-auto-preprocessing#feature-transform) based on the input columns data type.\n",
    "\n",
    "This example includes the [training options](https://cloud.google.com/bigquery-ml/docs/create_vertex) to register the resulting model in the [Vertex AI Model Registry](https://cloud.google.com/vertex-ai/docs/model-registry/introduction)."
   ]
  },
  {
   "cell_type": "code",
   "execution_count": 55,
   "id": "ca9a996a-18fa-4c30-97cc-9c79a325e42c",
   "metadata": {},
   "outputs": [],
   "source": [
    "TIMESTAMP = datetime.now().strftime(\"%Y%m%d%H%M%S\")\n",
    "RUN_NAME = f'run-{TIMESTAMP}'\n",
    "BQ_MODEL_AutoFeatureEng = f'{SERIES}_{EXPERIMENT}_auto'"
   ]
  },
  {
   "cell_type": "code",
   "execution_count": 56,
   "id": "8ec35834",
   "metadata": {},
   "outputs": [
    {
     "name": "stdout",
     "output_type": "stream",
     "text": [
      "\n",
      "CREATE OR REPLACE MODEL `statmike-mlops-349915.feature_engineering.03_feature_engineering_auto`\n",
      "OPTIONS (\n",
      "        model_type = 'LINEAR_REG',\n",
      "        input_label_cols = ['JUDGE_A'],\n",
      "        enable_global_explain = TRUE,\n",
      "        data_split_method = 'AUTO_SPLIT',\n",
      "        MODEL_REGISTRY = 'VERTEX_AI',\n",
      "        VERTEX_AI_MODEL_ID = 'bqml_03_feature_engineering_auto',\n",
      "        VERTEX_AI_MODEL_VERSION_ALIASES = ['run-20230110132720', 'auto_feature_engineering']\n",
      "    ) AS\n",
      "SELECT * EXCEPT(Recipe, JUDGE_B)\n",
      "FROM `statmike-mlops-349915.feature_engineering.bread`\n",
      "\n"
     ]
    }
   ],
   "source": [
    "query = f\"\"\"\n",
    "CREATE OR REPLACE MODEL `{BQ_PROJECT}.{BQ_DATASET}.{BQ_MODEL_AutoFeatureEng}`\n",
    "OPTIONS (\n",
    "        model_type = 'LINEAR_REG',\n",
    "        input_label_cols = ['JUDGE_A'],\n",
    "        enable_global_explain = TRUE,\n",
    "        data_split_method = 'AUTO_SPLIT',\n",
    "        MODEL_REGISTRY = 'VERTEX_AI',\n",
    "        VERTEX_AI_MODEL_ID = 'bqml_{BQ_MODEL_AutoFeatureEng}',\n",
    "        VERTEX_AI_MODEL_VERSION_ALIASES = ['{RUN_NAME}', 'auto_feature_engineering']\n",
    "    ) AS\n",
    "SELECT * EXCEPT(Recipe, JUDGE_B)\n",
    "FROM `{BQ_PROJECT}.{BQ_DATASET}.{BQ_TABLE}`\n",
    "\"\"\"\n",
    "print(query)"
   ]
  },
  {
   "cell_type": "code",
   "execution_count": 57,
   "id": "b1a3640e-843d-44c7-ab15-e05845cc070e",
   "metadata": {},
   "outputs": [
    {
     "data": {
      "text/plain": [
       "15.864"
      ]
     },
     "execution_count": 57,
     "metadata": {},
     "output_type": "execute_result"
    }
   ],
   "source": [
    "job = bq.query(query = query)\n",
    "job.result()\n",
    "(job.ended-job.started).total_seconds()"
   ]
  },
  {
   "cell_type": "code",
   "execution_count": 58,
   "id": "6867ee90-60d0-4413-8e39-38cecc7e8d81",
   "metadata": {},
   "outputs": [
    {
     "data": {
      "text/plain": [
       "272000"
      ]
     },
     "execution_count": 58,
     "metadata": {},
     "output_type": "execute_result"
    }
   ],
   "source": [
    "job.total_bytes_processed"
   ]
  },
  {
   "cell_type": "markdown",
   "id": "bf6209c9-5e45-4da2-a4fc-ec7c759c8bbb",
   "metadata": {},
   "source": [
    "Add labels to the model in BigQuery:"
   ]
  },
  {
   "cell_type": "code",
   "execution_count": 59,
   "id": "13d696f2-a277-422c-9cb0-f2ea8b5b242f",
   "metadata": {},
   "outputs": [],
   "source": [
    "bqml_model_AutoFeatureEng = bq.get_model(f'{BQ_PROJECT}.{BQ_DATASET}.{BQ_MODEL_AutoFeatureEng}')\n",
    "bqml_model_AutoFeatureEng.labels = {'series' : f'{SERIES}', 'experiment' : f'{EXPERIMENT}'}\n",
    "bqml_model_AutoFeatureEng = bq.update_model(bqml_model_AutoFeatureEng, ['labels'])"
   ]
  },
  {
   "cell_type": "markdown",
   "id": "2b2757a2-26f1-4efe-8982-c18b5934a1f5",
   "metadata": {},
   "source": [
    "### Feature and Training Review"
   ]
  },
  {
   "cell_type": "markdown",
   "id": "76bec6dc-7312-4676-8018-fd1b9b842dc0",
   "metadata": {},
   "source": [
    "Review the Model Inputs, the feature information before preprocessing, with [ML.FEATURE_INFO](https://cloud.google.com/bigquery-ml/docs/reference/standard-sql/bigqueryml-syntax-feature):"
   ]
  },
  {
   "cell_type": "code",
   "execution_count": 60,
   "id": "1100435a-f279-4ebe-9fd0-85d6eb88b225",
   "metadata": {},
   "outputs": [
    {
     "name": "stdout",
     "output_type": "stream",
     "text": [
      "\n",
      "    SELECT *\n",
      "    FROM ML.FEATURE_INFO(MODEL `statmike-mlops-349915.feature_engineering.03_feature_engineering_auto`)\n",
      "\n"
     ]
    }
   ],
   "source": [
    "query = f\"\"\"\n",
    "    SELECT *\n",
    "    FROM ML.FEATURE_INFO(MODEL `{BQ_PROJECT}.{BQ_DATASET}.{BQ_MODEL_AutoFeatureEng}`)\n",
    "\"\"\"\n",
    "print(query)"
   ]
  },
  {
   "cell_type": "code",
   "execution_count": 61,
   "id": "b829e860-d977-41c4-a2f6-9b841d6892fa",
   "metadata": {},
   "outputs": [
    {
     "data": {
      "text/html": [
       "<div>\n",
       "<style scoped>\n",
       "    .dataframe tbody tr th:only-of-type {\n",
       "        vertical-align: middle;\n",
       "    }\n",
       "\n",
       "    .dataframe tbody tr th {\n",
       "        vertical-align: top;\n",
       "    }\n",
       "\n",
       "    .dataframe thead th {\n",
       "        text-align: right;\n",
       "    }\n",
       "</style>\n",
       "<table border=\"1\" class=\"dataframe\">\n",
       "  <thead>\n",
       "    <tr style=\"text-align: right;\">\n",
       "      <th></th>\n",
       "      <th>input</th>\n",
       "      <th>min</th>\n",
       "      <th>max</th>\n",
       "      <th>mean</th>\n",
       "      <th>median</th>\n",
       "      <th>stddev</th>\n",
       "      <th>category_count</th>\n",
       "      <th>null_count</th>\n",
       "      <th>dimension</th>\n",
       "    </tr>\n",
       "  </thead>\n",
       "  <tbody>\n",
       "    <tr>\n",
       "      <th>0</th>\n",
       "      <td>flourAmt</td>\n",
       "      <td>470.495577</td>\n",
       "      <td>532.377351</td>\n",
       "      <td>500.406685</td>\n",
       "      <td>500.178034</td>\n",
       "      <td>10.028959</td>\n",
       "      <td>NaN</td>\n",
       "      <td>0</td>\n",
       "      <td>NaN</td>\n",
       "    </tr>\n",
       "    <tr>\n",
       "      <th>1</th>\n",
       "      <td>saltAmt</td>\n",
       "      <td>8.000000</td>\n",
       "      <td>12.000000</td>\n",
       "      <td>10.000000</td>\n",
       "      <td>10.000000</td>\n",
       "      <td>1.216189</td>\n",
       "      <td>NaN</td>\n",
       "      <td>0</td>\n",
       "      <td>NaN</td>\n",
       "    </tr>\n",
       "    <tr>\n",
       "      <th>2</th>\n",
       "      <td>yeastAmt</td>\n",
       "      <td>8.000000</td>\n",
       "      <td>12.000000</td>\n",
       "      <td>10.025169</td>\n",
       "      <td>10.000000</td>\n",
       "      <td>1.233234</td>\n",
       "      <td>NaN</td>\n",
       "      <td>0</td>\n",
       "      <td>NaN</td>\n",
       "    </tr>\n",
       "    <tr>\n",
       "      <th>3</th>\n",
       "      <td>mix1Time</td>\n",
       "      <td>2.000000</td>\n",
       "      <td>9.000000</td>\n",
       "      <td>5.074279</td>\n",
       "      <td>5.000000</td>\n",
       "      <td>1.074616</td>\n",
       "      <td>NaN</td>\n",
       "      <td>0</td>\n",
       "      <td>NaN</td>\n",
       "    </tr>\n",
       "    <tr>\n",
       "      <th>4</th>\n",
       "      <td>mix1Speed</td>\n",
       "      <td>2.000000</td>\n",
       "      <td>5.000000</td>\n",
       "      <td>3.454266</td>\n",
       "      <td>3.000000</td>\n",
       "      <td>0.980724</td>\n",
       "      <td>NaN</td>\n",
       "      <td>0</td>\n",
       "      <td>NaN</td>\n",
       "    </tr>\n",
       "    <tr>\n",
       "      <th>5</th>\n",
       "      <td>mix2Time</td>\n",
       "      <td>4.000000</td>\n",
       "      <td>8.000000</td>\n",
       "      <td>5.964395</td>\n",
       "      <td>6.000000</td>\n",
       "      <td>1.218695</td>\n",
       "      <td>NaN</td>\n",
       "      <td>0</td>\n",
       "      <td>NaN</td>\n",
       "    </tr>\n",
       "    <tr>\n",
       "      <th>6</th>\n",
       "      <td>mix2Speed</td>\n",
       "      <td>4.000000</td>\n",
       "      <td>6.000000</td>\n",
       "      <td>4.979128</td>\n",
       "      <td>5.000000</td>\n",
       "      <td>0.704186</td>\n",
       "      <td>NaN</td>\n",
       "      <td>0</td>\n",
       "      <td>NaN</td>\n",
       "    </tr>\n",
       "    <tr>\n",
       "      <th>7</th>\n",
       "      <td>water1Amt</td>\n",
       "      <td>261.946352</td>\n",
       "      <td>398.275160</td>\n",
       "      <td>329.465854</td>\n",
       "      <td>329.231642</td>\n",
       "      <td>19.867207</td>\n",
       "      <td>NaN</td>\n",
       "      <td>0</td>\n",
       "      <td>NaN</td>\n",
       "    </tr>\n",
       "    <tr>\n",
       "      <th>8</th>\n",
       "      <td>water2Amt</td>\n",
       "      <td>47.282754</td>\n",
       "      <td>175.183277</td>\n",
       "      <td>109.206050</td>\n",
       "      <td>109.921499</td>\n",
       "      <td>19.990929</td>\n",
       "      <td>NaN</td>\n",
       "      <td>0</td>\n",
       "      <td>NaN</td>\n",
       "    </tr>\n",
       "    <tr>\n",
       "      <th>9</th>\n",
       "      <td>waterTemp</td>\n",
       "      <td>40.000000</td>\n",
       "      <td>50.000000</td>\n",
       "      <td>45.079190</td>\n",
       "      <td>45.000000</td>\n",
       "      <td>2.960923</td>\n",
       "      <td>NaN</td>\n",
       "      <td>0</td>\n",
       "      <td>NaN</td>\n",
       "    </tr>\n",
       "    <tr>\n",
       "      <th>10</th>\n",
       "      <td>proveTime</td>\n",
       "      <td>83.211082</td>\n",
       "      <td>115.674439</td>\n",
       "      <td>100.038713</td>\n",
       "      <td>99.933071</td>\n",
       "      <td>4.973838</td>\n",
       "      <td>NaN</td>\n",
       "      <td>0</td>\n",
       "      <td>NaN</td>\n",
       "    </tr>\n",
       "    <tr>\n",
       "      <th>11</th>\n",
       "      <td>restTime</td>\n",
       "      <td>35.000000</td>\n",
       "      <td>45.000000</td>\n",
       "      <td>39.900552</td>\n",
       "      <td>40.000000</td>\n",
       "      <td>2.912935</td>\n",
       "      <td>NaN</td>\n",
       "      <td>0</td>\n",
       "      <td>NaN</td>\n",
       "    </tr>\n",
       "    <tr>\n",
       "      <th>12</th>\n",
       "      <td>bakeTime</td>\n",
       "      <td>20.000000</td>\n",
       "      <td>30.000000</td>\n",
       "      <td>24.999386</td>\n",
       "      <td>25.000000</td>\n",
       "      <td>2.929243</td>\n",
       "      <td>NaN</td>\n",
       "      <td>0</td>\n",
       "      <td>NaN</td>\n",
       "    </tr>\n",
       "    <tr>\n",
       "      <th>13</th>\n",
       "      <td>bakeTemp</td>\n",
       "      <td>362.999421</td>\n",
       "      <td>481.739742</td>\n",
       "      <td>424.984819</td>\n",
       "      <td>425.256652</td>\n",
       "      <td>15.233806</td>\n",
       "      <td>NaN</td>\n",
       "      <td>0</td>\n",
       "      <td>NaN</td>\n",
       "    </tr>\n",
       "    <tr>\n",
       "      <th>14</th>\n",
       "      <td>ambTemp</td>\n",
       "      <td>25.583787</td>\n",
       "      <td>87.763338</td>\n",
       "      <td>60.176397</td>\n",
       "      <td>60.341174</td>\n",
       "      <td>9.692323</td>\n",
       "      <td>NaN</td>\n",
       "      <td>0</td>\n",
       "      <td>NaN</td>\n",
       "    </tr>\n",
       "    <tr>\n",
       "      <th>15</th>\n",
       "      <td>ambHumidity</td>\n",
       "      <td>15.965772</td>\n",
       "      <td>80.849006</td>\n",
       "      <td>49.546514</td>\n",
       "      <td>49.631554</td>\n",
       "      <td>9.857660</td>\n",
       "      <td>NaN</td>\n",
       "      <td>0</td>\n",
       "      <td>NaN</td>\n",
       "    </tr>\n",
       "  </tbody>\n",
       "</table>\n",
       "</div>"
      ],
      "text/plain": [
       "          input         min         max        mean      median     stddev  \\\n",
       "0      flourAmt  470.495577  532.377351  500.406685  500.178034  10.028959   \n",
       "1       saltAmt    8.000000   12.000000   10.000000   10.000000   1.216189   \n",
       "2      yeastAmt    8.000000   12.000000   10.025169   10.000000   1.233234   \n",
       "3      mix1Time    2.000000    9.000000    5.074279    5.000000   1.074616   \n",
       "4     mix1Speed    2.000000    5.000000    3.454266    3.000000   0.980724   \n",
       "5      mix2Time    4.000000    8.000000    5.964395    6.000000   1.218695   \n",
       "6     mix2Speed    4.000000    6.000000    4.979128    5.000000   0.704186   \n",
       "7     water1Amt  261.946352  398.275160  329.465854  329.231642  19.867207   \n",
       "8     water2Amt   47.282754  175.183277  109.206050  109.921499  19.990929   \n",
       "9     waterTemp   40.000000   50.000000   45.079190   45.000000   2.960923   \n",
       "10    proveTime   83.211082  115.674439  100.038713   99.933071   4.973838   \n",
       "11     restTime   35.000000   45.000000   39.900552   40.000000   2.912935   \n",
       "12     bakeTime   20.000000   30.000000   24.999386   25.000000   2.929243   \n",
       "13     bakeTemp  362.999421  481.739742  424.984819  425.256652  15.233806   \n",
       "14      ambTemp   25.583787   87.763338   60.176397   60.341174   9.692323   \n",
       "15  ambHumidity   15.965772   80.849006   49.546514   49.631554   9.857660   \n",
       "\n",
       "    category_count  null_count  dimension  \n",
       "0              NaN           0        NaN  \n",
       "1              NaN           0        NaN  \n",
       "2              NaN           0        NaN  \n",
       "3              NaN           0        NaN  \n",
       "4              NaN           0        NaN  \n",
       "5              NaN           0        NaN  \n",
       "6              NaN           0        NaN  \n",
       "7              NaN           0        NaN  \n",
       "8              NaN           0        NaN  \n",
       "9              NaN           0        NaN  \n",
       "10             NaN           0        NaN  \n",
       "11             NaN           0        NaN  \n",
       "12             NaN           0        NaN  \n",
       "13             NaN           0        NaN  \n",
       "14             NaN           0        NaN  \n",
       "15             NaN           0        NaN  "
      ]
     },
     "execution_count": 61,
     "metadata": {},
     "output_type": "execute_result"
    }
   ],
   "source": [
    "bq.query(query = query).to_dataframe()"
   ]
  },
  {
   "cell_type": "markdown",
   "id": "321078f6-393a-4abd-9d5e-b2068a795068",
   "metadata": {},
   "source": [
    "Review the iterations from training with [ML.TRAINING_INFO](https://cloud.google.com/bigquery-ml/docs/reference/standard-sql/bigqueryml-syntax-train):"
   ]
  },
  {
   "cell_type": "code",
   "execution_count": 62,
   "id": "30eb40bd-3488-42de-b218-809d8f97bf83",
   "metadata": {},
   "outputs": [
    {
     "name": "stdout",
     "output_type": "stream",
     "text": [
      "\n",
      "    SELECT *\n",
      "    FROM ML.TRAINING_INFO(MODEL `statmike-mlops-349915.feature_engineering.03_feature_engineering_auto`)\n",
      "    ORDER BY iteration\n",
      "\n"
     ]
    }
   ],
   "source": [
    "query = f\"\"\"\n",
    "    SELECT *\n",
    "    FROM ML.TRAINING_INFO(MODEL `{BQ_PROJECT}.{BQ_DATASET}.{BQ_MODEL_AutoFeatureEng}`)\n",
    "    ORDER BY iteration\n",
    "\"\"\"\n",
    "print(query)"
   ]
  },
  {
   "cell_type": "code",
   "execution_count": 63,
   "id": "14d2757d",
   "metadata": {},
   "outputs": [
    {
     "data": {
      "text/html": [
       "<div>\n",
       "<style scoped>\n",
       "    .dataframe tbody tr th:only-of-type {\n",
       "        vertical-align: middle;\n",
       "    }\n",
       "\n",
       "    .dataframe tbody tr th {\n",
       "        vertical-align: top;\n",
       "    }\n",
       "\n",
       "    .dataframe thead th {\n",
       "        text-align: right;\n",
       "    }\n",
       "</style>\n",
       "<table border=\"1\" class=\"dataframe\">\n",
       "  <thead>\n",
       "    <tr style=\"text-align: right;\">\n",
       "      <th></th>\n",
       "      <th>training_run</th>\n",
       "      <th>iteration</th>\n",
       "      <th>loss</th>\n",
       "      <th>eval_loss</th>\n",
       "      <th>learning_rate</th>\n",
       "      <th>duration_ms</th>\n",
       "    </tr>\n",
       "  </thead>\n",
       "  <tbody>\n",
       "    <tr>\n",
       "      <th>0</th>\n",
       "      <td>0</td>\n",
       "      <td>0</td>\n",
       "      <td>86.630143</td>\n",
       "      <td>88.793669</td>\n",
       "      <td>NaN</td>\n",
       "      <td>2961</td>\n",
       "    </tr>\n",
       "  </tbody>\n",
       "</table>\n",
       "</div>"
      ],
      "text/plain": [
       "   training_run  iteration       loss  eval_loss  learning_rate  duration_ms\n",
       "0             0          0  86.630143  88.793669            NaN         2961"
      ]
     },
     "execution_count": 63,
     "metadata": {},
     "output_type": "execute_result"
    }
   ],
   "source": [
    "bq.query(query = query).to_dataframe()"
   ]
  },
  {
   "cell_type": "markdown",
   "id": "596380c5-83ac-41d5-9519-f4df0c35886c",
   "metadata": {},
   "source": [
    "### Model Metrics Review\n",
    "\n",
    "Review the model evaluation statistics with [ML.EVALUATE](https://cloud.google.com/bigquery-ml/docs/reference/standard-sql/bigqueryml-syntax-evaluate):"
   ]
  },
  {
   "cell_type": "code",
   "execution_count": 64,
   "id": "eb26a15e-0c6b-477b-b04d-c669aa77cd27",
   "metadata": {},
   "outputs": [
    {
     "name": "stdout",
     "output_type": "stream",
     "text": [
      "\n",
      "    SELECT * FROM ML.EVALUATE(MODEL `statmike-mlops-349915.feature_engineering.03_feature_engineering_auto`)\n",
      "\n"
     ]
    }
   ],
   "source": [
    "query = f\"\"\"\n",
    "    SELECT * FROM ML.EVALUATE(MODEL `{BQ_PROJECT}.{BQ_DATASET}.{BQ_MODEL_AutoFeatureEng}`)\n",
    "\"\"\"\n",
    "print(query)"
   ]
  },
  {
   "cell_type": "code",
   "execution_count": 65,
   "id": "d1cffa5b-42e4-4960-a55f-1ccade693b89",
   "metadata": {},
   "outputs": [
    {
     "data": {
      "text/html": [
       "<div>\n",
       "<style scoped>\n",
       "    .dataframe tbody tr th:only-of-type {\n",
       "        vertical-align: middle;\n",
       "    }\n",
       "\n",
       "    .dataframe tbody tr th {\n",
       "        vertical-align: top;\n",
       "    }\n",
       "\n",
       "    .dataframe thead th {\n",
       "        text-align: right;\n",
       "    }\n",
       "</style>\n",
       "<table border=\"1\" class=\"dataframe\">\n",
       "  <thead>\n",
       "    <tr style=\"text-align: right;\">\n",
       "      <th></th>\n",
       "      <th>mean_absolute_error</th>\n",
       "      <th>mean_squared_error</th>\n",
       "      <th>mean_squared_log_error</th>\n",
       "      <th>median_absolute_error</th>\n",
       "      <th>r2_score</th>\n",
       "      <th>explained_variance</th>\n",
       "    </tr>\n",
       "  </thead>\n",
       "  <tbody>\n",
       "    <tr>\n",
       "      <th>0</th>\n",
       "      <td>7.554296</td>\n",
       "      <td>88.793669</td>\n",
       "      <td>0.018243</td>\n",
       "      <td>6.751984</td>\n",
       "      <td>0.076256</td>\n",
       "      <td>0.076256</td>\n",
       "    </tr>\n",
       "  </tbody>\n",
       "</table>\n",
       "</div>"
      ],
      "text/plain": [
       "   mean_absolute_error  mean_squared_error  mean_squared_log_error  \\\n",
       "0             7.554296           88.793669                0.018243   \n",
       "\n",
       "   median_absolute_error  r2_score  explained_variance  \n",
       "0               6.751984  0.076256            0.076256  "
      ]
     },
     "execution_count": 65,
     "metadata": {},
     "output_type": "execute_result"
    }
   ],
   "source": [
    "bq.query(query = query).to_dataframe()"
   ]
  },
  {
   "cell_type": "markdown",
   "id": "3d5bafb8-a1b2-41cf-9620-0bff64a96379",
   "metadata": {},
   "source": [
    "### Global Explainability - What is important to Judges?\n",
    "\n",
    "Retrieve the influence of each feature on the model with [ML.GLOBAL_EXPLAIN](https://cloud.google.com/bigquery-ml/docs/reference/standard-sql/bigqueryml-syntax-global-explain).  "
   ]
  },
  {
   "cell_type": "code",
   "execution_count": 66,
   "id": "dcb5576e-d0b7-464d-a2f0-8b566d41b18c",
   "metadata": {},
   "outputs": [
    {
     "name": "stdout",
     "output_type": "stream",
     "text": [
      "\n",
      "    SELECT *\n",
      "    FROM ML.GLOBAL_EXPLAIN (MODEL `statmike-mlops-349915.feature_engineering.03_feature_engineering_auto`)\n",
      "\n"
     ]
    }
   ],
   "source": [
    "query = f\"\"\"\n",
    "    SELECT *\n",
    "    FROM ML.GLOBAL_EXPLAIN (MODEL `{BQ_PROJECT}.{BQ_DATASET}.{BQ_MODEL_AutoFeatureEng}`)\n",
    "\"\"\"\n",
    "print(query)"
   ]
  },
  {
   "cell_type": "code",
   "execution_count": 67,
   "id": "e14d4341-75b8-4cb9-a80b-bb2d9b15daae",
   "metadata": {},
   "outputs": [
    {
     "data": {
      "text/html": [
       "<div>\n",
       "<style scoped>\n",
       "    .dataframe tbody tr th:only-of-type {\n",
       "        vertical-align: middle;\n",
       "    }\n",
       "\n",
       "    .dataframe tbody tr th {\n",
       "        vertical-align: top;\n",
       "    }\n",
       "\n",
       "    .dataframe thead th {\n",
       "        text-align: right;\n",
       "    }\n",
       "</style>\n",
       "<table border=\"1\" class=\"dataframe\">\n",
       "  <thead>\n",
       "    <tr style=\"text-align: right;\">\n",
       "      <th></th>\n",
       "      <th>feature</th>\n",
       "      <th>attribution</th>\n",
       "    </tr>\n",
       "  </thead>\n",
       "  <tbody>\n",
       "    <tr>\n",
       "      <th>0</th>\n",
       "      <td>bakeTemp</td>\n",
       "      <td>1.943798</td>\n",
       "    </tr>\n",
       "    <tr>\n",
       "      <th>1</th>\n",
       "      <td>mix2Time</td>\n",
       "      <td>0.915663</td>\n",
       "    </tr>\n",
       "    <tr>\n",
       "      <th>2</th>\n",
       "      <td>water2Amt</td>\n",
       "      <td>0.384772</td>\n",
       "    </tr>\n",
       "    <tr>\n",
       "      <th>3</th>\n",
       "      <td>mix2Speed</td>\n",
       "      <td>0.371966</td>\n",
       "    </tr>\n",
       "    <tr>\n",
       "      <th>4</th>\n",
       "      <td>mix1Speed</td>\n",
       "      <td>0.342140</td>\n",
       "    </tr>\n",
       "    <tr>\n",
       "      <th>5</th>\n",
       "      <td>yeastAmt</td>\n",
       "      <td>0.328856</td>\n",
       "    </tr>\n",
       "    <tr>\n",
       "      <th>6</th>\n",
       "      <td>saltAmt</td>\n",
       "      <td>0.245741</td>\n",
       "    </tr>\n",
       "    <tr>\n",
       "      <th>7</th>\n",
       "      <td>ambHumidity</td>\n",
       "      <td>0.163959</td>\n",
       "    </tr>\n",
       "    <tr>\n",
       "      <th>8</th>\n",
       "      <td>proveTime</td>\n",
       "      <td>0.152604</td>\n",
       "    </tr>\n",
       "    <tr>\n",
       "      <th>9</th>\n",
       "      <td>flourAmt</td>\n",
       "      <td>0.145813</td>\n",
       "    </tr>\n",
       "    <tr>\n",
       "      <th>10</th>\n",
       "      <td>ambTemp</td>\n",
       "      <td>0.136541</td>\n",
       "    </tr>\n",
       "    <tr>\n",
       "      <th>11</th>\n",
       "      <td>waterTemp</td>\n",
       "      <td>0.136408</td>\n",
       "    </tr>\n",
       "    <tr>\n",
       "      <th>12</th>\n",
       "      <td>mix1Time</td>\n",
       "      <td>0.130583</td>\n",
       "    </tr>\n",
       "    <tr>\n",
       "      <th>13</th>\n",
       "      <td>water1Amt</td>\n",
       "      <td>0.061568</td>\n",
       "    </tr>\n",
       "    <tr>\n",
       "      <th>14</th>\n",
       "      <td>restTime</td>\n",
       "      <td>0.025444</td>\n",
       "    </tr>\n",
       "    <tr>\n",
       "      <th>15</th>\n",
       "      <td>bakeTime</td>\n",
       "      <td>0.010852</td>\n",
       "    </tr>\n",
       "  </tbody>\n",
       "</table>\n",
       "</div>"
      ],
      "text/plain": [
       "        feature  attribution\n",
       "0      bakeTemp     1.943798\n",
       "1      mix2Time     0.915663\n",
       "2     water2Amt     0.384772\n",
       "3     mix2Speed     0.371966\n",
       "4     mix1Speed     0.342140\n",
       "5      yeastAmt     0.328856\n",
       "6       saltAmt     0.245741\n",
       "7   ambHumidity     0.163959\n",
       "8     proveTime     0.152604\n",
       "9      flourAmt     0.145813\n",
       "10      ambTemp     0.136541\n",
       "11    waterTemp     0.136408\n",
       "12     mix1Time     0.130583\n",
       "13    water1Amt     0.061568\n",
       "14     restTime     0.025444\n",
       "15     bakeTime     0.010852"
      ]
     },
     "execution_count": 67,
     "metadata": {},
     "output_type": "execute_result"
    }
   ],
   "source": [
    "gexplain = bq.query(query = query).to_dataframe()\n",
    "gexplain"
   ]
  },
  {
   "cell_type": "markdown",
   "id": "3f2564d7-d386-4176-9d55-d6fa477eda19",
   "metadata": {},
   "source": [
    "Plot the attribution:"
   ]
  },
  {
   "cell_type": "code",
   "execution_count": 68,
   "id": "6cbc28ff-f088-4b80-a78e-75f4322c4655",
   "metadata": {},
   "outputs": [
    {
     "data": {
      "image/png": "[encoded data removed]",
      "text/plain": [
       "<Figure size 1080x576 with 1 Axes>"
      ]
     },
     "metadata": {
      "needs_background": "light"
     },
     "output_type": "display_data"
    }
   ],
   "source": [
    "plt.figure(figsize=(15,8))\n",
    "plt.barh(gexplain['feature'], gexplain['attribution'])\n",
    "plt.title('Global Influence')\n",
    "plt.xlabel('Attribution')\n",
    "#plt.ylabel('Feature')\n",
    "plt.show()"
   ]
  },
  {
   "cell_type": "markdown",
   "id": "1eaffa75-66b8-4f5a-a302-7a5dd8a92750",
   "metadata": {},
   "source": [
    "### Predictions With BigQuery ML (BQML)\n",
    "\n",
    "Create a pandas dataframe with retrieved predictions for the test data in the table using [ML.PREDICT](https://cloud.google.com/bigquery-ml/docs/reference/standard-sql/bigqueryml-syntax-predict):"
   ]
  },
  {
   "cell_type": "code",
   "execution_count": 69,
   "id": "c1026525-9173-4a89-b055-c49ad6216a48",
   "metadata": {},
   "outputs": [
    {
     "name": "stdout",
     "output_type": "stream",
     "text": [
      "\n",
      "    SELECT Recipe, JUDGE_A, predicted_JUDGE_A, JUDGE_A-predicted_JUDGE_A as Error\n",
      "    FROM ML.PREDICT (MODEL `statmike-mlops-349915.feature_engineering.03_feature_engineering_auto`,(\n",
      "        SELECT *\n",
      "        FROM `statmike-mlops-349915.feature_engineering.bread`\n",
      "        WHERE Recipe <= 10)\n",
      "    )\n",
      "    ORDER BY Recipe\n",
      "\n"
     ]
    }
   ],
   "source": [
    "query = f\"\"\"\n",
    "    SELECT Recipe, JUDGE_A, predicted_JUDGE_A, JUDGE_A-predicted_JUDGE_A as Error\n",
    "    FROM ML.PREDICT (MODEL `{BQ_PROJECT}.{BQ_DATASET}.{BQ_MODEL_AutoFeatureEng}`,(\n",
    "        SELECT *\n",
    "        FROM `{BQ_PROJECT}.{BQ_DATASET}.{BQ_TABLE}`\n",
    "        WHERE Recipe <= 10)\n",
    "    )\n",
    "    ORDER BY Recipe\n",
    "\"\"\"\n",
    "print(query)"
   ]
  },
  {
   "cell_type": "code",
   "execution_count": 70,
   "id": "1810030f-a492-429c-8730-1833b1d7a6f9",
   "metadata": {},
   "outputs": [
    {
     "data": {
      "text/html": [
       "<div>\n",
       "<style scoped>\n",
       "    .dataframe tbody tr th:only-of-type {\n",
       "        vertical-align: middle;\n",
       "    }\n",
       "\n",
       "    .dataframe tbody tr th {\n",
       "        vertical-align: top;\n",
       "    }\n",
       "\n",
       "    .dataframe thead th {\n",
       "        text-align: right;\n",
       "    }\n",
       "</style>\n",
       "<table border=\"1\" class=\"dataframe\">\n",
       "  <thead>\n",
       "    <tr style=\"text-align: right;\">\n",
       "      <th></th>\n",
       "      <th>Recipe</th>\n",
       "      <th>JUDGE_A</th>\n",
       "      <th>predicted_JUDGE_A</th>\n",
       "      <th>Error</th>\n",
       "    </tr>\n",
       "  </thead>\n",
       "  <tbody>\n",
       "    <tr>\n",
       "      <th>0</th>\n",
       "      <td>1</td>\n",
       "      <td>71.0</td>\n",
       "      <td>72.490806</td>\n",
       "      <td>-1.490806</td>\n",
       "    </tr>\n",
       "    <tr>\n",
       "      <th>1</th>\n",
       "      <td>2</td>\n",
       "      <td>79.0</td>\n",
       "      <td>75.298381</td>\n",
       "      <td>3.701619</td>\n",
       "    </tr>\n",
       "    <tr>\n",
       "      <th>2</th>\n",
       "      <td>3</td>\n",
       "      <td>80.0</td>\n",
       "      <td>77.477975</td>\n",
       "      <td>2.522025</td>\n",
       "    </tr>\n",
       "    <tr>\n",
       "      <th>3</th>\n",
       "      <td>4</td>\n",
       "      <td>74.0</td>\n",
       "      <td>78.353231</td>\n",
       "      <td>-4.353231</td>\n",
       "    </tr>\n",
       "    <tr>\n",
       "      <th>4</th>\n",
       "      <td>5</td>\n",
       "      <td>81.0</td>\n",
       "      <td>75.041578</td>\n",
       "      <td>5.958422</td>\n",
       "    </tr>\n",
       "    <tr>\n",
       "      <th>5</th>\n",
       "      <td>6</td>\n",
       "      <td>78.0</td>\n",
       "      <td>76.537661</td>\n",
       "      <td>1.462339</td>\n",
       "    </tr>\n",
       "    <tr>\n",
       "      <th>6</th>\n",
       "      <td>7</td>\n",
       "      <td>78.0</td>\n",
       "      <td>72.477499</td>\n",
       "      <td>5.522501</td>\n",
       "    </tr>\n",
       "    <tr>\n",
       "      <th>7</th>\n",
       "      <td>8</td>\n",
       "      <td>74.0</td>\n",
       "      <td>74.587116</td>\n",
       "      <td>-0.587116</td>\n",
       "    </tr>\n",
       "    <tr>\n",
       "      <th>8</th>\n",
       "      <td>9</td>\n",
       "      <td>69.0</td>\n",
       "      <td>77.913040</td>\n",
       "      <td>-8.913040</td>\n",
       "    </tr>\n",
       "    <tr>\n",
       "      <th>9</th>\n",
       "      <td>10</td>\n",
       "      <td>79.0</td>\n",
       "      <td>74.113108</td>\n",
       "      <td>4.886892</td>\n",
       "    </tr>\n",
       "  </tbody>\n",
       "</table>\n",
       "</div>"
      ],
      "text/plain": [
       "   Recipe  JUDGE_A  predicted_JUDGE_A     Error\n",
       "0       1     71.0          72.490806 -1.490806\n",
       "1       2     79.0          75.298381  3.701619\n",
       "2       3     80.0          77.477975  2.522025\n",
       "3       4     74.0          78.353231 -4.353231\n",
       "4       5     81.0          75.041578  5.958422\n",
       "5       6     78.0          76.537661  1.462339\n",
       "6       7     78.0          72.477499  5.522501\n",
       "7       8     74.0          74.587116 -0.587116\n",
       "8       9     69.0          77.913040 -8.913040\n",
       "9      10     79.0          74.113108  4.886892"
      ]
     },
     "execution_count": 70,
     "metadata": {},
     "output_type": "execute_result"
    }
   ],
   "source": [
    "bq.query(query = query).to_dataframe()"
   ]
  },
  {
   "cell_type": "markdown",
   "id": "a7e2e696-8c53-4fde-9e81-a105779b9a1d",
   "metadata": {},
   "source": [
    "### Local Explainability - What impacted the judges rating?\n",
    "\n",
    "Retrieve feature attribution values to interpret each features contribution to a prediction relative to the baseline prediction using [ML.EXPLAIN_PREDICT](https://cloud.google.com/bigquery-ml/docs/reference/standard-sql/bigqueryml-syntax-explain-predict)."
   ]
  },
  {
   "cell_type": "code",
   "execution_count": 71,
   "id": "65f4d5d9-7ff7-4017-82a9-c256482e6bee",
   "metadata": {},
   "outputs": [
    {
     "name": "stdout",
     "output_type": "stream",
     "text": [
      "\n",
      "    SELECT *\n",
      "    FROM ML.EXPLAIN_PREDICT (MODEL `statmike-mlops-349915.feature_engineering.03_feature_engineering_auto`,(\n",
      "        SELECT *\n",
      "        FROM `statmike-mlops-349915.feature_engineering.bread`\n",
      "        WHERE Recipe <= 10)\n",
      "    )\n",
      "    ORDER BY Recipe\n",
      "\n"
     ]
    }
   ],
   "source": [
    "query = f\"\"\"\n",
    "    SELECT *\n",
    "    FROM ML.EXPLAIN_PREDICT (MODEL `{BQ_PROJECT}.{BQ_DATASET}.{BQ_MODEL_AutoFeatureEng}`,(\n",
    "        SELECT *\n",
    "        FROM `{BQ_PROJECT}.{BQ_DATASET}.{BQ_TABLE}`\n",
    "        WHERE Recipe <= 10)\n",
    "    )\n",
    "    ORDER BY Recipe\n",
    "\"\"\"\n",
    "print(query)"
   ]
  },
  {
   "cell_type": "code",
   "execution_count": 72,
   "id": "953ff88f-244a-44f4-8a1f-a9be77b79ee3",
   "metadata": {},
   "outputs": [
    {
     "data": {
      "text/html": [
       "<div>\n",
       "<style scoped>\n",
       "    .dataframe tbody tr th:only-of-type {\n",
       "        vertical-align: middle;\n",
       "    }\n",
       "\n",
       "    .dataframe tbody tr th {\n",
       "        vertical-align: top;\n",
       "    }\n",
       "\n",
       "    .dataframe thead th {\n",
       "        text-align: right;\n",
       "    }\n",
       "</style>\n",
       "<table border=\"1\" class=\"dataframe\">\n",
       "  <thead>\n",
       "    <tr style=\"text-align: right;\">\n",
       "      <th></th>\n",
       "      <th>predicted_JUDGE_A</th>\n",
       "      <th>top_feature_attributions</th>\n",
       "      <th>baseline_prediction_value</th>\n",
       "      <th>prediction_value</th>\n",
       "      <th>approximation_error</th>\n",
       "      <th>Recipe</th>\n",
       "      <th>flourAmt</th>\n",
       "      <th>saltAmt</th>\n",
       "      <th>yeastAmt</th>\n",
       "      <th>mix1Time</th>\n",
       "      <th>...</th>\n",
       "      <th>water2Amt</th>\n",
       "      <th>waterTemp</th>\n",
       "      <th>proveTime</th>\n",
       "      <th>restTime</th>\n",
       "      <th>bakeTime</th>\n",
       "      <th>bakeTemp</th>\n",
       "      <th>ambTemp</th>\n",
       "      <th>ambHumidity</th>\n",
       "      <th>JUDGE_A</th>\n",
       "      <th>JUDGE_B</th>\n",
       "    </tr>\n",
       "  </thead>\n",
       "  <tbody>\n",
       "    <tr>\n",
       "      <th>0</th>\n",
       "      <td>72.490806</td>\n",
       "      <td>[{'feature': 'bakeTemp', 'attribution': -1.513...</td>\n",
       "      <td>74.641498</td>\n",
       "      <td>72.490806</td>\n",
       "      <td>0.0</td>\n",
       "      <td>1</td>\n",
       "      <td>515.547531</td>\n",
       "      <td>9</td>\n",
       "      <td>11</td>\n",
       "      <td>4</td>\n",
       "      <td>...</td>\n",
       "      <td>80.250726</td>\n",
       "      <td>41</td>\n",
       "      <td>90.661748</td>\n",
       "      <td>37</td>\n",
       "      <td>26</td>\n",
       "      <td>434.434191</td>\n",
       "      <td>68.500605</td>\n",
       "      <td>55.210172</td>\n",
       "      <td>71.0</td>\n",
       "      <td>59.0</td>\n",
       "    </tr>\n",
       "    <tr>\n",
       "      <th>1</th>\n",
       "      <td>75.298381</td>\n",
       "      <td>[{'feature': 'bakeTemp', 'attribution': -1.489...</td>\n",
       "      <td>74.641498</td>\n",
       "      <td>75.298381</td>\n",
       "      <td>0.0</td>\n",
       "      <td>2</td>\n",
       "      <td>494.435203</td>\n",
       "      <td>8</td>\n",
       "      <td>10</td>\n",
       "      <td>4</td>\n",
       "      <td>...</td>\n",
       "      <td>102.361146</td>\n",
       "      <td>40</td>\n",
       "      <td>100.850857</td>\n",
       "      <td>36</td>\n",
       "      <td>28</td>\n",
       "      <td>434.282962</td>\n",
       "      <td>62.650467</td>\n",
       "      <td>59.707303</td>\n",
       "      <td>79.0</td>\n",
       "      <td>69.0</td>\n",
       "    </tr>\n",
       "    <tr>\n",
       "      <th>2</th>\n",
       "      <td>77.477975</td>\n",
       "      <td>[{'feature': 'bakeTemp', 'attribution': 2.4617...</td>\n",
       "      <td>74.641498</td>\n",
       "      <td>77.477975</td>\n",
       "      <td>0.0</td>\n",
       "      <td>3</td>\n",
       "      <td>505.706355</td>\n",
       "      <td>10</td>\n",
       "      <td>9</td>\n",
       "      <td>7</td>\n",
       "      <td>...</td>\n",
       "      <td>113.890652</td>\n",
       "      <td>41</td>\n",
       "      <td>94.380240</td>\n",
       "      <td>43</td>\n",
       "      <td>29</td>\n",
       "      <td>409.618577</td>\n",
       "      <td>64.530485</td>\n",
       "      <td>54.218660</td>\n",
       "      <td>80.0</td>\n",
       "      <td>70.0</td>\n",
       "    </tr>\n",
       "    <tr>\n",
       "      <th>3</th>\n",
       "      <td>78.353231</td>\n",
       "      <td>[{'feature': 'mix2Time', 'attribution': 1.8914...</td>\n",
       "      <td>74.641498</td>\n",
       "      <td>78.353231</td>\n",
       "      <td>0.0</td>\n",
       "      <td>4</td>\n",
       "      <td>497.352020</td>\n",
       "      <td>10</td>\n",
       "      <td>8</td>\n",
       "      <td>5</td>\n",
       "      <td>...</td>\n",
       "      <td>80.730411</td>\n",
       "      <td>43</td>\n",
       "      <td>102.036819</td>\n",
       "      <td>41</td>\n",
       "      <td>22</td>\n",
       "      <td>416.374184</td>\n",
       "      <td>66.839937</td>\n",
       "      <td>49.167220</td>\n",
       "      <td>74.0</td>\n",
       "      <td>62.0</td>\n",
       "    </tr>\n",
       "    <tr>\n",
       "      <th>4</th>\n",
       "      <td>75.041578</td>\n",
       "      <td>[{'feature': 'bakeTemp', 'attribution': -1.346...</td>\n",
       "      <td>74.641498</td>\n",
       "      <td>75.041578</td>\n",
       "      <td>0.0</td>\n",
       "      <td>5</td>\n",
       "      <td>485.829086</td>\n",
       "      <td>8</td>\n",
       "      <td>11</td>\n",
       "      <td>5</td>\n",
       "      <td>...</td>\n",
       "      <td>98.467490</td>\n",
       "      <td>45</td>\n",
       "      <td>104.718203</td>\n",
       "      <td>42</td>\n",
       "      <td>23</td>\n",
       "      <td>433.390445</td>\n",
       "      <td>52.793996</td>\n",
       "      <td>57.582621</td>\n",
       "      <td>81.0</td>\n",
       "      <td>72.0</td>\n",
       "    </tr>\n",
       "    <tr>\n",
       "      <th>5</th>\n",
       "      <td>76.537661</td>\n",
       "      <td>[{'feature': 'bakeTemp', 'attribution': 2.5287...</td>\n",
       "      <td>74.641498</td>\n",
       "      <td>76.537661</td>\n",
       "      <td>0.0</td>\n",
       "      <td>6</td>\n",
       "      <td>490.183679</td>\n",
       "      <td>10</td>\n",
       "      <td>11</td>\n",
       "      <td>5</td>\n",
       "      <td>...</td>\n",
       "      <td>95.246531</td>\n",
       "      <td>49</td>\n",
       "      <td>90.550763</td>\n",
       "      <td>42</td>\n",
       "      <td>28</td>\n",
       "      <td>409.200787</td>\n",
       "      <td>71.604845</td>\n",
       "      <td>45.507028</td>\n",
       "      <td>78.0</td>\n",
       "      <td>68.0</td>\n",
       "    </tr>\n",
       "    <tr>\n",
       "      <th>6</th>\n",
       "      <td>72.477499</td>\n",
       "      <td>[{'feature': 'bakeTemp', 'attribution': -1.997...</td>\n",
       "      <td>74.641498</td>\n",
       "      <td>72.477499</td>\n",
       "      <td>0.0</td>\n",
       "      <td>7</td>\n",
       "      <td>508.577734</td>\n",
       "      <td>8</td>\n",
       "      <td>10</td>\n",
       "      <td>4</td>\n",
       "      <td>...</td>\n",
       "      <td>97.929344</td>\n",
       "      <td>49</td>\n",
       "      <td>98.152207</td>\n",
       "      <td>44</td>\n",
       "      <td>25</td>\n",
       "      <td>437.452416</td>\n",
       "      <td>56.616429</td>\n",
       "      <td>55.153239</td>\n",
       "      <td>78.0</td>\n",
       "      <td>67.0</td>\n",
       "    </tr>\n",
       "    <tr>\n",
       "      <th>7</th>\n",
       "      <td>74.587116</td>\n",
       "      <td>[{'feature': 'bakeTemp', 'attribution': -2.094...</td>\n",
       "      <td>74.641498</td>\n",
       "      <td>74.587116</td>\n",
       "      <td>0.0</td>\n",
       "      <td>8</td>\n",
       "      <td>517.695022</td>\n",
       "      <td>11</td>\n",
       "      <td>9</td>\n",
       "      <td>6</td>\n",
       "      <td>...</td>\n",
       "      <td>108.635735</td>\n",
       "      <td>48</td>\n",
       "      <td>102.001918</td>\n",
       "      <td>38</td>\n",
       "      <td>22</td>\n",
       "      <td>438.059907</td>\n",
       "      <td>80.158807</td>\n",
       "      <td>48.142746</td>\n",
       "      <td>74.0</td>\n",
       "      <td>63.0</td>\n",
       "    </tr>\n",
       "    <tr>\n",
       "      <th>8</th>\n",
       "      <td>77.913040</td>\n",
       "      <td>[{'feature': 'mix2Time', 'attribution': 1.8914...</td>\n",
       "      <td>74.641498</td>\n",
       "      <td>77.913040</td>\n",
       "      <td>0.0</td>\n",
       "      <td>9</td>\n",
       "      <td>495.988172</td>\n",
       "      <td>8</td>\n",
       "      <td>11</td>\n",
       "      <td>4</td>\n",
       "      <td>...</td>\n",
       "      <td>77.313000</td>\n",
       "      <td>40</td>\n",
       "      <td>102.057394</td>\n",
       "      <td>36</td>\n",
       "      <td>20</td>\n",
       "      <td>413.923945</td>\n",
       "      <td>68.343126</td>\n",
       "      <td>47.721921</td>\n",
       "      <td>69.0</td>\n",
       "      <td>56.0</td>\n",
       "    </tr>\n",
       "    <tr>\n",
       "      <th>9</th>\n",
       "      <td>74.113108</td>\n",
       "      <td>[{'feature': 'bakeTemp', 'attribution': -1.069...</td>\n",
       "      <td>74.641498</td>\n",
       "      <td>74.113108</td>\n",
       "      <td>0.0</td>\n",
       "      <td>10</td>\n",
       "      <td>499.512905</td>\n",
       "      <td>10</td>\n",
       "      <td>9</td>\n",
       "      <td>4</td>\n",
       "      <td>...</td>\n",
       "      <td>130.894200</td>\n",
       "      <td>44</td>\n",
       "      <td>97.960904</td>\n",
       "      <td>36</td>\n",
       "      <td>23</td>\n",
       "      <td>431.663510</td>\n",
       "      <td>63.146053</td>\n",
       "      <td>46.825431</td>\n",
       "      <td>79.0</td>\n",
       "      <td>69.0</td>\n",
       "    </tr>\n",
       "  </tbody>\n",
       "</table>\n",
       "<p>10 rows × 24 columns</p>\n",
       "</div>"
      ],
      "text/plain": [
       "   predicted_JUDGE_A                           top_feature_attributions  \\\n",
       "0          72.490806  [{'feature': 'bakeTemp', 'attribution': -1.513...   \n",
       "1          75.298381  [{'feature': 'bakeTemp', 'attribution': -1.489...   \n",
       "2          77.477975  [{'feature': 'bakeTemp', 'attribution': 2.4617...   \n",
       "3          78.353231  [{'feature': 'mix2Time', 'attribution': 1.8914...   \n",
       "4          75.041578  [{'feature': 'bakeTemp', 'attribution': -1.346...   \n",
       "5          76.537661  [{'feature': 'bakeTemp', 'attribution': 2.5287...   \n",
       "6          72.477499  [{'feature': 'bakeTemp', 'attribution': -1.997...   \n",
       "7          74.587116  [{'feature': 'bakeTemp', 'attribution': -2.094...   \n",
       "8          77.913040  [{'feature': 'mix2Time', 'attribution': 1.8914...   \n",
       "9          74.113108  [{'feature': 'bakeTemp', 'attribution': -1.069...   \n",
       "\n",
       "   baseline_prediction_value  prediction_value  approximation_error  Recipe  \\\n",
       "0                  74.641498         72.490806                  0.0       1   \n",
       "1                  74.641498         75.298381                  0.0       2   \n",
       "2                  74.641498         77.477975                  0.0       3   \n",
       "3                  74.641498         78.353231                  0.0       4   \n",
       "4                  74.641498         75.041578                  0.0       5   \n",
       "5                  74.641498         76.537661                  0.0       6   \n",
       "6                  74.641498         72.477499                  0.0       7   \n",
       "7                  74.641498         74.587116                  0.0       8   \n",
       "8                  74.641498         77.913040                  0.0       9   \n",
       "9                  74.641498         74.113108                  0.0      10   \n",
       "\n",
       "     flourAmt  saltAmt  yeastAmt  mix1Time  ...   water2Amt  waterTemp  \\\n",
       "0  515.547531        9        11         4  ...   80.250726         41   \n",
       "1  494.435203        8        10         4  ...  102.361146         40   \n",
       "2  505.706355       10         9         7  ...  113.890652         41   \n",
       "3  497.352020       10         8         5  ...   80.730411         43   \n",
       "4  485.829086        8        11         5  ...   98.467490         45   \n",
       "5  490.183679       10        11         5  ...   95.246531         49   \n",
       "6  508.577734        8        10         4  ...   97.929344         49   \n",
       "7  517.695022       11         9         6  ...  108.635735         48   \n",
       "8  495.988172        8        11         4  ...   77.313000         40   \n",
       "9  499.512905       10         9         4  ...  130.894200         44   \n",
       "\n",
       "    proveTime  restTime  bakeTime    bakeTemp    ambTemp  ambHumidity  \\\n",
       "0   90.661748        37        26  434.434191  68.500605    55.210172   \n",
       "1  100.850857        36        28  434.282962  62.650467    59.707303   \n",
       "2   94.380240        43        29  409.618577  64.530485    54.218660   \n",
       "3  102.036819        41        22  416.374184  66.839937    49.167220   \n",
       "4  104.718203        42        23  433.390445  52.793996    57.582621   \n",
       "5   90.550763        42        28  409.200787  71.604845    45.507028   \n",
       "6   98.152207        44        25  437.452416  56.616429    55.153239   \n",
       "7  102.001918        38        22  438.059907  80.158807    48.142746   \n",
       "8  102.057394        36        20  413.923945  68.343126    47.721921   \n",
       "9   97.960904        36        23  431.663510  63.146053    46.825431   \n",
       "\n",
       "   JUDGE_A  JUDGE_B  \n",
       "0     71.0     59.0  \n",
       "1     79.0     69.0  \n",
       "2     80.0     70.0  \n",
       "3     74.0     62.0  \n",
       "4     81.0     72.0  \n",
       "5     78.0     68.0  \n",
       "6     78.0     67.0  \n",
       "7     74.0     63.0  \n",
       "8     69.0     56.0  \n",
       "9     79.0     69.0  \n",
       "\n",
       "[10 rows x 24 columns]"
      ]
     },
     "execution_count": 72,
     "metadata": {},
     "output_type": "execute_result"
    }
   ],
   "source": [
    "explain = bq.query(query = query).to_dataframe()\n",
    "explain"
   ]
  },
  {
   "cell_type": "markdown",
   "id": "5ce8efde-7ef7-447b-bf69-5fb5b918f674",
   "metadata": {},
   "source": [
    "Create a plot of feature attributions for a single prediction:"
   ]
  },
  {
   "cell_type": "code",
   "execution_count": 73,
   "id": "d9d6f625-5d5b-4017-b7b0-ccb59148ee62",
   "metadata": {},
   "outputs": [],
   "source": [
    "recipe = 1\n",
    "explanation = explain.iloc[recipe-1]['top_feature_attributions']"
   ]
  },
  {
   "cell_type": "code",
   "execution_count": 74,
   "id": "3645d9e5-b411-40f2-953a-c45a2c160664",
   "metadata": {},
   "outputs": [
    {
     "data": {
      "image/png": "[encoded data removed]",
      "text/plain": [
       "<Figure size 1080x360 with 1 Axes>"
      ]
     },
     "metadata": {
      "needs_background": "light"
     },
     "output_type": "display_data"
    }
   ],
   "source": [
    "features = []\n",
    "scores = []\n",
    "for k in explanation:\n",
    "    features.append(k['feature'])\n",
    "    scores.append(k['attribution'])\n",
    "features = [x for _, x in sorted(zip(scores, features))]\n",
    "scores = sorted(scores)\n",
    "\n",
    "plt.figure(figsize=(15,5))\n",
    "plt.barh(features, scores)\n",
    "plt.title(f'Feature Attribution for Prediction - Recipe {recipe}')\n",
    "plt.show()"
   ]
  },
  {
   "cell_type": "markdown",
   "id": "01705331-bb4a-48b0-93eb-e352623afd21",
   "metadata": {},
   "source": [
    "### Check out this model in the BigQuery Console:\n",
    "- Make sure project selected is the one from this notebook\n",
    "- Under Explore, expand this project and dataset\n",
    "- Expand Models and select the model create here"
   ]
  },
  {
   "cell_type": "code",
   "execution_count": 75,
   "id": "a70136c5-da05-4083-b45e-1c19d4a32c3c",
   "metadata": {},
   "outputs": [
    {
     "name": "stdout",
     "output_type": "stream",
     "text": [
      "Direct link to the model in BigQuery:\n",
      "https://console.cloud.google.com/bigquery?project=statmike-mlops-349915&ws=!1m5!1m4!5m3!1sstatmike-mlops-349915!2sfeature_engineering!3s03_feature_engineering_auto\n"
     ]
    }
   ],
   "source": [
    "print(f'Direct link to the model in BigQuery:\\nhttps://console.cloud.google.com/bigquery?project={PROJECT_ID}&ws=!1m5!1m4!5m3!1s{PROJECT_ID}!2s{BQ_DATASET}!3s{BQ_MODEL_AutoFeatureEng}')"
   ]
  },
  {
   "cell_type": "markdown",
   "id": "553756fc-8889-4311-8b03-b20a6f9bec87",
   "metadata": {},
   "source": [
    "### Check out this model in the Vertex AI Console:\n",
    "- Make sure project selected is the one from this notebook\n",
    "- Make sure the region is `europe-west4` (default when BQ is `EU` multiregion)"
   ]
  },
  {
   "cell_type": "code",
   "execution_count": 76,
   "id": "54f34a5a-f5e4-43af-b68b-76c95cba0860",
   "metadata": {},
   "outputs": [
    {
     "name": "stdout",
     "output_type": "stream",
     "text": [
      "View the model in the Vertex AI Console:\n",
      "https://console.cloud.google.com/vertex-ai/locations/europe-west4/models/bqml_03_feature_engineering_auto?project=statmike-mlops-349915\n"
     ]
    }
   ],
   "source": [
    "print(f\"View the model in the Vertex AI Console:\\nhttps://console.cloud.google.com/vertex-ai/locations/{REGION}/models/bqml_{BQ_MODEL_AutoFeatureEng}?project={PROJECT_ID}\")"
   ]
  },
  {
   "cell_type": "markdown",
   "id": "1e35e1f2-9c88-4fd5-a3eb-26f0f1091153",
   "metadata": {},
   "source": [
    "## Serving"
   ]
  },
  {
   "cell_type": "markdown",
   "id": "eafa108d-2086-4f1a-8040-1786f032cf6f",
   "metadata": {},
   "source": [
    "### Vertex AI Model Registry - Get Model\n",
    "\n",
    "References:\n",
    "- [aiplatform.Model()](https://cloud.google.com/python/docs/reference/aiplatform/latest/google.cloud.aiplatform.Model)"
   ]
  },
  {
   "cell_type": "code",
   "execution_count": 77,
   "id": "fe110d88-c652-45f7-8e80-9d1a95411ec7",
   "metadata": {},
   "outputs": [
    {
     "data": {
      "text/plain": [
       "'projects/1026793852137/locations/europe-west4/models/bqml_03_feature_engineering_auto'"
      ]
     },
     "execution_count": 77,
     "metadata": {},
     "output_type": "execute_result"
    }
   ],
   "source": [
    "vertex_model_AutoFeatureEng = aiplatform.Model(model_name = f'bqml_{BQ_MODEL_AutoFeatureEng}')\n",
    "vertex_model_AutoFeatureEng.resource_name"
   ]
  },
  {
   "cell_type": "code",
   "execution_count": 78,
   "id": "180524f1-4775-47a3-9727-3f23643a9c1b",
   "metadata": {},
   "outputs": [
    {
     "data": {
      "text/plain": [
       "'projects/1026793852137/locations/europe-west4/models/bqml_03_feature_engineering_auto@1/evaluations/3019211925750808576'"
      ]
     },
     "execution_count": 78,
     "metadata": {},
     "output_type": "execute_result"
    }
   ],
   "source": [
    "evaluation_name = vertex_model_AutoFeatureEng.get_model_evaluation().resource_name\n",
    "evaluation_name"
   ]
  },
  {
   "cell_type": "code",
   "execution_count": 79,
   "id": "ad80b61c-754d-4239-94c3-07da0e4266fc",
   "metadata": {},
   "outputs": [
    {
     "data": {
      "text/plain": [
       "{'name': 'projects/1026793852137/locations/europe-west4/models/bqml_03_feature_engineering_auto@1/evaluations/3019211925750808576',\n",
       " 'metricsSchemaUri': 'gs://google-cloud-aiplatform/schema/modelevaluation/regression_metrics_1.0.0.yaml',\n",
       " 'metrics': {'rSquared': 0.07625594,\n",
       "  'meanAbsoluteError': 7.554296,\n",
       "  'rootMeanSquaredError': 9.423039,\n",
       "  'rootMeanSquaredLogError': 0.13506517},\n",
       " 'createTime': '2023-01-10T13:27:43.955295Z'}"
      ]
     },
     "execution_count": 79,
     "metadata": {},
     "output_type": "execute_result"
    }
   ],
   "source": [
    "aiplatform.ModelEvaluation(evaluation_name = evaluation_name).to_dict()"
   ]
  },
  {
   "cell_type": "code",
   "execution_count": 80,
   "id": "43c32d59-3f26-4863-9fa7-64da9de9927f",
   "metadata": {},
   "outputs": [],
   "source": [
    "vertex_model_AutoFeatureEng.uri"
   ]
  },
  {
   "cell_type": "markdown",
   "id": "9847e51b-ce8f-4669-8cd1-4e357bd5dee2",
   "metadata": {},
   "source": [
    "### Vertex AI Endpoint - Create or Retrieve\n",
    "\n",
    "References:\n",
    "- [aiplatform.Endpoint()](https://cloud.google.com/python/docs/reference/aiplatform/latest/google.cloud.aiplatform.Endpoint)"
   ]
  },
  {
   "cell_type": "code",
   "execution_count": 81,
   "id": "ef60f0eb-16fc-4fa5-a560-7a4fb31538e2",
   "metadata": {},
   "outputs": [
    {
     "name": "stdout",
     "output_type": "stream",
     "text": [
      "Creating Endpoint\n",
      "Create Endpoint backing LRO: projects/1026793852137/locations/europe-west4/endpoints/7838559131903459328/operations/8297458451697631232\n",
      "Endpoint created. Resource name: projects/1026793852137/locations/europe-west4/endpoints/7838559131903459328\n",
      "To use this Endpoint in another session:\n",
      "endpoint = aiplatform.Endpoint('projects/1026793852137/locations/europe-west4/endpoints/7838559131903459328')\n",
      "Endpoint Created: projects/1026793852137/locations/europe-west4/endpoints/7838559131903459328\n",
      "Review the Endpoint in the Console:\n",
      "https://console.cloud.google.com/vertex-ai/locations/europe-west4/endpoints/7838559131903459328?project=statmike-mlops-349915\n"
     ]
    }
   ],
   "source": [
    "endpoints = aiplatform.Endpoint.list(filter = f\"labels.series={SERIES}\")\n",
    "endpoints = [endpoint for endpoint in endpoints if endpoint.name == f'{SERIES}_AutoFeatureEng']\n",
    "        \n",
    "if endpoints:\n",
    "    endpoint_AutoFeatureEng = endpoint[0]\n",
    "    print(f\"Endpoint Exists: {endpoints[0].resource_name}\")\n",
    "else:\n",
    "    endpoint_AutoFeatureEng = aiplatform.Endpoint.create(\n",
    "        display_name = f\"{SERIES}_AutoFeatureEng\",\n",
    "        labels = {'series' : f\"{SERIES}\"}    \n",
    "    )\n",
    "    print(f\"Endpoint Created: {endpoint_AutoFeatureEng.resource_name}\")\n",
    "\n",
    "print(f'Review the Endpoint in the Console:\\nhttps://console.cloud.google.com/vertex-ai/locations/{REGION}/endpoints/{endpoint_AutoFeatureEng.name}?project={PROJECT_ID}')  "
   ]
  },
  {
   "cell_type": "code",
   "execution_count": 82,
   "id": "4dd9c585-072e-4c30-93a1-d05161c96790",
   "metadata": {},
   "outputs": [
    {
     "data": {
      "text/plain": [
       "'03_AutoFeatureEng'"
      ]
     },
     "execution_count": 82,
     "metadata": {},
     "output_type": "execute_result"
    }
   ],
   "source": [
    "endpoint_AutoFeatureEng.display_name"
   ]
  },
  {
   "cell_type": "code",
   "execution_count": 83,
   "id": "651874e0-ccf4-4513-9b19-081f762b35f8",
   "metadata": {},
   "outputs": [
    {
     "data": {
      "text/plain": [
       "{}"
      ]
     },
     "execution_count": 83,
     "metadata": {},
     "output_type": "execute_result"
    }
   ],
   "source": [
    "endpoint_AutoFeatureEng.traffic_split"
   ]
  },
  {
   "cell_type": "code",
   "execution_count": 84,
   "id": "ef19c7dc-1b96-4b47-b9ba-1ab5c6fc7036",
   "metadata": {},
   "outputs": [],
   "source": [
    "deployed_models = endpoint_AutoFeatureEng.list_models()\n",
    "#deployed_models"
   ]
  },
  {
   "cell_type": "markdown",
   "id": "5f5c2424-b8f5-4e04-b8ae-bff0756241af",
   "metadata": {},
   "source": [
    "### Deploy Model To Vertex AI Endpoint"
   ]
  },
  {
   "cell_type": "code",
   "execution_count": 85,
   "id": "8d71a090-00c2-4382-93ec-5cb043168452",
   "metadata": {},
   "outputs": [
    {
     "name": "stdout",
     "output_type": "stream",
     "text": [
      "Deploying Model projects/1026793852137/locations/europe-west4/models/bqml_03_feature_engineering_auto to Endpoint : projects/1026793852137/locations/europe-west4/endpoints/7838559131903459328\n",
      "Deploy Endpoint model backing LRO: projects/1026793852137/locations/europe-west4/endpoints/7838559131903459328/operations/4298261982592630784\n",
      "Endpoint model deployed. Resource name: projects/1026793852137/locations/europe-west4/endpoints/7838559131903459328\n"
     ]
    }
   ],
   "source": [
    "endpoint_AutoFeatureEng.deploy(\n",
    "    model = vertex_model_AutoFeatureEng,\n",
    "    deployed_model_display_name = vertex_model_AutoFeatureEng.display_name,\n",
    "    traffic_percentage = 100,\n",
    "    machine_type = 'n1-standard-2',\n",
    "    min_replica_count = 1,\n",
    "    max_replica_count = 1\n",
    ")"
   ]
  },
  {
   "cell_type": "code",
   "execution_count": 86,
   "id": "1a47584f-07b3-4f35-ab51-35ab425b8aee",
   "metadata": {},
   "outputs": [
    {
     "name": "stdout",
     "output_type": "stream",
     "text": [
      "The current model/version is already deployed.\n"
     ]
    }
   ],
   "source": [
    "if (vertex_model_AutoFeatureEng.display_name, vertex_model_AutoFeatureEng.version_id) not in [(deployed_model.display_name, deployed_model.model_version_id) for deployed_model in endpoint_AutoFeatureEng.list_models()]:\n",
    "    print(f'Deploying model with 100% of traffic...')\n",
    "    endpoint_AutoFeatureEng.deploy(\n",
    "        model = vertex_model_AutoFeatureEng,\n",
    "        deployed_model_display_name = vertex_model_AutoFeatureEng.display_name,\n",
    "        traffic_percentage = 100,\n",
    "        machine_type = 'n1-standard-2',\n",
    "        min_replica_count = 1,\n",
    "        max_replica_count = 1\n",
    "    )\n",
    "else: \n",
    "    print(f'The current model/version is already deployed.')"
   ]
  },
  {
   "cell_type": "markdown",
   "id": "e8883252-c51d-4727-99de-35a1685ad92c",
   "metadata": {},
   "source": [
    "### Remove Deployed Models without Traffic"
   ]
  },
  {
   "cell_type": "code",
   "execution_count": 87,
   "id": "69f2f834-d17a-4013-8c1c-48a7e496cc19",
   "metadata": {},
   "outputs": [
    {
     "name": "stdout",
     "output_type": "stream",
     "text": [
      "Model bqml_03_feature_engineering_auto with version 1 has traffic = 100\n"
     ]
    }
   ],
   "source": [
    "for deployed_model in endpoint_AutoFeatureEng.list_models():\n",
    "    if deployed_model.id in endpoint_AutoFeatureEng.traffic_split:\n",
    "        print(f\"Model {deployed_model.display_name} with version {deployed_model.model_version_id} has traffic = {endpoint_AutoFeatureEng.traffic_split[deployed_model.id]}\")\n",
    "    else:\n",
    "        endpoint_AutoFeatureEng.undeploy(deployed_model_id = deployed_model.id)\n",
    "        print(f\"Undeploying {deployed_model.display_name} with version {deployed_model.model_version_id} because it has no traffic.\")"
   ]
  },
  {
   "cell_type": "code",
   "execution_count": 88,
   "id": "943fd0e6-146a-4d72-b363-838718525bae",
   "metadata": {},
   "outputs": [
    {
     "data": {
      "text/plain": [
       "{'2015316852783185920': 100}"
      ]
     },
     "execution_count": 88,
     "metadata": {},
     "output_type": "execute_result"
    }
   ],
   "source": [
    "endpoint_AutoFeatureEng.traffic_split"
   ]
  },
  {
   "cell_type": "code",
   "execution_count": 89,
   "id": "60432495-0913-4b8f-9ee6-f95631790ea8",
   "metadata": {},
   "outputs": [],
   "source": [
    "#endpoint_AutoFeatureEng.list_models()"
   ]
  },
  {
   "cell_type": "markdown",
   "id": "3faf9935-b37a-4fe2-a376-711d9de6b76c",
   "metadata": {},
   "source": [
    "---\n",
    "## Prediction"
   ]
  },
  {
   "cell_type": "markdown",
   "id": "5cc22a93-07f3-438e-b270-d58e89e6d572",
   "metadata": {},
   "source": [
    "### Retrieve Records For Prediction"
   ]
  },
  {
   "cell_type": "code",
   "execution_count": 98,
   "id": "af0cf745-67de-4c8a-9652-70df6213bd66",
   "metadata": {},
   "outputs": [],
   "source": [
    "n = 10\n",
    "pred = bq.query(\n",
    "    query = f\"\"\"\n",
    "        SELECT * EXCEPT(JUDGE_B)\n",
    "        FROM {BQ_PROJECT}.{BQ_DATASET}.{BQ_TABLE}\n",
    "        WHERE Recipe <= 10\n",
    "        ORDER BY Recipe\n",
    "    \"\"\"\n",
    ").to_dataframe()"
   ]
  },
  {
   "cell_type": "code",
   "execution_count": 99,
   "id": "e46fa724-adb3-4b51-bcb1-2a85df16a409",
   "metadata": {},
   "outputs": [
    {
     "data": {
      "text/html": [
       "<div>\n",
       "<style scoped>\n",
       "    .dataframe tbody tr th:only-of-type {\n",
       "        vertical-align: middle;\n",
       "    }\n",
       "\n",
       "    .dataframe tbody tr th {\n",
       "        vertical-align: top;\n",
       "    }\n",
       "\n",
       "    .dataframe thead th {\n",
       "        text-align: right;\n",
       "    }\n",
       "</style>\n",
       "<table border=\"1\" class=\"dataframe\">\n",
       "  <thead>\n",
       "    <tr style=\"text-align: right;\">\n",
       "      <th></th>\n",
       "      <th>Recipe</th>\n",
       "      <th>flourAmt</th>\n",
       "      <th>saltAmt</th>\n",
       "      <th>yeastAmt</th>\n",
       "      <th>mix1Time</th>\n",
       "      <th>mix1Speed</th>\n",
       "      <th>mix2Time</th>\n",
       "      <th>mix2Speed</th>\n",
       "      <th>water1Amt</th>\n",
       "      <th>water2Amt</th>\n",
       "      <th>waterTemp</th>\n",
       "      <th>proveTime</th>\n",
       "      <th>restTime</th>\n",
       "      <th>bakeTime</th>\n",
       "      <th>bakeTemp</th>\n",
       "      <th>ambTemp</th>\n",
       "      <th>ambHumidity</th>\n",
       "      <th>JUDGE_A</th>\n",
       "    </tr>\n",
       "  </thead>\n",
       "  <tbody>\n",
       "    <tr>\n",
       "      <th>0</th>\n",
       "      <td>1</td>\n",
       "      <td>515.547531</td>\n",
       "      <td>9</td>\n",
       "      <td>11</td>\n",
       "      <td>4</td>\n",
       "      <td>3</td>\n",
       "      <td>6</td>\n",
       "      <td>5</td>\n",
       "      <td>295.138896</td>\n",
       "      <td>80.250726</td>\n",
       "      <td>41</td>\n",
       "      <td>90.661748</td>\n",
       "      <td>37</td>\n",
       "      <td>26</td>\n",
       "      <td>434.434191</td>\n",
       "      <td>68.500605</td>\n",
       "      <td>55.210172</td>\n",
       "      <td>71.0</td>\n",
       "    </tr>\n",
       "    <tr>\n",
       "      <th>1</th>\n",
       "      <td>2</td>\n",
       "      <td>494.435203</td>\n",
       "      <td>8</td>\n",
       "      <td>10</td>\n",
       "      <td>4</td>\n",
       "      <td>3</td>\n",
       "      <td>7</td>\n",
       "      <td>5</td>\n",
       "      <td>358.233155</td>\n",
       "      <td>102.361146</td>\n",
       "      <td>40</td>\n",
       "      <td>100.850857</td>\n",
       "      <td>36</td>\n",
       "      <td>28</td>\n",
       "      <td>434.282962</td>\n",
       "      <td>62.650467</td>\n",
       "      <td>59.707303</td>\n",
       "      <td>79.0</td>\n",
       "    </tr>\n",
       "    <tr>\n",
       "      <th>2</th>\n",
       "      <td>3</td>\n",
       "      <td>505.706355</td>\n",
       "      <td>10</td>\n",
       "      <td>9</td>\n",
       "      <td>7</td>\n",
       "      <td>5</td>\n",
       "      <td>7</td>\n",
       "      <td>5</td>\n",
       "      <td>329.002328</td>\n",
       "      <td>113.890652</td>\n",
       "      <td>41</td>\n",
       "      <td>94.380240</td>\n",
       "      <td>43</td>\n",
       "      <td>29</td>\n",
       "      <td>409.618577</td>\n",
       "      <td>64.530485</td>\n",
       "      <td>54.218660</td>\n",
       "      <td>80.0</td>\n",
       "    </tr>\n",
       "    <tr>\n",
       "      <th>3</th>\n",
       "      <td>4</td>\n",
       "      <td>497.352020</td>\n",
       "      <td>10</td>\n",
       "      <td>8</td>\n",
       "      <td>5</td>\n",
       "      <td>4</td>\n",
       "      <td>8</td>\n",
       "      <td>4</td>\n",
       "      <td>383.150241</td>\n",
       "      <td>80.730411</td>\n",
       "      <td>43</td>\n",
       "      <td>102.036819</td>\n",
       "      <td>41</td>\n",
       "      <td>22</td>\n",
       "      <td>416.374184</td>\n",
       "      <td>66.839937</td>\n",
       "      <td>49.167220</td>\n",
       "      <td>74.0</td>\n",
       "    </tr>\n",
       "    <tr>\n",
       "      <th>4</th>\n",
       "      <td>5</td>\n",
       "      <td>485.829086</td>\n",
       "      <td>8</td>\n",
       "      <td>11</td>\n",
       "      <td>5</td>\n",
       "      <td>3</td>\n",
       "      <td>7</td>\n",
       "      <td>5</td>\n",
       "      <td>329.785289</td>\n",
       "      <td>98.467490</td>\n",
       "      <td>45</td>\n",
       "      <td>104.718203</td>\n",
       "      <td>42</td>\n",
       "      <td>23</td>\n",
       "      <td>433.390445</td>\n",
       "      <td>52.793996</td>\n",
       "      <td>57.582621</td>\n",
       "      <td>81.0</td>\n",
       "    </tr>\n",
       "    <tr>\n",
       "      <th>5</th>\n",
       "      <td>6</td>\n",
       "      <td>490.183679</td>\n",
       "      <td>10</td>\n",
       "      <td>11</td>\n",
       "      <td>5</td>\n",
       "      <td>4</td>\n",
       "      <td>6</td>\n",
       "      <td>4</td>\n",
       "      <td>302.295645</td>\n",
       "      <td>95.246531</td>\n",
       "      <td>49</td>\n",
       "      <td>90.550763</td>\n",
       "      <td>42</td>\n",
       "      <td>28</td>\n",
       "      <td>409.200787</td>\n",
       "      <td>71.604845</td>\n",
       "      <td>45.507028</td>\n",
       "      <td>78.0</td>\n",
       "    </tr>\n",
       "    <tr>\n",
       "      <th>6</th>\n",
       "      <td>7</td>\n",
       "      <td>508.577734</td>\n",
       "      <td>8</td>\n",
       "      <td>10</td>\n",
       "      <td>4</td>\n",
       "      <td>2</td>\n",
       "      <td>5</td>\n",
       "      <td>5</td>\n",
       "      <td>314.641003</td>\n",
       "      <td>97.929344</td>\n",
       "      <td>49</td>\n",
       "      <td>98.152207</td>\n",
       "      <td>44</td>\n",
       "      <td>25</td>\n",
       "      <td>437.452416</td>\n",
       "      <td>56.616429</td>\n",
       "      <td>55.153239</td>\n",
       "      <td>78.0</td>\n",
       "    </tr>\n",
       "    <tr>\n",
       "      <th>7</th>\n",
       "      <td>8</td>\n",
       "      <td>517.695022</td>\n",
       "      <td>11</td>\n",
       "      <td>9</td>\n",
       "      <td>6</td>\n",
       "      <td>3</td>\n",
       "      <td>8</td>\n",
       "      <td>4</td>\n",
       "      <td>325.252686</td>\n",
       "      <td>108.635735</td>\n",
       "      <td>48</td>\n",
       "      <td>102.001918</td>\n",
       "      <td>38</td>\n",
       "      <td>22</td>\n",
       "      <td>438.059907</td>\n",
       "      <td>80.158807</td>\n",
       "      <td>48.142746</td>\n",
       "      <td>74.0</td>\n",
       "    </tr>\n",
       "    <tr>\n",
       "      <th>8</th>\n",
       "      <td>9</td>\n",
       "      <td>495.988172</td>\n",
       "      <td>8</td>\n",
       "      <td>11</td>\n",
       "      <td>4</td>\n",
       "      <td>4</td>\n",
       "      <td>8</td>\n",
       "      <td>5</td>\n",
       "      <td>328.379937</td>\n",
       "      <td>77.313000</td>\n",
       "      <td>40</td>\n",
       "      <td>102.057394</td>\n",
       "      <td>36</td>\n",
       "      <td>20</td>\n",
       "      <td>413.923945</td>\n",
       "      <td>68.343126</td>\n",
       "      <td>47.721921</td>\n",
       "      <td>69.0</td>\n",
       "    </tr>\n",
       "    <tr>\n",
       "      <th>9</th>\n",
       "      <td>10</td>\n",
       "      <td>499.512905</td>\n",
       "      <td>10</td>\n",
       "      <td>9</td>\n",
       "      <td>4</td>\n",
       "      <td>2</td>\n",
       "      <td>5</td>\n",
       "      <td>5</td>\n",
       "      <td>349.493933</td>\n",
       "      <td>130.894200</td>\n",
       "      <td>44</td>\n",
       "      <td>97.960904</td>\n",
       "      <td>36</td>\n",
       "      <td>23</td>\n",
       "      <td>431.663510</td>\n",
       "      <td>63.146053</td>\n",
       "      <td>46.825431</td>\n",
       "      <td>79.0</td>\n",
       "    </tr>\n",
       "  </tbody>\n",
       "</table>\n",
       "</div>"
      ],
      "text/plain": [
       "   Recipe    flourAmt  saltAmt  yeastAmt  mix1Time  mix1Speed  mix2Time  \\\n",
       "0       1  515.547531        9        11         4          3         6   \n",
       "1       2  494.435203        8        10         4          3         7   \n",
       "2       3  505.706355       10         9         7          5         7   \n",
       "3       4  497.352020       10         8         5          4         8   \n",
       "4       5  485.829086        8        11         5          3         7   \n",
       "5       6  490.183679       10        11         5          4         6   \n",
       "6       7  508.577734        8        10         4          2         5   \n",
       "7       8  517.695022       11         9         6          3         8   \n",
       "8       9  495.988172        8        11         4          4         8   \n",
       "9      10  499.512905       10         9         4          2         5   \n",
       "\n",
       "   mix2Speed   water1Amt   water2Amt  waterTemp   proveTime  restTime  \\\n",
       "0          5  295.138896   80.250726         41   90.661748        37   \n",
       "1          5  358.233155  102.361146         40  100.850857        36   \n",
       "2          5  329.002328  113.890652         41   94.380240        43   \n",
       "3          4  383.150241   80.730411         43  102.036819        41   \n",
       "4          5  329.785289   98.467490         45  104.718203        42   \n",
       "5          4  302.295645   95.246531         49   90.550763        42   \n",
       "6          5  314.641003   97.929344         49   98.152207        44   \n",
       "7          4  325.252686  108.635735         48  102.001918        38   \n",
       "8          5  328.379937   77.313000         40  102.057394        36   \n",
       "9          5  349.493933  130.894200         44   97.960904        36   \n",
       "\n",
       "   bakeTime    bakeTemp    ambTemp  ambHumidity  JUDGE_A  \n",
       "0        26  434.434191  68.500605    55.210172     71.0  \n",
       "1        28  434.282962  62.650467    59.707303     79.0  \n",
       "2        29  409.618577  64.530485    54.218660     80.0  \n",
       "3        22  416.374184  66.839937    49.167220     74.0  \n",
       "4        23  433.390445  52.793996    57.582621     81.0  \n",
       "5        28  409.200787  71.604845    45.507028     78.0  \n",
       "6        25  437.452416  56.616429    55.153239     78.0  \n",
       "7        22  438.059907  80.158807    48.142746     74.0  \n",
       "8        20  413.923945  68.343126    47.721921     69.0  \n",
       "9        23  431.663510  63.146053    46.825431     79.0  "
      ]
     },
     "execution_count": 99,
     "metadata": {},
     "output_type": "execute_result"
    }
   ],
   "source": [
    "pred"
   ]
  },
  {
   "cell_type": "markdown",
   "id": "89e27fce-5b91-4f24-aa22-56f8be69f959",
   "metadata": {},
   "source": [
    "Shape as instances: dictionaries of key:value pairs for only features used in model"
   ]
  },
  {
   "cell_type": "code",
   "execution_count": 100,
   "id": "d20e73f4-093c-4b1c-8b3f-c079e4904938",
   "metadata": {},
   "outputs": [],
   "source": [
    "newobs = pred[pred.columns[~pred.columns.isin(['JUDGE_A', 'Recipe'])]].to_dict(orient='records')"
   ]
  },
  {
   "cell_type": "code",
   "execution_count": 101,
   "id": "ff63bd2d-ad28-4314-bc3e-3227846a20cb",
   "metadata": {},
   "outputs": [
    {
     "data": {
      "text/plain": [
       "{'flourAmt': 515.547531447926,\n",
       " 'saltAmt': 9,\n",
       " 'yeastAmt': 11,\n",
       " 'mix1Time': 4,\n",
       " 'mix1Speed': 3,\n",
       " 'mix2Time': 6,\n",
       " 'mix2Speed': 5,\n",
       " 'water1Amt': 295.13889590582613,\n",
       " 'water2Amt': 80.25072614458635,\n",
       " 'waterTemp': 41,\n",
       " 'proveTime': 90.66174788437925,\n",
       " 'restTime': 37,\n",
       " 'bakeTime': 26,\n",
       " 'bakeTemp': 434.4341908544051,\n",
       " 'ambTemp': 68.5006046639547,\n",
       " 'ambHumidity': 55.21017240872698}"
      ]
     },
     "execution_count": 101,
     "metadata": {},
     "output_type": "execute_result"
    }
   ],
   "source": [
    "newobs[0]"
   ]
  },
  {
   "cell_type": "code",
   "execution_count": 102,
   "id": "a3502a66-1c57-4133-aae8-7269d79b979e",
   "metadata": {},
   "outputs": [],
   "source": [
    "instances = [json_format.ParseDict(newob, Value()) for newob in newobs]"
   ]
  },
  {
   "cell_type": "code",
   "execution_count": 103,
   "id": "45ec3862-1447-4fa7-b94e-54f79c3aa699",
   "metadata": {},
   "outputs": [
    {
     "data": {
      "text/plain": [
       "10"
      ]
     },
     "execution_count": 103,
     "metadata": {},
     "output_type": "execute_result"
    }
   ],
   "source": [
    "len(instances)"
   ]
  },
  {
   "cell_type": "markdown",
   "id": "2702515c-3706-4843-832a-a9c84637478f",
   "metadata": {},
   "source": [
    "### Get Predictions: Python Client"
   ]
  },
  {
   "cell_type": "code",
   "execution_count": 104,
   "id": "00288958-b7f6-4cc0-8d09-986da1e8d11d",
   "metadata": {},
   "outputs": [
    {
     "data": {
      "text/plain": [
       "[72.49080362667436]"
      ]
     },
     "execution_count": 104,
     "metadata": {},
     "output_type": "execute_result"
    }
   ],
   "source": [
    "prediction = endpoint_AutoFeatureEng.predict(instances = instances)\n",
    "prediction.predictions[0]"
   ]
  },
  {
   "cell_type": "code",
   "execution_count": 105,
   "id": "03f75af7-0b6a-44d1-9264-6890ac791784",
   "metadata": {},
   "outputs": [
    {
     "data": {
      "text/plain": [
       "[[72.49080362667436],\n",
       " [75.29838098890646],\n",
       " [77.47797258153273],\n",
       " [78.35323262177616],\n",
       " [75.04157858797028],\n",
       " [76.5376632869193],\n",
       " [72.4774978849243],\n",
       " [74.58711673925697],\n",
       " [77.91303966791293],\n",
       " [74.11310762602997]]"
      ]
     },
     "execution_count": 105,
     "metadata": {},
     "output_type": "execute_result"
    }
   ],
   "source": [
    "prediction.predictions"
   ]
  },
  {
   "cell_type": "markdown",
   "id": "c9810a49-de0d-471e-b2b0-ed791cc88763",
   "metadata": {},
   "source": [
    "---\n",
    "# Manual Feature Engineering"
   ]
  },
  {
   "cell_type": "markdown",
   "id": "a68c4750-d30b-4ba3-8c01-2455a9446a8d",
   "metadata": {},
   "source": [
    "## Train Model - 1\n",
    "\n",
    "Use BigQuery ML to train a boosted tree:\n",
    "- [Linear Regression](https://cloud.google.com/bigquery-ml/docs/reference/standard-sql/bigqueryml-syntax-create-glm) with BigQuery ML (BQML)\n",
    "\n",
    "Feature preprocessing with the `TRANSFORM` statement:\n",
    "- [TRANSFORM](https://cloud.google.com/bigquery-ml/docs/reference/standard-sql/bigqueryml-syntax-create#transform)\n",
    "\n",
    "Register the model to Vertex AI Model Registry:\n",
    "- `MODEL_REGISTRY` [training options](https://cloud.google.com/bigquery-ml/docs/create_vertex) to register the resulting model in the [Vertex AI Model Registry](https://cloud.google.com/vertex-ai/docs/model-registry/introduction)."
   ]
  },
  {
   "cell_type": "code",
   "execution_count": 106,
   "id": "262d914e-71fe-4399-8401-34e1a34fa7a4",
   "metadata": {},
   "outputs": [],
   "source": [
    "TIMESTAMP = datetime.now().strftime(\"%Y%m%d%H%M%S\")\n",
    "RUN_NAME = f'run-{TIMESTAMP}'\n",
    "BQ_MODEL_ManualFeatureEng1 = f'{SERIES}_{EXPERIMENT}_manual_1'"
   ]
  },
  {
   "cell_type": "code",
   "execution_count": 107,
   "id": "d1097a3d-1b6c-45ef-9157-1fc4428d9601",
   "metadata": {},
   "outputs": [
    {
     "name": "stdout",
     "output_type": "stream",
     "text": [
      "\n",
      "CREATE OR REPLACE MODEL `statmike-mlops-349915.feature_engineering.03_feature_engineering_manual_1`\n",
      "TRANSFORM (\n",
      "    JUDGE_A,\n",
      "\n",
      "    ML.MIN_MAX_SCALER(flourAmt) OVER() as scale_flourAmt, \n",
      "    ML.ROBUST_SCALER(saltAmt) OVER() as scale_saltAmt,\n",
      "    ML.MAX_ABS_SCALER(yeastAmt) OVER() as scale_yeastAmt,\n",
      "    ML.STANDARD_SCALER(water1Amt) OVER() as scale_water1Amt,\n",
      "    ML.STANDARD_SCALER(water2Amt) OVER() as scale_water2Amt,\n",
      "\n",
      "    ML.STANDARD_SCALER(waterTemp) OVER() as scale_waterTemp,\n",
      "    ML.ROBUST_SCALER(bakeTemp) OVER() as scale_bakeTemp,\n",
      "    ML.MIN_MAX_SCALER(ambTemp) OVER() as scale_ambTemp,\n",
      "    ML.MAX_ABS_SCALER(ambHumidity) OVER() as scale_ambHumidity,\n",
      "\n",
      "    ML.ROBUST_SCALER(mix1Time) OVER() as scale_mix1Time,\n",
      "    ML.ROBUST_SCALER(mix2Time) OVER() as scale_mix2Time,\n",
      "    ML.ROBUST_SCALER(mix1Speed) OVER() as scale_mix1Speed,\n",
      "    ML.ROBUST_SCALER(mix2Speed) OVER() as scale_mix2Speed,\n",
      "    ML.STANDARD_SCALER(proveTime) OVER() as scale_proveTime,\n",
      "    ML.MAX_ABS_SCALER(restTime) OVER() as scale_restTime,\n",
      "    ML.MAX_ABS_SCALER(bakeTime) OVER() as scale_bakeTime\n",
      ")\n",
      "OPTIONS (\n",
      "        model_type = 'LINEAR_REG',\n",
      "        input_label_cols = ['JUDGE_A'],\n",
      "        enable_global_explain = TRUE,\n",
      "        data_split_method = 'AUTO_SPLIT',\n",
      "        MODEL_REGISTRY = 'VERTEX_AI',\n",
      "        VERTEX_AI_MODEL_ID = 'bqml_03_feature_engineering_manual_1',\n",
      "        VERTEX_AI_MODEL_VERSION_ALIASES = ['run-20230110134312', 'manual_feature_engineering']\n",
      "    ) AS\n",
      "SELECT * EXCEPT(Recipe, JUDGE_B)\n",
      "FROM `statmike-mlops-349915.feature_engineering.bread`\n",
      "\n"
     ]
    }
   ],
   "source": [
    "query = f\"\"\"\n",
    "CREATE OR REPLACE MODEL `{BQ_PROJECT}.{BQ_DATASET}.{BQ_MODEL_ManualFeatureEng1}`\n",
    "TRANSFORM (\n",
    "    JUDGE_A,\n",
    "\n",
    "    ML.MIN_MAX_SCALER(flourAmt) OVER() as scale_flourAmt, \n",
    "    ML.ROBUST_SCALER(saltAmt) OVER() as scale_saltAmt,\n",
    "    ML.MAX_ABS_SCALER(yeastAmt) OVER() as scale_yeastAmt,\n",
    "    ML.STANDARD_SCALER(water1Amt) OVER() as scale_water1Amt,\n",
    "    ML.STANDARD_SCALER(water2Amt) OVER() as scale_water2Amt,\n",
    "\n",
    "    ML.STANDARD_SCALER(waterTemp) OVER() as scale_waterTemp,\n",
    "    ML.ROBUST_SCALER(bakeTemp) OVER() as scale_bakeTemp,\n",
    "    ML.MIN_MAX_SCALER(ambTemp) OVER() as scale_ambTemp,\n",
    "    ML.MAX_ABS_SCALER(ambHumidity) OVER() as scale_ambHumidity,\n",
    "\n",
    "    ML.ROBUST_SCALER(mix1Time) OVER() as scale_mix1Time,\n",
    "    ML.ROBUST_SCALER(mix2Time) OVER() as scale_mix2Time,\n",
    "    ML.ROBUST_SCALER(mix1Speed) OVER() as scale_mix1Speed,\n",
    "    ML.ROBUST_SCALER(mix2Speed) OVER() as scale_mix2Speed,\n",
    "    ML.STANDARD_SCALER(proveTime) OVER() as scale_proveTime,\n",
    "    ML.MAX_ABS_SCALER(restTime) OVER() as scale_restTime,\n",
    "    ML.MAX_ABS_SCALER(bakeTime) OVER() as scale_bakeTime\n",
    ")\n",
    "OPTIONS (\n",
    "        model_type = 'LINEAR_REG',\n",
    "        input_label_cols = ['JUDGE_A'],\n",
    "        enable_global_explain = TRUE,\n",
    "        data_split_method = 'AUTO_SPLIT',\n",
    "        MODEL_REGISTRY = 'VERTEX_AI',\n",
    "        VERTEX_AI_MODEL_ID = 'bqml_{BQ_MODEL_ManualFeatureEng1}',\n",
    "        VERTEX_AI_MODEL_VERSION_ALIASES = ['{RUN_NAME}', 'manual_feature_engineering']\n",
    "    ) AS\n",
    "SELECT * EXCEPT(Recipe, JUDGE_B)\n",
    "FROM `{BQ_PROJECT}.{BQ_DATASET}.{BQ_TABLE}`\n",
    "\"\"\"\n",
    "print(query)"
   ]
  },
  {
   "cell_type": "code",
   "execution_count": 108,
   "id": "b492b1a9-5301-4ef2-9d1e-c1455ff06bc8",
   "metadata": {},
   "outputs": [
    {
     "data": {
      "text/plain": [
       "15.776"
      ]
     },
     "execution_count": 108,
     "metadata": {},
     "output_type": "execute_result"
    }
   ],
   "source": [
    "job = bq.query(query = query)\n",
    "job.result()\n",
    "(job.ended-job.started).total_seconds()"
   ]
  },
  {
   "cell_type": "code",
   "execution_count": 109,
   "id": "bb681aca-8538-48fa-8d03-90fb23ee4aed",
   "metadata": {},
   "outputs": [
    {
     "data": {
      "text/plain": [
       "272000"
      ]
     },
     "execution_count": 109,
     "metadata": {},
     "output_type": "execute_result"
    }
   ],
   "source": [
    "job.total_bytes_processed"
   ]
  },
  {
   "cell_type": "markdown",
   "id": "1e9fbc45-5b36-4823-8845-3d6281ad8052",
   "metadata": {},
   "source": [
    "Add labels to the model in BigQuery:"
   ]
  },
  {
   "cell_type": "code",
   "execution_count": 110,
   "id": "2f1221d3-4231-4fd0-a3d0-394de23a76b5",
   "metadata": {},
   "outputs": [],
   "source": [
    "bqml_model_ManualFeatureEng1 = bq.get_model(f'{BQ_PROJECT}.{BQ_DATASET}.{BQ_MODEL_ManualFeatureEng1}')\n",
    "bqml_model_ManualFeatureEng1.labels = {'series' : f'{SERIES}', 'experiment' : f'{EXPERIMENT}'}\n",
    "bqml_model_ManualFeatureEng1 = bq.update_model(bqml_model_ManualFeatureEng1, ['labels'])"
   ]
  },
  {
   "cell_type": "markdown",
   "id": "7cd99837-9abd-4672-a684-dec388b6814b",
   "metadata": {},
   "source": [
    "### Feature and Training Review"
   ]
  },
  {
   "cell_type": "markdown",
   "id": "1382ca75-3b9d-4e65-af36-2d0a1ee8a9b8",
   "metadata": {},
   "source": [
    "Review the Model Inputs, the feature information before preprocessing, with [ML.FEATURE_INFO](https://cloud.google.com/bigquery-ml/docs/reference/standard-sql/bigqueryml-syntax-feature):"
   ]
  },
  {
   "cell_type": "code",
   "execution_count": 111,
   "id": "caebbaec-95e7-4313-8021-9930477e3c32",
   "metadata": {},
   "outputs": [
    {
     "name": "stdout",
     "output_type": "stream",
     "text": [
      "\n",
      "    SELECT *\n",
      "    FROM ML.FEATURE_INFO(MODEL `statmike-mlops-349915.feature_engineering.03_feature_engineering_manual_1`)\n",
      "\n"
     ]
    }
   ],
   "source": [
    "query = f\"\"\"\n",
    "    SELECT *\n",
    "    FROM ML.FEATURE_INFO(MODEL `{BQ_PROJECT}.{BQ_DATASET}.{BQ_MODEL_ManualFeatureEng1}`)\n",
    "\"\"\"\n",
    "print(query)"
   ]
  },
  {
   "cell_type": "code",
   "execution_count": 112,
   "id": "662b89a9-72cc-4ef0-b07d-906033de7ec5",
   "metadata": {},
   "outputs": [
    {
     "data": {
      "text/html": [
       "<div>\n",
       "<style scoped>\n",
       "    .dataframe tbody tr th:only-of-type {\n",
       "        vertical-align: middle;\n",
       "    }\n",
       "\n",
       "    .dataframe tbody tr th {\n",
       "        vertical-align: top;\n",
       "    }\n",
       "\n",
       "    .dataframe thead th {\n",
       "        text-align: right;\n",
       "    }\n",
       "</style>\n",
       "<table border=\"1\" class=\"dataframe\">\n",
       "  <thead>\n",
       "    <tr style=\"text-align: right;\">\n",
       "      <th></th>\n",
       "      <th>input</th>\n",
       "      <th>min</th>\n",
       "      <th>max</th>\n",
       "      <th>mean</th>\n",
       "      <th>median</th>\n",
       "      <th>stddev</th>\n",
       "      <th>category_count</th>\n",
       "      <th>null_count</th>\n",
       "      <th>dimension</th>\n",
       "    </tr>\n",
       "  </thead>\n",
       "  <tbody>\n",
       "    <tr>\n",
       "      <th>0</th>\n",
       "      <td>flourAmt</td>\n",
       "      <td>470.495577</td>\n",
       "      <td>532.377351</td>\n",
       "      <td>500.406685</td>\n",
       "      <td>500.295431</td>\n",
       "      <td>10.028959</td>\n",
       "      <td>NaN</td>\n",
       "      <td>0</td>\n",
       "      <td>NaN</td>\n",
       "    </tr>\n",
       "    <tr>\n",
       "      <th>1</th>\n",
       "      <td>bakeTime</td>\n",
       "      <td>20.000000</td>\n",
       "      <td>30.000000</td>\n",
       "      <td>24.999386</td>\n",
       "      <td>25.000000</td>\n",
       "      <td>2.929243</td>\n",
       "      <td>NaN</td>\n",
       "      <td>0</td>\n",
       "      <td>NaN</td>\n",
       "    </tr>\n",
       "    <tr>\n",
       "      <th>2</th>\n",
       "      <td>bakeTemp</td>\n",
       "      <td>362.999421</td>\n",
       "      <td>481.739742</td>\n",
       "      <td>424.984819</td>\n",
       "      <td>425.763636</td>\n",
       "      <td>15.233806</td>\n",
       "      <td>NaN</td>\n",
       "      <td>0</td>\n",
       "      <td>NaN</td>\n",
       "    </tr>\n",
       "    <tr>\n",
       "      <th>3</th>\n",
       "      <td>restTime</td>\n",
       "      <td>35.000000</td>\n",
       "      <td>45.000000</td>\n",
       "      <td>39.900552</td>\n",
       "      <td>40.000000</td>\n",
       "      <td>2.912935</td>\n",
       "      <td>NaN</td>\n",
       "      <td>0</td>\n",
       "      <td>NaN</td>\n",
       "    </tr>\n",
       "    <tr>\n",
       "      <th>4</th>\n",
       "      <td>proveTime</td>\n",
       "      <td>83.211082</td>\n",
       "      <td>115.674439</td>\n",
       "      <td>100.038713</td>\n",
       "      <td>99.843532</td>\n",
       "      <td>4.973838</td>\n",
       "      <td>NaN</td>\n",
       "      <td>0</td>\n",
       "      <td>NaN</td>\n",
       "    </tr>\n",
       "    <tr>\n",
       "      <th>5</th>\n",
       "      <td>yeastAmt</td>\n",
       "      <td>8.000000</td>\n",
       "      <td>12.000000</td>\n",
       "      <td>10.025169</td>\n",
       "      <td>10.000000</td>\n",
       "      <td>1.233234</td>\n",
       "      <td>NaN</td>\n",
       "      <td>0</td>\n",
       "      <td>NaN</td>\n",
       "    </tr>\n",
       "    <tr>\n",
       "      <th>6</th>\n",
       "      <td>mix2Time</td>\n",
       "      <td>4.000000</td>\n",
       "      <td>8.000000</td>\n",
       "      <td>5.964395</td>\n",
       "      <td>6.000000</td>\n",
       "      <td>1.218695</td>\n",
       "      <td>NaN</td>\n",
       "      <td>0</td>\n",
       "      <td>NaN</td>\n",
       "    </tr>\n",
       "    <tr>\n",
       "      <th>7</th>\n",
       "      <td>mix1Time</td>\n",
       "      <td>2.000000</td>\n",
       "      <td>9.000000</td>\n",
       "      <td>5.074279</td>\n",
       "      <td>5.000000</td>\n",
       "      <td>1.074616</td>\n",
       "      <td>NaN</td>\n",
       "      <td>0</td>\n",
       "      <td>NaN</td>\n",
       "    </tr>\n",
       "    <tr>\n",
       "      <th>8</th>\n",
       "      <td>mix2Speed</td>\n",
       "      <td>4.000000</td>\n",
       "      <td>6.000000</td>\n",
       "      <td>4.979128</td>\n",
       "      <td>5.000000</td>\n",
       "      <td>0.704186</td>\n",
       "      <td>NaN</td>\n",
       "      <td>0</td>\n",
       "      <td>NaN</td>\n",
       "    </tr>\n",
       "    <tr>\n",
       "      <th>9</th>\n",
       "      <td>water2Amt</td>\n",
       "      <td>47.282754</td>\n",
       "      <td>175.183277</td>\n",
       "      <td>109.206050</td>\n",
       "      <td>109.645201</td>\n",
       "      <td>19.990929</td>\n",
       "      <td>NaN</td>\n",
       "      <td>0</td>\n",
       "      <td>NaN</td>\n",
       "    </tr>\n",
       "    <tr>\n",
       "      <th>10</th>\n",
       "      <td>ambHumidity</td>\n",
       "      <td>15.965772</td>\n",
       "      <td>80.849006</td>\n",
       "      <td>49.546514</td>\n",
       "      <td>49.395759</td>\n",
       "      <td>9.857660</td>\n",
       "      <td>NaN</td>\n",
       "      <td>0</td>\n",
       "      <td>NaN</td>\n",
       "    </tr>\n",
       "    <tr>\n",
       "      <th>11</th>\n",
       "      <td>water1Amt</td>\n",
       "      <td>261.946352</td>\n",
       "      <td>398.275160</td>\n",
       "      <td>329.465854</td>\n",
       "      <td>329.669348</td>\n",
       "      <td>19.867207</td>\n",
       "      <td>NaN</td>\n",
       "      <td>0</td>\n",
       "      <td>NaN</td>\n",
       "    </tr>\n",
       "    <tr>\n",
       "      <th>12</th>\n",
       "      <td>waterTemp</td>\n",
       "      <td>40.000000</td>\n",
       "      <td>50.000000</td>\n",
       "      <td>45.079190</td>\n",
       "      <td>45.000000</td>\n",
       "      <td>2.960923</td>\n",
       "      <td>NaN</td>\n",
       "      <td>0</td>\n",
       "      <td>NaN</td>\n",
       "    </tr>\n",
       "    <tr>\n",
       "      <th>13</th>\n",
       "      <td>saltAmt</td>\n",
       "      <td>8.000000</td>\n",
       "      <td>12.000000</td>\n",
       "      <td>10.000000</td>\n",
       "      <td>10.000000</td>\n",
       "      <td>1.216189</td>\n",
       "      <td>NaN</td>\n",
       "      <td>0</td>\n",
       "      <td>NaN</td>\n",
       "    </tr>\n",
       "    <tr>\n",
       "      <th>14</th>\n",
       "      <td>ambTemp</td>\n",
       "      <td>25.583787</td>\n",
       "      <td>87.763338</td>\n",
       "      <td>60.176397</td>\n",
       "      <td>60.226063</td>\n",
       "      <td>9.692323</td>\n",
       "      <td>NaN</td>\n",
       "      <td>0</td>\n",
       "      <td>NaN</td>\n",
       "    </tr>\n",
       "    <tr>\n",
       "      <th>15</th>\n",
       "      <td>mix1Speed</td>\n",
       "      <td>2.000000</td>\n",
       "      <td>5.000000</td>\n",
       "      <td>3.454266</td>\n",
       "      <td>3.000000</td>\n",
       "      <td>0.980724</td>\n",
       "      <td>NaN</td>\n",
       "      <td>0</td>\n",
       "      <td>NaN</td>\n",
       "    </tr>\n",
       "  </tbody>\n",
       "</table>\n",
       "</div>"
      ],
      "text/plain": [
       "          input         min         max        mean      median     stddev  \\\n",
       "0      flourAmt  470.495577  532.377351  500.406685  500.295431  10.028959   \n",
       "1      bakeTime   20.000000   30.000000   24.999386   25.000000   2.929243   \n",
       "2      bakeTemp  362.999421  481.739742  424.984819  425.763636  15.233806   \n",
       "3      restTime   35.000000   45.000000   39.900552   40.000000   2.912935   \n",
       "4     proveTime   83.211082  115.674439  100.038713   99.843532   4.973838   \n",
       "5      yeastAmt    8.000000   12.000000   10.025169   10.000000   1.233234   \n",
       "6      mix2Time    4.000000    8.000000    5.964395    6.000000   1.218695   \n",
       "7      mix1Time    2.000000    9.000000    5.074279    5.000000   1.074616   \n",
       "8     mix2Speed    4.000000    6.000000    4.979128    5.000000   0.704186   \n",
       "9     water2Amt   47.282754  175.183277  109.206050  109.645201  19.990929   \n",
       "10  ambHumidity   15.965772   80.849006   49.546514   49.395759   9.857660   \n",
       "11    water1Amt  261.946352  398.275160  329.465854  329.669348  19.867207   \n",
       "12    waterTemp   40.000000   50.000000   45.079190   45.000000   2.960923   \n",
       "13      saltAmt    8.000000   12.000000   10.000000   10.000000   1.216189   \n",
       "14      ambTemp   25.583787   87.763338   60.176397   60.226063   9.692323   \n",
       "15    mix1Speed    2.000000    5.000000    3.454266    3.000000   0.980724   \n",
       "\n",
       "    category_count  null_count  dimension  \n",
       "0              NaN           0        NaN  \n",
       "1              NaN           0        NaN  \n",
       "2              NaN           0        NaN  \n",
       "3              NaN           0        NaN  \n",
       "4              NaN           0        NaN  \n",
       "5              NaN           0        NaN  \n",
       "6              NaN           0        NaN  \n",
       "7              NaN           0        NaN  \n",
       "8              NaN           0        NaN  \n",
       "9              NaN           0        NaN  \n",
       "10             NaN           0        NaN  \n",
       "11             NaN           0        NaN  \n",
       "12             NaN           0        NaN  \n",
       "13             NaN           0        NaN  \n",
       "14             NaN           0        NaN  \n",
       "15             NaN           0        NaN  "
      ]
     },
     "execution_count": 112,
     "metadata": {},
     "output_type": "execute_result"
    }
   ],
   "source": [
    "bq.query(query = query).to_dataframe()"
   ]
  },
  {
   "cell_type": "markdown",
   "id": "45862298-0bec-402a-96ef-a80f30e82aca",
   "metadata": {},
   "source": [
    "Review the iterations from training with [ML.TRAINING_INFO](https://cloud.google.com/bigquery-ml/docs/reference/standard-sql/bigqueryml-syntax-train):"
   ]
  },
  {
   "cell_type": "code",
   "execution_count": 113,
   "id": "0b7cb9aa-0aca-4cdf-960d-657d7463fad3",
   "metadata": {},
   "outputs": [
    {
     "name": "stdout",
     "output_type": "stream",
     "text": [
      "\n",
      "    SELECT *\n",
      "    FROM ML.TRAINING_INFO(MODEL `statmike-mlops-349915.feature_engineering.03_feature_engineering_manual_1`)\n",
      "    ORDER BY iteration\n",
      "\n"
     ]
    }
   ],
   "source": [
    "query = f\"\"\"\n",
    "    SELECT *\n",
    "    FROM ML.TRAINING_INFO(MODEL `{BQ_PROJECT}.{BQ_DATASET}.{BQ_MODEL_ManualFeatureEng1}`)\n",
    "    ORDER BY iteration\n",
    "\"\"\"\n",
    "print(query)"
   ]
  },
  {
   "cell_type": "code",
   "execution_count": 114,
   "id": "c81bf314-3d11-4be4-a8c8-2caaa4920c9d",
   "metadata": {},
   "outputs": [
    {
     "data": {
      "text/html": [
       "<div>\n",
       "<style scoped>\n",
       "    .dataframe tbody tr th:only-of-type {\n",
       "        vertical-align: middle;\n",
       "    }\n",
       "\n",
       "    .dataframe tbody tr th {\n",
       "        vertical-align: top;\n",
       "    }\n",
       "\n",
       "    .dataframe thead th {\n",
       "        text-align: right;\n",
       "    }\n",
       "</style>\n",
       "<table border=\"1\" class=\"dataframe\">\n",
       "  <thead>\n",
       "    <tr style=\"text-align: right;\">\n",
       "      <th></th>\n",
       "      <th>training_run</th>\n",
       "      <th>iteration</th>\n",
       "      <th>loss</th>\n",
       "      <th>eval_loss</th>\n",
       "      <th>learning_rate</th>\n",
       "      <th>duration_ms</th>\n",
       "    </tr>\n",
       "  </thead>\n",
       "  <tbody>\n",
       "    <tr>\n",
       "      <th>0</th>\n",
       "      <td>0</td>\n",
       "      <td>0</td>\n",
       "      <td>86.630143</td>\n",
       "      <td>88.862282</td>\n",
       "      <td>NaN</td>\n",
       "      <td>2264</td>\n",
       "    </tr>\n",
       "  </tbody>\n",
       "</table>\n",
       "</div>"
      ],
      "text/plain": [
       "   training_run  iteration       loss  eval_loss  learning_rate  duration_ms\n",
       "0             0          0  86.630143  88.862282            NaN         2264"
      ]
     },
     "execution_count": 114,
     "metadata": {},
     "output_type": "execute_result"
    }
   ],
   "source": [
    "history = bq.query(query = query).to_dataframe()\n",
    "history"
   ]
  },
  {
   "cell_type": "markdown",
   "id": "36303174-18e1-4a3a-9caf-03d13359b4a6",
   "metadata": {},
   "source": [
    "### Model Metrics Review\n",
    "\n",
    "Review the model evaluation statistics with [ML.EVALUATE](https://cloud.google.com/bigquery-ml/docs/reference/standard-sql/bigqueryml-syntax-evaluate):"
   ]
  },
  {
   "cell_type": "code",
   "execution_count": 115,
   "id": "8de62e23-8eba-4a09-8e44-7365aba04e49",
   "metadata": {},
   "outputs": [
    {
     "name": "stdout",
     "output_type": "stream",
     "text": [
      "\n",
      "    SELECT * FROM ML.EVALUATE(MODEL `statmike-mlops-349915.feature_engineering.03_feature_engineering_manual_1`)\n",
      "\n"
     ]
    }
   ],
   "source": [
    "query = f\"\"\"\n",
    "    SELECT * FROM ML.EVALUATE(MODEL `{BQ_PROJECT}.{BQ_DATASET}.{BQ_MODEL_ManualFeatureEng1}`)\n",
    "\"\"\"\n",
    "print(query)"
   ]
  },
  {
   "cell_type": "code",
   "execution_count": 116,
   "id": "2274ff2d-5037-41d0-b099-6625eac6e149",
   "metadata": {},
   "outputs": [
    {
     "data": {
      "text/html": [
       "<div>\n",
       "<style scoped>\n",
       "    .dataframe tbody tr th:only-of-type {\n",
       "        vertical-align: middle;\n",
       "    }\n",
       "\n",
       "    .dataframe tbody tr th {\n",
       "        vertical-align: top;\n",
       "    }\n",
       "\n",
       "    .dataframe thead th {\n",
       "        text-align: right;\n",
       "    }\n",
       "</style>\n",
       "<table border=\"1\" class=\"dataframe\">\n",
       "  <thead>\n",
       "    <tr style=\"text-align: right;\">\n",
       "      <th></th>\n",
       "      <th>mean_absolute_error</th>\n",
       "      <th>mean_squared_error</th>\n",
       "      <th>mean_squared_log_error</th>\n",
       "      <th>median_absolute_error</th>\n",
       "      <th>r2_score</th>\n",
       "      <th>explained_variance</th>\n",
       "    </tr>\n",
       "  </thead>\n",
       "  <tbody>\n",
       "    <tr>\n",
       "      <th>0</th>\n",
       "      <td>7.554359</td>\n",
       "      <td>88.794831</td>\n",
       "      <td>0.018243</td>\n",
       "      <td>6.751898</td>\n",
       "      <td>0.076244</td>\n",
       "      <td>0.076244</td>\n",
       "    </tr>\n",
       "  </tbody>\n",
       "</table>\n",
       "</div>"
      ],
      "text/plain": [
       "   mean_absolute_error  mean_squared_error  mean_squared_log_error  \\\n",
       "0             7.554359           88.794831                0.018243   \n",
       "\n",
       "   median_absolute_error  r2_score  explained_variance  \n",
       "0               6.751898  0.076244            0.076244  "
      ]
     },
     "execution_count": 116,
     "metadata": {},
     "output_type": "execute_result"
    }
   ],
   "source": [
    "bq.query(query = query).to_dataframe()"
   ]
  },
  {
   "cell_type": "markdown",
   "id": "e9f1d4bd-928d-4e4b-a4f4-dffe88e36670",
   "metadata": {},
   "source": [
    "### Comparing Metrics Between Automatic and Manual Feature Engineering\n",
    "\n",
    "The query here loads the metrics with `ML.EVALUATE` for both models."
   ]
  },
  {
   "cell_type": "code",
   "execution_count": 117,
   "id": "2bb61659-19a1-4639-a101-ffc075ea7223",
   "metadata": {},
   "outputs": [
    {
     "name": "stdout",
     "output_type": "stream",
     "text": [
      "\n",
      "    SELECT 'Automatic Feature Engineering' as Approach, * FROM ML.EVALUATE(MODEL `statmike-mlops-349915.feature_engineering.03_feature_engineering_auto`)\n",
      "    UNION ALL\n",
      "    SELECT 'Manual Feature Engineering - 1' as Approach, * FROM ML.EVALUATE(MODEL `statmike-mlops-349915.feature_engineering.03_feature_engineering_manual_1`)\n",
      "\n"
     ]
    }
   ],
   "source": [
    "query = f\"\"\"\n",
    "    SELECT 'Automatic Feature Engineering' as Approach, * FROM ML.EVALUATE(MODEL `{BQ_PROJECT}.{BQ_DATASET}.{BQ_MODEL_AutoFeatureEng}`)\n",
    "    UNION ALL\n",
    "    SELECT 'Manual Feature Engineering - 1' as Approach, * FROM ML.EVALUATE(MODEL `{BQ_PROJECT}.{BQ_DATASET}.{BQ_MODEL_ManualFeatureEng1}`)\n",
    "\"\"\"\n",
    "print(query)"
   ]
  },
  {
   "cell_type": "code",
   "execution_count": 118,
   "id": "f980aa7e-b608-4604-b5a7-8d49c3b773a7",
   "metadata": {},
   "outputs": [
    {
     "data": {
      "text/html": [
       "<div>\n",
       "<style scoped>\n",
       "    .dataframe tbody tr th:only-of-type {\n",
       "        vertical-align: middle;\n",
       "    }\n",
       "\n",
       "    .dataframe tbody tr th {\n",
       "        vertical-align: top;\n",
       "    }\n",
       "\n",
       "    .dataframe thead th {\n",
       "        text-align: right;\n",
       "    }\n",
       "</style>\n",
       "<table border=\"1\" class=\"dataframe\">\n",
       "  <thead>\n",
       "    <tr style=\"text-align: right;\">\n",
       "      <th></th>\n",
       "      <th>Approach</th>\n",
       "      <th>mean_absolute_error</th>\n",
       "      <th>mean_squared_error</th>\n",
       "      <th>mean_squared_log_error</th>\n",
       "      <th>median_absolute_error</th>\n",
       "      <th>r2_score</th>\n",
       "      <th>explained_variance</th>\n",
       "    </tr>\n",
       "  </thead>\n",
       "  <tbody>\n",
       "    <tr>\n",
       "      <th>0</th>\n",
       "      <td>Automatic Feature Engineering</td>\n",
       "      <td>7.554296</td>\n",
       "      <td>88.793669</td>\n",
       "      <td>0.018243</td>\n",
       "      <td>6.751984</td>\n",
       "      <td>0.076256</td>\n",
       "      <td>0.076256</td>\n",
       "    </tr>\n",
       "    <tr>\n",
       "      <th>1</th>\n",
       "      <td>Manual Feature Engineering - 1</td>\n",
       "      <td>7.554359</td>\n",
       "      <td>88.794831</td>\n",
       "      <td>0.018243</td>\n",
       "      <td>6.751898</td>\n",
       "      <td>0.076244</td>\n",
       "      <td>0.076244</td>\n",
       "    </tr>\n",
       "  </tbody>\n",
       "</table>\n",
       "</div>"
      ],
      "text/plain": [
       "                         Approach  mean_absolute_error  mean_squared_error  \\\n",
       "0   Automatic Feature Engineering             7.554296           88.793669   \n",
       "1  Manual Feature Engineering - 1             7.554359           88.794831   \n",
       "\n",
       "   mean_squared_log_error  median_absolute_error  r2_score  explained_variance  \n",
       "0                0.018243               6.751984  0.076256            0.076256  \n",
       "1                0.018243               6.751898  0.076244            0.076244  "
      ]
     },
     "execution_count": 118,
     "metadata": {},
     "output_type": "execute_result"
    }
   ],
   "source": [
    "bq.query(query = query).to_dataframe()"
   ]
  },
  {
   "cell_type": "markdown",
   "id": "c2ed977d-05d6-4593-a296-1d6e6d96c266",
   "metadata": {},
   "source": [
    "These results show a very similar outcome across all metrics.  This is because the manual TRANSFORM step is normalizing the numerical inputs in very similar ways to how the automatic feature preprocessing did."
   ]
  },
  {
   "cell_type": "markdown",
   "id": "de9dbba1-503b-47c2-a9d8-7ed405735f28",
   "metadata": {},
   "source": [
    "### Global Explainability - What is important to Judges?\n",
    "\n",
    "Retrieve the influence of each feature on the model with [ML.GLOBAL_EXPLAIN](https://cloud.google.com/bigquery-ml/docs/reference/standard-sql/bigqueryml-syntax-global-explain).  "
   ]
  },
  {
   "cell_type": "code",
   "execution_count": 119,
   "id": "13d88b1b-9607-4e47-b8aa-6e9dfe215c96",
   "metadata": {},
   "outputs": [
    {
     "name": "stdout",
     "output_type": "stream",
     "text": [
      "\n",
      "    SELECT *\n",
      "    FROM ML.GLOBAL_EXPLAIN (MODEL `statmike-mlops-349915.feature_engineering.03_feature_engineering_manual_1`)\n",
      "\n"
     ]
    }
   ],
   "source": [
    "query = f\"\"\"\n",
    "    SELECT *\n",
    "    FROM ML.GLOBAL_EXPLAIN (MODEL `{BQ_PROJECT}.{BQ_DATASET}.{BQ_MODEL_ManualFeatureEng1}`)\n",
    "\"\"\"\n",
    "print(query)"
   ]
  },
  {
   "cell_type": "code",
   "execution_count": 120,
   "id": "c3e94656-131c-4ee3-95d2-fc7274fe5e18",
   "metadata": {},
   "outputs": [
    {
     "data": {
      "text/html": [
       "<div>\n",
       "<style scoped>\n",
       "    .dataframe tbody tr th:only-of-type {\n",
       "        vertical-align: middle;\n",
       "    }\n",
       "\n",
       "    .dataframe tbody tr th {\n",
       "        vertical-align: top;\n",
       "    }\n",
       "\n",
       "    .dataframe thead th {\n",
       "        text-align: right;\n",
       "    }\n",
       "</style>\n",
       "<table border=\"1\" class=\"dataframe\">\n",
       "  <thead>\n",
       "    <tr style=\"text-align: right;\">\n",
       "      <th></th>\n",
       "      <th>feature</th>\n",
       "      <th>attribution</th>\n",
       "    </tr>\n",
       "  </thead>\n",
       "  <tbody>\n",
       "    <tr>\n",
       "      <th>0</th>\n",
       "      <td>scale_bakeTemp</td>\n",
       "      <td>1.943794</td>\n",
       "    </tr>\n",
       "    <tr>\n",
       "      <th>1</th>\n",
       "      <td>scale_mix2Time</td>\n",
       "      <td>0.915663</td>\n",
       "    </tr>\n",
       "    <tr>\n",
       "      <th>2</th>\n",
       "      <td>scale_water2Amt</td>\n",
       "      <td>0.384773</td>\n",
       "    </tr>\n",
       "    <tr>\n",
       "      <th>3</th>\n",
       "      <td>scale_mix2Speed</td>\n",
       "      <td>0.371966</td>\n",
       "    </tr>\n",
       "    <tr>\n",
       "      <th>4</th>\n",
       "      <td>scale_mix1Speed</td>\n",
       "      <td>0.342140</td>\n",
       "    </tr>\n",
       "    <tr>\n",
       "      <th>5</th>\n",
       "      <td>scale_yeastAmt</td>\n",
       "      <td>0.328856</td>\n",
       "    </tr>\n",
       "    <tr>\n",
       "      <th>6</th>\n",
       "      <td>scale_saltAmt</td>\n",
       "      <td>0.245741</td>\n",
       "    </tr>\n",
       "    <tr>\n",
       "      <th>7</th>\n",
       "      <td>scale_ambHumidity</td>\n",
       "      <td>0.163959</td>\n",
       "    </tr>\n",
       "    <tr>\n",
       "      <th>8</th>\n",
       "      <td>scale_proveTime</td>\n",
       "      <td>0.152604</td>\n",
       "    </tr>\n",
       "    <tr>\n",
       "      <th>9</th>\n",
       "      <td>scale_flourAmt</td>\n",
       "      <td>0.145815</td>\n",
       "    </tr>\n",
       "    <tr>\n",
       "      <th>10</th>\n",
       "      <td>scale_ambTemp</td>\n",
       "      <td>0.136483</td>\n",
       "    </tr>\n",
       "    <tr>\n",
       "      <th>11</th>\n",
       "      <td>scale_waterTemp</td>\n",
       "      <td>0.136408</td>\n",
       "    </tr>\n",
       "    <tr>\n",
       "      <th>12</th>\n",
       "      <td>scale_mix1Time</td>\n",
       "      <td>0.130583</td>\n",
       "    </tr>\n",
       "    <tr>\n",
       "      <th>13</th>\n",
       "      <td>scale_water1Amt</td>\n",
       "      <td>0.061568</td>\n",
       "    </tr>\n",
       "    <tr>\n",
       "      <th>14</th>\n",
       "      <td>scale_restTime</td>\n",
       "      <td>0.025444</td>\n",
       "    </tr>\n",
       "    <tr>\n",
       "      <th>15</th>\n",
       "      <td>scale_bakeTime</td>\n",
       "      <td>0.010852</td>\n",
       "    </tr>\n",
       "  </tbody>\n",
       "</table>\n",
       "</div>"
      ],
      "text/plain": [
       "              feature  attribution\n",
       "0      scale_bakeTemp     1.943794\n",
       "1      scale_mix2Time     0.915663\n",
       "2     scale_water2Amt     0.384773\n",
       "3     scale_mix2Speed     0.371966\n",
       "4     scale_mix1Speed     0.342140\n",
       "5      scale_yeastAmt     0.328856\n",
       "6       scale_saltAmt     0.245741\n",
       "7   scale_ambHumidity     0.163959\n",
       "8     scale_proveTime     0.152604\n",
       "9      scale_flourAmt     0.145815\n",
       "10      scale_ambTemp     0.136483\n",
       "11    scale_waterTemp     0.136408\n",
       "12     scale_mix1Time     0.130583\n",
       "13    scale_water1Amt     0.061568\n",
       "14     scale_restTime     0.025444\n",
       "15     scale_bakeTime     0.010852"
      ]
     },
     "execution_count": 120,
     "metadata": {},
     "output_type": "execute_result"
    }
   ],
   "source": [
    "gexplain = bq.query(query = query).to_dataframe()\n",
    "gexplain"
   ]
  },
  {
   "cell_type": "markdown",
   "id": "7a43ec61-caf9-4715-b29b-cba73764f296",
   "metadata": {},
   "source": [
    "Plot the attribution:"
   ]
  },
  {
   "cell_type": "code",
   "execution_count": 121,
   "id": "9b68270e-3235-4f5b-8dec-b33332332751",
   "metadata": {},
   "outputs": [
    {
     "data": {
      "image/png": "[encoded data removed]",
      "text/plain": [
       "<Figure size 1080x576 with 1 Axes>"
      ]
     },
     "metadata": {
      "needs_background": "light"
     },
     "output_type": "display_data"
    }
   ],
   "source": [
    "plt.figure(figsize=(15,8))\n",
    "plt.barh(gexplain['feature'], gexplain['attribution'])\n",
    "plt.title('Global Influence')\n",
    "plt.xlabel('Attribution')\n",
    "#plt.ylabel('Feature')\n",
    "plt.show()"
   ]
  },
  {
   "cell_type": "markdown",
   "id": "29db2b35-8e61-477b-a18e-a5260f8cbcef",
   "metadata": {},
   "source": [
    "### Predictions With BigQuery ML (BQML)\n",
    "\n",
    "Create a pandas dataframe with retrieved predictions for the test data in the table using [ML.PREDICT](https://cloud.google.com/bigquery-ml/docs/reference/standard-sql/bigqueryml-syntax-predict):"
   ]
  },
  {
   "cell_type": "code",
   "execution_count": 122,
   "id": "dde4bedd-428a-4c93-9982-6e2bd87d3d70",
   "metadata": {},
   "outputs": [
    {
     "name": "stdout",
     "output_type": "stream",
     "text": [
      "\n",
      "    SELECT Recipe, JUDGE_A, predicted_JUDGE_A, JUDGE_A-predicted_JUDGE_A as Error\n",
      "    FROM ML.PREDICT (MODEL `statmike-mlops-349915.feature_engineering.03_feature_engineering_manual_1`,(\n",
      "        SELECT *\n",
      "        FROM `statmike-mlops-349915.feature_engineering.bread`\n",
      "        WHERE Recipe <= 10)\n",
      "    )\n",
      "    ORDER BY Recipe\n",
      "\n"
     ]
    }
   ],
   "source": [
    "query = f\"\"\"\n",
    "    SELECT Recipe, JUDGE_A, predicted_JUDGE_A, JUDGE_A-predicted_JUDGE_A as Error\n",
    "    FROM ML.PREDICT (MODEL `{BQ_PROJECT}.{BQ_DATASET}.{BQ_MODEL_ManualFeatureEng1}`,(\n",
    "        SELECT *\n",
    "        FROM `{BQ_PROJECT}.{BQ_DATASET}.{BQ_TABLE}`\n",
    "        WHERE Recipe <= 10)\n",
    "    )\n",
    "    ORDER BY Recipe\n",
    "\"\"\"\n",
    "print(query)"
   ]
  },
  {
   "cell_type": "code",
   "execution_count": 123,
   "id": "3ce9f658-8bd7-48c7-b1a9-c71112d79425",
   "metadata": {},
   "outputs": [
    {
     "data": {
      "text/html": [
       "<div>\n",
       "<style scoped>\n",
       "    .dataframe tbody tr th:only-of-type {\n",
       "        vertical-align: middle;\n",
       "    }\n",
       "\n",
       "    .dataframe tbody tr th {\n",
       "        vertical-align: top;\n",
       "    }\n",
       "\n",
       "    .dataframe thead th {\n",
       "        text-align: right;\n",
       "    }\n",
       "</style>\n",
       "<table border=\"1\" class=\"dataframe\">\n",
       "  <thead>\n",
       "    <tr style=\"text-align: right;\">\n",
       "      <th></th>\n",
       "      <th>Recipe</th>\n",
       "      <th>JUDGE_A</th>\n",
       "      <th>predicted_JUDGE_A</th>\n",
       "      <th>Error</th>\n",
       "    </tr>\n",
       "  </thead>\n",
       "  <tbody>\n",
       "    <tr>\n",
       "      <th>0</th>\n",
       "      <td>1</td>\n",
       "      <td>71.0</td>\n",
       "      <td>72.490717</td>\n",
       "      <td>-1.490717</td>\n",
       "    </tr>\n",
       "    <tr>\n",
       "      <th>1</th>\n",
       "      <td>2</td>\n",
       "      <td>79.0</td>\n",
       "      <td>75.298297</td>\n",
       "      <td>3.701703</td>\n",
       "    </tr>\n",
       "    <tr>\n",
       "      <th>2</th>\n",
       "      <td>3</td>\n",
       "      <td>80.0</td>\n",
       "      <td>77.477886</td>\n",
       "      <td>2.522114</td>\n",
       "    </tr>\n",
       "    <tr>\n",
       "      <th>3</th>\n",
       "      <td>4</td>\n",
       "      <td>74.0</td>\n",
       "      <td>78.353144</td>\n",
       "      <td>-4.353144</td>\n",
       "    </tr>\n",
       "    <tr>\n",
       "      <th>4</th>\n",
       "      <td>5</td>\n",
       "      <td>81.0</td>\n",
       "      <td>75.041496</td>\n",
       "      <td>5.958504</td>\n",
       "    </tr>\n",
       "    <tr>\n",
       "      <th>5</th>\n",
       "      <td>6</td>\n",
       "      <td>78.0</td>\n",
       "      <td>76.537575</td>\n",
       "      <td>1.462425</td>\n",
       "    </tr>\n",
       "    <tr>\n",
       "      <th>6</th>\n",
       "      <td>7</td>\n",
       "      <td>78.0</td>\n",
       "      <td>72.477412</td>\n",
       "      <td>5.522588</td>\n",
       "    </tr>\n",
       "    <tr>\n",
       "      <th>7</th>\n",
       "      <td>8</td>\n",
       "      <td>74.0</td>\n",
       "      <td>74.587028</td>\n",
       "      <td>-0.587028</td>\n",
       "    </tr>\n",
       "    <tr>\n",
       "      <th>8</th>\n",
       "      <td>9</td>\n",
       "      <td>69.0</td>\n",
       "      <td>77.912953</td>\n",
       "      <td>-8.912953</td>\n",
       "    </tr>\n",
       "    <tr>\n",
       "      <th>9</th>\n",
       "      <td>10</td>\n",
       "      <td>79.0</td>\n",
       "      <td>74.113024</td>\n",
       "      <td>4.886976</td>\n",
       "    </tr>\n",
       "  </tbody>\n",
       "</table>\n",
       "</div>"
      ],
      "text/plain": [
       "   Recipe  JUDGE_A  predicted_JUDGE_A     Error\n",
       "0       1     71.0          72.490717 -1.490717\n",
       "1       2     79.0          75.298297  3.701703\n",
       "2       3     80.0          77.477886  2.522114\n",
       "3       4     74.0          78.353144 -4.353144\n",
       "4       5     81.0          75.041496  5.958504\n",
       "5       6     78.0          76.537575  1.462425\n",
       "6       7     78.0          72.477412  5.522588\n",
       "7       8     74.0          74.587028 -0.587028\n",
       "8       9     69.0          77.912953 -8.912953\n",
       "9      10     79.0          74.113024  4.886976"
      ]
     },
     "execution_count": 123,
     "metadata": {},
     "output_type": "execute_result"
    }
   ],
   "source": [
    "bq.query(query = query).to_dataframe()"
   ]
  },
  {
   "cell_type": "markdown",
   "id": "3e1d68cd-ec7f-4ec8-92c6-9f525c30c69c",
   "metadata": {},
   "source": [
    "### Local Explainability - What impacted the judges rating?\n",
    "\n",
    "Retrieve feature attribution values to interpret each features contribution to a prediction relative to the baseline prediction using [ML.EXPLAIN_PREDICT](https://cloud.google.com/bigquery-ml/docs/reference/standard-sql/bigqueryml-syntax-explain-predict)."
   ]
  },
  {
   "cell_type": "code",
   "execution_count": 124,
   "id": "f878a919-91b0-48e0-9322-a3d4654437bb",
   "metadata": {},
   "outputs": [
    {
     "name": "stdout",
     "output_type": "stream",
     "text": [
      "\n",
      "    SELECT *\n",
      "    FROM ML.EXPLAIN_PREDICT (MODEL `statmike-mlops-349915.feature_engineering.03_feature_engineering_manual_1`,(\n",
      "        SELECT *\n",
      "        FROM `statmike-mlops-349915.feature_engineering.bread`\n",
      "        WHERE Recipe <= 10)\n",
      "    )\n",
      "    ORDER BY Recipe\n",
      "\n"
     ]
    }
   ],
   "source": [
    "query = f\"\"\"\n",
    "    SELECT *\n",
    "    FROM ML.EXPLAIN_PREDICT (MODEL `{BQ_PROJECT}.{BQ_DATASET}.{BQ_MODEL_ManualFeatureEng1}`,(\n",
    "        SELECT *\n",
    "        FROM `{BQ_PROJECT}.{BQ_DATASET}.{BQ_TABLE}`\n",
    "        WHERE Recipe <= 10)\n",
    "    )\n",
    "    ORDER BY Recipe\n",
    "\"\"\"\n",
    "print(query)"
   ]
  },
  {
   "cell_type": "code",
   "execution_count": 125,
   "id": "6c7c4376-7b45-4c3d-b45d-34334d4acd33",
   "metadata": {},
   "outputs": [
    {
     "data": {
      "text/html": [
       "<div>\n",
       "<style scoped>\n",
       "    .dataframe tbody tr th:only-of-type {\n",
       "        vertical-align: middle;\n",
       "    }\n",
       "\n",
       "    .dataframe tbody tr th {\n",
       "        vertical-align: top;\n",
       "    }\n",
       "\n",
       "    .dataframe thead th {\n",
       "        text-align: right;\n",
       "    }\n",
       "</style>\n",
       "<table border=\"1\" class=\"dataframe\">\n",
       "  <thead>\n",
       "    <tr style=\"text-align: right;\">\n",
       "      <th></th>\n",
       "      <th>predicted_JUDGE_A</th>\n",
       "      <th>top_feature_attributions</th>\n",
       "      <th>baseline_prediction_value</th>\n",
       "      <th>prediction_value</th>\n",
       "      <th>approximation_error</th>\n",
       "      <th>Recipe</th>\n",
       "      <th>flourAmt</th>\n",
       "      <th>saltAmt</th>\n",
       "      <th>yeastAmt</th>\n",
       "      <th>mix1Time</th>\n",
       "      <th>...</th>\n",
       "      <th>water2Amt</th>\n",
       "      <th>waterTemp</th>\n",
       "      <th>proveTime</th>\n",
       "      <th>restTime</th>\n",
       "      <th>bakeTime</th>\n",
       "      <th>bakeTemp</th>\n",
       "      <th>ambTemp</th>\n",
       "      <th>ambHumidity</th>\n",
       "      <th>JUDGE_A</th>\n",
       "      <th>JUDGE_B</th>\n",
       "    </tr>\n",
       "  </thead>\n",
       "  <tbody>\n",
       "    <tr>\n",
       "      <th>0</th>\n",
       "      <td>72.490717</td>\n",
       "      <td>[{'feature': 'scale_bakeTemp', 'attribution': ...</td>\n",
       "      <td>74.641498</td>\n",
       "      <td>72.490717</td>\n",
       "      <td>0.0</td>\n",
       "      <td>1</td>\n",
       "      <td>515.547531</td>\n",
       "      <td>9</td>\n",
       "      <td>11</td>\n",
       "      <td>4</td>\n",
       "      <td>...</td>\n",
       "      <td>80.250726</td>\n",
       "      <td>41</td>\n",
       "      <td>90.661748</td>\n",
       "      <td>37</td>\n",
       "      <td>26</td>\n",
       "      <td>434.434191</td>\n",
       "      <td>68.500605</td>\n",
       "      <td>55.210172</td>\n",
       "      <td>71.0</td>\n",
       "      <td>59.0</td>\n",
       "    </tr>\n",
       "    <tr>\n",
       "      <th>1</th>\n",
       "      <td>75.298297</td>\n",
       "      <td>[{'feature': 'scale_bakeTemp', 'attribution': ...</td>\n",
       "      <td>74.641498</td>\n",
       "      <td>75.298297</td>\n",
       "      <td>0.0</td>\n",
       "      <td>2</td>\n",
       "      <td>494.435203</td>\n",
       "      <td>8</td>\n",
       "      <td>10</td>\n",
       "      <td>4</td>\n",
       "      <td>...</td>\n",
       "      <td>102.361146</td>\n",
       "      <td>40</td>\n",
       "      <td>100.850857</td>\n",
       "      <td>36</td>\n",
       "      <td>28</td>\n",
       "      <td>434.282962</td>\n",
       "      <td>62.650467</td>\n",
       "      <td>59.707303</td>\n",
       "      <td>79.0</td>\n",
       "      <td>69.0</td>\n",
       "    </tr>\n",
       "    <tr>\n",
       "      <th>2</th>\n",
       "      <td>77.477886</td>\n",
       "      <td>[{'feature': 'scale_bakeTemp', 'attribution': ...</td>\n",
       "      <td>74.641498</td>\n",
       "      <td>77.477886</td>\n",
       "      <td>0.0</td>\n",
       "      <td>3</td>\n",
       "      <td>505.706355</td>\n",
       "      <td>10</td>\n",
       "      <td>9</td>\n",
       "      <td>7</td>\n",
       "      <td>...</td>\n",
       "      <td>113.890652</td>\n",
       "      <td>41</td>\n",
       "      <td>94.380240</td>\n",
       "      <td>43</td>\n",
       "      <td>29</td>\n",
       "      <td>409.618577</td>\n",
       "      <td>64.530485</td>\n",
       "      <td>54.218660</td>\n",
       "      <td>80.0</td>\n",
       "      <td>70.0</td>\n",
       "    </tr>\n",
       "    <tr>\n",
       "      <th>3</th>\n",
       "      <td>78.353144</td>\n",
       "      <td>[{'feature': 'scale_mix2Time', 'attribution': ...</td>\n",
       "      <td>74.641498</td>\n",
       "      <td>78.353144</td>\n",
       "      <td>0.0</td>\n",
       "      <td>4</td>\n",
       "      <td>497.352020</td>\n",
       "      <td>10</td>\n",
       "      <td>8</td>\n",
       "      <td>5</td>\n",
       "      <td>...</td>\n",
       "      <td>80.730411</td>\n",
       "      <td>43</td>\n",
       "      <td>102.036819</td>\n",
       "      <td>41</td>\n",
       "      <td>22</td>\n",
       "      <td>416.374184</td>\n",
       "      <td>66.839937</td>\n",
       "      <td>49.167220</td>\n",
       "      <td>74.0</td>\n",
       "      <td>62.0</td>\n",
       "    </tr>\n",
       "    <tr>\n",
       "      <th>4</th>\n",
       "      <td>75.041496</td>\n",
       "      <td>[{'feature': 'scale_bakeTemp', 'attribution': ...</td>\n",
       "      <td>74.641498</td>\n",
       "      <td>75.041496</td>\n",
       "      <td>0.0</td>\n",
       "      <td>5</td>\n",
       "      <td>485.829086</td>\n",
       "      <td>8</td>\n",
       "      <td>11</td>\n",
       "      <td>5</td>\n",
       "      <td>...</td>\n",
       "      <td>98.467490</td>\n",
       "      <td>45</td>\n",
       "      <td>104.718203</td>\n",
       "      <td>42</td>\n",
       "      <td>23</td>\n",
       "      <td>433.390445</td>\n",
       "      <td>52.793996</td>\n",
       "      <td>57.582621</td>\n",
       "      <td>81.0</td>\n",
       "      <td>72.0</td>\n",
       "    </tr>\n",
       "    <tr>\n",
       "      <th>5</th>\n",
       "      <td>76.537575</td>\n",
       "      <td>[{'feature': 'scale_bakeTemp', 'attribution': ...</td>\n",
       "      <td>74.641498</td>\n",
       "      <td>76.537575</td>\n",
       "      <td>0.0</td>\n",
       "      <td>6</td>\n",
       "      <td>490.183679</td>\n",
       "      <td>10</td>\n",
       "      <td>11</td>\n",
       "      <td>5</td>\n",
       "      <td>...</td>\n",
       "      <td>95.246531</td>\n",
       "      <td>49</td>\n",
       "      <td>90.550763</td>\n",
       "      <td>42</td>\n",
       "      <td>28</td>\n",
       "      <td>409.200787</td>\n",
       "      <td>71.604845</td>\n",
       "      <td>45.507028</td>\n",
       "      <td>78.0</td>\n",
       "      <td>68.0</td>\n",
       "    </tr>\n",
       "    <tr>\n",
       "      <th>6</th>\n",
       "      <td>72.477412</td>\n",
       "      <td>[{'feature': 'scale_bakeTemp', 'attribution': ...</td>\n",
       "      <td>74.641498</td>\n",
       "      <td>72.477412</td>\n",
       "      <td>0.0</td>\n",
       "      <td>7</td>\n",
       "      <td>508.577734</td>\n",
       "      <td>8</td>\n",
       "      <td>10</td>\n",
       "      <td>4</td>\n",
       "      <td>...</td>\n",
       "      <td>97.929344</td>\n",
       "      <td>49</td>\n",
       "      <td>98.152207</td>\n",
       "      <td>44</td>\n",
       "      <td>25</td>\n",
       "      <td>437.452416</td>\n",
       "      <td>56.616429</td>\n",
       "      <td>55.153239</td>\n",
       "      <td>78.0</td>\n",
       "      <td>67.0</td>\n",
       "    </tr>\n",
       "    <tr>\n",
       "      <th>7</th>\n",
       "      <td>74.587028</td>\n",
       "      <td>[{'feature': 'scale_bakeTemp', 'attribution': ...</td>\n",
       "      <td>74.641498</td>\n",
       "      <td>74.587028</td>\n",
       "      <td>0.0</td>\n",
       "      <td>8</td>\n",
       "      <td>517.695022</td>\n",
       "      <td>11</td>\n",
       "      <td>9</td>\n",
       "      <td>6</td>\n",
       "      <td>...</td>\n",
       "      <td>108.635735</td>\n",
       "      <td>48</td>\n",
       "      <td>102.001918</td>\n",
       "      <td>38</td>\n",
       "      <td>22</td>\n",
       "      <td>438.059907</td>\n",
       "      <td>80.158807</td>\n",
       "      <td>48.142746</td>\n",
       "      <td>74.0</td>\n",
       "      <td>63.0</td>\n",
       "    </tr>\n",
       "    <tr>\n",
       "      <th>8</th>\n",
       "      <td>77.912953</td>\n",
       "      <td>[{'feature': 'scale_mix2Time', 'attribution': ...</td>\n",
       "      <td>74.641498</td>\n",
       "      <td>77.912953</td>\n",
       "      <td>0.0</td>\n",
       "      <td>9</td>\n",
       "      <td>495.988172</td>\n",
       "      <td>8</td>\n",
       "      <td>11</td>\n",
       "      <td>4</td>\n",
       "      <td>...</td>\n",
       "      <td>77.313000</td>\n",
       "      <td>40</td>\n",
       "      <td>102.057394</td>\n",
       "      <td>36</td>\n",
       "      <td>20</td>\n",
       "      <td>413.923945</td>\n",
       "      <td>68.343126</td>\n",
       "      <td>47.721921</td>\n",
       "      <td>69.0</td>\n",
       "      <td>56.0</td>\n",
       "    </tr>\n",
       "    <tr>\n",
       "      <th>9</th>\n",
       "      <td>74.113024</td>\n",
       "      <td>[{'feature': 'scale_bakeTemp', 'attribution': ...</td>\n",
       "      <td>74.641498</td>\n",
       "      <td>74.113024</td>\n",
       "      <td>0.0</td>\n",
       "      <td>10</td>\n",
       "      <td>499.512905</td>\n",
       "      <td>10</td>\n",
       "      <td>9</td>\n",
       "      <td>4</td>\n",
       "      <td>...</td>\n",
       "      <td>130.894200</td>\n",
       "      <td>44</td>\n",
       "      <td>97.960904</td>\n",
       "      <td>36</td>\n",
       "      <td>23</td>\n",
       "      <td>431.663510</td>\n",
       "      <td>63.146053</td>\n",
       "      <td>46.825431</td>\n",
       "      <td>79.0</td>\n",
       "      <td>69.0</td>\n",
       "    </tr>\n",
       "  </tbody>\n",
       "</table>\n",
       "<p>10 rows × 24 columns</p>\n",
       "</div>"
      ],
      "text/plain": [
       "   predicted_JUDGE_A                           top_feature_attributions  \\\n",
       "0          72.490717  [{'feature': 'scale_bakeTemp', 'attribution': ...   \n",
       "1          75.298297  [{'feature': 'scale_bakeTemp', 'attribution': ...   \n",
       "2          77.477886  [{'feature': 'scale_bakeTemp', 'attribution': ...   \n",
       "3          78.353144  [{'feature': 'scale_mix2Time', 'attribution': ...   \n",
       "4          75.041496  [{'feature': 'scale_bakeTemp', 'attribution': ...   \n",
       "5          76.537575  [{'feature': 'scale_bakeTemp', 'attribution': ...   \n",
       "6          72.477412  [{'feature': 'scale_bakeTemp', 'attribution': ...   \n",
       "7          74.587028  [{'feature': 'scale_bakeTemp', 'attribution': ...   \n",
       "8          77.912953  [{'feature': 'scale_mix2Time', 'attribution': ...   \n",
       "9          74.113024  [{'feature': 'scale_bakeTemp', 'attribution': ...   \n",
       "\n",
       "   baseline_prediction_value  prediction_value  approximation_error  Recipe  \\\n",
       "0                  74.641498         72.490717                  0.0       1   \n",
       "1                  74.641498         75.298297                  0.0       2   \n",
       "2                  74.641498         77.477886                  0.0       3   \n",
       "3                  74.641498         78.353144                  0.0       4   \n",
       "4                  74.641498         75.041496                  0.0       5   \n",
       "5                  74.641498         76.537575                  0.0       6   \n",
       "6                  74.641498         72.477412                  0.0       7   \n",
       "7                  74.641498         74.587028                  0.0       8   \n",
       "8                  74.641498         77.912953                  0.0       9   \n",
       "9                  74.641498         74.113024                  0.0      10   \n",
       "\n",
       "     flourAmt  saltAmt  yeastAmt  mix1Time  ...   water2Amt  waterTemp  \\\n",
       "0  515.547531        9        11         4  ...   80.250726         41   \n",
       "1  494.435203        8        10         4  ...  102.361146         40   \n",
       "2  505.706355       10         9         7  ...  113.890652         41   \n",
       "3  497.352020       10         8         5  ...   80.730411         43   \n",
       "4  485.829086        8        11         5  ...   98.467490         45   \n",
       "5  490.183679       10        11         5  ...   95.246531         49   \n",
       "6  508.577734        8        10         4  ...   97.929344         49   \n",
       "7  517.695022       11         9         6  ...  108.635735         48   \n",
       "8  495.988172        8        11         4  ...   77.313000         40   \n",
       "9  499.512905       10         9         4  ...  130.894200         44   \n",
       "\n",
       "    proveTime  restTime  bakeTime    bakeTemp    ambTemp  ambHumidity  \\\n",
       "0   90.661748        37        26  434.434191  68.500605    55.210172   \n",
       "1  100.850857        36        28  434.282962  62.650467    59.707303   \n",
       "2   94.380240        43        29  409.618577  64.530485    54.218660   \n",
       "3  102.036819        41        22  416.374184  66.839937    49.167220   \n",
       "4  104.718203        42        23  433.390445  52.793996    57.582621   \n",
       "5   90.550763        42        28  409.200787  71.604845    45.507028   \n",
       "6   98.152207        44        25  437.452416  56.616429    55.153239   \n",
       "7  102.001918        38        22  438.059907  80.158807    48.142746   \n",
       "8  102.057394        36        20  413.923945  68.343126    47.721921   \n",
       "9   97.960904        36        23  431.663510  63.146053    46.825431   \n",
       "\n",
       "   JUDGE_A  JUDGE_B  \n",
       "0     71.0     59.0  \n",
       "1     79.0     69.0  \n",
       "2     80.0     70.0  \n",
       "3     74.0     62.0  \n",
       "4     81.0     72.0  \n",
       "5     78.0     68.0  \n",
       "6     78.0     67.0  \n",
       "7     74.0     63.0  \n",
       "8     69.0     56.0  \n",
       "9     79.0     69.0  \n",
       "\n",
       "[10 rows x 24 columns]"
      ]
     },
     "execution_count": 125,
     "metadata": {},
     "output_type": "execute_result"
    }
   ],
   "source": [
    "explain = bq.query(query = query).to_dataframe()\n",
    "explain"
   ]
  },
  {
   "cell_type": "markdown",
   "id": "dac2d375-a719-4c9c-ab9c-7f3807de2bc0",
   "metadata": {},
   "source": [
    "Create a plot of feature attributions for a single prediction:"
   ]
  },
  {
   "cell_type": "code",
   "execution_count": 126,
   "id": "10394d34-0406-44a2-aa1c-8764c1523c5d",
   "metadata": {},
   "outputs": [],
   "source": [
    "recipe = 1\n",
    "explanation = explain.iloc[recipe-1]['top_feature_attributions']"
   ]
  },
  {
   "cell_type": "code",
   "execution_count": 127,
   "id": "0f193f2f-e656-47cc-b186-9114c01c359b",
   "metadata": {},
   "outputs": [
    {
     "data": {
      "image/png": "[encoded data removed]",
      "text/plain": [
       "<Figure size 1080x360 with 1 Axes>"
      ]
     },
     "metadata": {
      "needs_background": "light"
     },
     "output_type": "display_data"
    }
   ],
   "source": [
    "features = []\n",
    "scores = []\n",
    "for k in explanation:\n",
    "    features.append(k['feature'])\n",
    "    scores.append(k['attribution'])\n",
    "features = [x for _, x in sorted(zip(scores, features))]\n",
    "scores = sorted(scores)\n",
    "\n",
    "plt.figure(figsize=(15,5))\n",
    "plt.barh(features, scores)\n",
    "plt.title(f'Feature Attribution for Prediction - Recipe {recipe}')\n",
    "plt.show()"
   ]
  },
  {
   "cell_type": "markdown",
   "id": "40147787-e773-401b-ac90-591ff32c2e1d",
   "metadata": {},
   "source": [
    "### Check out this model in the BigQuery Console:\n",
    "- Make sure project selected is the one from this notebook\n",
    "- Under Explore, expand this project and dataset\n",
    "- Expand Models and select the model create here"
   ]
  },
  {
   "cell_type": "code",
   "execution_count": 128,
   "id": "5c9cf641-5982-41a3-a1d5-b9ddbb8b0a9a",
   "metadata": {},
   "outputs": [
    {
     "name": "stdout",
     "output_type": "stream",
     "text": [
      "Direct link to the model in BigQuery:\n",
      "https://console.cloud.google.com/bigquery?project=statmike-mlops-349915&ws=!1m5!1m4!5m3!1sstatmike-mlops-349915!2sfeature_engineering!3s03_feature_engineering_manual_1\n"
     ]
    }
   ],
   "source": [
    "print(f'Direct link to the model in BigQuery:\\nhttps://console.cloud.google.com/bigquery?project={PROJECT_ID}&ws=!1m5!1m4!5m3!1s{PROJECT_ID}!2s{BQ_DATASET}!3s{BQ_MODEL_ManualFeatureEng1}')"
   ]
  },
  {
   "cell_type": "markdown",
   "id": "e7f1037b-4010-4631-9dc4-de8b06a5bddc",
   "metadata": {},
   "source": [
    "### Check out this model in the Vertex AI Console:\n",
    "- Make sure project selected is the one from this notebook\n",
    "- Make sure the region is `europe-west4` (default when BQ is `EU` multiregion)"
   ]
  },
  {
   "cell_type": "code",
   "execution_count": 129,
   "id": "91e8994b-9f8f-4e65-a61d-96936e04f0cf",
   "metadata": {},
   "outputs": [
    {
     "name": "stdout",
     "output_type": "stream",
     "text": [
      "View the model in the Vertex AI Console:\n",
      "https://console.cloud.google.com/vertex-ai/locations/europe-west4/models/bqml_03_feature_engineering_manual_1?project=statmike-mlops-349915\n"
     ]
    }
   ],
   "source": [
    "print(f\"View the model in the Vertex AI Console:\\nhttps://console.cloud.google.com/vertex-ai/locations/{REGION}/models/bqml_{BQ_MODEL_ManualFeatureEng1}?project={PROJECT_ID}\")"
   ]
  },
  {
   "cell_type": "markdown",
   "id": "780ff15a-9af1-4842-95ff-0afc33c2e86b",
   "metadata": {},
   "source": [
    "## Train Model - 2\n",
    "\n",
    "Use BigQuery ML to train a boosted tree:\n",
    "- [Boosted Tree](https://cloud.google.com/bigquery-ml/docs/reference/standard-sql/bigqueryml-syntax-create-boosted-tree) with BigQuery ML (BQML)\n",
    "\n",
    "Feature preprocessing with the `TRANSFORM` statement:\n",
    "- [TRANSFORM](https://cloud.google.com/bigquery-ml/docs/reference/standard-sql/bigqueryml-syntax-create#transform)\n",
    "\n",
    "Register the model to Vertex AI Model Registry:\n",
    "- `MODEL_REGISTRY` [training options](https://cloud.google.com/bigquery-ml/docs/create_vertex) to register the resulting model in the [Vertex AI Model Registry](https://cloud.google.com/vertex-ai/docs/model-registry/introduction)."
   ]
  },
  {
   "cell_type": "code",
   "execution_count": 130,
   "id": "b66e4328-543d-4296-a7da-d1297bee07bf",
   "metadata": {},
   "outputs": [],
   "source": [
    "TIMESTAMP = datetime.now().strftime(\"%Y%m%d%H%M%S\")\n",
    "RUN_NAME = f'run-{TIMESTAMP}'\n",
    "BQ_MODEL_ManualFeatureEng2 = f'{SERIES}_{EXPERIMENT}_manual_2'"
   ]
  },
  {
   "cell_type": "code",
   "execution_count": 131,
   "id": "ea86eef8-c9a9-4c37-86d7-183d634fa203",
   "metadata": {},
   "outputs": [
    {
     "name": "stdout",
     "output_type": "stream",
     "text": [
      "\n",
      "CREATE OR REPLACE MODEL `statmike-mlops-349915.feature_engineering.03_feature_engineering_manual_2`\n",
      "TRANSFORM (\n",
      "    JUDGE_A,\n",
      "\n",
      "    ML.MIN_MAX_SCALER(flourAmt) OVER() as scale_flourAmt, \n",
      "    ML.ROBUST_SCALER(saltAmt) OVER() as scale_saltAmt,\n",
      "    ML.MAX_ABS_SCALER(yeastAmt) OVER() as scale_yeastAmt,\n",
      "    ML.STANDARD_SCALER(water1Amt) OVER() as scale_water1Amt,\n",
      "    ML.STANDARD_SCALER(water2Amt) OVER() as scale_water2Amt,\n",
      "\n",
      "    ML.STANDARD_SCALER(waterTemp) OVER() as scale_waterTemp,\n",
      "    ML.ROBUST_SCALER(bakeTemp) OVER() as scale_bakeTemp,\n",
      "    ML.MIN_MAX_SCALER(ambTemp) OVER() as scale_ambTemp,\n",
      "    ML.MAX_ABS_SCALER(ambHumidity) OVER() as scale_ambHumidity,\n",
      "\n",
      "    ML.ROBUST_SCALER(mix1Time) OVER() as scale_mix1Time,\n",
      "    ML.ROBUST_SCALER(mix2Time) OVER() as scale_mix2Time,\n",
      "    ML.ROBUST_SCALER(mix1Speed) OVER() as scale_mix1Speed,\n",
      "    ML.ROBUST_SCALER(mix2Speed) OVER() as scale_mix2Speed,\n",
      "    ML.STANDARD_SCALER(proveTime) OVER() as scale_proveTime,\n",
      "    ML.MAX_ABS_SCALER(restTime) OVER() as scale_restTime,\n",
      "    ML.MAX_ABS_SCALER(bakeTime) OVER() as scale_bakeTime\n",
      ")\n",
      "OPTIONS (\n",
      "        model_type = 'BOOSTED_TREE_REGRESSOR',\n",
      "        booster_type = 'GBTREE',\n",
      "        num_parallel_tree = 1,\n",
      "        max_iterations = 30,\n",
      "        early_stop = TRUE,\n",
      "        min_rel_progress = 0.01,\n",
      "        tree_method = 'HIST',\n",
      "        subsample = 0.85,\n",
      "        #model_type = 'LINEAR_REG',        \n",
      "        input_label_cols = ['JUDGE_A'],\n",
      "        enable_global_explain = TRUE,\n",
      "        data_split_method = 'AUTO_SPLIT',\n",
      "        l1_reg = 10,\n",
      "        l2_reg = 10,\n",
      "        MODEL_REGISTRY = 'VERTEX_AI',\n",
      "        VERTEX_AI_MODEL_ID = 'bqml_03_feature_engineering_manual_2',\n",
      "        VERTEX_AI_MODEL_VERSION_ALIASES = ['run-20230110134911', 'manual_feature_engineering']\n",
      "    ) AS\n",
      "SELECT * EXCEPT(Recipe, JUDGE_B)\n",
      "FROM `statmike-mlops-349915.feature_engineering.bread`\n",
      "\n"
     ]
    }
   ],
   "source": [
    "query = f\"\"\"\n",
    "CREATE OR REPLACE MODEL `{BQ_PROJECT}.{BQ_DATASET}.{BQ_MODEL_ManualFeatureEng2}`\n",
    "TRANSFORM (\n",
    "    JUDGE_A,\n",
    "\n",
    "    ML.MIN_MAX_SCALER(flourAmt) OVER() as scale_flourAmt, \n",
    "    ML.ROBUST_SCALER(saltAmt) OVER() as scale_saltAmt,\n",
    "    ML.MAX_ABS_SCALER(yeastAmt) OVER() as scale_yeastAmt,\n",
    "    ML.STANDARD_SCALER(water1Amt) OVER() as scale_water1Amt,\n",
    "    ML.STANDARD_SCALER(water2Amt) OVER() as scale_water2Amt,\n",
    "\n",
    "    ML.STANDARD_SCALER(waterTemp) OVER() as scale_waterTemp,\n",
    "    ML.ROBUST_SCALER(bakeTemp) OVER() as scale_bakeTemp,\n",
    "    ML.MIN_MAX_SCALER(ambTemp) OVER() as scale_ambTemp,\n",
    "    ML.MAX_ABS_SCALER(ambHumidity) OVER() as scale_ambHumidity,\n",
    "\n",
    "    ML.ROBUST_SCALER(mix1Time) OVER() as scale_mix1Time,\n",
    "    ML.ROBUST_SCALER(mix2Time) OVER() as scale_mix2Time,\n",
    "    ML.ROBUST_SCALER(mix1Speed) OVER() as scale_mix1Speed,\n",
    "    ML.ROBUST_SCALER(mix2Speed) OVER() as scale_mix2Speed,\n",
    "    ML.STANDARD_SCALER(proveTime) OVER() as scale_proveTime,\n",
    "    ML.MAX_ABS_SCALER(restTime) OVER() as scale_restTime,\n",
    "    ML.MAX_ABS_SCALER(bakeTime) OVER() as scale_bakeTime\n",
    ")\n",
    "OPTIONS (\n",
    "        model_type = 'BOOSTED_TREE_REGRESSOR',\n",
    "        booster_type = 'GBTREE',\n",
    "        num_parallel_tree = 1,\n",
    "        max_iterations = 30,\n",
    "        early_stop = TRUE,\n",
    "        min_rel_progress = 0.01,\n",
    "        tree_method = 'HIST',\n",
    "        subsample = 0.85,\n",
    "        #model_type = 'LINEAR_REG',        \n",
    "        input_label_cols = ['JUDGE_A'],\n",
    "        enable_global_explain = TRUE,\n",
    "        data_split_method = 'AUTO_SPLIT',\n",
    "        l1_reg = 10,\n",
    "        l2_reg = 10,\n",
    "        MODEL_REGISTRY = 'VERTEX_AI',\n",
    "        VERTEX_AI_MODEL_ID = 'bqml_{BQ_MODEL_ManualFeatureEng2}',\n",
    "        VERTEX_AI_MODEL_VERSION_ALIASES = ['{RUN_NAME}', 'manual_feature_engineering']\n",
    "    ) AS\n",
    "SELECT * EXCEPT(Recipe, JUDGE_B)\n",
    "FROM `{BQ_PROJECT}.{BQ_DATASET}.{BQ_TABLE}`\n",
    "\"\"\"\n",
    "print(query)"
   ]
  },
  {
   "cell_type": "code",
   "execution_count": 132,
   "id": "810adc92-f1a7-4676-ab23-da88375dc1e7",
   "metadata": {},
   "outputs": [
    {
     "data": {
      "text/plain": [
       "523.35"
      ]
     },
     "execution_count": 132,
     "metadata": {},
     "output_type": "execute_result"
    }
   ],
   "source": [
    "job = bq.query(query = query)\n",
    "job.result()\n",
    "(job.ended-job.started).total_seconds()"
   ]
  },
  {
   "cell_type": "code",
   "execution_count": 133,
   "id": "eab37574-0613-4781-9aba-57a6ff95cd25",
   "metadata": {},
   "outputs": [
    {
     "data": {
      "text/plain": [
       "40376420079"
      ]
     },
     "execution_count": 133,
     "metadata": {},
     "output_type": "execute_result"
    }
   ],
   "source": [
    "job.total_bytes_processed"
   ]
  },
  {
   "cell_type": "markdown",
   "id": "9d5225ba-7030-4ebd-9841-d9c11d19edb2",
   "metadata": {},
   "source": [
    "Add labels to the model in BigQuery:"
   ]
  },
  {
   "cell_type": "code",
   "execution_count": 134,
   "id": "f39f906c-de1b-4a16-be8d-e8aa2f21ff10",
   "metadata": {},
   "outputs": [],
   "source": [
    "bqml_model_ManualFeatureEng2 = bq.get_model(f'{BQ_PROJECT}.{BQ_DATASET}.{BQ_MODEL_ManualFeatureEng2}')\n",
    "bqml_model_ManualFeatureEng2.labels = {'series' : f'{SERIES}', 'experiment' : f'{EXPERIMENT}'}\n",
    "bqml_model_ManualFeatureEng2 = bq.update_model(bqml_model_ManualFeatureEng2, ['labels'])"
   ]
  },
  {
   "cell_type": "markdown",
   "id": "4e05eb2f-1a1e-4649-968b-7fd92014c6dd",
   "metadata": {},
   "source": [
    "### Feature and Training Review"
   ]
  },
  {
   "cell_type": "markdown",
   "id": "669b207f-8a01-47fb-8281-9bf2904dbc92",
   "metadata": {},
   "source": [
    "Review the Model Inputs, the feature information before preprocessing, with [ML.FEATURE_INFO](https://cloud.google.com/bigquery-ml/docs/reference/standard-sql/bigqueryml-syntax-feature):"
   ]
  },
  {
   "cell_type": "code",
   "execution_count": 135,
   "id": "39e25006-13e6-42dd-8f97-ccd19da7bd85",
   "metadata": {},
   "outputs": [
    {
     "name": "stdout",
     "output_type": "stream",
     "text": [
      "\n",
      "    SELECT *\n",
      "    FROM ML.FEATURE_INFO(MODEL `statmike-mlops-349915.feature_engineering.03_feature_engineering_manual_2`)\n",
      "\n"
     ]
    }
   ],
   "source": [
    "query = f\"\"\"\n",
    "    SELECT *\n",
    "    FROM ML.FEATURE_INFO(MODEL `{BQ_PROJECT}.{BQ_DATASET}.{BQ_MODEL_ManualFeatureEng2}`)\n",
    "\"\"\"\n",
    "print(query)"
   ]
  },
  {
   "cell_type": "code",
   "execution_count": 136,
   "id": "3d9c7d4b-7198-49e1-93c9-7e00a57b0d04",
   "metadata": {},
   "outputs": [
    {
     "data": {
      "text/html": [
       "<div>\n",
       "<style scoped>\n",
       "    .dataframe tbody tr th:only-of-type {\n",
       "        vertical-align: middle;\n",
       "    }\n",
       "\n",
       "    .dataframe tbody tr th {\n",
       "        vertical-align: top;\n",
       "    }\n",
       "\n",
       "    .dataframe thead th {\n",
       "        text-align: right;\n",
       "    }\n",
       "</style>\n",
       "<table border=\"1\" class=\"dataframe\">\n",
       "  <thead>\n",
       "    <tr style=\"text-align: right;\">\n",
       "      <th></th>\n",
       "      <th>input</th>\n",
       "      <th>min</th>\n",
       "      <th>max</th>\n",
       "      <th>mean</th>\n",
       "      <th>median</th>\n",
       "      <th>stddev</th>\n",
       "      <th>category_count</th>\n",
       "      <th>null_count</th>\n",
       "      <th>dimension</th>\n",
       "    </tr>\n",
       "  </thead>\n",
       "  <tbody>\n",
       "    <tr>\n",
       "      <th>0</th>\n",
       "      <td>bakeTime</td>\n",
       "      <td>20.000000</td>\n",
       "      <td>30.000000</td>\n",
       "      <td>24.999386</td>\n",
       "      <td>25.000000</td>\n",
       "      <td>2.929243</td>\n",
       "      <td>NaN</td>\n",
       "      <td>0</td>\n",
       "      <td>NaN</td>\n",
       "    </tr>\n",
       "    <tr>\n",
       "      <th>1</th>\n",
       "      <td>flourAmt</td>\n",
       "      <td>470.495577</td>\n",
       "      <td>532.377351</td>\n",
       "      <td>500.406685</td>\n",
       "      <td>500.407113</td>\n",
       "      <td>10.028959</td>\n",
       "      <td>NaN</td>\n",
       "      <td>0</td>\n",
       "      <td>NaN</td>\n",
       "    </tr>\n",
       "    <tr>\n",
       "      <th>2</th>\n",
       "      <td>restTime</td>\n",
       "      <td>35.000000</td>\n",
       "      <td>45.000000</td>\n",
       "      <td>39.900552</td>\n",
       "      <td>40.000000</td>\n",
       "      <td>2.912935</td>\n",
       "      <td>NaN</td>\n",
       "      <td>0</td>\n",
       "      <td>NaN</td>\n",
       "    </tr>\n",
       "    <tr>\n",
       "      <th>3</th>\n",
       "      <td>mix2Speed</td>\n",
       "      <td>4.000000</td>\n",
       "      <td>6.000000</td>\n",
       "      <td>4.979128</td>\n",
       "      <td>5.000000</td>\n",
       "      <td>0.704186</td>\n",
       "      <td>NaN</td>\n",
       "      <td>0</td>\n",
       "      <td>NaN</td>\n",
       "    </tr>\n",
       "    <tr>\n",
       "      <th>4</th>\n",
       "      <td>yeastAmt</td>\n",
       "      <td>8.000000</td>\n",
       "      <td>12.000000</td>\n",
       "      <td>10.025169</td>\n",
       "      <td>10.000000</td>\n",
       "      <td>1.233234</td>\n",
       "      <td>NaN</td>\n",
       "      <td>0</td>\n",
       "      <td>NaN</td>\n",
       "    </tr>\n",
       "    <tr>\n",
       "      <th>5</th>\n",
       "      <td>ambTemp</td>\n",
       "      <td>25.583787</td>\n",
       "      <td>87.763338</td>\n",
       "      <td>60.176397</td>\n",
       "      <td>60.082007</td>\n",
       "      <td>9.692323</td>\n",
       "      <td>NaN</td>\n",
       "      <td>0</td>\n",
       "      <td>NaN</td>\n",
       "    </tr>\n",
       "    <tr>\n",
       "      <th>6</th>\n",
       "      <td>proveTime</td>\n",
       "      <td>83.211082</td>\n",
       "      <td>115.674439</td>\n",
       "      <td>100.038713</td>\n",
       "      <td>99.856338</td>\n",
       "      <td>4.973838</td>\n",
       "      <td>NaN</td>\n",
       "      <td>0</td>\n",
       "      <td>NaN</td>\n",
       "    </tr>\n",
       "    <tr>\n",
       "      <th>7</th>\n",
       "      <td>saltAmt</td>\n",
       "      <td>8.000000</td>\n",
       "      <td>12.000000</td>\n",
       "      <td>10.000000</td>\n",
       "      <td>10.000000</td>\n",
       "      <td>1.216189</td>\n",
       "      <td>NaN</td>\n",
       "      <td>0</td>\n",
       "      <td>NaN</td>\n",
       "    </tr>\n",
       "    <tr>\n",
       "      <th>8</th>\n",
       "      <td>water1Amt</td>\n",
       "      <td>261.946352</td>\n",
       "      <td>398.275160</td>\n",
       "      <td>329.465854</td>\n",
       "      <td>329.180090</td>\n",
       "      <td>19.867207</td>\n",
       "      <td>NaN</td>\n",
       "      <td>0</td>\n",
       "      <td>NaN</td>\n",
       "    </tr>\n",
       "    <tr>\n",
       "      <th>9</th>\n",
       "      <td>waterTemp</td>\n",
       "      <td>40.000000</td>\n",
       "      <td>50.000000</td>\n",
       "      <td>45.079190</td>\n",
       "      <td>45.000000</td>\n",
       "      <td>2.960923</td>\n",
       "      <td>NaN</td>\n",
       "      <td>0</td>\n",
       "      <td>NaN</td>\n",
       "    </tr>\n",
       "    <tr>\n",
       "      <th>10</th>\n",
       "      <td>mix1Time</td>\n",
       "      <td>2.000000</td>\n",
       "      <td>9.000000</td>\n",
       "      <td>5.074279</td>\n",
       "      <td>5.000000</td>\n",
       "      <td>1.074616</td>\n",
       "      <td>NaN</td>\n",
       "      <td>0</td>\n",
       "      <td>NaN</td>\n",
       "    </tr>\n",
       "    <tr>\n",
       "      <th>11</th>\n",
       "      <td>water2Amt</td>\n",
       "      <td>47.282754</td>\n",
       "      <td>175.183277</td>\n",
       "      <td>109.206050</td>\n",
       "      <td>109.953207</td>\n",
       "      <td>19.990929</td>\n",
       "      <td>NaN</td>\n",
       "      <td>0</td>\n",
       "      <td>NaN</td>\n",
       "    </tr>\n",
       "    <tr>\n",
       "      <th>12</th>\n",
       "      <td>mix1Speed</td>\n",
       "      <td>2.000000</td>\n",
       "      <td>5.000000</td>\n",
       "      <td>3.454266</td>\n",
       "      <td>3.000000</td>\n",
       "      <td>0.980724</td>\n",
       "      <td>NaN</td>\n",
       "      <td>0</td>\n",
       "      <td>NaN</td>\n",
       "    </tr>\n",
       "    <tr>\n",
       "      <th>13</th>\n",
       "      <td>bakeTemp</td>\n",
       "      <td>362.999421</td>\n",
       "      <td>481.739742</td>\n",
       "      <td>424.984819</td>\n",
       "      <td>425.655489</td>\n",
       "      <td>15.233806</td>\n",
       "      <td>NaN</td>\n",
       "      <td>0</td>\n",
       "      <td>NaN</td>\n",
       "    </tr>\n",
       "    <tr>\n",
       "      <th>14</th>\n",
       "      <td>ambHumidity</td>\n",
       "      <td>15.965772</td>\n",
       "      <td>80.849006</td>\n",
       "      <td>49.546514</td>\n",
       "      <td>49.454482</td>\n",
       "      <td>9.857660</td>\n",
       "      <td>NaN</td>\n",
       "      <td>0</td>\n",
       "      <td>NaN</td>\n",
       "    </tr>\n",
       "    <tr>\n",
       "      <th>15</th>\n",
       "      <td>mix2Time</td>\n",
       "      <td>4.000000</td>\n",
       "      <td>8.000000</td>\n",
       "      <td>5.964395</td>\n",
       "      <td>6.000000</td>\n",
       "      <td>1.218695</td>\n",
       "      <td>NaN</td>\n",
       "      <td>0</td>\n",
       "      <td>NaN</td>\n",
       "    </tr>\n",
       "  </tbody>\n",
       "</table>\n",
       "</div>"
      ],
      "text/plain": [
       "          input         min         max        mean      median     stddev  \\\n",
       "0      bakeTime   20.000000   30.000000   24.999386   25.000000   2.929243   \n",
       "1      flourAmt  470.495577  532.377351  500.406685  500.407113  10.028959   \n",
       "2      restTime   35.000000   45.000000   39.900552   40.000000   2.912935   \n",
       "3     mix2Speed    4.000000    6.000000    4.979128    5.000000   0.704186   \n",
       "4      yeastAmt    8.000000   12.000000   10.025169   10.000000   1.233234   \n",
       "5       ambTemp   25.583787   87.763338   60.176397   60.082007   9.692323   \n",
       "6     proveTime   83.211082  115.674439  100.038713   99.856338   4.973838   \n",
       "7       saltAmt    8.000000   12.000000   10.000000   10.000000   1.216189   \n",
       "8     water1Amt  261.946352  398.275160  329.465854  329.180090  19.867207   \n",
       "9     waterTemp   40.000000   50.000000   45.079190   45.000000   2.960923   \n",
       "10     mix1Time    2.000000    9.000000    5.074279    5.000000   1.074616   \n",
       "11    water2Amt   47.282754  175.183277  109.206050  109.953207  19.990929   \n",
       "12    mix1Speed    2.000000    5.000000    3.454266    3.000000   0.980724   \n",
       "13     bakeTemp  362.999421  481.739742  424.984819  425.655489  15.233806   \n",
       "14  ambHumidity   15.965772   80.849006   49.546514   49.454482   9.857660   \n",
       "15     mix2Time    4.000000    8.000000    5.964395    6.000000   1.218695   \n",
       "\n",
       "    category_count  null_count  dimension  \n",
       "0              NaN           0        NaN  \n",
       "1              NaN           0        NaN  \n",
       "2              NaN           0        NaN  \n",
       "3              NaN           0        NaN  \n",
       "4              NaN           0        NaN  \n",
       "5              NaN           0        NaN  \n",
       "6              NaN           0        NaN  \n",
       "7              NaN           0        NaN  \n",
       "8              NaN           0        NaN  \n",
       "9              NaN           0        NaN  \n",
       "10             NaN           0        NaN  \n",
       "11             NaN           0        NaN  \n",
       "12             NaN           0        NaN  \n",
       "13             NaN           0        NaN  \n",
       "14             NaN           0        NaN  \n",
       "15             NaN           0        NaN  "
      ]
     },
     "execution_count": 136,
     "metadata": {},
     "output_type": "execute_result"
    }
   ],
   "source": [
    "bq.query(query = query).to_dataframe()"
   ]
  },
  {
   "cell_type": "markdown",
   "id": "f2b4815e-58da-4416-8ddc-f3922c5eabae",
   "metadata": {},
   "source": [
    "Review the iterations from training with [ML.TRAINING_INFO](https://cloud.google.com/bigquery-ml/docs/reference/standard-sql/bigqueryml-syntax-train):"
   ]
  },
  {
   "cell_type": "code",
   "execution_count": 137,
   "id": "00ef993b-0e37-4955-b8dc-be011fd55334",
   "metadata": {},
   "outputs": [
    {
     "name": "stdout",
     "output_type": "stream",
     "text": [
      "\n",
      "    SELECT *\n",
      "    FROM ML.TRAINING_INFO(MODEL `statmike-mlops-349915.feature_engineering.03_feature_engineering_manual_2`)\n",
      "    ORDER BY iteration\n",
      "\n"
     ]
    }
   ],
   "source": [
    "query = f\"\"\"\n",
    "    SELECT *\n",
    "    FROM ML.TRAINING_INFO(MODEL `{BQ_PROJECT}.{BQ_DATASET}.{BQ_MODEL_ManualFeatureEng2}`)\n",
    "    ORDER BY iteration\n",
    "\"\"\"\n",
    "print(query)"
   ]
  },
  {
   "cell_type": "code",
   "execution_count": 138,
   "id": "b6c3520b-c8d3-4da9-a01e-667196703db5",
   "metadata": {},
   "outputs": [
    {
     "data": {
      "text/html": [
       "<div>\n",
       "<style scoped>\n",
       "    .dataframe tbody tr th:only-of-type {\n",
       "        vertical-align: middle;\n",
       "    }\n",
       "\n",
       "    .dataframe tbody tr th {\n",
       "        vertical-align: top;\n",
       "    }\n",
       "\n",
       "    .dataframe thead th {\n",
       "        text-align: right;\n",
       "    }\n",
       "</style>\n",
       "<table border=\"1\" class=\"dataframe\">\n",
       "  <thead>\n",
       "    <tr style=\"text-align: right;\">\n",
       "      <th></th>\n",
       "      <th>training_run</th>\n",
       "      <th>iteration</th>\n",
       "      <th>loss</th>\n",
       "      <th>eval_loss</th>\n",
       "      <th>learning_rate</th>\n",
       "      <th>duration_ms</th>\n",
       "    </tr>\n",
       "  </thead>\n",
       "  <tbody>\n",
       "    <tr>\n",
       "      <th>0</th>\n",
       "      <td>0</td>\n",
       "      <td>1</td>\n",
       "      <td>52.91500</td>\n",
       "      <td>53.01790</td>\n",
       "      <td>0.3</td>\n",
       "      <td>102465</td>\n",
       "    </tr>\n",
       "    <tr>\n",
       "      <th>1</th>\n",
       "      <td>0</td>\n",
       "      <td>2</td>\n",
       "      <td>37.59730</td>\n",
       "      <td>37.87320</td>\n",
       "      <td>0.3</td>\n",
       "      <td>76</td>\n",
       "    </tr>\n",
       "    <tr>\n",
       "      <th>2</th>\n",
       "      <td>0</td>\n",
       "      <td>3</td>\n",
       "      <td>26.90670</td>\n",
       "      <td>27.17440</td>\n",
       "      <td>0.3</td>\n",
       "      <td>93</td>\n",
       "    </tr>\n",
       "    <tr>\n",
       "      <th>3</th>\n",
       "      <td>0</td>\n",
       "      <td>4</td>\n",
       "      <td>19.47210</td>\n",
       "      <td>19.71370</td>\n",
       "      <td>0.3</td>\n",
       "      <td>79</td>\n",
       "    </tr>\n",
       "    <tr>\n",
       "      <th>4</th>\n",
       "      <td>0</td>\n",
       "      <td>5</td>\n",
       "      <td>14.30970</td>\n",
       "      <td>14.74090</td>\n",
       "      <td>0.3</td>\n",
       "      <td>105</td>\n",
       "    </tr>\n",
       "    <tr>\n",
       "      <th>5</th>\n",
       "      <td>0</td>\n",
       "      <td>6</td>\n",
       "      <td>10.75550</td>\n",
       "      <td>11.23670</td>\n",
       "      <td>0.3</td>\n",
       "      <td>73</td>\n",
       "    </tr>\n",
       "    <tr>\n",
       "      <th>6</th>\n",
       "      <td>0</td>\n",
       "      <td>7</td>\n",
       "      <td>8.20334</td>\n",
       "      <td>8.71661</td>\n",
       "      <td>0.3</td>\n",
       "      <td>86</td>\n",
       "    </tr>\n",
       "    <tr>\n",
       "      <th>7</th>\n",
       "      <td>0</td>\n",
       "      <td>8</td>\n",
       "      <td>6.50538</td>\n",
       "      <td>7.23084</td>\n",
       "      <td>0.3</td>\n",
       "      <td>77</td>\n",
       "    </tr>\n",
       "    <tr>\n",
       "      <th>8</th>\n",
       "      <td>0</td>\n",
       "      <td>9</td>\n",
       "      <td>5.32199</td>\n",
       "      <td>6.01643</td>\n",
       "      <td>0.3</td>\n",
       "      <td>68</td>\n",
       "    </tr>\n",
       "    <tr>\n",
       "      <th>9</th>\n",
       "      <td>0</td>\n",
       "      <td>10</td>\n",
       "      <td>4.41463</td>\n",
       "      <td>5.19955</td>\n",
       "      <td>0.3</td>\n",
       "      <td>63</td>\n",
       "    </tr>\n",
       "    <tr>\n",
       "      <th>10</th>\n",
       "      <td>0</td>\n",
       "      <td>11</td>\n",
       "      <td>3.78491</td>\n",
       "      <td>4.58640</td>\n",
       "      <td>0.3</td>\n",
       "      <td>72</td>\n",
       "    </tr>\n",
       "    <tr>\n",
       "      <th>11</th>\n",
       "      <td>0</td>\n",
       "      <td>12</td>\n",
       "      <td>3.31631</td>\n",
       "      <td>4.21466</td>\n",
       "      <td>0.3</td>\n",
       "      <td>16130</td>\n",
       "    </tr>\n",
       "    <tr>\n",
       "      <th>12</th>\n",
       "      <td>0</td>\n",
       "      <td>13</td>\n",
       "      <td>2.98238</td>\n",
       "      <td>3.93974</td>\n",
       "      <td>0.3</td>\n",
       "      <td>104</td>\n",
       "    </tr>\n",
       "    <tr>\n",
       "      <th>13</th>\n",
       "      <td>0</td>\n",
       "      <td>14</td>\n",
       "      <td>2.74829</td>\n",
       "      <td>3.77643</td>\n",
       "      <td>0.3</td>\n",
       "      <td>49</td>\n",
       "    </tr>\n",
       "    <tr>\n",
       "      <th>14</th>\n",
       "      <td>0</td>\n",
       "      <td>15</td>\n",
       "      <td>2.52746</td>\n",
       "      <td>3.62699</td>\n",
       "      <td>0.3</td>\n",
       "      <td>67</td>\n",
       "    </tr>\n",
       "    <tr>\n",
       "      <th>15</th>\n",
       "      <td>0</td>\n",
       "      <td>16</td>\n",
       "      <td>2.36506</td>\n",
       "      <td>3.51155</td>\n",
       "      <td>0.3</td>\n",
       "      <td>145</td>\n",
       "    </tr>\n",
       "    <tr>\n",
       "      <th>16</th>\n",
       "      <td>0</td>\n",
       "      <td>17</td>\n",
       "      <td>2.20825</td>\n",
       "      <td>3.41205</td>\n",
       "      <td>0.3</td>\n",
       "      <td>81</td>\n",
       "    </tr>\n",
       "    <tr>\n",
       "      <th>17</th>\n",
       "      <td>0</td>\n",
       "      <td>18</td>\n",
       "      <td>2.09760</td>\n",
       "      <td>3.34899</td>\n",
       "      <td>0.3</td>\n",
       "      <td>69</td>\n",
       "    </tr>\n",
       "    <tr>\n",
       "      <th>18</th>\n",
       "      <td>0</td>\n",
       "      <td>19</td>\n",
       "      <td>1.99907</td>\n",
       "      <td>3.29177</td>\n",
       "      <td>0.3</td>\n",
       "      <td>54</td>\n",
       "    </tr>\n",
       "    <tr>\n",
       "      <th>19</th>\n",
       "      <td>0</td>\n",
       "      <td>20</td>\n",
       "      <td>1.91467</td>\n",
       "      <td>3.24290</td>\n",
       "      <td>0.3</td>\n",
       "      <td>70</td>\n",
       "    </tr>\n",
       "    <tr>\n",
       "      <th>20</th>\n",
       "      <td>0</td>\n",
       "      <td>21</td>\n",
       "      <td>1.82122</td>\n",
       "      <td>3.16635</td>\n",
       "      <td>0.3</td>\n",
       "      <td>71</td>\n",
       "    </tr>\n",
       "    <tr>\n",
       "      <th>21</th>\n",
       "      <td>0</td>\n",
       "      <td>22</td>\n",
       "      <td>1.73700</td>\n",
       "      <td>3.12221</td>\n",
       "      <td>0.3</td>\n",
       "      <td>65</td>\n",
       "    </tr>\n",
       "    <tr>\n",
       "      <th>22</th>\n",
       "      <td>0</td>\n",
       "      <td>23</td>\n",
       "      <td>1.68559</td>\n",
       "      <td>3.07960</td>\n",
       "      <td>0.3</td>\n",
       "      <td>75</td>\n",
       "    </tr>\n",
       "    <tr>\n",
       "      <th>23</th>\n",
       "      <td>0</td>\n",
       "      <td>24</td>\n",
       "      <td>1.63512</td>\n",
       "      <td>3.06520</td>\n",
       "      <td>0.3</td>\n",
       "      <td>60</td>\n",
       "    </tr>\n",
       "  </tbody>\n",
       "</table>\n",
       "</div>"
      ],
      "text/plain": [
       "    training_run  iteration      loss  eval_loss  learning_rate  duration_ms\n",
       "0              0          1  52.91500   53.01790            0.3       102465\n",
       "1              0          2  37.59730   37.87320            0.3           76\n",
       "2              0          3  26.90670   27.17440            0.3           93\n",
       "3              0          4  19.47210   19.71370            0.3           79\n",
       "4              0          5  14.30970   14.74090            0.3          105\n",
       "5              0          6  10.75550   11.23670            0.3           73\n",
       "6              0          7   8.20334    8.71661            0.3           86\n",
       "7              0          8   6.50538    7.23084            0.3           77\n",
       "8              0          9   5.32199    6.01643            0.3           68\n",
       "9              0         10   4.41463    5.19955            0.3           63\n",
       "10             0         11   3.78491    4.58640            0.3           72\n",
       "11             0         12   3.31631    4.21466            0.3        16130\n",
       "12             0         13   2.98238    3.93974            0.3          104\n",
       "13             0         14   2.74829    3.77643            0.3           49\n",
       "14             0         15   2.52746    3.62699            0.3           67\n",
       "15             0         16   2.36506    3.51155            0.3          145\n",
       "16             0         17   2.20825    3.41205            0.3           81\n",
       "17             0         18   2.09760    3.34899            0.3           69\n",
       "18             0         19   1.99907    3.29177            0.3           54\n",
       "19             0         20   1.91467    3.24290            0.3           70\n",
       "20             0         21   1.82122    3.16635            0.3           71\n",
       "21             0         22   1.73700    3.12221            0.3           65\n",
       "22             0         23   1.68559    3.07960            0.3           75\n",
       "23             0         24   1.63512    3.06520            0.3           60"
      ]
     },
     "execution_count": 138,
     "metadata": {},
     "output_type": "execute_result"
    }
   ],
   "source": [
    "history = bq.query(query = query).to_dataframe()\n",
    "history"
   ]
  },
  {
   "cell_type": "markdown",
   "id": "e317366d-af3a-459a-972b-81d37f1d3e32",
   "metadata": {},
   "source": [
    "Plot the loss history:"
   ]
  },
  {
   "cell_type": "code",
   "execution_count": 139,
   "id": "3199388c-0e5a-4bb3-8a4c-db2377f4a117",
   "metadata": {},
   "outputs": [
    {
     "data": {
      "text/plain": [
       "<AxesSubplot:xlabel='iteration'>"
      ]
     },
     "execution_count": 139,
     "metadata": {},
     "output_type": "execute_result"
    },
    {
     "data": {
      "image/png": "[encoded data removed]",
      "text/plain": [
       "<Figure size 720x360 with 1 Axes>"
      ]
     },
     "metadata": {
      "needs_background": "light"
     },
     "output_type": "display_data"
    }
   ],
   "source": [
    "history.plot(x = 'iteration', y = ['loss','eval_loss'], figsize = (10, 5), grid = True)"
   ]
  },
  {
   "cell_type": "markdown",
   "id": "f4643080-23ad-41ea-a18f-0b6b19a47dc1",
   "metadata": {},
   "source": [
    "### Model Metrics Review\n",
    "\n",
    "Review the model evaluation statistics with [ML.EVALUATE](https://cloud.google.com/bigquery-ml/docs/reference/standard-sql/bigqueryml-syntax-evaluate):"
   ]
  },
  {
   "cell_type": "code",
   "execution_count": 140,
   "id": "4e0a904f-76a0-4e23-bdfe-bab341c3348e",
   "metadata": {},
   "outputs": [
    {
     "name": "stdout",
     "output_type": "stream",
     "text": [
      "\n",
      "    SELECT * FROM ML.EVALUATE(MODEL `statmike-mlops-349915.feature_engineering.03_feature_engineering_manual_2`)\n",
      "\n"
     ]
    }
   ],
   "source": [
    "query = f\"\"\"\n",
    "    SELECT * FROM ML.EVALUATE(MODEL `{BQ_PROJECT}.{BQ_DATASET}.{BQ_MODEL_ManualFeatureEng2}`)\n",
    "\"\"\"\n",
    "print(query)"
   ]
  },
  {
   "cell_type": "code",
   "execution_count": 141,
   "id": "6227af2f-5849-4a49-973a-d5a233a6c94b",
   "metadata": {},
   "outputs": [
    {
     "data": {
      "text/html": [
       "<div>\n",
       "<style scoped>\n",
       "    .dataframe tbody tr th:only-of-type {\n",
       "        vertical-align: middle;\n",
       "    }\n",
       "\n",
       "    .dataframe tbody tr th {\n",
       "        vertical-align: top;\n",
       "    }\n",
       "\n",
       "    .dataframe thead th {\n",
       "        text-align: right;\n",
       "    }\n",
       "</style>\n",
       "<table border=\"1\" class=\"dataframe\">\n",
       "  <thead>\n",
       "    <tr style=\"text-align: right;\">\n",
       "      <th></th>\n",
       "      <th>mean_absolute_error</th>\n",
       "      <th>mean_squared_error</th>\n",
       "      <th>mean_squared_log_error</th>\n",
       "      <th>median_absolute_error</th>\n",
       "      <th>r2_score</th>\n",
       "      <th>explained_variance</th>\n",
       "    </tr>\n",
       "  </thead>\n",
       "  <tbody>\n",
       "    <tr>\n",
       "      <th>0</th>\n",
       "      <td>2.113403</td>\n",
       "      <td>7.72334</td>\n",
       "      <td>0.001784</td>\n",
       "      <td>1.594955</td>\n",
       "      <td>0.919652</td>\n",
       "      <td>0.919676</td>\n",
       "    </tr>\n",
       "  </tbody>\n",
       "</table>\n",
       "</div>"
      ],
      "text/plain": [
       "   mean_absolute_error  mean_squared_error  mean_squared_log_error  \\\n",
       "0             2.113403             7.72334                0.001784   \n",
       "\n",
       "   median_absolute_error  r2_score  explained_variance  \n",
       "0               1.594955  0.919652            0.919676  "
      ]
     },
     "execution_count": 141,
     "metadata": {},
     "output_type": "execute_result"
    }
   ],
   "source": [
    "bq.query(query = query).to_dataframe()"
   ]
  },
  {
   "cell_type": "markdown",
   "id": "cab0580d-3c93-4aa1-ba2c-7d1325d5cdcb",
   "metadata": {},
   "source": [
    "### Comparing Metrics Between Automatic and Manual Feature Engineering\n",
    "\n",
    "The query here loads the metrics with `ML.EVALUATE` for both models."
   ]
  },
  {
   "cell_type": "code",
   "execution_count": 142,
   "id": "1dada407-a567-4ad6-a56a-d847ce62fea2",
   "metadata": {},
   "outputs": [
    {
     "name": "stdout",
     "output_type": "stream",
     "text": [
      "\n",
      "    SELECT 'Automatic Feature Engineering' as Approach, * FROM ML.EVALUATE(MODEL `statmike-mlops-349915.feature_engineering.03_feature_engineering_auto`)\n",
      "    UNION ALL\n",
      "    SELECT 'Manual Feature Engineering - 1' as Approach, * FROM ML.EVALUATE(MODEL `statmike-mlops-349915.feature_engineering.03_feature_engineering_manual_1`)\n",
      "    UNION ALL\n",
      "    SELECT 'Manual Feature Engineering - 2' as Approach, * FROM ML.EVALUATE(MODEL `statmike-mlops-349915.feature_engineering.03_feature_engineering_manual_2`)\n",
      "\n"
     ]
    }
   ],
   "source": [
    "query = f\"\"\"\n",
    "    SELECT 'Automatic Feature Engineering' as Approach, * FROM ML.EVALUATE(MODEL `{BQ_PROJECT}.{BQ_DATASET}.{BQ_MODEL_AutoFeatureEng}`)\n",
    "    UNION ALL\n",
    "    SELECT 'Manual Feature Engineering - 1' as Approach, * FROM ML.EVALUATE(MODEL `{BQ_PROJECT}.{BQ_DATASET}.{BQ_MODEL_ManualFeatureEng1}`)\n",
    "    UNION ALL\n",
    "    SELECT 'Manual Feature Engineering - 2' as Approach, * FROM ML.EVALUATE(MODEL `{BQ_PROJECT}.{BQ_DATASET}.{BQ_MODEL_ManualFeatureEng2}`)\n",
    "\"\"\"\n",
    "print(query)"
   ]
  },
  {
   "cell_type": "code",
   "execution_count": 143,
   "id": "4b707bf2-8a1d-471c-87ff-8f50eae739d8",
   "metadata": {},
   "outputs": [
    {
     "data": {
      "text/html": [
       "<div>\n",
       "<style scoped>\n",
       "    .dataframe tbody tr th:only-of-type {\n",
       "        vertical-align: middle;\n",
       "    }\n",
       "\n",
       "    .dataframe tbody tr th {\n",
       "        vertical-align: top;\n",
       "    }\n",
       "\n",
       "    .dataframe thead th {\n",
       "        text-align: right;\n",
       "    }\n",
       "</style>\n",
       "<table border=\"1\" class=\"dataframe\">\n",
       "  <thead>\n",
       "    <tr style=\"text-align: right;\">\n",
       "      <th></th>\n",
       "      <th>Approach</th>\n",
       "      <th>mean_absolute_error</th>\n",
       "      <th>mean_squared_error</th>\n",
       "      <th>mean_squared_log_error</th>\n",
       "      <th>median_absolute_error</th>\n",
       "      <th>r2_score</th>\n",
       "      <th>explained_variance</th>\n",
       "    </tr>\n",
       "  </thead>\n",
       "  <tbody>\n",
       "    <tr>\n",
       "      <th>0</th>\n",
       "      <td>Automatic Feature Engineering</td>\n",
       "      <td>7.554296</td>\n",
       "      <td>88.793669</td>\n",
       "      <td>0.018243</td>\n",
       "      <td>6.751984</td>\n",
       "      <td>0.076256</td>\n",
       "      <td>0.076256</td>\n",
       "    </tr>\n",
       "    <tr>\n",
       "      <th>1</th>\n",
       "      <td>Manual Feature Engineering - 1</td>\n",
       "      <td>7.554359</td>\n",
       "      <td>88.794831</td>\n",
       "      <td>0.018243</td>\n",
       "      <td>6.751898</td>\n",
       "      <td>0.076244</td>\n",
       "      <td>0.076244</td>\n",
       "    </tr>\n",
       "    <tr>\n",
       "      <th>2</th>\n",
       "      <td>Manual Feature Engineering - 2</td>\n",
       "      <td>2.113403</td>\n",
       "      <td>7.723340</td>\n",
       "      <td>0.001784</td>\n",
       "      <td>1.594955</td>\n",
       "      <td>0.919652</td>\n",
       "      <td>0.919676</td>\n",
       "    </tr>\n",
       "  </tbody>\n",
       "</table>\n",
       "</div>"
      ],
      "text/plain": [
       "                         Approach  mean_absolute_error  mean_squared_error  \\\n",
       "0   Automatic Feature Engineering             7.554296           88.793669   \n",
       "1  Manual Feature Engineering - 1             7.554359           88.794831   \n",
       "2  Manual Feature Engineering - 2             2.113403            7.723340   \n",
       "\n",
       "   mean_squared_log_error  median_absolute_error  r2_score  explained_variance  \n",
       "0                0.018243               6.751984  0.076256            0.076256  \n",
       "1                0.018243               6.751898  0.076244            0.076244  \n",
       "2                0.001784               1.594955  0.919652            0.919676  "
      ]
     },
     "execution_count": 143,
     "metadata": {},
     "output_type": "execute_result"
    }
   ],
   "source": [
    "bq.query(query = query).to_dataframe()"
   ]
  },
  {
   "cell_type": "markdown",
   "id": "11c85bfd-2e0a-47de-8d8b-c02083244a61",
   "metadata": {},
   "source": [
    "The results show a vast improvement in all metrics.  This is mostly because the relationship between the features and the target was created to have covariance that is best explained by higher order terms.  Fitting the model with a non-linear approach, like a boosted tree (`model_type = BOOSTED_TREE_REGRESSOR`), would also better understand the relationships in these data."
   ]
  },
  {
   "cell_type": "markdown",
   "id": "b48570b0-1d93-473a-bf47-d6fd9b289bff",
   "metadata": {},
   "source": [
    "### Feature Importance\n",
    "\n",
    "Retrieve the [XGBoost feature importances](https://xgboost.readthedocs.io/en/latest/python/python_api.html#xgboost.XGBRegressor.feature_importances_) for the model using [ML.FEATURE_IMPORTANCE](https://cloud.google.com/bigquery-ml/docs/reference/standard-sql/bigqueryml-syntax-importance).\n",
    "- importance_weight: the number of splits the feature was used in across all trees\n",
    "- importance_gain: the improvement in accuracy due to splits using the feature\n",
    "- importance_cover: the number of rows of data covered by splits using the feature"
   ]
  },
  {
   "cell_type": "code",
   "execution_count": 144,
   "id": "6ee976b5-6bc1-4c82-818c-9e34d62790d5",
   "metadata": {},
   "outputs": [
    {
     "name": "stdout",
     "output_type": "stream",
     "text": [
      "\n",
      "    SELECT *\n",
      "    FROM ML.FEATURE_IMPORTANCE (MODEL `statmike-mlops-349915.feature_engineering.03_feature_engineering_manual_2`)\n",
      "    ORDER BY importance_gain DESC\n",
      "\n"
     ]
    }
   ],
   "source": [
    "query = f\"\"\"\n",
    "    SELECT *\n",
    "    FROM ML.FEATURE_IMPORTANCE (MODEL `{BQ_PROJECT}.{BQ_DATASET}.{BQ_MODEL_ManualFeatureEng2}`)\n",
    "    ORDER BY importance_gain DESC\n",
    "\"\"\"\n",
    "print(query)"
   ]
  },
  {
   "cell_type": "code",
   "execution_count": 145,
   "id": "153489af-58dc-48b7-a7f9-9fce646df468",
   "metadata": {},
   "outputs": [
    {
     "data": {
      "text/html": [
       "<div>\n",
       "<style scoped>\n",
       "    .dataframe tbody tr th:only-of-type {\n",
       "        vertical-align: middle;\n",
       "    }\n",
       "\n",
       "    .dataframe tbody tr th {\n",
       "        vertical-align: top;\n",
       "    }\n",
       "\n",
       "    .dataframe thead th {\n",
       "        text-align: right;\n",
       "    }\n",
       "</style>\n",
       "<table border=\"1\" class=\"dataframe\">\n",
       "  <thead>\n",
       "    <tr style=\"text-align: right;\">\n",
       "      <th></th>\n",
       "      <th>feature</th>\n",
       "      <th>importance_weight</th>\n",
       "      <th>importance_gain</th>\n",
       "      <th>importance_cover</th>\n",
       "    </tr>\n",
       "  </thead>\n",
       "  <tbody>\n",
       "    <tr>\n",
       "      <th>0</th>\n",
       "      <td>scale_bakeTemp</td>\n",
       "      <td>132</td>\n",
       "      <td>528.013114</td>\n",
       "      <td>284.454545</td>\n",
       "    </tr>\n",
       "    <tr>\n",
       "      <th>1</th>\n",
       "      <td>scale_water2Amt</td>\n",
       "      <td>113</td>\n",
       "      <td>193.169311</td>\n",
       "      <td>234.079646</td>\n",
       "    </tr>\n",
       "    <tr>\n",
       "      <th>2</th>\n",
       "      <td>scale_bakeTime</td>\n",
       "      <td>65</td>\n",
       "      <td>136.054011</td>\n",
       "      <td>249.569231</td>\n",
       "    </tr>\n",
       "    <tr>\n",
       "      <th>3</th>\n",
       "      <td>scale_mix2Time</td>\n",
       "      <td>27</td>\n",
       "      <td>112.995578</td>\n",
       "      <td>351.296296</td>\n",
       "    </tr>\n",
       "    <tr>\n",
       "      <th>4</th>\n",
       "      <td>scale_yeastAmt</td>\n",
       "      <td>46</td>\n",
       "      <td>110.254647</td>\n",
       "      <td>316.326087</td>\n",
       "    </tr>\n",
       "    <tr>\n",
       "      <th>5</th>\n",
       "      <td>scale_flourAmt</td>\n",
       "      <td>96</td>\n",
       "      <td>73.326692</td>\n",
       "      <td>175.708333</td>\n",
       "    </tr>\n",
       "    <tr>\n",
       "      <th>6</th>\n",
       "      <td>scale_mix2Speed</td>\n",
       "      <td>23</td>\n",
       "      <td>71.590412</td>\n",
       "      <td>326.695652</td>\n",
       "    </tr>\n",
       "    <tr>\n",
       "      <th>7</th>\n",
       "      <td>scale_mix1Time</td>\n",
       "      <td>56</td>\n",
       "      <td>70.402837</td>\n",
       "      <td>256.107143</td>\n",
       "    </tr>\n",
       "    <tr>\n",
       "      <th>8</th>\n",
       "      <td>scale_restTime</td>\n",
       "      <td>27</td>\n",
       "      <td>45.655463</td>\n",
       "      <td>239.037037</td>\n",
       "    </tr>\n",
       "    <tr>\n",
       "      <th>9</th>\n",
       "      <td>scale_water1Amt</td>\n",
       "      <td>58</td>\n",
       "      <td>22.758023</td>\n",
       "      <td>102.862069</td>\n",
       "    </tr>\n",
       "    <tr>\n",
       "      <th>10</th>\n",
       "      <td>scale_saltAmt</td>\n",
       "      <td>30</td>\n",
       "      <td>17.910342</td>\n",
       "      <td>117.100000</td>\n",
       "    </tr>\n",
       "    <tr>\n",
       "      <th>11</th>\n",
       "      <td>scale_ambHumidity</td>\n",
       "      <td>62</td>\n",
       "      <td>12.485823</td>\n",
       "      <td>61.709677</td>\n",
       "    </tr>\n",
       "    <tr>\n",
       "      <th>12</th>\n",
       "      <td>scale_waterTemp</td>\n",
       "      <td>24</td>\n",
       "      <td>9.942691</td>\n",
       "      <td>43.916667</td>\n",
       "    </tr>\n",
       "    <tr>\n",
       "      <th>13</th>\n",
       "      <td>scale_proveTime</td>\n",
       "      <td>36</td>\n",
       "      <td>8.306591</td>\n",
       "      <td>60.000000</td>\n",
       "    </tr>\n",
       "    <tr>\n",
       "      <th>14</th>\n",
       "      <td>scale_ambTemp</td>\n",
       "      <td>68</td>\n",
       "      <td>8.289339</td>\n",
       "      <td>57.617647</td>\n",
       "    </tr>\n",
       "    <tr>\n",
       "      <th>15</th>\n",
       "      <td>scale_mix1Speed</td>\n",
       "      <td>13</td>\n",
       "      <td>4.600155</td>\n",
       "      <td>40.153846</td>\n",
       "    </tr>\n",
       "  </tbody>\n",
       "</table>\n",
       "</div>"
      ],
      "text/plain": [
       "              feature  importance_weight  importance_gain  importance_cover\n",
       "0      scale_bakeTemp                132       528.013114        284.454545\n",
       "1     scale_water2Amt                113       193.169311        234.079646\n",
       "2      scale_bakeTime                 65       136.054011        249.569231\n",
       "3      scale_mix2Time                 27       112.995578        351.296296\n",
       "4      scale_yeastAmt                 46       110.254647        316.326087\n",
       "5      scale_flourAmt                 96        73.326692        175.708333\n",
       "6     scale_mix2Speed                 23        71.590412        326.695652\n",
       "7      scale_mix1Time                 56        70.402837        256.107143\n",
       "8      scale_restTime                 27        45.655463        239.037037\n",
       "9     scale_water1Amt                 58        22.758023        102.862069\n",
       "10      scale_saltAmt                 30        17.910342        117.100000\n",
       "11  scale_ambHumidity                 62        12.485823         61.709677\n",
       "12    scale_waterTemp                 24         9.942691         43.916667\n",
       "13    scale_proveTime                 36         8.306591         60.000000\n",
       "14      scale_ambTemp                 68         8.289339         57.617647\n",
       "15    scale_mix1Speed                 13         4.600155         40.153846"
      ]
     },
     "execution_count": 145,
     "metadata": {},
     "output_type": "execute_result"
    }
   ],
   "source": [
    "feature_importance = bq.query(query = query).to_dataframe()\n",
    "feature_importance"
   ]
  },
  {
   "cell_type": "markdown",
   "id": "12187eb7-2edc-4bdf-87c8-fa3354e2aca4",
   "metadata": {},
   "source": [
    "### Global Explainability - What is important to Judges?\n",
    "\n",
    "Retrieve the influence of each feature on the model with [ML.GLOBAL_EXPLAIN](https://cloud.google.com/bigquery-ml/docs/reference/standard-sql/bigqueryml-syntax-global-explain).  "
   ]
  },
  {
   "cell_type": "code",
   "execution_count": 146,
   "id": "6068d2c1-5323-4870-a925-c7413627485c",
   "metadata": {},
   "outputs": [
    {
     "name": "stdout",
     "output_type": "stream",
     "text": [
      "\n",
      "    SELECT *\n",
      "    FROM ML.GLOBAL_EXPLAIN (MODEL `statmike-mlops-349915.feature_engineering.03_feature_engineering_manual_2`)\n",
      "\n"
     ]
    }
   ],
   "source": [
    "query = f\"\"\"\n",
    "    SELECT *\n",
    "    FROM ML.GLOBAL_EXPLAIN (MODEL `{BQ_PROJECT}.{BQ_DATASET}.{BQ_MODEL_ManualFeatureEng2}`)\n",
    "\"\"\"\n",
    "print(query)"
   ]
  },
  {
   "cell_type": "code",
   "execution_count": 147,
   "id": "7ab6413a-7069-457e-b043-9d897d5f35d6",
   "metadata": {},
   "outputs": [
    {
     "data": {
      "text/html": [
       "<div>\n",
       "<style scoped>\n",
       "    .dataframe tbody tr th:only-of-type {\n",
       "        vertical-align: middle;\n",
       "    }\n",
       "\n",
       "    .dataframe tbody tr th {\n",
       "        vertical-align: top;\n",
       "    }\n",
       "\n",
       "    .dataframe thead th {\n",
       "        text-align: right;\n",
       "    }\n",
       "</style>\n",
       "<table border=\"1\" class=\"dataframe\">\n",
       "  <thead>\n",
       "    <tr style=\"text-align: right;\">\n",
       "      <th></th>\n",
       "      <th>feature</th>\n",
       "      <th>attribution</th>\n",
       "    </tr>\n",
       "  </thead>\n",
       "  <tbody>\n",
       "    <tr>\n",
       "      <th>0</th>\n",
       "      <td>scale_bakeTemp</td>\n",
       "      <td>6.120413</td>\n",
       "    </tr>\n",
       "    <tr>\n",
       "      <th>1</th>\n",
       "      <td>scale_water2Amt</td>\n",
       "      <td>2.751320</td>\n",
       "    </tr>\n",
       "    <tr>\n",
       "      <th>2</th>\n",
       "      <td>scale_flourAmt</td>\n",
       "      <td>1.078032</td>\n",
       "    </tr>\n",
       "    <tr>\n",
       "      <th>3</th>\n",
       "      <td>scale_bakeTime</td>\n",
       "      <td>1.028754</td>\n",
       "    </tr>\n",
       "    <tr>\n",
       "      <th>4</th>\n",
       "      <td>scale_yeastAmt</td>\n",
       "      <td>0.786724</td>\n",
       "    </tr>\n",
       "    <tr>\n",
       "      <th>5</th>\n",
       "      <td>scale_mix2Time</td>\n",
       "      <td>0.780198</td>\n",
       "    </tr>\n",
       "    <tr>\n",
       "      <th>6</th>\n",
       "      <td>scale_mix1Time</td>\n",
       "      <td>0.640956</td>\n",
       "    </tr>\n",
       "    <tr>\n",
       "      <th>7</th>\n",
       "      <td>scale_mix2Speed</td>\n",
       "      <td>0.475304</td>\n",
       "    </tr>\n",
       "    <tr>\n",
       "      <th>8</th>\n",
       "      <td>scale_restTime</td>\n",
       "      <td>0.279187</td>\n",
       "    </tr>\n",
       "    <tr>\n",
       "      <th>9</th>\n",
       "      <td>scale_saltAmt</td>\n",
       "      <td>0.210540</td>\n",
       "    </tr>\n",
       "    <tr>\n",
       "      <th>10</th>\n",
       "      <td>scale_water1Amt</td>\n",
       "      <td>0.156745</td>\n",
       "    </tr>\n",
       "    <tr>\n",
       "      <th>11</th>\n",
       "      <td>scale_ambTemp</td>\n",
       "      <td>0.061443</td>\n",
       "    </tr>\n",
       "    <tr>\n",
       "      <th>12</th>\n",
       "      <td>scale_ambHumidity</td>\n",
       "      <td>0.059079</td>\n",
       "    </tr>\n",
       "    <tr>\n",
       "      <th>13</th>\n",
       "      <td>scale_proveTime</td>\n",
       "      <td>0.035105</td>\n",
       "    </tr>\n",
       "    <tr>\n",
       "      <th>14</th>\n",
       "      <td>scale_waterTemp</td>\n",
       "      <td>0.028241</td>\n",
       "    </tr>\n",
       "    <tr>\n",
       "      <th>15</th>\n",
       "      <td>scale_mix1Speed</td>\n",
       "      <td>0.010791</td>\n",
       "    </tr>\n",
       "  </tbody>\n",
       "</table>\n",
       "</div>"
      ],
      "text/plain": [
       "              feature  attribution\n",
       "0      scale_bakeTemp     6.120413\n",
       "1     scale_water2Amt     2.751320\n",
       "2      scale_flourAmt     1.078032\n",
       "3      scale_bakeTime     1.028754\n",
       "4      scale_yeastAmt     0.786724\n",
       "5      scale_mix2Time     0.780198\n",
       "6      scale_mix1Time     0.640956\n",
       "7     scale_mix2Speed     0.475304\n",
       "8      scale_restTime     0.279187\n",
       "9       scale_saltAmt     0.210540\n",
       "10    scale_water1Amt     0.156745\n",
       "11      scale_ambTemp     0.061443\n",
       "12  scale_ambHumidity     0.059079\n",
       "13    scale_proveTime     0.035105\n",
       "14    scale_waterTemp     0.028241\n",
       "15    scale_mix1Speed     0.010791"
      ]
     },
     "execution_count": 147,
     "metadata": {},
     "output_type": "execute_result"
    }
   ],
   "source": [
    "gexplain = bq.query(query = query).to_dataframe()\n",
    "gexplain"
   ]
  },
  {
   "cell_type": "markdown",
   "id": "1d428863-5f93-4331-bf79-9fd2756c8d9c",
   "metadata": {},
   "source": [
    "Plot the attribution:"
   ]
  },
  {
   "cell_type": "code",
   "execution_count": 148,
   "id": "29389f1a-4926-4be6-9d36-d3794afb3b4e",
   "metadata": {},
   "outputs": [
    {
     "data": {
      "image/png": "[encoded data removed]",
      "text/plain": [
       "<Figure size 1080x576 with 1 Axes>"
      ]
     },
     "metadata": {
      "needs_background": "light"
     },
     "output_type": "display_data"
    }
   ],
   "source": [
    "plt.figure(figsize=(15,8))\n",
    "plt.barh(gexplain['feature'], gexplain['attribution'])\n",
    "plt.title('Global Influence')\n",
    "plt.xlabel('Attribution')\n",
    "#plt.ylabel('Feature')\n",
    "plt.show()"
   ]
  },
  {
   "cell_type": "markdown",
   "id": "f32300de-89f1-4415-bf15-8830629ddb3e",
   "metadata": {},
   "source": [
    "### Predictions With BigQuery ML (BQML)\n",
    "\n",
    "Create a pandas dataframe with retrieved predictions for the test data in the table using [ML.PREDICT](https://cloud.google.com/bigquery-ml/docs/reference/standard-sql/bigqueryml-syntax-predict):"
   ]
  },
  {
   "cell_type": "code",
   "execution_count": 149,
   "id": "025797c5-7a21-49f9-b536-2e08fa7f434a",
   "metadata": {},
   "outputs": [
    {
     "name": "stdout",
     "output_type": "stream",
     "text": [
      "\n",
      "    SELECT Recipe, JUDGE_A, predicted_JUDGE_A, JUDGE_A-predicted_JUDGE_A as Error\n",
      "    FROM ML.PREDICT (MODEL `statmike-mlops-349915.feature_engineering.03_feature_engineering_manual_2`,(\n",
      "        SELECT *\n",
      "        FROM `statmike-mlops-349915.feature_engineering.bread`\n",
      "        WHERE Recipe <= 10)\n",
      "    )\n",
      "    ORDER BY Recipe\n",
      "\n"
     ]
    }
   ],
   "source": [
    "query = f\"\"\"\n",
    "    SELECT Recipe, JUDGE_A, predicted_JUDGE_A, JUDGE_A-predicted_JUDGE_A as Error\n",
    "    FROM ML.PREDICT (MODEL `{BQ_PROJECT}.{BQ_DATASET}.{BQ_MODEL_ManualFeatureEng2}`,(\n",
    "        SELECT *\n",
    "        FROM `{BQ_PROJECT}.{BQ_DATASET}.{BQ_TABLE}`\n",
    "        WHERE Recipe <= 10)\n",
    "    )\n",
    "    ORDER BY Recipe\n",
    "\"\"\"\n",
    "print(query)"
   ]
  },
  {
   "cell_type": "code",
   "execution_count": 150,
   "id": "d290ac39-0cee-4fd2-b2c3-14c2cf8cde22",
   "metadata": {},
   "outputs": [
    {
     "data": {
      "text/html": [
       "<div>\n",
       "<style scoped>\n",
       "    .dataframe tbody tr th:only-of-type {\n",
       "        vertical-align: middle;\n",
       "    }\n",
       "\n",
       "    .dataframe tbody tr th {\n",
       "        vertical-align: top;\n",
       "    }\n",
       "\n",
       "    .dataframe thead th {\n",
       "        text-align: right;\n",
       "    }\n",
       "</style>\n",
       "<table border=\"1\" class=\"dataframe\">\n",
       "  <thead>\n",
       "    <tr style=\"text-align: right;\">\n",
       "      <th></th>\n",
       "      <th>Recipe</th>\n",
       "      <th>JUDGE_A</th>\n",
       "      <th>predicted_JUDGE_A</th>\n",
       "      <th>Error</th>\n",
       "    </tr>\n",
       "  </thead>\n",
       "  <tbody>\n",
       "    <tr>\n",
       "      <th>0</th>\n",
       "      <td>1</td>\n",
       "      <td>71.0</td>\n",
       "      <td>70.246490</td>\n",
       "      <td>0.753510</td>\n",
       "    </tr>\n",
       "    <tr>\n",
       "      <th>1</th>\n",
       "      <td>2</td>\n",
       "      <td>79.0</td>\n",
       "      <td>78.263748</td>\n",
       "      <td>0.736252</td>\n",
       "    </tr>\n",
       "    <tr>\n",
       "      <th>2</th>\n",
       "      <td>3</td>\n",
       "      <td>80.0</td>\n",
       "      <td>79.535194</td>\n",
       "      <td>0.464806</td>\n",
       "    </tr>\n",
       "    <tr>\n",
       "      <th>3</th>\n",
       "      <td>4</td>\n",
       "      <td>74.0</td>\n",
       "      <td>75.436913</td>\n",
       "      <td>-1.436913</td>\n",
       "    </tr>\n",
       "    <tr>\n",
       "      <th>4</th>\n",
       "      <td>5</td>\n",
       "      <td>81.0</td>\n",
       "      <td>80.948868</td>\n",
       "      <td>0.051132</td>\n",
       "    </tr>\n",
       "    <tr>\n",
       "      <th>5</th>\n",
       "      <td>6</td>\n",
       "      <td>78.0</td>\n",
       "      <td>78.864876</td>\n",
       "      <td>-0.864876</td>\n",
       "    </tr>\n",
       "    <tr>\n",
       "      <th>6</th>\n",
       "      <td>7</td>\n",
       "      <td>78.0</td>\n",
       "      <td>74.629295</td>\n",
       "      <td>3.370705</td>\n",
       "    </tr>\n",
       "    <tr>\n",
       "      <th>7</th>\n",
       "      <td>8</td>\n",
       "      <td>74.0</td>\n",
       "      <td>75.067223</td>\n",
       "      <td>-1.067223</td>\n",
       "    </tr>\n",
       "    <tr>\n",
       "      <th>8</th>\n",
       "      <td>9</td>\n",
       "      <td>69.0</td>\n",
       "      <td>69.423019</td>\n",
       "      <td>-0.423019</td>\n",
       "    </tr>\n",
       "    <tr>\n",
       "      <th>9</th>\n",
       "      <td>10</td>\n",
       "      <td>79.0</td>\n",
       "      <td>78.633842</td>\n",
       "      <td>0.366158</td>\n",
       "    </tr>\n",
       "  </tbody>\n",
       "</table>\n",
       "</div>"
      ],
      "text/plain": [
       "   Recipe  JUDGE_A  predicted_JUDGE_A     Error\n",
       "0       1     71.0          70.246490  0.753510\n",
       "1       2     79.0          78.263748  0.736252\n",
       "2       3     80.0          79.535194  0.464806\n",
       "3       4     74.0          75.436913 -1.436913\n",
       "4       5     81.0          80.948868  0.051132\n",
       "5       6     78.0          78.864876 -0.864876\n",
       "6       7     78.0          74.629295  3.370705\n",
       "7       8     74.0          75.067223 -1.067223\n",
       "8       9     69.0          69.423019 -0.423019\n",
       "9      10     79.0          78.633842  0.366158"
      ]
     },
     "execution_count": 150,
     "metadata": {},
     "output_type": "execute_result"
    }
   ],
   "source": [
    "bq.query(query = query).to_dataframe()"
   ]
  },
  {
   "cell_type": "markdown",
   "id": "7a70a685-6cb7-4b59-8ef6-1267d9c07daf",
   "metadata": {},
   "source": [
    "### Local Explainability - What impacted the judges rating?\n",
    "\n",
    "Retrieve feature attribution values to interpret each features contribution to a prediction relative to the baseline prediction using [ML.EXPLAIN_PREDICT](https://cloud.google.com/bigquery-ml/docs/reference/standard-sql/bigqueryml-syntax-explain-predict)."
   ]
  },
  {
   "cell_type": "code",
   "execution_count": 151,
   "id": "91fe8acb-d8b3-4e37-bad8-c0eba2173ad9",
   "metadata": {},
   "outputs": [
    {
     "name": "stdout",
     "output_type": "stream",
     "text": [
      "\n",
      "    SELECT *\n",
      "    FROM ML.EXPLAIN_PREDICT (MODEL `statmike-mlops-349915.feature_engineering.03_feature_engineering_manual_2`,(\n",
      "        SELECT *\n",
      "        FROM `statmike-mlops-349915.feature_engineering.bread`\n",
      "        WHERE Recipe <= 10)\n",
      "    )\n",
      "    ORDER BY Recipe\n",
      "\n"
     ]
    }
   ],
   "source": [
    "query = f\"\"\"\n",
    "    SELECT *\n",
    "    FROM ML.EXPLAIN_PREDICT (MODEL `{BQ_PROJECT}.{BQ_DATASET}.{BQ_MODEL_ManualFeatureEng2}`,(\n",
    "        SELECT *\n",
    "        FROM `{BQ_PROJECT}.{BQ_DATASET}.{BQ_TABLE}`\n",
    "        WHERE Recipe <= 10)\n",
    "    )\n",
    "    ORDER BY Recipe\n",
    "\"\"\"\n",
    "print(query)"
   ]
  },
  {
   "cell_type": "code",
   "execution_count": 152,
   "id": "e423d524-f912-443f-b0ad-26c96fb8ec46",
   "metadata": {},
   "outputs": [
    {
     "data": {
      "text/html": [
       "<div>\n",
       "<style scoped>\n",
       "    .dataframe tbody tr th:only-of-type {\n",
       "        vertical-align: middle;\n",
       "    }\n",
       "\n",
       "    .dataframe tbody tr th {\n",
       "        vertical-align: top;\n",
       "    }\n",
       "\n",
       "    .dataframe thead th {\n",
       "        text-align: right;\n",
       "    }\n",
       "</style>\n",
       "<table border=\"1\" class=\"dataframe\">\n",
       "  <thead>\n",
       "    <tr style=\"text-align: right;\">\n",
       "      <th></th>\n",
       "      <th>predicted_JUDGE_A</th>\n",
       "      <th>top_feature_attributions</th>\n",
       "      <th>baseline_prediction_value</th>\n",
       "      <th>prediction_value</th>\n",
       "      <th>approximation_error</th>\n",
       "      <th>Recipe</th>\n",
       "      <th>flourAmt</th>\n",
       "      <th>saltAmt</th>\n",
       "      <th>yeastAmt</th>\n",
       "      <th>mix1Time</th>\n",
       "      <th>...</th>\n",
       "      <th>water2Amt</th>\n",
       "      <th>waterTemp</th>\n",
       "      <th>proveTime</th>\n",
       "      <th>restTime</th>\n",
       "      <th>bakeTime</th>\n",
       "      <th>bakeTemp</th>\n",
       "      <th>ambTemp</th>\n",
       "      <th>ambHumidity</th>\n",
       "      <th>JUDGE_A</th>\n",
       "      <th>JUDGE_B</th>\n",
       "    </tr>\n",
       "  </thead>\n",
       "  <tbody>\n",
       "    <tr>\n",
       "      <th>0</th>\n",
       "      <td>70.246490</td>\n",
       "      <td>[{'feature': 'scale_water2Amt', 'attribution':...</td>\n",
       "      <td>74.641197</td>\n",
       "      <td>70.246495</td>\n",
       "      <td>0.0</td>\n",
       "      <td>1</td>\n",
       "      <td>515.547531</td>\n",
       "      <td>9</td>\n",
       "      <td>11</td>\n",
       "      <td>4</td>\n",
       "      <td>...</td>\n",
       "      <td>80.250726</td>\n",
       "      <td>41</td>\n",
       "      <td>90.661748</td>\n",
       "      <td>37</td>\n",
       "      <td>26</td>\n",
       "      <td>434.434191</td>\n",
       "      <td>68.500605</td>\n",
       "      <td>55.210172</td>\n",
       "      <td>71.0</td>\n",
       "      <td>59.0</td>\n",
       "    </tr>\n",
       "    <tr>\n",
       "      <th>1</th>\n",
       "      <td>78.263748</td>\n",
       "      <td>[{'feature': 'scale_water2Amt', 'attribution':...</td>\n",
       "      <td>74.641197</td>\n",
       "      <td>78.263752</td>\n",
       "      <td>0.0</td>\n",
       "      <td>2</td>\n",
       "      <td>494.435203</td>\n",
       "      <td>8</td>\n",
       "      <td>10</td>\n",
       "      <td>4</td>\n",
       "      <td>...</td>\n",
       "      <td>102.361146</td>\n",
       "      <td>40</td>\n",
       "      <td>100.850857</td>\n",
       "      <td>36</td>\n",
       "      <td>28</td>\n",
       "      <td>434.282962</td>\n",
       "      <td>62.650467</td>\n",
       "      <td>59.707303</td>\n",
       "      <td>79.0</td>\n",
       "      <td>69.0</td>\n",
       "    </tr>\n",
       "    <tr>\n",
       "      <th>2</th>\n",
       "      <td>79.535194</td>\n",
       "      <td>[{'feature': 'scale_water2Amt', 'attribution':...</td>\n",
       "      <td>74.641197</td>\n",
       "      <td>79.535192</td>\n",
       "      <td>0.0</td>\n",
       "      <td>3</td>\n",
       "      <td>505.706355</td>\n",
       "      <td>10</td>\n",
       "      <td>9</td>\n",
       "      <td>7</td>\n",
       "      <td>...</td>\n",
       "      <td>113.890652</td>\n",
       "      <td>41</td>\n",
       "      <td>94.380240</td>\n",
       "      <td>43</td>\n",
       "      <td>29</td>\n",
       "      <td>409.618577</td>\n",
       "      <td>64.530485</td>\n",
       "      <td>54.218660</td>\n",
       "      <td>80.0</td>\n",
       "      <td>70.0</td>\n",
       "    </tr>\n",
       "    <tr>\n",
       "      <th>3</th>\n",
       "      <td>75.436913</td>\n",
       "      <td>[{'feature': 'scale_bakeTemp', 'attribution': ...</td>\n",
       "      <td>74.641197</td>\n",
       "      <td>75.436905</td>\n",
       "      <td>0.0</td>\n",
       "      <td>4</td>\n",
       "      <td>497.352020</td>\n",
       "      <td>10</td>\n",
       "      <td>8</td>\n",
       "      <td>5</td>\n",
       "      <td>...</td>\n",
       "      <td>80.730411</td>\n",
       "      <td>43</td>\n",
       "      <td>102.036819</td>\n",
       "      <td>41</td>\n",
       "      <td>22</td>\n",
       "      <td>416.374184</td>\n",
       "      <td>66.839937</td>\n",
       "      <td>49.167220</td>\n",
       "      <td>74.0</td>\n",
       "      <td>62.0</td>\n",
       "    </tr>\n",
       "    <tr>\n",
       "      <th>4</th>\n",
       "      <td>80.948868</td>\n",
       "      <td>[{'feature': 'scale_bakeTemp', 'attribution': ...</td>\n",
       "      <td>74.641197</td>\n",
       "      <td>80.948868</td>\n",
       "      <td>0.0</td>\n",
       "      <td>5</td>\n",
       "      <td>485.829086</td>\n",
       "      <td>8</td>\n",
       "      <td>11</td>\n",
       "      <td>5</td>\n",
       "      <td>...</td>\n",
       "      <td>98.467490</td>\n",
       "      <td>45</td>\n",
       "      <td>104.718203</td>\n",
       "      <td>42</td>\n",
       "      <td>23</td>\n",
       "      <td>433.390445</td>\n",
       "      <td>52.793996</td>\n",
       "      <td>57.582621</td>\n",
       "      <td>81.0</td>\n",
       "      <td>72.0</td>\n",
       "    </tr>\n",
       "    <tr>\n",
       "      <th>5</th>\n",
       "      <td>78.864876</td>\n",
       "      <td>[{'feature': 'scale_bakeTemp', 'attribution': ...</td>\n",
       "      <td>74.641197</td>\n",
       "      <td>78.864880</td>\n",
       "      <td>0.0</td>\n",
       "      <td>6</td>\n",
       "      <td>490.183679</td>\n",
       "      <td>10</td>\n",
       "      <td>11</td>\n",
       "      <td>5</td>\n",
       "      <td>...</td>\n",
       "      <td>95.246531</td>\n",
       "      <td>49</td>\n",
       "      <td>90.550763</td>\n",
       "      <td>42</td>\n",
       "      <td>28</td>\n",
       "      <td>409.200787</td>\n",
       "      <td>71.604845</td>\n",
       "      <td>45.507028</td>\n",
       "      <td>78.0</td>\n",
       "      <td>68.0</td>\n",
       "    </tr>\n",
       "    <tr>\n",
       "      <th>6</th>\n",
       "      <td>74.629295</td>\n",
       "      <td>[{'feature': 'scale_bakeTemp', 'attribution': ...</td>\n",
       "      <td>74.641197</td>\n",
       "      <td>74.629296</td>\n",
       "      <td>0.0</td>\n",
       "      <td>7</td>\n",
       "      <td>508.577734</td>\n",
       "      <td>8</td>\n",
       "      <td>10</td>\n",
       "      <td>4</td>\n",
       "      <td>...</td>\n",
       "      <td>97.929344</td>\n",
       "      <td>49</td>\n",
       "      <td>98.152207</td>\n",
       "      <td>44</td>\n",
       "      <td>25</td>\n",
       "      <td>437.452416</td>\n",
       "      <td>56.616429</td>\n",
       "      <td>55.153239</td>\n",
       "      <td>78.0</td>\n",
       "      <td>67.0</td>\n",
       "    </tr>\n",
       "    <tr>\n",
       "      <th>7</th>\n",
       "      <td>75.067223</td>\n",
       "      <td>[{'feature': 'scale_water2Amt', 'attribution':...</td>\n",
       "      <td>74.641197</td>\n",
       "      <td>75.067202</td>\n",
       "      <td>0.0</td>\n",
       "      <td>8</td>\n",
       "      <td>517.695022</td>\n",
       "      <td>11</td>\n",
       "      <td>9</td>\n",
       "      <td>6</td>\n",
       "      <td>...</td>\n",
       "      <td>108.635735</td>\n",
       "      <td>48</td>\n",
       "      <td>102.001918</td>\n",
       "      <td>38</td>\n",
       "      <td>22</td>\n",
       "      <td>438.059907</td>\n",
       "      <td>80.158807</td>\n",
       "      <td>48.142746</td>\n",
       "      <td>74.0</td>\n",
       "      <td>63.0</td>\n",
       "    </tr>\n",
       "    <tr>\n",
       "      <th>8</th>\n",
       "      <td>69.423019</td>\n",
       "      <td>[{'feature': 'scale_water2Amt', 'attribution':...</td>\n",
       "      <td>74.641197</td>\n",
       "      <td>69.423005</td>\n",
       "      <td>0.0</td>\n",
       "      <td>9</td>\n",
       "      <td>495.988172</td>\n",
       "      <td>8</td>\n",
       "      <td>11</td>\n",
       "      <td>4</td>\n",
       "      <td>...</td>\n",
       "      <td>77.313000</td>\n",
       "      <td>40</td>\n",
       "      <td>102.057394</td>\n",
       "      <td>36</td>\n",
       "      <td>20</td>\n",
       "      <td>413.923945</td>\n",
       "      <td>68.343126</td>\n",
       "      <td>47.721921</td>\n",
       "      <td>69.0</td>\n",
       "      <td>56.0</td>\n",
       "    </tr>\n",
       "    <tr>\n",
       "      <th>9</th>\n",
       "      <td>78.633842</td>\n",
       "      <td>[{'feature': 'scale_bakeTemp', 'attribution': ...</td>\n",
       "      <td>74.641197</td>\n",
       "      <td>78.633847</td>\n",
       "      <td>0.0</td>\n",
       "      <td>10</td>\n",
       "      <td>499.512905</td>\n",
       "      <td>10</td>\n",
       "      <td>9</td>\n",
       "      <td>4</td>\n",
       "      <td>...</td>\n",
       "      <td>130.894200</td>\n",
       "      <td>44</td>\n",
       "      <td>97.960904</td>\n",
       "      <td>36</td>\n",
       "      <td>23</td>\n",
       "      <td>431.663510</td>\n",
       "      <td>63.146053</td>\n",
       "      <td>46.825431</td>\n",
       "      <td>79.0</td>\n",
       "      <td>69.0</td>\n",
       "    </tr>\n",
       "  </tbody>\n",
       "</table>\n",
       "<p>10 rows × 24 columns</p>\n",
       "</div>"
      ],
      "text/plain": [
       "   predicted_JUDGE_A                           top_feature_attributions  \\\n",
       "0          70.246490  [{'feature': 'scale_water2Amt', 'attribution':...   \n",
       "1          78.263748  [{'feature': 'scale_water2Amt', 'attribution':...   \n",
       "2          79.535194  [{'feature': 'scale_water2Amt', 'attribution':...   \n",
       "3          75.436913  [{'feature': 'scale_bakeTemp', 'attribution': ...   \n",
       "4          80.948868  [{'feature': 'scale_bakeTemp', 'attribution': ...   \n",
       "5          78.864876  [{'feature': 'scale_bakeTemp', 'attribution': ...   \n",
       "6          74.629295  [{'feature': 'scale_bakeTemp', 'attribution': ...   \n",
       "7          75.067223  [{'feature': 'scale_water2Amt', 'attribution':...   \n",
       "8          69.423019  [{'feature': 'scale_water2Amt', 'attribution':...   \n",
       "9          78.633842  [{'feature': 'scale_bakeTemp', 'attribution': ...   \n",
       "\n",
       "   baseline_prediction_value  prediction_value  approximation_error  Recipe  \\\n",
       "0                  74.641197         70.246495                  0.0       1   \n",
       "1                  74.641197         78.263752                  0.0       2   \n",
       "2                  74.641197         79.535192                  0.0       3   \n",
       "3                  74.641197         75.436905                  0.0       4   \n",
       "4                  74.641197         80.948868                  0.0       5   \n",
       "5                  74.641197         78.864880                  0.0       6   \n",
       "6                  74.641197         74.629296                  0.0       7   \n",
       "7                  74.641197         75.067202                  0.0       8   \n",
       "8                  74.641197         69.423005                  0.0       9   \n",
       "9                  74.641197         78.633847                  0.0      10   \n",
       "\n",
       "     flourAmt  saltAmt  yeastAmt  mix1Time  ...   water2Amt  waterTemp  \\\n",
       "0  515.547531        9        11         4  ...   80.250726         41   \n",
       "1  494.435203        8        10         4  ...  102.361146         40   \n",
       "2  505.706355       10         9         7  ...  113.890652         41   \n",
       "3  497.352020       10         8         5  ...   80.730411         43   \n",
       "4  485.829086        8        11         5  ...   98.467490         45   \n",
       "5  490.183679       10        11         5  ...   95.246531         49   \n",
       "6  508.577734        8        10         4  ...   97.929344         49   \n",
       "7  517.695022       11         9         6  ...  108.635735         48   \n",
       "8  495.988172        8        11         4  ...   77.313000         40   \n",
       "9  499.512905       10         9         4  ...  130.894200         44   \n",
       "\n",
       "    proveTime  restTime  bakeTime    bakeTemp    ambTemp  ambHumidity  \\\n",
       "0   90.661748        37        26  434.434191  68.500605    55.210172   \n",
       "1  100.850857        36        28  434.282962  62.650467    59.707303   \n",
       "2   94.380240        43        29  409.618577  64.530485    54.218660   \n",
       "3  102.036819        41        22  416.374184  66.839937    49.167220   \n",
       "4  104.718203        42        23  433.390445  52.793996    57.582621   \n",
       "5   90.550763        42        28  409.200787  71.604845    45.507028   \n",
       "6   98.152207        44        25  437.452416  56.616429    55.153239   \n",
       "7  102.001918        38        22  438.059907  80.158807    48.142746   \n",
       "8  102.057394        36        20  413.923945  68.343126    47.721921   \n",
       "9   97.960904        36        23  431.663510  63.146053    46.825431   \n",
       "\n",
       "   JUDGE_A  JUDGE_B  \n",
       "0     71.0     59.0  \n",
       "1     79.0     69.0  \n",
       "2     80.0     70.0  \n",
       "3     74.0     62.0  \n",
       "4     81.0     72.0  \n",
       "5     78.0     68.0  \n",
       "6     78.0     67.0  \n",
       "7     74.0     63.0  \n",
       "8     69.0     56.0  \n",
       "9     79.0     69.0  \n",
       "\n",
       "[10 rows x 24 columns]"
      ]
     },
     "execution_count": 152,
     "metadata": {},
     "output_type": "execute_result"
    }
   ],
   "source": [
    "explain = bq.query(query = query).to_dataframe()\n",
    "explain"
   ]
  },
  {
   "cell_type": "markdown",
   "id": "9bebf83d-077b-4c2c-9593-d15f4dce42c8",
   "metadata": {},
   "source": [
    "Create a plot of feature attributions for a single prediction:"
   ]
  },
  {
   "cell_type": "code",
   "execution_count": 153,
   "id": "bba5463c-8a94-4baa-9d88-c2fe5419c383",
   "metadata": {},
   "outputs": [],
   "source": [
    "recipe = 1\n",
    "explanation = explain.iloc[recipe-1]['top_feature_attributions']"
   ]
  },
  {
   "cell_type": "code",
   "execution_count": 154,
   "id": "46a76ebc-cdad-4db0-9e14-ea25b2de56d9",
   "metadata": {},
   "outputs": [
    {
     "data": {
      "image/png": "[encoded data removed]",
      "text/plain": [
       "<Figure size 1080x360 with 1 Axes>"
      ]
     },
     "metadata": {
      "needs_background": "light"
     },
     "output_type": "display_data"
    }
   ],
   "source": [
    "features = []\n",
    "scores = []\n",
    "for k in explanation:\n",
    "    features.append(k['feature'])\n",
    "    scores.append(k['attribution'])\n",
    "features = [x for _, x in sorted(zip(scores, features))]\n",
    "scores = sorted(scores)\n",
    "\n",
    "plt.figure(figsize=(15,5))\n",
    "plt.barh(features, scores)\n",
    "plt.title(f'Feature Attribution for Prediction - Recipe {recipe}')\n",
    "plt.show()"
   ]
  },
  {
   "cell_type": "markdown",
   "id": "e0992a1a-f8d7-471b-b56a-fed4efa214b8",
   "metadata": {},
   "source": [
    "### Check out this model in the BigQuery Console:\n",
    "- Make sure project selected is the one from this notebook\n",
    "- Under Explore, expand this project and dataset\n",
    "- Expand Models and select the model create here"
   ]
  },
  {
   "cell_type": "code",
   "execution_count": 155,
   "id": "e0855079-2994-4f92-852e-c10de2b8bd9b",
   "metadata": {},
   "outputs": [
    {
     "name": "stdout",
     "output_type": "stream",
     "text": [
      "Direct link to the model in BigQuery:\n",
      "https://console.cloud.google.com/bigquery?project=statmike-mlops-349915&ws=!1m5!1m4!5m3!1sstatmike-mlops-349915!2sfeature_engineering!3s03_feature_engineering_manual_2\n"
     ]
    }
   ],
   "source": [
    "print(f'Direct link to the model in BigQuery:\\nhttps://console.cloud.google.com/bigquery?project={PROJECT_ID}&ws=!1m5!1m4!5m3!1s{PROJECT_ID}!2s{BQ_DATASET}!3s{BQ_MODEL_ManualFeatureEng2}')"
   ]
  },
  {
   "cell_type": "markdown",
   "id": "35df9456-499b-4a42-ae52-b29977f89088",
   "metadata": {},
   "source": [
    "### Check out this model in the Vertex AI Console:\n",
    "- Make sure project selected is the one from this notebook\n",
    "- Make sure the region is `europe-west4` (default when BQ is `EU` multiregion)"
   ]
  },
  {
   "cell_type": "code",
   "execution_count": 156,
   "id": "a3801c09-f8e4-4dda-871a-2289cbf428d6",
   "metadata": {},
   "outputs": [
    {
     "name": "stdout",
     "output_type": "stream",
     "text": [
      "View the model in the Vertex AI Console:\n",
      "https://console.cloud.google.com/vertex-ai/locations/europe-west4/models/bqml_03_feature_engineering_manual_2?project=statmike-mlops-349915\n"
     ]
    }
   ],
   "source": [
    "print(f\"View the model in the Vertex AI Console:\\nhttps://console.cloud.google.com/vertex-ai/locations/{REGION}/models/bqml_{BQ_MODEL_ManualFeatureEng2}?project={PROJECT_ID}\")"
   ]
  },
  {
   "cell_type": "markdown",
   "id": "b1dd1061-fecd-40e0-bb41-715a6ad5106f",
   "metadata": {},
   "source": [
    "## Serving - Models 1 & 2\n",
    "\n",
    "**Notes on Serving With Manual Feature Engineering**\n",
    "\n",
    "When this model was trained it did register to Vertex AI Model Registry.  At this point in time (November 2022), the resulting model is not directly servable because it is actually 2 models, a preprocessing model that represents the `TRANSFORM` clause, and a model that serves responses from the inputs shaped by the preprocessing.\n",
    "\n",
    "It is still very possible and advantageous to serve online predictions with Vertex AI.  In this case we can register both models (preprocessing and the model). Serving predictions with these two models could be done in several ways with Vertex AI:\n",
    "- Create 2 Endpoints: retrieve responses from the preprocessing model to pass to the model (example below)\n",
    "    - Share resources between the endpoints by cohosting them with a [Deployment Resource Pool](https://cloud.google.com/vertex-ai/docs/predictions/model-co-hosting)\n",
    "- Combine the models in a single serving container with a [Custom Prediction Routine](https://cloud.google.com/vertex-ai/docs/predictions/custom-prediction-routines)\n",
    "- Serve the models separately or in a pipeline using [NVIDIA Triton for Vertex AI Endpoints](https://cloud.google.com/vertex-ai/docs/predictions/using-nvidia-triton)"
   ]
  },
  {
   "cell_type": "markdown",
   "id": "983ec89b-cfb3-482b-976b-26901f54795b",
   "metadata": {},
   "source": [
    "### Vertex AI Model Registry - Get Models\n",
    "\n",
    "References:\n",
    "- [aiplatform.Model()](https://cloud.google.com/python/docs/reference/aiplatform/latest/google.cloud.aiplatform.Model)"
   ]
  },
  {
   "cell_type": "code",
   "execution_count": 158,
   "id": "cb1a70f4-9dfa-4a6e-81ca-521840a28107",
   "metadata": {},
   "outputs": [
    {
     "data": {
      "text/plain": [
       "('projects/1026793852137/locations/europe-west4/models/bqml_03_feature_engineering_manual_1',\n",
       " 'projects/1026793852137/locations/europe-west4/models/bqml_03_feature_engineering_manual_2')"
      ]
     },
     "execution_count": 158,
     "metadata": {},
     "output_type": "execute_result"
    }
   ],
   "source": [
    "vertex_model_ManualFeatureEng1 = aiplatform.Model(model_name = f'bqml_{BQ_MODEL_ManualFeatureEng1}')\n",
    "vertex_model_ManualFeatureEng2 = aiplatform.Model(model_name = f'bqml_{BQ_MODEL_ManualFeatureEng2}')\n",
    "vertex_model_ManualFeatureEng1.resource_name, vertex_model_ManualFeatureEng2.resource_name"
   ]
  },
  {
   "cell_type": "code",
   "execution_count": 164,
   "id": "61e981d2-dc91-462f-9ec6-e3085070dd91",
   "metadata": {},
   "outputs": [
    {
     "data": {
      "text/plain": [
       "{'name': 'projects/1026793852137/locations/europe-west4/models/bqml_03_feature_engineering_manual_1@1/evaluations/1398760484827561984',\n",
       " 'metricsSchemaUri': 'gs://google-cloud-aiplatform/schema/modelevaluation/regression_metrics_1.0.0.yaml',\n",
       " 'metrics': {'rootMeanSquaredLogError': 0.13506581,\n",
       "  'rootMeanSquaredError': 9.4231,\n",
       "  'meanAbsoluteError': 7.5543585,\n",
       "  'rSquared': 0.07624385},\n",
       " 'createTime': '2023-01-10T13:43:38.804968Z'}"
      ]
     },
     "execution_count": 164,
     "metadata": {},
     "output_type": "execute_result"
    }
   ],
   "source": [
    "aiplatform.ModelEvaluation(\n",
    "    evaluation_name = vertex_model_ManualFeatureEng1.get_model_evaluation().resource_name\n",
    ").to_dict()"
   ]
  },
  {
   "cell_type": "code",
   "execution_count": 165,
   "id": "134763d1-29b8-4b7f-80aa-8751a6fe907e",
   "metadata": {},
   "outputs": [
    {
     "data": {
      "text/plain": [
       "{'name': 'projects/1026793852137/locations/europe-west4/models/bqml_03_feature_engineering_manual_2@1/evaluations/627237573663653888',\n",
       " 'metricsSchemaUri': 'gs://google-cloud-aiplatform/schema/modelevaluation/regression_metrics_1.0.0.yaml',\n",
       " 'metrics': {'meanAbsoluteError': 2.113403,\n",
       "  'rootMeanSquaredError': 2.7790897,\n",
       "  'rootMeanSquaredLogError': 0.042237602,\n",
       "  'rSquared': 0.91965204},\n",
       " 'createTime': '2023-01-10T13:58:01.760442Z'}"
      ]
     },
     "execution_count": 165,
     "metadata": {},
     "output_type": "execute_result"
    }
   ],
   "source": [
    "aiplatform.ModelEvaluation(\n",
    "    evaluation_name = vertex_model_ManualFeatureEng2.get_model_evaluation().resource_name\n",
    ").to_dict()"
   ]
  },
  {
   "cell_type": "code",
   "execution_count": 166,
   "id": "df736369-1aea-4faf-abb3-64aca3432b40",
   "metadata": {},
   "outputs": [],
   "source": [
    "# note: this is blank since the mode is in two parts, continue to export below:\n",
    "vertex_model_ManualFeatureEng1.uri "
   ]
  },
  {
   "cell_type": "markdown",
   "id": "711b0a42-c363-45b3-a2af-fa6d576f9b08",
   "metadata": {},
   "source": [
    "### Export Model(s) From BigQuery to GCS\n",
    "\n",
    "- [Exporting Models](https://cloud.google.com/bigquery-ml/docs/exporting-models)\n"
   ]
  },
  {
   "cell_type": "code",
   "execution_count": 167,
   "id": "7a15e685-7e15-4ff6-8824-b2932978ec42",
   "metadata": {},
   "outputs": [],
   "source": [
    "BUCKET = f'{PROJECT_ID}-{REGION}-bqml-exports'"
   ]
  },
  {
   "cell_type": "code",
   "execution_count": 168,
   "id": "e6072575-e4fd-44c4-9f68-50e90f6fa528",
   "metadata": {},
   "outputs": [
    {
     "name": "stdout",
     "output_type": "stream",
     "text": [
      "Created Bucket: statmike-mlops-349915-europe-west4-bqml-exports\n"
     ]
    }
   ],
   "source": [
    "if not gcs.lookup_bucket(BUCKET):\n",
    "    bucketDef = gcs.bucket(BUCKET)\n",
    "    bucketDef = gcs.create_bucket(bucketDef, project=PROJECT_ID, location=REGION)\n",
    "    print(f'Created Bucket: {gcs.lookup_bucket(BUCKET).name}')\n",
    "else:\n",
    "    bucketDef = gcs.bucket(BUCKET)\n",
    "    print(f'Bucket already exist: {bucketDef.name}')"
   ]
  },
  {
   "cell_type": "code",
   "execution_count": 169,
   "id": "cb418e5a-b7d9-4688-8038-0252efc76ede",
   "metadata": {},
   "outputs": [
    {
     "name": "stdout",
     "output_type": "stream",
     "text": [
      "Review the storage bucket in the console here:\n",
      "https://console.cloud.google.com/storage/browser/statmike-mlops-349915-europe-west4-bqml-exports;tab=objects&project=statmike-mlops-349915\n"
     ]
    }
   ],
   "source": [
    "print(f'Review the storage bucket in the console here:\\nhttps://console.cloud.google.com/storage/browser/{BUCKET};tab=objects&project={PROJECT_ID}')"
   ]
  },
  {
   "cell_type": "code",
   "execution_count": 170,
   "id": "9d5beec2-3594-4db8-8516-a2baaf36637e",
   "metadata": {},
   "outputs": [
    {
     "name": "stdout",
     "output_type": "stream",
     "text": [
      "\n",
      "    EXPORT MODEL `statmike-mlops-349915.feature_engineering.03_feature_engineering_manual_1`\n",
      "        OPTIONS (URI = 'gs://statmike-mlops-349915-europe-west4-bqml-exports/03/ManualFeatureEng1/model');\n",
      "    EXPORT MODEL `statmike-mlops-349915.feature_engineering.03_feature_engineering_manual_2`\n",
      "        OPTIONS (URI = 'gs://statmike-mlops-349915-europe-west4-bqml-exports/03/ManualFeatureEng2/model');\n",
      "\n"
     ]
    }
   ],
   "source": [
    "query = f\"\"\"\n",
    "    EXPORT MODEL `{BQ_PROJECT}.{BQ_DATASET}.{BQ_MODEL_ManualFeatureEng1}`\n",
    "        OPTIONS (URI = 'gs://{BUCKET}/{SERIES}/ManualFeatureEng1/model');\n",
    "    EXPORT MODEL `{BQ_PROJECT}.{BQ_DATASET}.{BQ_MODEL_ManualFeatureEng2}`\n",
    "        OPTIONS (URI = 'gs://{BUCKET}/{SERIES}/ManualFeatureEng2/model');\n",
    "\"\"\"\n",
    "print(query)"
   ]
  },
  {
   "cell_type": "code",
   "execution_count": 171,
   "id": "c4150227-ebad-4eab-93de-3468da656d36",
   "metadata": {},
   "outputs": [
    {
     "data": {
      "text/plain": [
       "69.342"
      ]
     },
     "execution_count": 171,
     "metadata": {},
     "output_type": "execute_result"
    }
   ],
   "source": [
    "export = bq.query(query = query)\n",
    "export.result()\n",
    "(export.ended - export.started).total_seconds()"
   ]
  },
  {
   "cell_type": "code",
   "execution_count": 172,
   "id": "b20447b5-97b8-46c6-92d9-2eb81b7e7db5",
   "metadata": {},
   "outputs": [
    {
     "data": {
      "text/plain": [
       "[<Blob: statmike-mlops-349915-europe-west4-bqml-exports, 03/ManualFeatureEng1/, 1673367632812413>,\n",
       " <Blob: statmike-mlops-349915-europe-west4-bqml-exports, 03/ManualFeatureEng1/model/, 1673367633178255>,\n",
       " <Blob: statmike-mlops-349915-europe-west4-bqml-exports, 03/ManualFeatureEng1/model/explanation_metadata.json, 1673367653398842>,\n",
       " <Blob: statmike-mlops-349915-europe-west4-bqml-exports, 03/ManualFeatureEng1/model/saved_model.pb, 1673367653496977>,\n",
       " <Blob: statmike-mlops-349915-europe-west4-bqml-exports, 03/ManualFeatureEng1/model/transform/, 1673367633536927>,\n",
       " <Blob: statmike-mlops-349915-europe-west4-bqml-exports, 03/ManualFeatureEng1/model/transform/assets/, 1673367634413059>,\n",
       " <Blob: statmike-mlops-349915-europe-west4-bqml-exports, 03/ManualFeatureEng1/model/transform/fingerprint.pb, 1673367634507038>,\n",
       " <Blob: statmike-mlops-349915-europe-west4-bqml-exports, 03/ManualFeatureEng1/model/transform/saved_model.pb, 1673367634602828>,\n",
       " <Blob: statmike-mlops-349915-europe-west4-bqml-exports, 03/ManualFeatureEng1/model/transform/variables/, 1673367634113465>,\n",
       " <Blob: statmike-mlops-349915-europe-west4-bqml-exports, 03/ManualFeatureEng1/model/transform/variables/variables.data-00000-of-00001, 1673367634686211>,\n",
       " <Blob: statmike-mlops-349915-europe-west4-bqml-exports, 03/ManualFeatureEng1/model/transform/variables/variables.index, 1673367634775759>,\n",
       " <Blob: statmike-mlops-349915-europe-west4-bqml-exports, 03/ManualFeatureEng1/model/variables/, 1673367653248041>,\n",
       " <Blob: statmike-mlops-349915-europe-west4-bqml-exports, 03/ManualFeatureEng1/model/variables/variables.data-00000-of-00001, 1673367653590452>,\n",
       " <Blob: statmike-mlops-349915-europe-west4-bqml-exports, 03/ManualFeatureEng1/model/variables/variables.index, 1673367653677663>,\n",
       " <Blob: statmike-mlops-349915-europe-west4-bqml-exports, 03/ManualFeatureEng2/, 1673367672643106>,\n",
       " <Blob: statmike-mlops-349915-europe-west4-bqml-exports, 03/ManualFeatureEng2/model/, 1673367672977010>,\n",
       " <Blob: statmike-mlops-349915-europe-west4-bqml-exports, 03/ManualFeatureEng2/model/assets/model_metadata.json, 1673367675390284>,\n",
       " <Blob: statmike-mlops-349915-europe-west4-bqml-exports, 03/ManualFeatureEng2/model/main.py, 1673367675286624>,\n",
       " <Blob: statmike-mlops-349915-europe-west4-bqml-exports, 03/ManualFeatureEng2/model/model.bst, 1673367675025759>,\n",
       " <Blob: statmike-mlops-349915-europe-west4-bqml-exports, 03/ManualFeatureEng2/model/transform/, 1673367673297427>,\n",
       " <Blob: statmike-mlops-349915-europe-west4-bqml-exports, 03/ManualFeatureEng2/model/transform/assets/, 1673367674179972>,\n",
       " <Blob: statmike-mlops-349915-europe-west4-bqml-exports, 03/ManualFeatureEng2/model/transform/fingerprint.pb, 1673367674275786>,\n",
       " <Blob: statmike-mlops-349915-europe-west4-bqml-exports, 03/ManualFeatureEng2/model/transform/saved_model.pb, 1673367674373776>,\n",
       " <Blob: statmike-mlops-349915-europe-west4-bqml-exports, 03/ManualFeatureEng2/model/transform/variables/, 1673367673839874>,\n",
       " <Blob: statmike-mlops-349915-europe-west4-bqml-exports, 03/ManualFeatureEng2/model/transform/variables/variables.data-00000-of-00001, 1673367674453754>,\n",
       " <Blob: statmike-mlops-349915-europe-west4-bqml-exports, 03/ManualFeatureEng2/model/transform/variables/variables.index, 1673367674537655>,\n",
       " <Blob: statmike-mlops-349915-europe-west4-bqml-exports, 03/ManualFeatureEng2/model/xgboost_predictor-0.1.tar.gz, 1673367675130842>]"
      ]
     },
     "execution_count": 172,
     "metadata": {},
     "output_type": "execute_result"
    }
   ],
   "source": [
    "list(bucketDef.list_blobs(prefix = f'{SERIES}/ManualFeatureEng'))"
   ]
  },
  {
   "cell_type": "markdown",
   "id": "423bbfdb-9c17-43f2-9f3e-f34c429f0c6e",
   "metadata": {},
   "source": [
    "Notice the booster file ('.bst') for the model in the main folder as well as a subfolder ('/transfrom') with the TensorFlow saved mode for proprocessing named 'saved_model.pb'."
   ]
  },
  {
   "cell_type": "markdown",
   "id": "ad1734f0-a559-4fe7-b07d-7ca97f59d3ea",
   "metadata": {},
   "source": [
    "### Upload Models To Vertex AI Model Registry\n",
    "\n",
    "Uploading models to Vertex AI Model Registry requires knowing the path the the model save file and a URI for a container that can serve the model.\n",
    "- Vertex AI Pre-built containers for [prediction and explanation](https://cloud.google.com/vertex-ai/docs/predictions/pre-built-containers)\n"
   ]
  },
  {
   "cell_type": "markdown",
   "id": "89023f5f-13a6-4010-b5d5-b0c76e373640",
   "metadata": {},
   "source": [
    "#### Register Models 1 & 2"
   ]
  },
  {
   "cell_type": "code",
   "execution_count": 173,
   "id": "ad5f3169-ef8a-4513-bc09-2385b8eb8c29",
   "metadata": {},
   "outputs": [
    {
     "name": "stdout",
     "output_type": "stream",
     "text": [
      "Creating Model\n",
      "Create Model backing LRO: projects/1026793852137/locations/europe-west4/models/model_03_feature_engineering_manual1/operations/8201475484639297536\n",
      "Model created. Resource name: projects/1026793852137/locations/europe-west4/models/model_03_feature_engineering_manual1@1\n",
      "To use this Model in another session:\n",
      "model = aiplatform.Model('projects/1026793852137/locations/europe-west4/models/model_03_feature_engineering_manual1@1')\n",
      "Creating Model\n",
      "Create Model backing LRO: projects/1026793852137/locations/europe-west4/models/model_03_feature_engineering_manual2/operations/3238508695277010944\n",
      "Model created. Resource name: projects/1026793852137/locations/europe-west4/models/model_03_feature_engineering_manual2@1\n",
      "To use this Model in another session:\n",
      "model = aiplatform.Model('projects/1026793852137/locations/europe-west4/models/model_03_feature_engineering_manual2@1')\n"
     ]
    }
   ],
   "source": [
    "vertex_model_ManualFeatureEng1_exportModel = aiplatform.Model.upload(\n",
    "    display_name = f'{SERIES}_{EXPERIMENT}_manual1',\n",
    "    model_id = f'model_{SERIES}_{EXPERIMENT}_manual1',\n",
    "    serving_container_image_uri = 'us-docker.pkg.dev/vertex-ai/prediction/tf2-cpu.2-10:latest',\n",
    "    artifact_uri = f\"gs://{BUCKET}/{SERIES}/ManualFeatureEng1/model\",\n",
    "    is_default_version = True,\n",
    "    labels = {'series' : f'{SERIES}', 'experiment' : f'{EXPERIMENT}'}\n",
    ") \n",
    "vertex_model_ManualFeatureEng2_exportModel = aiplatform.Model.upload(\n",
    "    display_name = f'{SERIES}_{EXPERIMENT}_manual2',\n",
    "    model_id = f'model_{SERIES}_{EXPERIMENT}_manual2',\n",
    "    serving_container_image_uri = 'us-docker.pkg.dev/vertex-ai/prediction/xgboost-cpu.0-82:latest',\n",
    "    artifact_uri = f\"gs://{BUCKET}/{SERIES}/ManualFeatureEng2/model\",\n",
    "    is_default_version = True,\n",
    "    labels = {'series' : f'{SERIES}', 'experiment' : f'{EXPERIMENT}'}\n",
    ") "
   ]
  },
  {
   "cell_type": "code",
   "execution_count": 176,
   "id": "e3903037-2506-4387-b3d8-2783bd39edcd",
   "metadata": {},
   "outputs": [
    {
     "name": "stdout",
     "output_type": "stream",
     "text": [
      "Model 1:\n",
      "Display Name: 03_feature_engineering_manual1\n",
      "Name: model_03_feature_engineering_manual1\n",
      "Resource Name: projects/1026793852137/locations/europe-west4/models/model_03_feature_engineering_manual1\n"
     ]
    }
   ],
   "source": [
    "print(f\"\"\"Model 1:\n",
    "Display Name: {vertex_model_ManualFeatureEng1_exportModel.display_name}\n",
    "Name: {vertex_model_ManualFeatureEng1_exportModel.name}\n",
    "Resource Name: {vertex_model_ManualFeatureEng1_exportModel.resource_name}\"\"\")"
   ]
  },
  {
   "cell_type": "code",
   "execution_count": 177,
   "id": "fb1a0282-c744-4afa-8cb1-6489e0c8fb0f",
   "metadata": {},
   "outputs": [
    {
     "name": "stdout",
     "output_type": "stream",
     "text": [
      "Model 2:\n",
      "Display Name: 03_feature_engineering_manual2\n",
      "Name: model_03_feature_engineering_manual2\n",
      "Resource Name: projects/1026793852137/locations/europe-west4/models/model_03_feature_engineering_manual2\n"
     ]
    }
   ],
   "source": [
    "print(f\"\"\"Model 2:\n",
    "Display Name: {vertex_model_ManualFeatureEng2_exportModel.display_name}\n",
    "Name: {vertex_model_ManualFeatureEng2_exportModel.name}\n",
    "Resource Name: {vertex_model_ManualFeatureEng2_exportModel.resource_name}\"\"\")"
   ]
  },
  {
   "cell_type": "code",
   "execution_count": 185,
   "id": "83dfd1ae-8f38-4550-96a5-a49c3b979348",
   "metadata": {},
   "outputs": [
    {
     "name": "stdout",
     "output_type": "stream",
     "text": [
      "View the models in the Vertex AI Console:\n",
      "https://console.cloud.google.com/vertex-ai/models?project=statmike-mlops-349915\n"
     ]
    }
   ],
   "source": [
    "print(f\"View the models in the Vertex AI Console:\\nhttps://console.cloud.google.com/vertex-ai/models?project={PROJECT_ID}\")"
   ]
  },
  {
   "cell_type": "markdown",
   "id": "d300367f-c8a2-40f5-9bcc-ef85a8692e26",
   "metadata": {},
   "source": [
    "#### Register Preprocessing Models 1 & 2"
   ]
  },
  {
   "cell_type": "code",
   "execution_count": 181,
   "id": "5f47c22f-39ef-45e3-889e-efbaa193fb74",
   "metadata": {},
   "outputs": [
    {
     "name": "stdout",
     "output_type": "stream",
     "text": [
      "Creating Model\n",
      "Create Model backing LRO: projects/1026793852137/locations/europe-west4/models/model_03_feature_engineering_manual1_preprocessing/operations/5184063734301065216\n",
      "Model created. Resource name: projects/1026793852137/locations/europe-west4/models/model_03_feature_engineering_manual1_preprocessing@1\n",
      "To use this Model in another session:\n",
      "model = aiplatform.Model('projects/1026793852137/locations/europe-west4/models/model_03_feature_engineering_manual1_preprocessing@1')\n",
      "Creating Model\n",
      "Create Model backing LRO: projects/1026793852137/locations/europe-west4/models/model_03_feature_engineering_manual2_preprocessing/operations/4071674626340552704\n",
      "Model created. Resource name: projects/1026793852137/locations/europe-west4/models/model_03_feature_engineering_manual2_preprocessing@1\n",
      "To use this Model in another session:\n",
      "model = aiplatform.Model('projects/1026793852137/locations/europe-west4/models/model_03_feature_engineering_manual2_preprocessing@1')\n"
     ]
    }
   ],
   "source": [
    "vertex_model_ManualFeatureEng1_exportModel_preprocessing = aiplatform.Model.upload(\n",
    "    display_name = f'{SERIES}_{EXPERIMENT}_manual1_preprocessing',\n",
    "    model_id = f'model_{SERIES}_{EXPERIMENT}_manual1_preprocessing',\n",
    "    serving_container_image_uri = 'us-docker.pkg.dev/vertex-ai/prediction/tf2-cpu.2-10:latest',\n",
    "    artifact_uri = f\"gs://{BUCKET}/{SERIES}/ManualFeatureEng1/model/transform\",\n",
    "    is_default_version = True,\n",
    "    labels = {'series' : f'{SERIES}', 'experiment' : f'{EXPERIMENT}'}\n",
    ")\n",
    "vertex_model_ManualFeatureEng2_exportModel_preprocessing = aiplatform.Model.upload(\n",
    "    display_name = f'{SERIES}_{EXPERIMENT}_manual2_preprocessing',\n",
    "    model_id = f'model_{SERIES}_{EXPERIMENT}_manual2_preprocessing',\n",
    "    serving_container_image_uri = 'us-docker.pkg.dev/vertex-ai/prediction/tf2-cpu.2-10:latest',\n",
    "    artifact_uri = f\"gs://{BUCKET}/{SERIES}/ManualFeatureEng2/model/transform\",\n",
    "    is_default_version = True,\n",
    "    labels = {'series' : f'{SERIES}', 'experiment' : f'{EXPERIMENT}'}\n",
    ") "
   ]
  },
  {
   "cell_type": "code",
   "execution_count": 182,
   "id": "df7bc632-566b-48ab-8c98-1e38ad6fa736",
   "metadata": {},
   "outputs": [
    {
     "name": "stdout",
     "output_type": "stream",
     "text": [
      "Model 1 Preprocessing:\n",
      "Display Name: 03_feature_engineering_manual1_preprocessing\n",
      "Name: model_03_feature_engineering_manual1_preprocessing\n",
      "Resource Name: projects/1026793852137/locations/europe-west4/models/model_03_feature_engineering_manual1_preprocessing\n"
     ]
    }
   ],
   "source": [
    "print(f\"\"\"Model 1 Preprocessing:\n",
    "Display Name: {vertex_model_ManualFeatureEng1_exportModel_preprocessing.display_name}\n",
    "Name: {vertex_model_ManualFeatureEng1_exportModel_preprocessing.name}\n",
    "Resource Name: {vertex_model_ManualFeatureEng1_exportModel_preprocessing.resource_name}\"\"\")"
   ]
  },
  {
   "cell_type": "code",
   "execution_count": 183,
   "id": "2509adbf-d3a7-46b4-9e0b-15ce5a028b57",
   "metadata": {},
   "outputs": [
    {
     "name": "stdout",
     "output_type": "stream",
     "text": [
      "Model 2 Preprocessing:\n",
      "Display Name: 03_feature_engineering_manual2_preprocessing\n",
      "Name: model_03_feature_engineering_manual2_preprocessing\n",
      "Resource Name: projects/1026793852137/locations/europe-west4/models/model_03_feature_engineering_manual2_preprocessing\n"
     ]
    }
   ],
   "source": [
    "print(f\"\"\"Model 2 Preprocessing:\n",
    "Display Name: {vertex_model_ManualFeatureEng2_exportModel_preprocessing.display_name}\n",
    "Name: {vertex_model_ManualFeatureEng2_exportModel_preprocessing.name}\n",
    "Resource Name: {vertex_model_ManualFeatureEng2_exportModel_preprocessing.resource_name}\"\"\")"
   ]
  },
  {
   "cell_type": "code",
   "execution_count": 186,
   "id": "7f8bbbfe-f451-4389-aed5-6945c4e57617",
   "metadata": {},
   "outputs": [
    {
     "name": "stdout",
     "output_type": "stream",
     "text": [
      "View the models in the Vertex AI Console:\n",
      "https://console.cloud.google.com/vertex-ai/models?project=statmike-mlops-349915\n"
     ]
    }
   ],
   "source": [
    "print(f\"View the models in the Vertex AI Console:\\nhttps://console.cloud.google.com/vertex-ai/models?project={PROJECT_ID}\")"
   ]
  },
  {
   "cell_type": "markdown",
   "id": "3bada8c1-17e6-4d5f-a89c-aab19c1a64ec",
   "metadata": {},
   "source": [
    "### Create Endpoints\n",
    "\n",
    "This example will create four endpoints for demonstration purposes: one for each model and each preprocessing model"
   ]
  },
  {
   "cell_type": "code",
   "execution_count": 192,
   "id": "34148c1d-5ccf-4bfa-a4ce-87f0f98e3255",
   "metadata": {},
   "outputs": [],
   "source": [
    "if not aiplatform.Endpoint.list(filter = f\"display_name={SERIES}_{EXPERIMENT}_manual_1model\"):\n",
    "    endpoint_manual_1model = aiplatform.Endpoint.create(\n",
    "        display_name = f\"{SERIES}_{EXPERIMENT}_manual_1model\",\n",
    "        labels = {'series' : f\"{SERIES}\"}\n",
    "    )\n",
    "    print(f\"Endpoint Created: {endpoint_manual_1model.display_name}\")\n",
    "else: endpoint_manual_1model = aiplatform.Endpoint.list(filter = f\"display_name={SERIES}_{EXPERIMENT}_manual_1model\")[0]\n",
    "    \n",
    "if not aiplatform.Endpoint.list(filter = f\"display_name={SERIES}_{EXPERIMENT}_manual_1preprocess\"):\n",
    "    endpoint_manual_1preprocess = aiplatform.Endpoint.create(\n",
    "        display_name = f\"{SERIES}_{EXPERIMENT}_manual_1preprocess\",\n",
    "        labels = {'series' : f\"{SERIES}\"}\n",
    "    )\n",
    "    print(f\"Endpoint Created: {endpoint_manual_1preprocess.display_name}\")\n",
    "else: endpoint_manual_1preprocess = aiplatform.Endpoint.list(filter = f\"display_name={SERIES}_{EXPERIMENT}_manual_1preprocess\")[0]\n",
    "    \n",
    "if not aiplatform.Endpoint.list(filter = f\"display_name={SERIES}_{EXPERIMENT}_manual_2model\"):\n",
    "    endpoint_manual_2model = aiplatform.Endpoint.create(\n",
    "        display_name = f\"{SERIES}_{EXPERIMENT}_manual_2model\",\n",
    "        labels = {'series' : f\"{SERIES}\"}\n",
    "    )\n",
    "    print(f\"Endpoint Created: {endpoint_manual_2model.display_name}\")\n",
    "else: endpoint_manual_2model = aiplatform.Endpoint.list(filter = f\"display_name={SERIES}_{EXPERIMENT}_manual_2model\")[0]\n",
    "    \n",
    "if not aiplatform.Endpoint.list(filter = f\"display_name={SERIES}_{EXPERIMENT}_manual_2preprocess\"):\n",
    "    endpoint_manual_2preprocess = aiplatform.Endpoint.create(\n",
    "        display_name = f\"{SERIES}_{EXPERIMENT}_manual_2preprocess\",\n",
    "        labels = {'series' : f\"{SERIES}\"}\n",
    "    )\n",
    "    print(f\"Endpoint Created: {endpoint_manual_2preprocess.display_name}\")\n",
    "else: endpoint_manual_2preprocess = aiplatform.Endpoint.list(filter = f\"display_name={SERIES}_{EXPERIMENT}_manual_2preprocess\")[0]"
   ]
  },
  {
   "cell_type": "code",
   "execution_count": 202,
   "id": "f004deeb-7d45-45c2-8742-029dccc06d5b",
   "metadata": {},
   "outputs": [
    {
     "name": "stdout",
     "output_type": "stream",
     "text": [
      "Review the Endpoints in the Console:\n",
      "https://console.cloud.google.com/vertex-ai/endpoints?project=statmike-mlops-349915&region=europe-west4\n"
     ]
    }
   ],
   "source": [
    "print(f'Review the Endpoints in the Console:\\nhttps://console.cloud.google.com/vertex-ai/endpoints?project={PROJECT_ID}&region={REGION}')"
   ]
  },
  {
   "cell_type": "markdown",
   "id": "437ded12-486b-4f99-b3e5-208f658e6311",
   "metadata": {},
   "source": [
    "### Deploy Models to Endpoints"
   ]
  },
  {
   "cell_type": "markdown",
   "id": "e09ba563-6009-42b9-9452-d17dd8f0a4b0",
   "metadata": {},
   "source": [
    "#### Deploy Models 1 & 2"
   ]
  },
  {
   "cell_type": "code",
   "execution_count": 194,
   "id": "f0817836-b241-4757-9c6b-34b3f8f236ef",
   "metadata": {},
   "outputs": [
    {
     "name": "stdout",
     "output_type": "stream",
     "text": [
      "Deploying Model projects/1026793852137/locations/europe-west4/models/model_03_feature_engineering_manual1 to Endpoint : projects/1026793852137/locations/europe-west4/endpoints/7053806896834150400\n",
      "Deploy Endpoint model backing LRO: projects/1026793852137/locations/europe-west4/endpoints/7053806896834150400/operations/3382623883352866816\n",
      "Endpoint model deployed. Resource name: projects/1026793852137/locations/europe-west4/endpoints/7053806896834150400\n",
      "Deploying Model projects/1026793852137/locations/europe-west4/models/model_03_feature_engineering_manual2 to Endpoint : projects/1026793852137/locations/europe-west4/endpoints/9131092224958791680\n",
      "Deploy Endpoint model backing LRO: projects/1026793852137/locations/europe-west4/endpoints/9131092224958791680/operations/983612656847945728\n",
      "Endpoint model deployed. Resource name: projects/1026793852137/locations/europe-west4/endpoints/9131092224958791680\n"
     ]
    }
   ],
   "source": [
    "endpoint_manual_1model.deploy(\n",
    "    model = vertex_model_ManualFeatureEng1_exportModel,\n",
    "    deployed_model_display_name = vertex_model_ManualFeatureEng1_exportModel.display_name,\n",
    "    traffic_percentage = 100,\n",
    "    machine_type = 'n1-standard-2',\n",
    "    min_replica_count = 1,\n",
    "    max_replica_count = 1\n",
    ")\n",
    "endpoint_manual_2model.deploy(\n",
    "    model = vertex_model_ManualFeatureEng2_exportModel,\n",
    "    deployed_model_display_name = vertex_model_ManualFeatureEng2_exportModel.display_name,\n",
    "    traffic_percentage = 100,\n",
    "    machine_type = 'n1-standard-2',\n",
    "    min_replica_count = 1,\n",
    "    max_replica_count = 1\n",
    ")"
   ]
  },
  {
   "cell_type": "markdown",
   "id": "dd621de5-c263-4e48-bb07-38bf8efe79e1",
   "metadata": {},
   "source": [
    "#### Deploy Preprocessing From Model 1 & 2"
   ]
  },
  {
   "cell_type": "code",
   "execution_count": 195,
   "id": "34842461-28b4-4e2a-af07-edd06f6f6f90",
   "metadata": {},
   "outputs": [
    {
     "name": "stdout",
     "output_type": "stream",
     "text": [
      "Deploying Model projects/1026793852137/locations/europe-west4/models/model_03_feature_engineering_manual1_preprocessing to Endpoint : projects/1026793852137/locations/europe-west4/endpoints/4060039044539613184\n",
      "Deploy Endpoint model backing LRO: projects/1026793852137/locations/europe-west4/endpoints/4060039044539613184/operations/8346998047598706688\n",
      "Endpoint model deployed. Resource name: projects/1026793852137/locations/europe-west4/endpoints/4060039044539613184\n",
      "Deploying Model projects/1026793852137/locations/europe-west4/models/model_03_feature_engineering_manual2_preprocessing to Endpoint : projects/1026793852137/locations/europe-west4/endpoints/8270904696131026944\n",
      "Deploy Endpoint model backing LRO: projects/1026793852137/locations/europe-west4/endpoints/8270904696131026944/operations/1322227053830864896\n",
      "Endpoint model deployed. Resource name: projects/1026793852137/locations/europe-west4/endpoints/8270904696131026944\n"
     ]
    }
   ],
   "source": [
    "endpoint_manual_1preprocess.deploy(\n",
    "    model = vertex_model_ManualFeatureEng1_exportModel_preprocessing,\n",
    "    deployed_model_display_name = vertex_model_ManualFeatureEng1_exportModel_preprocessing.display_name,\n",
    "    traffic_percentage = 100,\n",
    "    machine_type = 'n1-standard-2',\n",
    "    min_replica_count = 1,\n",
    "    max_replica_count = 1\n",
    ")\n",
    "endpoint_manual_2preprocess.deploy(\n",
    "    model = vertex_model_ManualFeatureEng2_exportModel_preprocessing,\n",
    "    deployed_model_display_name = vertex_model_ManualFeatureEng2_exportModel_preprocessing.display_name,\n",
    "    traffic_percentage = 100,\n",
    "    machine_type = 'n1-standard-2',\n",
    "    min_replica_count = 1,\n",
    "    max_replica_count = 1\n",
    ")"
   ]
  },
  {
   "cell_type": "markdown",
   "id": "6e0bc6eb-0dab-421c-9a5e-a639e4696119",
   "metadata": {},
   "source": [
    "---\n",
    "## Prediction"
   ]
  },
  {
   "cell_type": "markdown",
   "id": "b7fcdbe4-ea3f-49cb-90d2-49573f59b061",
   "metadata": {},
   "source": [
    "### Retrieve Records For Prediction"
   ]
  },
  {
   "cell_type": "code",
   "execution_count": 196,
   "id": "35788642-edb3-4322-b93a-32e8fa2be145",
   "metadata": {},
   "outputs": [],
   "source": [
    "n = 10\n",
    "pred = bq.query(\n",
    "    query = f\"\"\"\n",
    "        SELECT * EXCEPT(JUDGE_B)\n",
    "        FROM {BQ_PROJECT}.{BQ_DATASET}.{BQ_TABLE}\n",
    "        WHERE Recipe <= 10\n",
    "        ORDER BY Recipe\n",
    "    \"\"\"\n",
    ").to_dataframe()"
   ]
  },
  {
   "cell_type": "code",
   "execution_count": 197,
   "id": "bd13fc69-8b04-4b23-86eb-9fd76103054a",
   "metadata": {},
   "outputs": [
    {
     "data": {
      "text/html": [
       "<div>\n",
       "<style scoped>\n",
       "    .dataframe tbody tr th:only-of-type {\n",
       "        vertical-align: middle;\n",
       "    }\n",
       "\n",
       "    .dataframe tbody tr th {\n",
       "        vertical-align: top;\n",
       "    }\n",
       "\n",
       "    .dataframe thead th {\n",
       "        text-align: right;\n",
       "    }\n",
       "</style>\n",
       "<table border=\"1\" class=\"dataframe\">\n",
       "  <thead>\n",
       "    <tr style=\"text-align: right;\">\n",
       "      <th></th>\n",
       "      <th>Recipe</th>\n",
       "      <th>flourAmt</th>\n",
       "      <th>saltAmt</th>\n",
       "      <th>yeastAmt</th>\n",
       "      <th>mix1Time</th>\n",
       "      <th>mix1Speed</th>\n",
       "      <th>mix2Time</th>\n",
       "      <th>mix2Speed</th>\n",
       "      <th>water1Amt</th>\n",
       "      <th>water2Amt</th>\n",
       "      <th>waterTemp</th>\n",
       "      <th>proveTime</th>\n",
       "      <th>restTime</th>\n",
       "      <th>bakeTime</th>\n",
       "      <th>bakeTemp</th>\n",
       "      <th>ambTemp</th>\n",
       "      <th>ambHumidity</th>\n",
       "      <th>JUDGE_A</th>\n",
       "    </tr>\n",
       "  </thead>\n",
       "  <tbody>\n",
       "    <tr>\n",
       "      <th>0</th>\n",
       "      <td>1</td>\n",
       "      <td>515.547531</td>\n",
       "      <td>9</td>\n",
       "      <td>11</td>\n",
       "      <td>4</td>\n",
       "      <td>3</td>\n",
       "      <td>6</td>\n",
       "      <td>5</td>\n",
       "      <td>295.138896</td>\n",
       "      <td>80.250726</td>\n",
       "      <td>41</td>\n",
       "      <td>90.661748</td>\n",
       "      <td>37</td>\n",
       "      <td>26</td>\n",
       "      <td>434.434191</td>\n",
       "      <td>68.500605</td>\n",
       "      <td>55.210172</td>\n",
       "      <td>71.0</td>\n",
       "    </tr>\n",
       "    <tr>\n",
       "      <th>1</th>\n",
       "      <td>2</td>\n",
       "      <td>494.435203</td>\n",
       "      <td>8</td>\n",
       "      <td>10</td>\n",
       "      <td>4</td>\n",
       "      <td>3</td>\n",
       "      <td>7</td>\n",
       "      <td>5</td>\n",
       "      <td>358.233155</td>\n",
       "      <td>102.361146</td>\n",
       "      <td>40</td>\n",
       "      <td>100.850857</td>\n",
       "      <td>36</td>\n",
       "      <td>28</td>\n",
       "      <td>434.282962</td>\n",
       "      <td>62.650467</td>\n",
       "      <td>59.707303</td>\n",
       "      <td>79.0</td>\n",
       "    </tr>\n",
       "    <tr>\n",
       "      <th>2</th>\n",
       "      <td>3</td>\n",
       "      <td>505.706355</td>\n",
       "      <td>10</td>\n",
       "      <td>9</td>\n",
       "      <td>7</td>\n",
       "      <td>5</td>\n",
       "      <td>7</td>\n",
       "      <td>5</td>\n",
       "      <td>329.002328</td>\n",
       "      <td>113.890652</td>\n",
       "      <td>41</td>\n",
       "      <td>94.380240</td>\n",
       "      <td>43</td>\n",
       "      <td>29</td>\n",
       "      <td>409.618577</td>\n",
       "      <td>64.530485</td>\n",
       "      <td>54.218660</td>\n",
       "      <td>80.0</td>\n",
       "    </tr>\n",
       "    <tr>\n",
       "      <th>3</th>\n",
       "      <td>4</td>\n",
       "      <td>497.352020</td>\n",
       "      <td>10</td>\n",
       "      <td>8</td>\n",
       "      <td>5</td>\n",
       "      <td>4</td>\n",
       "      <td>8</td>\n",
       "      <td>4</td>\n",
       "      <td>383.150241</td>\n",
       "      <td>80.730411</td>\n",
       "      <td>43</td>\n",
       "      <td>102.036819</td>\n",
       "      <td>41</td>\n",
       "      <td>22</td>\n",
       "      <td>416.374184</td>\n",
       "      <td>66.839937</td>\n",
       "      <td>49.167220</td>\n",
       "      <td>74.0</td>\n",
       "    </tr>\n",
       "    <tr>\n",
       "      <th>4</th>\n",
       "      <td>5</td>\n",
       "      <td>485.829086</td>\n",
       "      <td>8</td>\n",
       "      <td>11</td>\n",
       "      <td>5</td>\n",
       "      <td>3</td>\n",
       "      <td>7</td>\n",
       "      <td>5</td>\n",
       "      <td>329.785289</td>\n",
       "      <td>98.467490</td>\n",
       "      <td>45</td>\n",
       "      <td>104.718203</td>\n",
       "      <td>42</td>\n",
       "      <td>23</td>\n",
       "      <td>433.390445</td>\n",
       "      <td>52.793996</td>\n",
       "      <td>57.582621</td>\n",
       "      <td>81.0</td>\n",
       "    </tr>\n",
       "    <tr>\n",
       "      <th>5</th>\n",
       "      <td>6</td>\n",
       "      <td>490.183679</td>\n",
       "      <td>10</td>\n",
       "      <td>11</td>\n",
       "      <td>5</td>\n",
       "      <td>4</td>\n",
       "      <td>6</td>\n",
       "      <td>4</td>\n",
       "      <td>302.295645</td>\n",
       "      <td>95.246531</td>\n",
       "      <td>49</td>\n",
       "      <td>90.550763</td>\n",
       "      <td>42</td>\n",
       "      <td>28</td>\n",
       "      <td>409.200787</td>\n",
       "      <td>71.604845</td>\n",
       "      <td>45.507028</td>\n",
       "      <td>78.0</td>\n",
       "    </tr>\n",
       "    <tr>\n",
       "      <th>6</th>\n",
       "      <td>7</td>\n",
       "      <td>508.577734</td>\n",
       "      <td>8</td>\n",
       "      <td>10</td>\n",
       "      <td>4</td>\n",
       "      <td>2</td>\n",
       "      <td>5</td>\n",
       "      <td>5</td>\n",
       "      <td>314.641003</td>\n",
       "      <td>97.929344</td>\n",
       "      <td>49</td>\n",
       "      <td>98.152207</td>\n",
       "      <td>44</td>\n",
       "      <td>25</td>\n",
       "      <td>437.452416</td>\n",
       "      <td>56.616429</td>\n",
       "      <td>55.153239</td>\n",
       "      <td>78.0</td>\n",
       "    </tr>\n",
       "    <tr>\n",
       "      <th>7</th>\n",
       "      <td>8</td>\n",
       "      <td>517.695022</td>\n",
       "      <td>11</td>\n",
       "      <td>9</td>\n",
       "      <td>6</td>\n",
       "      <td>3</td>\n",
       "      <td>8</td>\n",
       "      <td>4</td>\n",
       "      <td>325.252686</td>\n",
       "      <td>108.635735</td>\n",
       "      <td>48</td>\n",
       "      <td>102.001918</td>\n",
       "      <td>38</td>\n",
       "      <td>22</td>\n",
       "      <td>438.059907</td>\n",
       "      <td>80.158807</td>\n",
       "      <td>48.142746</td>\n",
       "      <td>74.0</td>\n",
       "    </tr>\n",
       "    <tr>\n",
       "      <th>8</th>\n",
       "      <td>9</td>\n",
       "      <td>495.988172</td>\n",
       "      <td>8</td>\n",
       "      <td>11</td>\n",
       "      <td>4</td>\n",
       "      <td>4</td>\n",
       "      <td>8</td>\n",
       "      <td>5</td>\n",
       "      <td>328.379937</td>\n",
       "      <td>77.313000</td>\n",
       "      <td>40</td>\n",
       "      <td>102.057394</td>\n",
       "      <td>36</td>\n",
       "      <td>20</td>\n",
       "      <td>413.923945</td>\n",
       "      <td>68.343126</td>\n",
       "      <td>47.721921</td>\n",
       "      <td>69.0</td>\n",
       "    </tr>\n",
       "    <tr>\n",
       "      <th>9</th>\n",
       "      <td>10</td>\n",
       "      <td>499.512905</td>\n",
       "      <td>10</td>\n",
       "      <td>9</td>\n",
       "      <td>4</td>\n",
       "      <td>2</td>\n",
       "      <td>5</td>\n",
       "      <td>5</td>\n",
       "      <td>349.493933</td>\n",
       "      <td>130.894200</td>\n",
       "      <td>44</td>\n",
       "      <td>97.960904</td>\n",
       "      <td>36</td>\n",
       "      <td>23</td>\n",
       "      <td>431.663510</td>\n",
       "      <td>63.146053</td>\n",
       "      <td>46.825431</td>\n",
       "      <td>79.0</td>\n",
       "    </tr>\n",
       "  </tbody>\n",
       "</table>\n",
       "</div>"
      ],
      "text/plain": [
       "   Recipe    flourAmt  saltAmt  yeastAmt  mix1Time  mix1Speed  mix2Time  \\\n",
       "0       1  515.547531        9        11         4          3         6   \n",
       "1       2  494.435203        8        10         4          3         7   \n",
       "2       3  505.706355       10         9         7          5         7   \n",
       "3       4  497.352020       10         8         5          4         8   \n",
       "4       5  485.829086        8        11         5          3         7   \n",
       "5       6  490.183679       10        11         5          4         6   \n",
       "6       7  508.577734        8        10         4          2         5   \n",
       "7       8  517.695022       11         9         6          3         8   \n",
       "8       9  495.988172        8        11         4          4         8   \n",
       "9      10  499.512905       10         9         4          2         5   \n",
       "\n",
       "   mix2Speed   water1Amt   water2Amt  waterTemp   proveTime  restTime  \\\n",
       "0          5  295.138896   80.250726         41   90.661748        37   \n",
       "1          5  358.233155  102.361146         40  100.850857        36   \n",
       "2          5  329.002328  113.890652         41   94.380240        43   \n",
       "3          4  383.150241   80.730411         43  102.036819        41   \n",
       "4          5  329.785289   98.467490         45  104.718203        42   \n",
       "5          4  302.295645   95.246531         49   90.550763        42   \n",
       "6          5  314.641003   97.929344         49   98.152207        44   \n",
       "7          4  325.252686  108.635735         48  102.001918        38   \n",
       "8          5  328.379937   77.313000         40  102.057394        36   \n",
       "9          5  349.493933  130.894200         44   97.960904        36   \n",
       "\n",
       "   bakeTime    bakeTemp    ambTemp  ambHumidity  JUDGE_A  \n",
       "0        26  434.434191  68.500605    55.210172     71.0  \n",
       "1        28  434.282962  62.650467    59.707303     79.0  \n",
       "2        29  409.618577  64.530485    54.218660     80.0  \n",
       "3        22  416.374184  66.839937    49.167220     74.0  \n",
       "4        23  433.390445  52.793996    57.582621     81.0  \n",
       "5        28  409.200787  71.604845    45.507028     78.0  \n",
       "6        25  437.452416  56.616429    55.153239     78.0  \n",
       "7        22  438.059907  80.158807    48.142746     74.0  \n",
       "8        20  413.923945  68.343126    47.721921     69.0  \n",
       "9        23  431.663510  63.146053    46.825431     79.0  "
      ]
     },
     "execution_count": 197,
     "metadata": {},
     "output_type": "execute_result"
    }
   ],
   "source": [
    "pred"
   ]
  },
  {
   "cell_type": "markdown",
   "id": "442a5c05-df59-4684-99dd-9d3359f56086",
   "metadata": {},
   "source": [
    "Shape as instances: dictionaries of key:value pairs for only features used in model"
   ]
  },
  {
   "cell_type": "code",
   "execution_count": 198,
   "id": "f0d5868a-c1f1-4294-b857-e97179ce0deb",
   "metadata": {},
   "outputs": [],
   "source": [
    "newobs = pred[pred.columns[~pred.columns.isin(['JUDGE_A', 'Recipe'])]].to_dict(orient='records')"
   ]
  },
  {
   "cell_type": "code",
   "execution_count": 199,
   "id": "fd96049e-482e-43cf-8087-94b19a7bede1",
   "metadata": {},
   "outputs": [
    {
     "data": {
      "text/plain": [
       "{'flourAmt': 515.547531447926,\n",
       " 'saltAmt': 9,\n",
       " 'yeastAmt': 11,\n",
       " 'mix1Time': 4,\n",
       " 'mix1Speed': 3,\n",
       " 'mix2Time': 6,\n",
       " 'mix2Speed': 5,\n",
       " 'water1Amt': 295.13889590582613,\n",
       " 'water2Amt': 80.25072614458635,\n",
       " 'waterTemp': 41,\n",
       " 'proveTime': 90.66174788437925,\n",
       " 'restTime': 37,\n",
       " 'bakeTime': 26,\n",
       " 'bakeTemp': 434.4341908544051,\n",
       " 'ambTemp': 68.5006046639547,\n",
       " 'ambHumidity': 55.21017240872698}"
      ]
     },
     "execution_count": 199,
     "metadata": {},
     "output_type": "execute_result"
    }
   ],
   "source": [
    "newobs[0]"
   ]
  },
  {
   "cell_type": "code",
   "execution_count": 200,
   "id": "2b908fcc-0b73-4373-858d-d0856caa722c",
   "metadata": {},
   "outputs": [],
   "source": [
    "instances = [json_format.ParseDict(newob, Value()) for newob in newobs]"
   ]
  },
  {
   "cell_type": "code",
   "execution_count": 201,
   "id": "aebd462f-351e-4d49-adcf-080cfe80fe49",
   "metadata": {},
   "outputs": [
    {
     "data": {
      "text/plain": [
       "10"
      ]
     },
     "execution_count": 201,
     "metadata": {},
     "output_type": "execute_result"
    }
   ],
   "source": [
    "len(instances)"
   ]
  },
  {
   "cell_type": "markdown",
   "id": "2368f782-d5e8-45cf-ab70-6973389a8f03",
   "metadata": {},
   "source": [
    "### Get Predictions: Python Client\n",
    "\n",
    "There is a preprocessing model for each of the manual preprocessing models built.  The preprocessing was the same for each because they had identical TRANSFORM statements.  Passing the instances to each preprocessing model for prediction should result in the same scaled/transformed values:\n"
   ]
  },
  {
   "cell_type": "code",
   "execution_count": 230,
   "id": "573f2fbf-fba2-4572-982c-0d2a4d773f47",
   "metadata": {},
   "outputs": [
    {
     "data": {
      "text/plain": [
       "{'scale_waterTemp': -1.377679910298151,\n",
       " 'scale_yeastAmt': 0.9166666666666666,\n",
       " 'scale_mix2Speed': 0.0,\n",
       " 'scale_bakeTemp': 0.4266942174399439,\n",
       " 'scale_ambHumidity': 0.6828800901523455,\n",
       " 'scale_bakeTime': 0.8666666666666667,\n",
       " 'scale_saltAmt': -0.5,\n",
       " 'scale_restTime': 0.8222222222222222,\n",
       " 'scale_water2Amt': -1.448422725110608,\n",
       " 'scale_water1Amt': -1.72782798251258,\n",
       " 'scale_proveTime': -1.88531438800218,\n",
       " 'scale_mix1Time': -0.5,\n",
       " 'scale_ambTemp': 0.6902082625938566,\n",
       " 'scale_flourAmt': 0.7280349614247669,\n",
       " 'scale_mix2Time': 0.0,\n",
       " 'scale_mix1Speed': 0.0}"
      ]
     },
     "execution_count": 230,
     "metadata": {},
     "output_type": "execute_result"
    }
   ],
   "source": [
    "model1_preprocess = endpoint_manual_1preprocess.predict(instances = instances)\n",
    "model1_preprocess.predictions[0]"
   ]
  },
  {
   "cell_type": "code",
   "execution_count": 231,
   "id": "69223666-2042-41e1-a97f-5ea357da3ac6",
   "metadata": {},
   "outputs": [
    {
     "data": {
      "text/plain": [
       "{'scale_water1Amt': -1.72782798251258,\n",
       " 'scale_bakeTime': 0.8666666666666667,\n",
       " 'scale_proveTime': -1.88531438800218,\n",
       " 'scale_water2Amt': -1.448422725110608,\n",
       " 'scale_yeastAmt': 0.9166666666666666,\n",
       " 'scale_waterTemp': -1.377679910298151,\n",
       " 'scale_bakeTemp': 0.4266942174399439,\n",
       " 'scale_flourAmt': 0.7280349614247669,\n",
       " 'scale_restTime': 0.8222222222222222,\n",
       " 'scale_mix1Time': -0.5,\n",
       " 'scale_ambHumidity': 0.6828800901523455,\n",
       " 'scale_mix1Speed': 0.0,\n",
       " 'scale_mix2Time': 0.0,\n",
       " 'scale_saltAmt': -0.5,\n",
       " 'scale_ambTemp': 0.6902082625938566,\n",
       " 'scale_mix2Speed': 0.0}"
      ]
     },
     "execution_count": 231,
     "metadata": {},
     "output_type": "execute_result"
    }
   ],
   "source": [
    "model2_preprocess = endpoint_manual_2preprocess.predict(instances = instances)\n",
    "model2_preprocess.predictions[0]"
   ]
  },
  {
   "cell_type": "markdown",
   "id": "52caf6b1-82f0-40d4-900e-7526a57b3d90",
   "metadata": {},
   "source": [
    "Both preprocessing model created idential output!\n",
    "\n",
    "Now, pass the preprocessed values on to the models for prediction."
   ]
  },
  {
   "cell_type": "markdown",
   "id": "5556721d-7c00-4abe-b813-acec123aae17",
   "metadata": {},
   "source": [
    "### Prediction Using Model 1:\n",
    "This was a linear regression in BQML which is exported as a Tensorflow SavedModel ([detail here](https://cloud.google.com/bigquery-ml/docs/exporting-models)).  Pass the output of preprocessing on to the model for prediction: "
   ]
  },
  {
   "cell_type": "code",
   "execution_count": 237,
   "id": "71bb5afc-d26c-4aea-b3e4-eb9e2bd46a2e",
   "metadata": {},
   "outputs": [
    {
     "data": {
      "text/plain": [
       "[[72.49071697907003],\n",
       " [75.29829714612501],\n",
       " [77.47788600681608],\n",
       " [78.35314385935789],\n",
       " [75.04149571449669],\n",
       " [76.53757491291913],\n",
       " [72.47741207798245],\n",
       " [74.58702758650091],\n",
       " [77.91295282007255],\n",
       " [74.11302385455795]]"
      ]
     },
     "execution_count": 237,
     "metadata": {},
     "output_type": "execute_result"
    }
   ],
   "source": [
    "model1_prediction = endpoint_manual_1model.predict(instances = model1_preprocess.predictions)\n",
    "model1_prediction.predictions"
   ]
  },
  {
   "cell_type": "markdown",
   "id": "fae4c0c2-87b3-4672-b135-cd7491ac7749",
   "metadata": {},
   "source": [
    "### Prediction Using Model 2:\n",
    "\n",
    "This was boosted tree model which is exported as a Booster file from XGBoost ([detail here](https://cloud.google.com/bigquery-ml/docs/exporting-models)).  This means the model export folder contains a subfolder named 'assets' which in turn has a 'model_metadata.json' file.  This JSON file has a list named 'feature_names' that has the expected input features by name in the order the model expects them.  This is important because the inputs are provided as list instances and the order of the list must be the expected order of features. \n",
    "\n",
    "The code in the following cell will read the metadata JSON and extract the feature order:"
   ]
  },
  {
   "cell_type": "code",
   "execution_count": 233,
   "id": "9dde1ff6-0881-4c8d-bfba-82beb55245ea",
   "metadata": {},
   "outputs": [
    {
     "name": "stdout",
     "output_type": "stream",
     "text": [
      "['scale_flourAmt', 'scale_saltAmt', 'scale_yeastAmt', 'scale_water1Amt', 'scale_water2Amt', 'scale_waterTemp', 'scale_bakeTemp', 'scale_ambTemp', 'scale_ambHumidity', 'scale_mix1Time', 'scale_mix2Time', 'scale_mix1Speed', 'scale_mix2Speed', 'scale_proveTime', 'scale_restTime', 'scale_bakeTime']\n"
     ]
    }
   ],
   "source": [
    "import gcsfs\n",
    "import tensorflow as tf\n",
    "\n",
    "file = f'{aiplatform.Model(model_name = endpoint_manual_2model.list_models()[0].model).uri}/assets/model_metadata.json'\n",
    "if tf.io.gfile.exists(file):\n",
    "    gcs = gcsfs.GCSFileSystem(project = PROJECT_ID)\n",
    "    with gcs.open(file) as fp:\n",
    "        features = json.load(fp)['feature_names']\n",
    "else:\n",
    "    print('error')\n",
    "    features = list(newobs[0].keys())\n",
    "    \n",
    "print(features)"
   ]
  },
  {
   "cell_type": "markdown",
   "id": "da3abbec-2172-4573-9463-6706f575b68f",
   "metadata": {},
   "source": [
    "Setup the instances for model 2 using the list of feature names loaded above:"
   ]
  },
  {
   "cell_type": "code",
   "execution_count": 235,
   "id": "ce52c9ca-fed3-4288-aa50-16541b02796e",
   "metadata": {},
   "outputs": [
    {
     "data": {
      "text/plain": [
       "[[0.7280349614247669,\n",
       "  -0.5,\n",
       "  0.9166666666666666,\n",
       "  -1.72782798251258,\n",
       "  -1.448422725110608,\n",
       "  -1.377679910298151,\n",
       "  0.4266942174399439,\n",
       "  0.6902082625938566,\n",
       "  0.6828800901523455,\n",
       "  -0.5,\n",
       "  0.0,\n",
       "  0.0,\n",
       "  0.0,\n",
       "  -1.88531438800218,\n",
       "  0.8222222222222222,\n",
       "  0.8666666666666667]]"
      ]
     },
     "execution_count": 235,
     "metadata": {},
     "output_type": "execute_result"
    }
   ],
   "source": [
    "model2_instances = [[instance[feature] for feature in features] for instance in model2_preprocess.predictions]\n",
    "model2_instances[0:1]"
   ]
  },
  {
   "cell_type": "markdown",
   "id": "52ef2b8f-0727-4af6-a4b9-45d0d2967d49",
   "metadata": {},
   "source": [
    "Now, pass the prepared instances (correctly ordered preprocessed features) on to model 2 for prediction:"
   ]
  },
  {
   "cell_type": "code",
   "execution_count": 238,
   "id": "15868721-cb38-4cc6-8eb3-ccaea65a65e6",
   "metadata": {},
   "outputs": [
    {
     "data": {
      "text/plain": [
       "[70.24649810791016,\n",
       " 78.26374816894531,\n",
       " 79.53519439697266,\n",
       " 75.4369125366211,\n",
       " 80.94886779785156,\n",
       " 78.86487579345703,\n",
       " 74.6292953491211,\n",
       " 75.06722259521484,\n",
       " 69.42301940917969,\n",
       " 78.63384246826172]"
      ]
     },
     "execution_count": 238,
     "metadata": {},
     "output_type": "execute_result"
    }
   ],
   "source": [
    "model2_prediction = endpoint_manual_2model.predict(instances = model2_instances)\n",
    "model2_prediction.predictions"
   ]
  },
  {
   "cell_type": "markdown",
   "id": "ce80147e-638c-4b1f-8258-4dc206fea6e4",
   "metadata": {},
   "source": [
    "---\n",
    "## Remove Resources\n",
    "It is important to remove the resources created for this demonstration to prevent ongoing cost associated with storage (GCS, BigQuery) and Vertex AI Endpoints.  The code below removes all the resources created by this notebook.\n",
    "- gcs bucket delete (contains model exports)\n",
    "- endpoints (need to undeploy any models in use)\n",
    "- bq_model (delete these first, before the dataset.  This also removes them from Vertex AI)\n",
    "- bq_dataset"
   ]
  },
  {
   "cell_type": "code",
   "execution_count": 239,
   "id": "4c5e260c-d784-4161-bb1e-82cfc602dd64",
   "metadata": {},
   "outputs": [],
   "source": [
    "# delete gcs bucket\n",
    "bucketDef.delete(force = True)"
   ]
  },
  {
   "cell_type": "code",
   "execution_count": 240,
   "id": "20fb4823-fd55-404e-b4ae-0aa4d0a86b01",
   "metadata": {},
   "outputs": [
    {
     "name": "stdout",
     "output_type": "stream",
     "text": [
      "Undeploying Endpoint model: projects/1026793852137/locations/europe-west4/endpoints/7838559131903459328\n",
      "Undeploy Endpoint model backing LRO: projects/1026793852137/locations/europe-west4/endpoints/7838559131903459328/operations/8270155378956697600\n",
      "Endpoint model undeployed. Resource name: projects/1026793852137/locations/europe-west4/endpoints/7838559131903459328\n",
      "Deleting Endpoint : projects/1026793852137/locations/europe-west4/endpoints/7838559131903459328\n",
      "Delete Endpoint  backing LRO: projects/1026793852137/locations/europe-west4/operations/1362759450477199360\n",
      "Endpoint deleted. . Resource name: projects/1026793852137/locations/europe-west4/endpoints/7838559131903459328\n",
      "Undeploying Endpoint model: projects/1026793852137/locations/europe-west4/endpoints/7053806896834150400\n",
      "Undeploy Endpoint model backing LRO: projects/1026793852137/locations/europe-west4/endpoints/7053806896834150400/operations/6600445817109086208\n",
      "Endpoint model undeployed. Resource name: projects/1026793852137/locations/europe-west4/endpoints/7053806896834150400\n",
      "Deleting Endpoint : projects/1026793852137/locations/europe-west4/endpoints/7053806896834150400\n",
      "Delete Endpoint  backing LRO: projects/1026793852137/locations/europe-west4/operations/7766033695667912704\n",
      "Endpoint deleted. . Resource name: projects/1026793852137/locations/europe-west4/endpoints/7053806896834150400\n",
      "Undeploying Endpoint model: projects/1026793852137/locations/europe-west4/endpoints/4060039044539613184\n",
      "Undeploy Endpoint model backing LRO: projects/1026793852137/locations/europe-west4/endpoints/4060039044539613184/operations/2487533457412980736\n",
      "Endpoint model undeployed. Resource name: projects/1026793852137/locations/europe-west4/endpoints/4060039044539613184\n",
      "Deleting Endpoint : projects/1026793852137/locations/europe-west4/endpoints/4060039044539613184\n",
      "Delete Endpoint  backing LRO: projects/1026793852137/locations/europe-west4/operations/1647893601885093888\n",
      "Endpoint deleted. . Resource name: projects/1026793852137/locations/europe-west4/endpoints/4060039044539613184\n",
      "Undeploying Endpoint model: projects/1026793852137/locations/europe-west4/endpoints/9131092224958791680\n",
      "Undeploy Endpoint model backing LRO: projects/1026793852137/locations/europe-west4/endpoints/9131092224958791680/operations/3533494470869778432\n",
      "Endpoint model undeployed. Resource name: projects/1026793852137/locations/europe-west4/endpoints/9131092224958791680\n",
      "Deleting Endpoint : projects/1026793852137/locations/europe-west4/endpoints/9131092224958791680\n",
      "Delete Endpoint  backing LRO: projects/1026793852137/locations/europe-west4/operations/8888274427813298176\n",
      "Endpoint deleted. . Resource name: projects/1026793852137/locations/europe-west4/endpoints/9131092224958791680\n",
      "Undeploying Endpoint model: projects/1026793852137/locations/europe-west4/endpoints/8270904696131026944\n",
      "Undeploy Endpoint model backing LRO: projects/1026793852137/locations/europe-west4/endpoints/8270904696131026944/operations/2001426172633677824\n",
      "Endpoint model undeployed. Resource name: projects/1026793852137/locations/europe-west4/endpoints/8270904696131026944\n",
      "Deleting Endpoint : projects/1026793852137/locations/europe-west4/endpoints/8270904696131026944\n",
      "Delete Endpoint  backing LRO: projects/1026793852137/locations/europe-west4/operations/4294602807895392256\n",
      "Endpoint deleted. . Resource name: projects/1026793852137/locations/europe-west4/endpoints/8270904696131026944\n"
     ]
    }
   ],
   "source": [
    "# delete endpoint, use `force` incase models are deployed or undeploy them first\n",
    "endpoint_AutoFeatureEng.delete(force = True)\n",
    "endpoint_manual_1model.delete(force = True)\n",
    "endpoint_manual_1preprocess.delete(force = True)\n",
    "endpoint_manual_2model.delete(force = True)\n",
    "endpoint_manual_2preprocess.delete(force = True)"
   ]
  },
  {
   "cell_type": "code",
   "execution_count": 241,
   "id": "4faa91fe-a63b-4616-abf5-af837a4579df",
   "metadata": {},
   "outputs": [],
   "source": [
    "# delete models created in BQ with BQML - this also removes them from Vertex AI Model Registry\n",
    "bq.delete_model(bqml_model_AutoFeatureEng)\n",
    "bq.delete_model(bqml_model_ManualFeatureEng1)\n",
    "bq.delete_model(bqml_model_ManualFeatureEng2)"
   ]
  },
  {
   "cell_type": "code",
   "execution_count": 242,
   "id": "075f77d5-3e42-40dd-909a-7465fb995201",
   "metadata": {},
   "outputs": [
    {
     "name": "stdout",
     "output_type": "stream",
     "text": [
      "Deleting Model : projects/1026793852137/locations/europe-west4/models/model_03_feature_engineering_manual1\n",
      "Delete Model  backing LRO: projects/1026793852137/locations/europe-west4/operations/8145180489297166336\n",
      "Model deleted. . Resource name: projects/1026793852137/locations/europe-west4/models/model_03_feature_engineering_manual1\n",
      "Deleting Model : projects/1026793852137/locations/europe-west4/models/model_03_feature_engineering_manual1_preprocessing\n",
      "Delete Model  backing LRO: projects/1026793852137/locations/europe-west4/operations/5974445468904587264\n",
      "Model deleted. . Resource name: projects/1026793852137/locations/europe-west4/models/model_03_feature_engineering_manual1_preprocessing\n",
      "Deleting Model : projects/1026793852137/locations/europe-west4/models/model_03_feature_engineering_manual2\n",
      "Delete Model  backing LRO: projects/1026793852137/locations/europe-west4/operations/5036852321481392128\n",
      "Model deleted. . Resource name: projects/1026793852137/locations/europe-west4/models/model_03_feature_engineering_manual2\n",
      "Deleting Model : projects/1026793852137/locations/europe-west4/models/model_03_feature_engineering_manual2_preprocessing\n",
      "Delete Model  backing LRO: projects/1026793852137/locations/europe-west4/operations/8374864070293061632\n",
      "Model deleted. . Resource name: projects/1026793852137/locations/europe-west4/models/model_03_feature_engineering_manual2_preprocessing\n"
     ]
    }
   ],
   "source": [
    "# delete vertexai models\n",
    "vertex_model_ManualFeatureEng1_exportModel.delete()\n",
    "vertex_model_ManualFeatureEng1_exportModel_preprocessing.delete()\n",
    "vertex_model_ManualFeatureEng2_exportModel.delete()\n",
    "vertex_model_ManualFeatureEng2_exportModel_preprocessing.delete()"
   ]
  },
  {
   "cell_type": "code",
   "execution_count": 243,
   "id": "1cb4ba7d-ff75-484f-8a78-d308fca6c297",
   "metadata": {},
   "outputs": [],
   "source": [
    "# remove the BQ dataset created for this notebook\n",
    "bq.delete_dataset(ds, delete_contents = True)"
   ]
  },
  {
   "cell_type": "code",
   "execution_count": null,
   "id": "6a3f9e78-f00e-49b7-832c-7deea033ba52",
   "metadata": {},
   "outputs": [],
   "source": []
  }
 ],
 "metadata": {
  "environment": {
   "kernel": "python3",
   "name": "tf2-gpu.2-3.m94",
   "type": "gcloud",
   "uri": "gcr.io/deeplearning-platform-release/tf2-gpu.2-3:m94"
  },
  "kernelspec": {
   "display_name": "Python 3",
   "language": "python",
   "name": "python3"
  },
  "language_info": {
   "codemirror_mode": {
    "name": "ipython",
    "version": 3
   },
   "file_extension": ".py",
   "mimetype": "text/x-python",
   "name": "python",
   "nbconvert_exporter": "python",
   "pygments_lexer": "ipython3",
   "version": "3.7.12"
  }
 },
 "nbformat": 4,
 "nbformat_minor": 5
}
