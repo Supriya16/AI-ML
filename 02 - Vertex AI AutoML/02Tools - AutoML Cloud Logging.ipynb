{
 "cells": [
  {
   "attachments": {},
   "cell_type": "markdown",
   "id": "50b2cdfa-3be9-4515-ad67-f484560512e6",
   "metadata": {},
   "source": [
    "![ga4](https://www.google-analytics.com/collect?v=2&tid=G-6VDTYWLKX6&cid=1&en=page_view&sid=1&dl=statmike%2Fvertex-ai-mlops%2F02+-+Vertex+AI+AutoML&dt=02b+-+Vertex+AI+-+AutoML+with+clients+%28code%29.ipynb)\n",
    "\n",
    "# 02 Tools - AutoML Cloud Logging\n",
    "\n",
    "Use the Vertex AI Python Client parse through the AutoML Tuning and Model Ensemble logs."
   ]
  },
  {
   "attachments": {},
   "cell_type": "markdown",
   "id": "0ea76885",
   "metadata": {},
   "source": [
    "### View Model Architeture in Cloud Logging\n",
    "\n",
    "This [link](https://cloud.google.com/vertex-ai/docs/tabular-data/classification-regression/logging#before_you_begin) provides information on how to use Cloud Logging to view details about a Vertex AI model.\n",
    "\n",
    "**Note**: By Default, logs are deleted after ***30 days***.\n",
    "\n",
    "**Prerequisites:**\n",
    "-  02b - Vertex AI - AutoML with clients (code)"
   ]
  },
  {
   "attachments": {},
   "cell_type": "markdown",
   "id": "46f205a7",
   "metadata": {},
   "source": [
    "inputs:"
   ]
  },
  {
   "cell_type": "code",
   "execution_count": null,
   "id": "62e41511-69cc-4048-b892-1767cfef090a",
   "metadata": {},
   "outputs": [],
   "source": [
    "project = !gcloud config get-value project\n",
    "PROJECT_ID = project[0]\n",
    "PROJECT_ID"
   ]
  },
  {
   "cell_type": "code",
   "execution_count": null,
   "id": "64169f86",
   "metadata": {},
   "outputs": [],
   "source": [
    "REGION = 'us-central1'\n",
    "DATANAME = 'fraud'\n",
    "NOTEBOOK = '02b'\n",
    "\n",
    "# Resources\n",
    "DEPLOY_COMPUTE = 'n1-standard-4'\n",
    "\n",
    "# Model Training\n",
    "VAR_TARGET = 'Class'\n",
    "VAR_OMIT = 'transaction_id' # add more variables to the string with space delimiters"
   ]
  },
  {
   "attachments": {},
   "cell_type": "markdown",
   "id": "dbca2d69",
   "metadata": {},
   "source": [
    "packages:"
   ]
  },
  {
   "cell_type": "code",
   "execution_count": null,
   "id": "d73dcfa8-96a5-4e73-8340-65a9bbe26e7c",
   "metadata": {},
   "outputs": [],
   "source": [
    "from google.cloud import aiplatform\n",
    "from datetime import datetime\n",
    "from google.cloud import bigquery\n",
    "from google.protobuf import json_format\n",
    "from google.protobuf.struct_pb2 import Value\n",
    "import json\n",
    "import numpy as np\n",
    "import pandas as pd\n",
    "import google.cloud.logging_v2 as logging\n",
    "import pandas_gbq as pd_gbq\n",
    "import matplotlib.pylab as plt"
   ]
  },
  {
   "attachments": {},
   "cell_type": "markdown",
   "id": "c8cd40cb",
   "metadata": {},
   "source": [
    "clients:"
   ]
  },
  {
   "cell_type": "code",
   "execution_count": null,
   "id": "41c06271-049a-4b08-9346-e4220ddf731f",
   "metadata": {},
   "outputs": [],
   "source": [
    "aiplatform.init(project=PROJECT_ID, location=REGION)\n",
    "bigquery = bigquery.Client()"
   ]
  },
  {
   "attachments": {},
   "cell_type": "markdown",
   "id": "9872da39",
   "metadata": {},
   "source": [
    "parameters:"
   ]
  },
  {
   "cell_type": "code",
   "execution_count": null,
   "id": "5f5a42b2-9b08-4a25-952a-aab3086b432d",
   "metadata": {},
   "outputs": [],
   "source": [
    "model_list_filter = \"labels.notebook=\\\"\" + NOTEBOOK + \"\\\"\"\n",
    "model_list_filter"
   ]
  },
  {
   "cell_type": "code",
   "execution_count": null,
   "id": "3a4f0aa0-5bb2-4c0e-adba-77efc2c30df9",
   "metadata": {},
   "outputs": [],
   "source": [
    "model_list = aiplatform.Model.list(filter=str(model_list_filter))\n",
    "create = [m.create_time for m in model_list] \n",
    "create.index(max(create))\n",
    "model_run_date_time = model_list[0].create_time\n",
    "model_create_time = model_list[0].create_time\n",
    "model_run_ts = datetime.strptime(str(model_create_time),\"%Y-%m-%d %H:%M:%S.%f%z\")\n",
    "model_run_ts = model_run_ts.strftime(\"%Y-%m-%dT%H:%M:%SZ\")\n",
    "model_run_ts"
   ]
  },
  {
   "cell_type": "code",
   "execution_count": null,
   "id": "3c119824-e89e-401d-8d52-2ad1f2f02f0f",
   "metadata": {},
   "outputs": [],
   "source": [
    "# # import google.cloud.logging_v2 as logging\n",
    "# # import pandas as pd\n",
    "# # import json\n",
    "# # import matplotlib.pylab as plt\n",
    "# def get_logs(log_level):\n",
    "#     logging_client = logging.Client()\n",
    "#     hp_list = []\n",
    "#     FILTER = log_filter\n",
    "#     entries = logging_client.list_entries(filter_=FILTER)\n",
    "#     for ind, entry in enumerate(entries):\n",
    "#         if type(entry.payload) != dict:\n",
    "#             continue\n",
    "#         parse_log = entry.to_api_repr()\n",
    "#         if model_log_filter in parse_log[\"logName\"]:\n",
    "#             if log_level == \"tuning\":\n",
    "#                 for hp in parse_log[\"jsonPayload\"][\"modelStructure\"][\"modelParameters\"]:\n",
    "#                     # print(hp[\"hyperparameters\"])\n",
    "#                     hp_dict = hp[\"hyperparameters\"]\n",
    "#                     hp_dict[\"training_objective_point\"] = parse_log['jsonPayload']['trainingObjectivePoint']['value']\n",
    "#                     hp_list.append(hp_dict)\n",
    "#             elif log_level == \"model\":\n",
    "#                 for hp in parse_log[\"jsonPayload\"][\"modelParameters\"]:\n",
    "#                     hp_dict = hp[\"hyperparameters\"]\n",
    "#                     hp_list.append(hp_dict)\n",
    "#             df = pd.DataFrame(hp_list)\n",
    "#     return df\n",
    "\n",
    "# display(get_logs(log_level))"
   ]
  },
  {
   "attachments": {},
   "cell_type": "markdown",
   "id": "6723e456",
   "metadata": {},
   "source": [
    "### Parsing AutoML logs using Cloud Logging API\n",
    "\n",
    "This [link](https://cloud.google.com/python/docs/reference/logging/latest/index.html) contains the details about using the **python client** for cloud logging.\n",
    "\n",
    "There are two log levels in AutoML:\n",
    "- Tuning\n",
    "- Model\n",
    "\n",
    "To start with, we will retrieve the tuning logs by setting the **log level** as `tuning` in the parameter list below:\n"
   ]
  },
  {
   "cell_type": "code",
   "execution_count": null,
   "id": "c89a1473",
   "metadata": {},
   "outputs": [],
   "source": [
    "log_level = \"tuning\"\n",
    "model_log_filter = \"projects/\" + PROJECT_ID + \"/logs/automl.googleapis.com%2F\" + log_level\n",
    "model_log_filter\n",
    "log_filter = \"timestamp > \\\"\" + model_run_ts + \"\\\" resource.type=\\\"cloudml_job\\\"\"\n",
    "model_log_filter\n",
    "log_filter"
   ]
  },
  {
   "cell_type": "code",
   "execution_count": null,
   "id": "c4a308f5-6f18-49fe-9446-29bdb6074581",
   "metadata": {},
   "outputs": [],
   "source": [
    "def get_tuning_logs(log_level):\n",
    "    logging_client = logging.Client()\n",
    "    hp_list = []\n",
    "    FILTER = log_filter\n",
    "    entries = logging_client.list_entries(filter_=FILTER)\n",
    "    for ind, entry in enumerate(entries):\n",
    "        if type(entry.payload) != dict:\n",
    "            continue\n",
    "        parse_log = entry.to_api_repr()\n",
    "        if model_log_filter in parse_log[\"logName\"]:\n",
    "            for hp in parse_log[\"jsonPayload\"][\"modelStructure\"][\"modelParameters\"]:\n",
    "                hp_dict = hp[\"hyperparameters\"]\n",
    "                hp_list.append(hp_dict)\n",
    "            tuning_log_df = pd.DataFrame(hp_list)\n",
    "    return tuning_log_df"
   ]
  },
  {
   "cell_type": "code",
   "execution_count": null,
   "id": "c5e3529f-1fa5-4d72-84fc-5154b3fd95ef",
   "metadata": {},
   "outputs": [],
   "source": [
    "tuning_log_df = get_tuning_logs(log_level)\n",
    "tuning_log_df = tuning_log_df.applymap(str)\n",
    "# tuning_log_df.to_gbq(destination_table=\"automl_log.tuning_logs\")\n",
    "# pd_gbq.to_gbq(tuning_log_df,\"automl_log.tuning_logs_str\",project_id=PROJECT_ID)\n",
    "with pd.option_context('display.max_rows', None, 'display.max_columns', None):  # more options can be specified also\n",
    "  display(tuning_log_df)"
   ]
  },
  {
   "attachments": {},
   "cell_type": "markdown",
   "id": "2ae50dc1",
   "metadata": {},
   "source": [
    "Next step is to add **training objective point** to the tuning logs. Please refer the [link](https://cloud.google.com/vertex-ai/docs/tabular-data/classification-regression/logging#before_you_begin) to learn more about training objective point."
   ]
  },
  {
   "cell_type": "code",
   "execution_count": null,
   "id": "08a28df2-ec0d-418f-a0c3-7f7d292bc4e4",
   "metadata": {},
   "outputs": [],
   "source": [
    "# log_level = \"tuning\" ##possible values are tuning or model\n",
    "# model_log_filter = \"projects/\" + PROJECT_ID + \"/logs/automl.googleapis.com%2F\" + log_level\n",
    "# model_log_filter\n",
    "# log_filter = \"timestamp > \\\"\" + model_run_ts + \"\\\" resource.type=\\\"cloudml_job\\\"\"\n",
    "# model_log_filter\n",
    "# log_filter"
   ]
  },
  {
   "cell_type": "code",
   "execution_count": null,
   "id": "f96a42b5-5218-4d18-9966-5eb4ac2148a8",
   "metadata": {},
   "outputs": [],
   "source": [
    "def get_tuning_logs_with_obj(log_level):\n",
    "    logging_client = logging.Client()\n",
    "    hp_list = []\n",
    "    FILTER = log_filter\n",
    "    entries = logging_client.list_entries(filter_=FILTER)\n",
    "    for ind, entry in enumerate(entries):\n",
    "        if type(entry.payload) != dict:\n",
    "            continue\n",
    "        parse_log = entry.to_api_repr()\n",
    "        if model_log_filter in parse_log[\"logName\"]:\n",
    "            for hp in parse_log[\"jsonPayload\"][\"modelStructure\"][\"modelParameters\"]:\n",
    "                # print(hp[\"hyperparameters\"])\n",
    "                hp_dict = hp[\"hyperparameters\"]\n",
    "                hp_dict[\"training_objective_point\"] = parse_log['jsonPayload']['trainingObjectivePoint']['value']\n",
    "                hp_list.append(hp_dict)\n",
    "            df = pd.DataFrame(hp_list)\n",
    "    return df\n",
    "\n",
    "tuning_with_obj_log_df = get_tuning_logs_with_obj(log_level)\n",
    "# pd_gbq.to_gbq(tuning_with_obj_log_df,\"automl_log.tuning_with_obj_logs\",project_id=PROJECT_ID)"
   ]
  },
  {
   "attachments": {},
   "cell_type": "markdown",
   "id": "a9815713",
   "metadata": {},
   "source": [
    "For retrieving the model ensemble logs, update the **log_level** to `model` in the parameter list below:"
   ]
  },
  {
   "cell_type": "code",
   "execution_count": null,
   "id": "2f9e7813-bfb9-40a9-ad23-b7ba835e0bf9",
   "metadata": {},
   "outputs": [],
   "source": [
    "log_level = \"model\"\n",
    "model_log_filter = \"projects/\" + PROJECT_ID + \"/logs/automl.googleapis.com%2F\" + log_level\n",
    "model_log_filter\n",
    "log_filter = \"timestamp > \\\"\" + model_run_ts + \"\\\" resource.type=\\\"cloudml_job\\\"\"\n",
    "model_log_filter\n",
    "log_filter"
   ]
  },
  {
   "cell_type": "code",
   "execution_count": null,
   "id": "a734f75f-cd5b-40cb-9a71-b9f761192717",
   "metadata": {},
   "outputs": [],
   "source": [
    "def get_model_logs(log_level):\n",
    "    logging_client = logging.Client()\n",
    "    hp_list = []\n",
    "    FILTER = log_filter\n",
    "    entries = logging_client.list_entries(filter_=FILTER)\n",
    "    for ind, entry in enumerate(entries):\n",
    "        if type(entry.payload) != dict:\n",
    "            continue\n",
    "        parse_log = entry.to_api_repr()\n",
    "        if model_log_filter in parse_log[\"logName\"]:\n",
    "            for hp in parse_log[\"jsonPayload\"][\"modelParameters\"]:\n",
    "                hp_dict = hp[\"hyperparameters\"]\n",
    "                hp_list.append(hp_dict)\n",
    "            model_log_df = pd.DataFrame(hp_list)\n",
    "    return model_log_df\n",
    "\n",
    "# display(get_model_logs(log_level))"
   ]
  },
  {
   "cell_type": "code",
   "execution_count": null,
   "id": "6e21f2fa-c2cc-4628-ae00-61fc5129ab80",
   "metadata": {},
   "outputs": [],
   "source": [
    "model_log_df = get_model_logs(log_level)\n",
    "model_log_df = model_log_df.applymap(str)\n",
    "# pd_gbq.to_gbq(model_log_df,\"automl_log.model_logs\",project_id=PROJECT_ID)\n",
    "# display(model_log_df)"
   ]
  },
  {
   "attachments": {},
   "cell_type": "markdown",
   "id": "69b73c5f",
   "metadata": {},
   "source": [
    "Joining **Tuning** and **Model** logs to display the common training parmeters present in model ensemble logs"
   ]
  },
  {
   "cell_type": "code",
   "execution_count": null,
   "id": "6db30d8e-43c9-4f90-b04e-c6865aceb107",
   "metadata": {},
   "outputs": [],
   "source": [
    "df_cd = pd.merge(tuning_log_df, model_log_df, how='inner')"
   ]
  },
  {
   "cell_type": "code",
   "execution_count": null,
   "id": "460f8c40-42c5-4696-a60c-a1412b695184",
   "metadata": {},
   "outputs": [],
   "source": [
    "with pd.option_context('display.max_rows', None, 'display.max_columns', None):  # more options can be specified also\n",
    "    display(df_cd)"
   ]
  },
  {
   "cell_type": "code",
   "execution_count": null,
   "id": "ef7108ea-1b51-422c-b015-716154089458",
   "metadata": {},
   "outputs": [],
   "source": []
  }
 ],
 "metadata": {
  "environment": {
   "kernel": "python3",
   "name": "tf2-gpu.2-3.m100",
   "type": "gcloud",
   "uri": "gcr.io/deeplearning-platform-release/tf2-gpu.2-3:m100"
  },
  "kernelspec": {
   "display_name": "Python 3",
   "language": "python",
   "name": "python3"
  },
  "language_info": {
   "codemirror_mode": {
    "name": "ipython",
    "version": 3
   },
   "file_extension": ".py",
   "mimetype": "text/x-python",
   "name": "python",
   "nbconvert_exporter": "python",
   "pygments_lexer": "ipython3",
   "version": "3.9.9"
  },
  "vscode": {
   "interpreter": {
    "hash": "7812ea015bdcee6f23a998adcdd2ef97c151c0c241b7b7070987d9313e41299d"
   }
  }
 },
 "nbformat": 4,
 "nbformat_minor": 5
}
